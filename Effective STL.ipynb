{
 "cells": [
  {
   "cell_type": "code",
   "execution_count": 1,
   "metadata": {},
   "outputs": [
    {
     "name": "stdout",
     "output_type": "stream",
     "text": [
      "\r\n",
      "\r\n"
     ]
    }
   ],
   "source": [
    "#include <string>\n",
    "#include <vector>\n",
    "#include <set>\n",
    "#include <iostream>\n",
    "#include <map>\n",
    "using namespace std;\n",
    "\n",
    "template<typename T>\n",
    "void printSeqPtr(const T& seq){\n",
    "    for (auto el : seq) {\n",
    "        cout << *el << endl;\n",
    "    }\n",
    "}\n",
    "\n",
    "template<typename T>\n",
    "void printSeq(const T& seq){\n",
    "    for (auto el : seq) {\n",
    "        cout << el << endl;\n",
    "    }\n",
    "}"
   ]
  },
  {
   "cell_type": "markdown",
   "metadata": {},
   "source": [
    "#### III. 关联容器\n",
    "* ordered 红黑树实现\n",
    "    * map     \n",
    "    * set\n",
    "    * multimap, multiset\n",
    "* unordered 哈希表\n",
    "    * unordered_map    \n",
    "    * unordered_set\n",
    "    * unordered_multimap, unordered_multiset\n"
   ]
  },
  {
   "cell_type": "markdown",
   "metadata": {},
   "source": [
    "##### 3.1 construct"
   ]
  },
  {
   "cell_type": "markdown",
   "metadata": {},
   "source": [
    "1) initializer list constructor\n",
    "\n",
    "初始化列表里的值为： **{key, value}**"
   ]
  },
  {
   "cell_type": "code",
   "execution_count": 6,
   "metadata": {},
   "outputs": [
    {
     "name": "stdout",
     "output_type": "stream",
     "text": [
      "(std::map<char, int> &) { 'a' => 1, 'b' => 2, 'c' => 3 }\r\n"
     ]
    }
   ],
   "source": [
    "map<char, int> charecterCount = {{'a', 1}, {'b', 2}, {'c', 3}}"
   ]
  },
  {
   "cell_type": "markdown",
   "metadata": {},
   "source": [
    "2) copy-constructed"
   ]
  },
  {
   "cell_type": "code",
   "execution_count": 14,
   "metadata": {},
   "outputs": [
    {
     "name": "stdout",
     "output_type": "stream",
     "text": []
    }
   ],
   "source": [
    "map<char, int> copied(charecterCount);"
   ]
  },
  {
   "cell_type": "markdown",
   "metadata": {},
   "source": [
    "3) copy assignment \n",
    "* 赋值运算符disabled "
   ]
  },
  {
   "cell_type": "code",
   "execution_count": 22,
   "metadata": {},
   "outputs": [
    {
     "name": "stdout",
     "output_type": "stream",
     "text": []
    }
   ],
   "source": [
    "//error: no viable overloaded '='\n",
    "// copied = charecterCount   "
   ]
  },
  {
   "cell_type": "markdown",
   "metadata": {},
   "source": [
    "4) move-constructor ??"
   ]
  },
  {
   "cell_type": "markdown",
   "metadata": {},
   "source": [
    "#### 3.2 Access"
   ]
  },
  {
   "cell_type": "markdown",
   "metadata": {},
   "source": [
    "1) key如果不存在，先create "
   ]
  },
  {
   "cell_type": "code",
   "execution_count": null,
   "metadata": {},
   "outputs": [],
   "source": [
    "++copied['t'];"
   ]
  },
  {
   "cell_type": "markdown",
   "metadata": {},
   "source": [
    "2) map.at() 会做检查，如果key不存在 抛出异常"
   ]
  },
  {
   "cell_type": "code",
   "execution_count": 27,
   "metadata": {},
   "outputs": [
    {
     "name": "stdout",
     "output_type": "stream",
     "text": [
      ">>> Caught a std::exception!\r\n",
      ">>> map::at\r\n"
     ]
    }
   ],
   "source": [
    "copied.at('g')"
   ]
  },
  {
   "cell_type": "markdown",
   "metadata": {},
   "source": [
    "#### 3.3 pair"
   ]
  },
  {
   "cell_type": "code",
   "execution_count": null,
   "metadata": {},
   "outputs": [],
   "source": []
  },
  {
   "cell_type": "markdown",
   "metadata": {},
   "source": [
    "#### 3.2 有序容器的key\n",
    "1) 有序容器要求其key必须定义比较运算"
   ]
  },
  {
   "cell_type": "code",
   "execution_count": 2,
   "metadata": {},
   "outputs": [
    {
     "name": "stdout",
     "output_type": "stream",
     "text": [
      "Wombat\r\n",
      "Anteater\r\n"
     ]
    }
   ],
   "source": [
    "{\n",
    "    set<string*> ssp;\n",
    "    ssp.insert(new string(\"Anteater\"));\n",
    "    ssp.insert(new string(\"Wombat\"));\n",
    "    printSeqPtr<set<string*>>(ssp);\n",
    "}"
   ]
  },
  {
   "cell_type": "markdown",
   "metadata": {},
   "source": [
    "我们希望看到按字母排序，其实完全没有，因为set看到的不是string 而是指针！！\n",
    "* set 模板第二个参数，可以是比较函数**子类**\n",
    "* lambda 不可以作为set的第二个参数，因为虽然lamdba是函数对象，但是没有名字，后面怎么被别个模板声明呢\n",
    "* 通过类，重载函数调用运算符( )来实现一个**函数对象**，(function object)"
   ]
  },
  {
   "cell_type": "code",
   "execution_count": 3,
   "metadata": {},
   "outputs": [
    {
     "name": "stdout",
     "output_type": "stream",
     "text": []
    }
   ],
   "source": [
    "struct StringPtrLess{\n",
    "    bool operator() (const string *p1, const string *p2) const{\n",
    "        return *p1 < *p2;\n",
    "    }\n",
    "}"
   ]
  },
  {
   "cell_type": "code",
   "execution_count": 4,
   "metadata": {},
   "outputs": [
    {
     "name": "stdout",
     "output_type": "stream",
     "text": []
    }
   ],
   "source": [
    "typedef set<string*, StringPtrLess> StringPtrSet;"
   ]
  },
  {
   "cell_type": "code",
   "execution_count": 5,
   "metadata": {},
   "outputs": [
    {
     "name": "stdout",
     "output_type": "stream",
     "text": [
      "Anteater\r\n",
      "Wombat\r\n"
     ]
    }
   ],
   "source": [
    "{\n",
    "    StringPtrSet ssp;\n",
    "    ssp.insert(new string(\"Anteater\"));\n",
    "    ssp.insert(new string(\"Wombat\"));\n",
    "    printSeqPtr<StringPtrSet>(ssp);\n",
    "}"
   ]
  },
  {
   "cell_type": "code",
   "execution_count": 5,
   "metadata": {},
   "outputs": [
    {
     "name": "stdout",
     "output_type": "stream",
     "text": []
    }
   ],
   "source": []
  },
  {
   "cell_type": "markdown",
   "metadata": {},
   "source": [
    "#### V. Algorithm"
   ]
  },
  {
   "cell_type": "code",
   "execution_count": null,
   "metadata": {},
   "outputs": [],
   "source": []
  }
 ],
 "metadata": {
  "kernelspec": {
   "display_name": "C++",
   "language": "",
   "name": "cling"
  },
  "language_info": {
   "codemirror_mode": "text/x-c++src",
   "file_extension": ".c++",
   "mimetype": " text/x-c++src",
   "name": "c++"
  }
 },
 "nbformat": 4,
 "nbformat_minor": 2
}
