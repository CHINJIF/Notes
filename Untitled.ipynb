{
 "cells": [
  {
   "cell_type": "code",
   "execution_count": 77,
   "metadata": {
    "collapsed": true
   },
   "outputs": [],
   "source": [
    "import time\n",
    "import socket\n",
    "\n",
    "def timeit(func):\n",
    "    \n",
    "    def wrapper(*args, **kwargs):\n",
    "        start = time.time()\n",
    "        resp = func(*args, **kwargs)\n",
    "        print(\"Funcition running for {}\\n\".format(time.time() - start))\n",
    "        return resp\n",
    "    return wrapper\n",
    "\n",
    "\n",
    "def single_thread_server(address):\n",
    "    listener = create_srv_socket(address)\n",
    "    accept_connections_forever(listener)\n",
    "\n",
    "    import socket, time\n",
    "\n",
    "def create_srv_socket(address):\n",
    "    \n",
    "    listener = socket.socket(socket.AF_INET, socket.SOCK_STREAM)\n",
    "    listener.setsockopt(socket.SOL_SOCKET, socket.SO_REUSEADDR, 1)  ## ???\n",
    "    \n",
    "    listener.bind(address)\n",
    "    \n",
    "    listener.listen(64)\n",
    "    print(\"Server::: Listen at {}\\n\".format(address))\n",
    "    \n",
    "    return listener\n",
    "\n",
    "\n",
    "def accept_connections_forever(listener):\n",
    "    \n",
    "    while True:\n",
    "        sock, address = listener.accept()\n",
    "        print(\"Accept connection from {}\\n\".format(address))\n",
    "        handle_conversation(sock, address)\n",
    "\n",
    "        \n",
    "def handle_conversation(sock, address):\n",
    "    try:\n",
    "        while True:\n",
    "            handle_reuqest(sock)\n",
    "    except EOFError:\n",
    "        print(\"Client socket to {} has closed\\n\".format(address))\n",
    "    except Exception as e:\n",
    "        print(\"Client {} error: {}\\n\".format(address, e))\n",
    "    finally:\n",
    "        sock.close()\n",
    "\n",
    "        \n",
    "def get_anwser(question):\n",
    "    time.sleep(1.0)\n",
    "    return question.replace(b'?', b'.')\n",
    "\n",
    "\n",
    "def handle_reuqest(sock):\n",
    "    question = recv_until(sock, b'?')\n",
    "    answer = get_anwser(question)\n",
    "    sock.sendall(answer)\n",
    "\n",
    "    \n",
    "def recv_until(sock, suffix):\n",
    "    message = sock.recv(4096)\n",
    "    \n",
    "    if not message:\n",
    "        raise EOFError(\"Socket closed\\n\")\n",
    "    while not message.endswith(suffix):\n",
    "        data = sock.recv(4096)\n",
    "        if not data:\n",
    "            raise IOError(\"received {!r} then socket closed\\n\".format(message))\n",
    "        message += data\n",
    "    return message\n",
    "\n",
    "@timeit\n",
    "def client(address, questions, cause_error=False):\n",
    "    \n",
    "    sock = socket.socket(socket.AF_INET, socket.SOCK_STREAM)\n",
    "    sock.connect(address)\n",
    "    \n",
    "    \n",
    "    if cause_error:\n",
    "        sock.sendall(question[:-1])\n",
    "        return\n",
    "    \n",
    "    for q in questions:\n",
    "        sock.sendall(q)\n",
    "        # print(\"Client recieved {}\\n\".format(recv_until(sock, b'.')))\n",
    "    \n",
    "    sock.close()   "
   ]
  },
  {
   "cell_type": "code",
   "execution_count": 78,
   "metadata": {
    "collapsed": false
   },
   "outputs": [
    {
     "name": "stdout",
     "output_type": "stream",
     "text": [
      "Client recieved b'yoyo.'\n",
      "\n",
      "Funcition running for 0.003001689910888672\n",
      "\n"
     ]
    }
   ],
   "source": [
    "address = (\"127.0.0.1\", 9823)\n",
    "client(address, [b\"yoyo?\"])\n",
    "# client(address, [b\"hihi?\"])\n",
    "# client(address, [b\"heyoha?\"])"
   ]
  },
  {
   "cell_type": "code",
   "execution_count": 60,
   "metadata": {
    "collapsed": true
   },
   "outputs": [],
   "source": [
    "import re"
   ]
  },
  {
   "cell_type": "code",
   "execution_count": 114,
   "metadata": {
    "collapsed": false
   },
   "outputs": [],
   "source": [
    "class Solution(object):\n",
    "    \n",
    "    def valid_left(self, s):\n",
    "        stack = deque()\n",
    "        for c in s:\n",
    "            if c == \"(\":\n",
    "                stack.append(c)\n",
    "            elif c==\")\":\n",
    "                if not stack or stack.pop() != \"(\":\n",
    "                    return False\n",
    "\n",
    "        return \")\" not in stack\n",
    "    \n",
    "    def valid(self, s):\n",
    "        stack = deque()\n",
    "        for c in s:\n",
    "            if c == \"(\":\n",
    "                stack.append(c)\n",
    "            elif c==\")\":\n",
    "                if not stack or stack.pop() != \"(\":\n",
    "                    return False\n",
    "        print(s, not stack)\n",
    "        return not stack\n",
    "        \n",
    "    def dfs(self, n, cur, solutions):\n",
    "        if len(cur) == n*2:\n",
    "            if self.valid(cur):\n",
    "                solutions.append(cur)\n",
    "            return\n",
    "        \n",
    "        if cur.count(\")\") < n and self.valid_left(cur + \")\"):\n",
    "            self.dfs(n, cur + \")\", solutions)\n",
    "        \n",
    "        if cur.count(\"(\") < n:\n",
    "            self.dfs(n, cur + \"(\", solutions)\n",
    "        \n",
    "    def generateParenthesis(self, n):\n",
    "        \"\"\"\n",
    "        :type n: int\n",
    "        :rtype: List[str]\n",
    "        \"\"\"\n",
    "        solutions = []\n",
    "        self.dfs(n, \"\", solutions)\n",
    "        return solutions"
   ]
  },
  {
   "cell_type": "code",
   "execution_count": 115,
   "metadata": {
    "collapsed": false
   },
   "outputs": [],
   "source": [
    "s = Solution()"
   ]
  },
  {
   "cell_type": "code",
   "execution_count": 117,
   "metadata": {
    "collapsed": false
   },
   "outputs": [
    {
     "name": "stdout",
     "output_type": "stream",
     "text": [
      "()() True\n",
      "(()) True\n"
     ]
    },
    {
     "data": {
      "text/plain": [
       "['()()', '(())']"
      ]
     },
     "execution_count": 117,
     "metadata": {},
     "output_type": "execute_result"
    }
   ],
   "source": [
    "s.generateParenthesis(2)"
   ]
  },
  {
   "cell_type": "code",
   "execution_count": null,
   "metadata": {
    "collapsed": true
   },
   "outputs": [],
   "source": []
  }
 ],
 "metadata": {
  "kernelspec": {
   "display_name": "Python py3.5",
   "language": "python",
   "name": "py3.5"
  },
  "language_info": {
   "codemirror_mode": {
    "name": "ipython",
    "version": 3
   },
   "file_extension": ".py",
   "mimetype": "text/x-python",
   "name": "python",
   "nbconvert_exporter": "python",
   "pygments_lexer": "ipython3",
   "version": "3.5.4"
  }
 },
 "nbformat": 4,
 "nbformat_minor": 0
}
