{
 "cells": [
  {
   "cell_type": "markdown",
   "metadata": {},
   "source": [
    "#### Builder Pattern\n",
    "\n",
    "* 把构造一个类，或者几个类的步骤，过程封装在一个Builder class中\n",
    "* 并且用另一个Dirctor 去统一调配\n",
    "\n",
    "在这一点上，建造者模式和工厂模式的差别并不太明确。主要的区别在于工厂模式以单个步\n",
    "骤创建对象，而建造者模式以多个步骤创建对象，并且几乎始终会使用一个指挥者。\n",
    "\n",
    "另一个区别是，在工厂模式下，会立即返回一个创建好的对象；而在建造者模式下，仅在需\n",
    "要时客户端代码才显式地请求指挥者返回最终的对象\n",
    "* Actor:\n",
    "    * Builder\n",
    "    * Directer"
   ]
  },
  {
   "cell_type": "code",
   "execution_count": 134,
   "metadata": {},
   "outputs": [],
   "source": [
    "import functools"
   ]
  },
  {
   "cell_type": "code",
   "execution_count": 1,
   "metadata": {},
   "outputs": [],
   "source": [
    "class Computer:\n",
    "\n",
    "    def __init__(self, serial_number):\n",
    "        self.serial = serial_number\n",
    "        self.memory = None\n",
    "        self.hdd = None\n",
    "        self.gpu = None\n",
    "\n",
    "    def __str__(self):\n",
    "        return str(self.__dict__)\n",
    "\n",
    "\n",
    "class ComputerBuiler:\n",
    "\n",
    "    \"\"\" Core is that use a BUILDER class to encapsulate \n",
    "    each steps to build the target class\n",
    "    \"\"\"\n",
    "    \n",
    "    def __init__(self):\n",
    "        self.computer = Computer(\"AG23386193\")\n",
    "\n",
    "    def configure_memory(self, amount):\n",
    "        self.computer.memory = amount\n",
    "\n",
    "    def configure_hdd(self, amount):\n",
    "        self.computer.hdd = amount\n",
    "\n",
    "    def configure_gpu(self, gpu_model):\n",
    "        self.computer.gpu = gpu_model\n",
    "\n",
    "\n",
    "class HardwareEngineer:\n",
    "\n",
    "    \"\"\" Actor: Director. \n",
    "    Call Builder in the right way\n",
    "    \"\"\"\n",
    "    \n",
    "    def __init__(self):\n",
    "        self.builder = None\n",
    "\n",
    "    def construct_computer(self, memory, hdd, gpu):\n",
    "        self.builder = ComputerBuiler()\n",
    "        [step for step in (self.builder.configure_memory(memory),\n",
    "                           self.builder.configure_hdd(hdd),\n",
    "                           self.builder.configure_gpu(gpu))]\n",
    "\n",
    "    @property\n",
    "    def computer(self):\n",
    "        return self.builder.computer"
   ]
  },
  {
   "cell_type": "code",
   "execution_count": 2,
   "metadata": {},
   "outputs": [
    {
     "name": "stdout",
     "output_type": "stream",
     "text": [
      "{'gpu': 'GeForce GTX 650 Ti', 'serial': 'AG23386193', 'hdd': 500, 'memory': 8}\n"
     ]
    }
   ],
   "source": [
    "engineer = HardwareEngineer()\n",
    "engineer.construct_computer(hdd=500, memory=8, gpu=\"GeForce GTX 650 Ti\")\n",
    "print(engineer.computer)"
   ]
  },
  {
   "cell_type": "markdown",
   "metadata": {},
   "source": [
    "##### 需求复杂：除了构造过程是分步的，其可构造的种类也是多种"
   ]
  },
  {
   "cell_type": "code",
   "execution_count": 3,
   "metadata": {},
   "outputs": [],
   "source": [
    "from enum import Enum\n",
    "import time\n",
    "\n",
    "STEP_DELAY = 1\n",
    "PizzaProgress = Enum('PizzaProgress', 'queued preparation baking ready')\n",
    "PizzaDough = Enum('PizzaDough', 'thin thick')\n",
    "PizzaSauce = Enum('PizzaSauce', 'tomato creme_fraiche')"
   ]
  },
  {
   "cell_type": "code",
   "execution_count": 4,
   "metadata": {},
   "outputs": [],
   "source": [
    "class Pizza:\n",
    "\n",
    "    def __init__(self, name):\n",
    "        self.name = name\n",
    "        self.dough = None\n",
    "        self.sauce = None\n",
    "        self.topping = []\n",
    "\n",
    "    def __str__(self):\n",
    "        return self.name\n",
    "\n",
    "    def prepare_dough(self, dough):\n",
    "        self.dough = dough\n",
    "        print(\"preparing the {} dough of your {}...\").format(\n",
    "            self.dough.name, self)\n",
    "        time.sleep(STEP_DELAY)\n",
    "        print(\"done with the {} dough\").format(self.dough.name)\n",
    "\n",
    "\n",
    "class MargaritaBuilder:\n",
    "\n",
    "    def __init__(self):\n",
    "        self.pizza = Pizza('magarita')\n",
    "        self.progress = PizzaProgress.queued\n",
    "        self.baking_time = 5\n",
    "\n",
    "    def prepare_dough(self):\n",
    "        self.progress = PizzaProgress.preparation\n",
    "        self.pizza.prepare_dough(PizzaDough.thin)\n",
    "\n",
    "    def add_sauce(self):\n",
    "        print('adding the tomato sauce to your margarita...')\n",
    "        self.pizza.sauce = PizzaSauce.tomato\n",
    "        time.sleep(STEP_DELAY)\n",
    "        print('done with the tomato sauce')\n",
    "\n",
    "    def add_topping(self):\n",
    "        pass\n",
    "\n",
    "    def bake(self):\n",
    "        self.progress = PizzaProgress.baking\n",
    "        print(\"baking your margarita for {} seconds\".format(self.baking_time))\n",
    "        time.sleep(STEP_DELAY)\n",
    "        print(\"your margarita is ready\")\n",
    "\n",
    "\n",
    "class CreamyBaconBuilder:\n",
    "    def __init__(self):\n",
    "        self.pizza=Pizza('creamy bacon')\n",
    "        self.progress=PizzaProgress.queued\n",
    "        self.baking_time=7\n",
    "\n",
    "    def prepare_dough(self):\n",
    "        self.progress=PizzaProgress.preparation\n",
    "        self.pizza.prepare_dough(PizzaDough.thick)\n",
    "\n",
    "    def add_sauce(self):\n",
    "        print('adding the creme fraiche sauce to your creamy bacon...')\n",
    "        self.pizza.sauce=PizzaSauce.creme_fraiche\n",
    "        time.sleep(STEP_DELAY)\n",
    "        print('done with the creme fraiche sauce')\n",
    "\n",
    "    def add_topping(self):\n",
    "        pass\n",
    "\n",
    "    def bake(self):\n",
    "        self.progress = PizzaProgress.baking\n",
    "        print(\"baking your margarita for {} seconds\".format(self.baking_time))\n",
    "        time.sleep(STEP_DELAY)\n",
    "        print(\"your creamy bacon is ready\")\n"
   ]
  },
  {
   "cell_type": "code",
   "execution_count": 5,
   "metadata": {},
   "outputs": [],
   "source": [
    "class Waiter:\n",
    "    def __init__(self):\n",
    "        self.builder = None\n",
    "    \n",
    "    def construct_pizza(self, builder):\n",
    "        self.builder = builder\n",
    "        [step() for step in (builder.prepare_dough, builder.add_sauce, builder.add_topping, builder.bake)]\n",
    "        \n",
    "    @property\n",
    "    def pizza(self):\n",
    "        return self.builder.pizza"
   ]
  },
  {
   "cell_type": "code",
   "execution_count": 6,
   "metadata": {},
   "outputs": [
    {
     "name": "stdout",
     "output_type": "stream",
     "text": [
      "preparing the thin dough of your magarita...\n",
      "done with the thin dough\n",
      "adding the tomato sauce to your margarita...\n",
      "done with the tomato sauce\n",
      "baking your margarita for 5 seconds\n",
      "your margarita is ready\n"
     ]
    }
   ],
   "source": [
    "builders = dict(m=MargaritaBuilder, c=CreamyBaconBuilder)\n",
    "\n",
    "input = \"m\"\n",
    "waiter = Waiter()\n",
    "waiter.construct_pizza(builders[input]())"
   ]
  },
  {
   "cell_type": "code",
   "execution_count": 90,
   "metadata": {},
   "outputs": [
    {
     "name": "stdout",
     "output_type": "stream",
     "text": [
      "preparing the thick dough of your creamy bacon...\n",
      "done with the thick dough\n",
      "adding the creme fraiche sauce to your creamy bacon...\n",
      "done with the creme fraiche sauce\n",
      "baking your margarita for 7 seconds\n",
      "your creamy bacon is ready\n"
     ]
    }
   ],
   "source": [
    "input = \"c\"\n",
    "waiter = Waiter()\n",
    "waiter.construct_pizza(builders[input]())"
   ]
  },
  {
   "cell_type": "markdown",
   "metadata": {},
   "source": [
    "#### Adapter Pattern\n",
    "* 把不同的接口，统一到一个\n",
    "* 用一个适配器，而不需要用继承把不同的类硬统一"
   ]
  },
  {
   "cell_type": "markdown",
   "metadata": {},
   "source": [
    "Computer has execute(), other two synthesizer and human dont. "
   ]
  },
  {
   "cell_type": "code",
   "execution_count": 121,
   "metadata": {},
   "outputs": [],
   "source": [
    "class Computer:\n",
    "\n",
    "    def __init__(self, name):\n",
    "        self.name = name\n",
    "\n",
    "    def __str__(self):\n",
    "        return \"the {} computer\".format(self.name)\n",
    "\n",
    "    def execute(self):\n",
    "        return \"excutes a program\"\n",
    "\n",
    "\n",
    "class Synthesizer:\n",
    "\n",
    "    def __init__(self, name):\n",
    "        self.name = name\n",
    "\n",
    "    def __str__(self):\n",
    "        return \"the {} synthesizer\".format(self.name)\n",
    "\n",
    "    def play(self):\n",
    "        return \"is playing the electronic song\"\n",
    "\n",
    "\n",
    "class Human:\n",
    "\n",
    "    def __init__(self, name):\n",
    "        self.name = name\n",
    "\n",
    "    def __str__(self):\n",
    "        return \"{} the human\".format(self.name)\n",
    "\n",
    "    def speak(self):\n",
    "        return \"says hello\""
   ]
  },
  {
   "cell_type": "markdown",
   "metadata": {},
   "source": [
    "!!!"
   ]
  },
  {
   "cell_type": "code",
   "execution_count": 123,
   "metadata": {},
   "outputs": [],
   "source": [
    "class Adapter:\n",
    "\n",
    "    def __init__(self, obj, adapted_methods):\n",
    "        self.obj = obj\n",
    "        self.__dict__.update(adapted_methods)\n",
    "\n",
    "    def __str__(self):\n",
    "        return str(self.obj)"
   ]
  },
  {
   "cell_type": "code",
   "execution_count": 118,
   "metadata": {},
   "outputs": [],
   "source": [
    "objects = [Computer(\"Asus\")]\n",
    "\n",
    "synth = Synthesizer('moog')\n",
    "adapted_synth = Adapter(synth, dict(execute=synth.play))\n",
    "\n",
    "human = Human(\"Bob\")\n",
    "adapted_human = Adapter(human, dict(execute=human.speak))\n",
    "\n",
    "objects.extend([adapted_synth, adapted_human])"
   ]
  },
  {
   "cell_type": "code",
   "execution_count": 120,
   "metadata": {},
   "outputs": [
    {
     "data": {
      "text/plain": [
       "['excutes a program', 'is playing the electronic song', 'says hello']"
      ]
     },
     "execution_count": 120,
     "metadata": {},
     "output_type": "execute_result"
    }
   ],
   "source": [
    "[o.execute() for o in objects]"
   ]
  },
  {
   "cell_type": "markdown",
   "metadata": {},
   "source": [
    "#### Decorator Pattern"
   ]
  },
  {
   "cell_type": "markdown",
   "metadata": {},
   "source": [
    "当我们想给对象额外增加功能时：\n",
    "* 如果合理，可以直接将功能添加到对象所属的类\n",
    "* 使用组合\n",
    "* 使用继承\n",
    "\n",
    "通常应该优先选择组合，因为继承使得代码更难复用，继承关系是静态的，并且应用于整个类以及这个类的所有实例"
   ]
  },
  {
   "cell_type": "code",
   "execution_count": 163,
   "metadata": {},
   "outputs": [],
   "source": [
    "def memoize(fn):\n",
    "    known = dict()\n",
    "\n",
    "    @functools.wraps(fn)\n",
    "    def memoizer(*args):\n",
    "        if args not in known:\n",
    "            known[args] = fn(*args)\n",
    "        return known[args]\n",
    "\n",
    "    return memoizer"
   ]
  },
  {
   "cell_type": "code",
   "execution_count": 161,
   "metadata": {},
   "outputs": [],
   "source": [
    "@memoize\n",
    "def fibonacci(n):\n",
    "    assert n >= 0, \"n must be possive\"\n",
    "    return n if n in (0,1) else fibonacci(n-1) + fibonacci(n-2)"
   ]
  },
  {
   "cell_type": "code",
   "execution_count": 162,
   "metadata": {},
   "outputs": [
    {
     "data": {
      "text/plain": [
       "0.012418985366821289"
      ]
     },
     "execution_count": 162,
     "metadata": {},
     "output_type": "execute_result"
    }
   ],
   "source": [
    "from timeit import Timer\n",
    "\n",
    "t = Timer()\n",
    "fibonacci(100)\n",
    "t.timeit()"
   ]
  },
  {
   "cell_type": "markdown",
   "metadata": {},
   "source": [
    "#### Facade Pattern 外观模式"
   ]
  },
  {
   "cell_type": "markdown",
   "metadata": {},
   "source": [
    "* 封装复杂的内部系统，仅仅给客户一个外观的角色\n",
    "* 注意是把不同的内部系统，组装封装成一个统一的外部对象。e.g 计算机（处理器，键盘...), 客服（法务，会计，...)\n",
    "* 在现实中，外观模式相当常见。当你致电一个银行或公司，通常是先被连线到客服部门，客服职员在你和业务部门\n"
   ]
  },
  {
   "cell_type": "code",
   "execution_count": 13,
   "metadata": {},
   "outputs": [],
   "source": [
    "from abc import ABCMeta, abstractmethod"
   ]
  },
  {
   "cell_type": "code",
   "execution_count": 34,
   "metadata": {},
   "outputs": [],
   "source": [
    "State = Enum('State', 'new running sleep restart zombie')\n",
    "\n",
    "class Server():\n",
    "    \n",
    "    @abstractmethod\n",
    "    def __init__(self):\n",
    "        pass\n",
    "    \n",
    "    def __str__(self):\n",
    "        return self.name\n",
    "    \n",
    "    @abstractmethod\n",
    "    def boot(self):\n",
    "        pass\n",
    "    \n",
    "    @abstractmethod\n",
    "    def kill(self, restart=True):\n",
    "        pass"
   ]
  },
  {
   "cell_type": "code",
   "execution_count": 43,
   "metadata": {},
   "outputs": [],
   "source": [
    "class FileServer(Server):\n",
    "\n",
    "    def __init__(self):\n",
    "        self.name = 'FileServer'\n",
    "        self.state = State.new\n",
    "\n",
    "    def boot(self):\n",
    "        print(\"booting the {}\".format(self))\n",
    "        self.state = State.running\n",
    "\n",
    "    def kill(self, restart=True):\n",
    "        print(\"Killing {}\".format(self))\n",
    "        self.state = State.restart if restart else State.sleep\n",
    "\n",
    "    def create_file(self, user, name, permission):\n",
    "        print(\"creating files\")\n",
    "\n",
    "\n",
    "class ProcessServer(Server):\n",
    "\n",
    "    def __init__(self):\n",
    "        self.name = 'ProcessServer'\n",
    "        self.state = State.new\n",
    "\n",
    "    def boot(self):\n",
    "        print(\"booting the {}\".format(self))\n",
    "        self.state = State.running\n",
    "\n",
    "    def kill(self, restart=True):\n",
    "        print(\"Killing {}\".format(self))\n",
    "        self.state = State.restart if restart else State.sleep\n",
    "\n",
    "    def create_process(self, user, name):\n",
    "        print(\"Creating process\")"
   ]
  },
  {
   "cell_type": "code",
   "execution_count": 36,
   "metadata": {},
   "outputs": [],
   "source": [
    "class OperatingSystem:\n",
    "    '''Facade\n",
    "    Dont care how function implemented. \n",
    "    Provide a unified interface to users.\n",
    "    User would think create_file, or create_process, coming done by os\n",
    "\n",
    "    Attributes:\n",
    "        fs (TYPE): file server\n",
    "        ps (TYPE): process server\n",
    "    '''\n",
    "    \n",
    "    def __init__(self):\n",
    "        self.fs = FileServer()\n",
    "        self.ps = ProcessServer()\n",
    "        \n",
    "    def start(self):\n",
    "        [i.boot() for i in (self.fs, self.ps)]\n",
    "        \n",
    "    def create_file(self, user, name, permissions):\n",
    "        return self.fs.create_file(user, name, permissions)\n",
    "    \n",
    "    def create_process(self, user, name):\n",
    "        return self.ps.create_process(user, name)\n"
   ]
  },
  {
   "cell_type": "code",
   "execution_count": 42,
   "metadata": {},
   "outputs": [
    {
     "name": "stdout",
     "output_type": "stream",
     "text": [
      "booting the FileServer\n",
      "booting the ProcessServer\n"
     ]
    }
   ],
   "source": [
    "os = OperatingSystem()\n",
    "os.start()"
   ]
  },
  {
   "cell_type": "code",
   "execution_count": 41,
   "metadata": {},
   "outputs": [
    {
     "name": "stdout",
     "output_type": "stream",
     "text": [
      "creating files\n",
      "Creating process\n"
     ]
    }
   ],
   "source": [
    "os.create_file(\"root\", \"a_file\", \"root\")\n",
    "os.create_process(\"root\", \"a_process\")"
   ]
  },
  {
   "cell_type": "markdown",
   "metadata": {},
   "source": [
    "SOLID\n",
    "* S Single responsibility\n",
    "* open close"
   ]
  },
  {
   "cell_type": "markdown",
   "metadata": {},
   "source": [
    "#### 享元模式 ???"
   ]
  },
  {
   "cell_type": "code",
   "execution_count": null,
   "metadata": {},
   "outputs": [],
   "source": []
  },
  {
   "cell_type": "markdown",
   "metadata": {},
   "source": [
    "### MVC Pattern"
   ]
  },
  {
   "cell_type": "code",
   "execution_count": null,
   "metadata": {},
   "outputs": [],
   "source": []
  },
  {
   "cell_type": "markdown",
   "metadata": {},
   "source": [
    "### Proxy/Surrogate Pattern"
   ]
  },
  {
   "cell_type": "markdown",
   "metadata": {},
   "source": [
    "类似于包装类，代理调用底层函数。调用前进行验证，等行为"
   ]
  },
  {
   "cell_type": "code",
   "execution_count": 59,
   "metadata": {},
   "outputs": [],
   "source": [
    "class LazyProperty(object):\n",
    "    def __init__(self, method):\n",
    "        self.method = method\n",
    "        self.method_name = method.__name__\n",
    "        print(\"method name: \", self.method_name)\n",
    "    \n",
    "    def __get__(self, obj, cls):\n",
    "        if not obj:\n",
    "            return None\n",
    "\n",
    "        print(\"calling with: \", obj)\n",
    "        value = self.method(obj)\n",
    "        \n",
    "        setattr(obj, self.method_name, value)\n",
    "        return value"
   ]
  },
  {
   "cell_type": "code",
   "execution_count": 60,
   "metadata": {},
   "outputs": [
    {
     "name": "stdout",
     "output_type": "stream",
     "text": [
      "('method name: ', 'sum')\n"
     ]
    }
   ],
   "source": [
    "class Blob(object):\n",
    "    lazySum = LazyProperty(sum)\n",
    "    \n",
    "    def __init__(self, data):\n",
    "        self.data = data\n",
    "    \n",
    "    def __iter__(self):\n",
    "        return self.data.__iter__()"
   ]
  },
  {
   "cell_type": "code",
   "execution_count": 67,
   "metadata": {},
   "outputs": [
    {
     "name": "stdout",
     "output_type": "stream",
     "text": [
      "('calling with: ', <__main__.Blob object at 0x7f9fa89c7710>)\n"
     ]
    },
    {
     "data": {
      "text/plain": [
       "10"
      ]
     },
     "execution_count": 67,
     "metadata": {},
     "output_type": "execute_result"
    }
   ],
   "source": [
    "b = Blob([1, 2, 3, 4])\n",
    "b.lazySum"
   ]
  },
  {
   "cell_type": "code",
   "execution_count": 68,
   "metadata": {},
   "outputs": [
    {
     "name": "stdout",
     "output_type": "stream",
     "text": [
      "('method name: ', 'resource')\n"
     ]
    }
   ],
   "source": [
    "class Test:\n",
    "\n",
    "    @LazyProperty\n",
    "    def resource(self):\n",
    "        self._resource = tuple(range(5))\n",
    "        return self._resource"
   ]
  },
  {
   "cell_type": "code",
   "execution_count": 65,
   "metadata": {},
   "outputs": [
    {
     "name": "stdout",
     "output_type": "stream",
     "text": [
      "('calling with: ', <__main__.Test instance at 0x7f9fa8946248>)\n"
     ]
    },
    {
     "data": {
      "text/plain": [
       "(0, 1, 2, 3, 4)"
      ]
     },
     "execution_count": 65,
     "metadata": {},
     "output_type": "execute_result"
    }
   ],
   "source": [
    "Test().resource"
   ]
  },
  {
   "cell_type": "markdown",
   "metadata": {},
   "source": [
    "* Example"
   ]
  },
  {
   "cell_type": "code",
   "execution_count": 70,
   "metadata": {},
   "outputs": [],
   "source": [
    "class SensitiveInfo:\n",
    "    \n",
    "    def __init__(self):\n",
    "        self.users = ['nick', 'tom', 'ben', 'mike']\n",
    "        \n",
    "    def read(self):\n",
    "        print(\"users are: \".format(','.join(self.users)))\n",
    "    \n",
    "    def add(self, user):\n",
    "        self.users.append(user)\n",
    "        print(\"Added user {}\".format(user))"
   ]
  },
  {
   "cell_type": "code",
   "execution_count": 84,
   "metadata": {},
   "outputs": [],
   "source": [
    "class Info:\n",
    "\n",
    "    def __init__(self):\n",
    "        self.protected = SensitiveInfo()\n",
    "        self.secret = \"deadbeef\"\n",
    "        \n",
    "    def read(self):\n",
    "        return self.protected.read()\n",
    "    \n",
    "    def add(self, user):\n",
    "        sec = raw_input(\"What is password\")\n",
    "        if sec == self.secret:\n",
    "            self.protected.add(user)  \n",
    "        else:\n",
    "            print(\"wrong password\")\n",
    "        "
   ]
  },
  {
   "cell_type": "code",
   "execution_count": 85,
   "metadata": {},
   "outputs": [
    {
     "name": "stdout",
     "output_type": "stream",
     "text": [
      "What is passworddeadbeef\n",
      "Added user Jane\n"
     ]
    }
   ],
   "source": [
    "info = Info()\n",
    "info.add(\"Jane\")"
   ]
  },
  {
   "cell_type": "markdown",
   "metadata": {},
   "source": [
    "#### 责任链模式"
   ]
  },
  {
   "cell_type": "markdown",
   "metadata": {},
   "source": [
    "* 把一个事件/对象/函数，交给一个统一的分发器。谁能处理谁处理"
   ]
  },
  {
   "cell_type": "code",
   "execution_count": 96,
   "metadata": {},
   "outputs": [],
   "source": [
    "class Event:\n",
    "    def __init__(self, name):\n",
    "        self.name = name\n",
    "    \n",
    "    def __str__(self):\n",
    "        return self.name\n",
    "\n",
    "    \n",
    "class Widget:\n",
    "    def __init__(self, parent=None):\n",
    "        self.parent = parent\n",
    "    \n",
    "    def handle(self, event):\n",
    "        handler = \"handle_{}\".format(event)\n",
    "        \n",
    "        if hasattr(self, handler):\n",
    "            method = getattr(self, handler)\n",
    "            return method(event)\n",
    "        elif self.parent:\n",
    "            return self.parent.handle(event)\n",
    "        elif hasattr(self, \"handle_default\"):\n",
    "            self.handle_default(event)"
   ]
  },
  {
   "cell_type": "code",
   "execution_count": 113,
   "metadata": {},
   "outputs": [],
   "source": [
    "class MsgBox(Widget):\n",
    "    def handle_send_msg(self, event):\n",
    "        print(\"call handler\", event.name)\n",
    "\n",
    "class Window(Widget):\n",
    "    def handle_open(self, event):\n",
    "        print(\"call handler\", event.name)\n"
   ]
  },
  {
   "cell_type": "code",
   "execution_count": 116,
   "metadata": {},
   "outputs": [
    {
     "name": "stdout",
     "output_type": "stream",
     "text": [
      "('call handler', 'open')\n"
     ]
    }
   ],
   "source": [
    "msg_box = MsgBox(Window())\n",
    "event = Event(\"open\")\n",
    "msg_box.handle(event)"
   ]
  },
  {
   "cell_type": "markdown",
   "metadata": {},
   "source": [
    "##### Command Pattern"
   ]
  },
  {
   "cell_type": "code",
   "execution_count": 170,
   "metadata": {},
   "outputs": [],
   "source": [
    "from abc import abstractmethod\n",
    "import os\n",
    "verbose = True\n",
    "\n",
    "\n",
    "class UndableCommand:\n",
    "\n",
    "    \"\"\"Undo more like a common interface\n",
    "    Better implemented by decorator, rather then inheritance  ??\n",
    "    \"\"\"\n",
    "    \n",
    "    @abstractmethod\n",
    "    def execute():\n",
    "        pass\n",
    "\n",
    "    @abstractmethod\n",
    "    def undo():\n",
    "        pass\n",
    "\n",
    "\n",
    "class RenameFile(UndableCommand):\n",
    "\n",
    "    def __init__(self, path_src, path_dest):\n",
    "        self.src, self.dest = path_src, path_dest\n",
    "\n",
    "    def execute(self):\n",
    "        if verbose:\n",
    "            print(\"[renaming {} to {}]\".format(self.src, self.dest))\n",
    "        os.rename(self.src, self.dest)\n",
    "\n",
    "    def undo(self):\n",
    "        if verbose:\n",
    "            print(\"[renaming {} back to {}]\".format(self.dest, self.src))\n",
    "\n",
    "        os.rename(self.dest, self.src)\n",
    "\n",
    "\n",
    "def delete_file(path):\n",
    "    if verbose:\n",
    "        print(\"[deleting file {}]\".format(path))\n",
    "    os.remove(path)\n",
    "\n",
    "\n",
    "class CreateFile(UndableCommand):\n",
    "\n",
    "    def __init__(self, path, txt):\n",
    "        self.path, self.txt = path, txt\n",
    "\n",
    "    def execute(self):\n",
    "        if verbose:\n",
    "            print(\"[creating file {}]\".format(self.path))\n",
    "        with open(self.path, \"w\") as f:\n",
    "            f.write(self.txt)\n",
    "\n",
    "    def undo(self):\n",
    "        delete_file(self.path)\n"
   ]
  },
  {
   "cell_type": "code",
   "execution_count": 171,
   "metadata": {},
   "outputs": [],
   "source": [
    "commands = [CreateFile(\"test\", \"hello world\"),\n",
    "            CreateFile(\"test2\", \"hello world\"),\n",
    "            RenameFile(\"test\", \"test3\")]"
   ]
  },
  {
   "cell_type": "code",
   "execution_count": 172,
   "metadata": {},
   "outputs": [
    {
     "name": "stdout",
     "output_type": "stream",
     "text": [
      "[creating file test]\n",
      "[creating file test2]\n",
      "[renaming test to test3]\n",
      "reverse commands sequence ......\n",
      "[renaming test3 back to test]\n",
      "[deleting file test2]\n",
      "[deleting file test]\n"
     ]
    },
    {
     "data": {
      "text/plain": [
       "[None, None, None]"
      ]
     },
     "execution_count": 172,
     "metadata": {},
     "output_type": "execute_result"
    }
   ],
   "source": [
    "[x.execute() for x in commands]\n",
    "print(\"reverse commands sequence ......\")\n",
    "commands.reverse()\n",
    "[x.undo() for x in commands]"
   ]
  },
  {
   "cell_type": "markdown",
   "metadata": {},
   "source": [
    "##### 解释器模式"
   ]
  },
  {
   "cell_type": "markdown",
   "metadata": {},
   "source": [
    "编写一种DSL(Domain Specific Language), 给专家等不熟悉编程语言的人员一种简单的指令方式"
   ]
  },
  {
   "cell_type": "code",
   "execution_count": null,
   "metadata": {},
   "outputs": [],
   "source": []
  },
  {
   "cell_type": "markdown",
   "metadata": {},
   "source": [
    "Observer Pattern"
   ]
  },
  {
   "cell_type": "markdown",
   "metadata": {},
   "source": [
    "一组状态改变时，更新另一组对象\n",
    "\n",
    "* 一个observer\n",
    "* 多个对象"
   ]
  },
  {
   "cell_type": "markdown",
   "metadata": {},
   "source": [
    "逻辑类似MVC，降低发布者，和订阅者之间的耦合度"
   ]
  },
  {
   "cell_type": "code",
   "execution_count": 37,
   "metadata": {},
   "outputs": [],
   "source": [
    "class Publisher(object):\n",
    "    def __init__(self):\n",
    "        self.observers = []\n",
    "    \n",
    "    @property\n",
    "    def data(self):\n",
    "        return self._data\n",
    "    \n",
    "    @data.setter\n",
    "    def data(self, value):\n",
    "        self._data = value\n",
    "    \n",
    "    \n",
    "    def add(self, observer):\n",
    "        if observer not in self.observers:\n",
    "            self.observers.append(observer)\n",
    "        else:\n",
    "            print(\"Failed to add: {}\".format(observer))\n",
    "            \n",
    "    def remove(self, observer):\n",
    "        try:\n",
    "            self.observers.remove(observer)\n",
    "        except ValueError:\n",
    "            print(\"Failed to remove: {}\".format(observer))\n",
    "        \n",
    "    def notify(self):\n",
    "        [o.notify(self) for o in self.observers]\n",
    "        \n",
    "class DefaultFormatter(Publisher):\n",
    "    \n",
    "    def __init__(self, name):\n",
    "        super(DefaultFormatter, self).__init__()\n",
    "        self.name = name\n",
    "        self._data = 0\n",
    "    \n",
    "    def __str__(self):\n",
    "        return \"{}: '{}' has data = {}\".format(type(self).__name__, self.name, self._data)"
   ]
  },
  {
   "cell_type": "code",
   "execution_count": 38,
   "metadata": {},
   "outputs": [],
   "source": [
    "from abc import abstractmethod\n",
    "class Observer(object):\n",
    "    @abstractmethod\n",
    "    def notify(self, *args):\n",
    "        pass"
   ]
  },
  {
   "cell_type": "code",
   "execution_count": 39,
   "metadata": {},
   "outputs": [],
   "source": [
    "class BinaryObserver(Observer):\n",
    "    def notify(self, publisher):\n",
    "        print(\"Binary value:\", int(bin(publisher.data)[2:]))\n",
    "        \n",
    "class HeximalObserver(Observer):\n",
    "    def notify(self, publisher):\n",
    "        print(\"Heximal value:\", hex(publisher.data))"
   ]
  },
  {
   "cell_type": "code",
   "execution_count": 40,
   "metadata": {},
   "outputs": [],
   "source": [
    "formatter = DefaultFormatter(\"binary\")\n",
    "formatter.add(BinaryObserver())\n",
    "formatter.add((HeximalObserver()))"
   ]
  },
  {
   "cell_type": "code",
   "execution_count": 41,
   "metadata": {},
   "outputs": [
    {
     "name": "stdout",
     "output_type": "stream",
     "text": [
      "('Binary value:', 1100100)\n",
      "('Heximal value:', '0x64')\n"
     ]
    }
   ],
   "source": [
    "formatter.data = 100\n",
    "formatter.notify()"
   ]
  },
  {
   "cell_type": "markdown",
   "metadata": {},
   "source": [
    "#### 状态模式"
   ]
  },
  {
   "cell_type": "markdown",
   "metadata": {},
   "source": [
    "-- state machine，关注状态转换"
   ]
  },
  {
   "cell_type": "code",
   "execution_count": null,
   "metadata": {},
   "outputs": [],
   "source": []
  },
  {
   "cell_type": "markdown",
   "metadata": {},
   "source": [
    "策略模式"
   ]
  },
  {
   "cell_type": "markdown",
   "metadata": {},
   "source": [
    "根据不同情况选择最合适的算法，对用户不透明。e.g search, BFS, DFS, 用户调用search，program决定用哪种最合适"
   ]
  },
  {
   "cell_type": "code",
   "execution_count": null,
   "metadata": {},
   "outputs": [],
   "source": []
  },
  {
   "cell_type": "markdown",
   "metadata": {},
   "source": [
    "模板模式"
   ]
  },
  {
   "cell_type": "code",
   "execution_count": null,
   "metadata": {},
   "outputs": [],
   "source": []
  }
 ],
 "metadata": {
  "kernelspec": {
   "display_name": "Python 3",
   "language": "python",
   "name": "python3"
  },
  "language_info": {
   "codemirror_mode": {
    "name": "ipython",
    "version": 2
   },
   "file_extension": ".py",
   "mimetype": "text/x-python",
   "name": "python",
   "nbconvert_exporter": "python",
   "pygments_lexer": "ipython2",
   "version": "2.7.12"
  }
 },
 "nbformat": 4,
 "nbformat_minor": 2
}
