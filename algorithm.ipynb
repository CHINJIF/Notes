{
 "cells": [
  {
   "cell_type": "markdown",
   "metadata": {},
   "source": [
    "### Type\n",
    "* Two Pointer\n",
    "* Dynamic Programming\n",
    "* Advanced\n",
    "    * Trie\n",
    "* search\n",
    "    * DFS\n",
    "    * BFS"
   ]
  },
  {
   "cell_type": "markdown",
   "metadata": {},
   "source": [
    "#### Search"
   ]
  },
  {
   "cell_type": "code",
   "execution_count": 45,
   "metadata": {
    "collapsed": true
   },
   "outputs": [],
   "source": [
    "from copy import deepcopy\n",
    "\n",
    "\n",
    "class Solution(object):\n",
    "    def dfs(self, so_far, nums, solutions):\n",
    "        \n",
    "        if so_far in solutions or (so_far and so_far.count(so_far[-1]) > nums.count(so_far[-1])):\n",
    "            return \n",
    "        \n",
    "        solutions.append(so_far)\n",
    "        if len(so_far) >= len(nums) :\n",
    "            return\n",
    "        \n",
    "        start = nums.index(so_far[-1]) + 1 if so_far else 0\n",
    "        \n",
    "        for i in range(start, len(nums)):\n",
    "            c_so_far = deepcopy(so_far)\n",
    "            c_so_far.append(nums[i])\n",
    "            self.dfs(c_so_far, nums, solutions)\n",
    "            \n",
    "    def subsetsWithDup(self, nums):\n",
    "        \"\"\"\n",
    "        :type nums: List[int]\n",
    "        :rtype: List[List[int]]\n",
    "        \"\"\"\n",
    "        solutions = []\n",
    "        nums.sort()\n",
    "        self.dfs([], nums, solutions)\n",
    "        return solutions"
   ]
  },
  {
   "cell_type": "code",
   "execution_count": 67,
   "metadata": {
    "collapsed": true
   },
   "outputs": [],
   "source": [
    "from copy import deepcopy\n",
    "\n",
    "class Node(object):\n",
    "    def __init__(self, val, neighbors):\n",
    "        self.val = val\n",
    "        self.neighbors = neighbors\n",
    "\n",
    "\n",
    "class Solution(object):\n",
    "    def dfs(self, node, new_g):\n",
    "        if node.val in [x.val for x in new_g]:\n",
    "            return \n",
    "        \n",
    "        print(type(new_g))\n",
    "        \n",
    "        new_g.append(deepcopy(node))\n",
    "        \n",
    "        for neighbor in node.neighbors:\n",
    "            self.dfs(neighbor, new_g)\n",
    "        \n",
    "    def cloneGraph(self, node):\n",
    "        \"\"\"\n",
    "        :type node: Node\n",
    "        :rtype: Node\n",
    "        \"\"\"\n",
    "        new_g = []\n",
    "        self.dfs(node, new_g)\n",
    "        return new_g"
   ]
  },
  {
   "cell_type": "code",
   "execution_count": 73,
   "metadata": {},
   "outputs": [],
   "source": [
    "node = Node(1, [Node(2, [])])"
   ]
  },
  {
   "cell_type": "code",
   "execution_count": 74,
   "metadata": {},
   "outputs": [
    {
     "name": "stdout",
     "output_type": "stream",
     "text": [
      "<class 'list'>\n",
      "<class 'list'>\n"
     ]
    },
    {
     "data": {
      "text/plain": [
       "[1, 2]"
      ]
     },
     "execution_count": 74,
     "metadata": {},
     "output_type": "execute_result"
    }
   ],
   "source": [
    "[x.val for x in Solution().cloneGraph(node)]"
   ]
  },
  {
   "cell_type": "code",
   "execution_count": 103,
   "metadata": {},
   "outputs": [],
   "source": [
    "from collections import defaultdict\n",
    "import heapq\n",
    "\n",
    "class Solution(object):\n",
    "    def topKFrequent(self, words, k):\n",
    "        \"\"\"\n",
    "        :type words: List[str]\n",
    "        :type k: int\n",
    "        :rtype: List[str]\n",
    "        \"\"\"\n",
    "        freq = defaultdict(int)\n",
    "        for word in words:\n",
    "            freq[word] += 1\n",
    "            \n",
    "        freq_h = [(v, (ord(\"z\")-ord(k[0])), k) for k, v in freq.items()]\n",
    "        heapq.heapify(freq_h)\n",
    "        return [x[2] for x in heapq.nlargest(k, freq_h)]"
   ]
  },
  {
   "cell_type": "code",
   "execution_count": 104,
   "metadata": {},
   "outputs": [
    {
     "data": {
      "text/plain": [
       "['i', 'love']"
      ]
     },
     "execution_count": 104,
     "metadata": {},
     "output_type": "execute_result"
    }
   ],
   "source": [
    "Solution().topKFrequent([\"i\", \"love\", \"leetcode\", \"i\", \"love\", \"coding\"], 2)"
   ]
  },
  {
   "cell_type": "code",
   "execution_count": 95,
   "metadata": {},
   "outputs": [
    {
     "data": {
      "text/plain": [
       "25"
      ]
     },
     "execution_count": 95,
     "metadata": {},
     "output_type": "execute_result"
    }
   ],
   "source": [
    "\n",
    "ord(\"z\") - ord(\"a\")"
   ]
  },
  {
   "cell_type": "code",
   "execution_count": 17,
   "metadata": {},
   "outputs": [],
   "source": [
    "class Solution:\n",
    "    def canJump(self, nums) -> bool:\n",
    "        dp = [0 for _ in range(len(nums))]\n",
    "        dp[0] = 1\n",
    "        cur = 0 \n",
    "        while cur < len(nums):\n",
    "            if dp[cur] == 1:\n",
    "                for i in range(cur, min(cur+nums[cur]+1, len(nums))):\n",
    "                    dp[i] = 1\n",
    "                print(cur, cur+nums[cur], dp)\n",
    "            cur += 1\n",
    "            \n",
    "        return dp[len(nums) - 1]"
   ]
  },
  {
   "cell_type": "code",
   "execution_count": 20,
   "metadata": {},
   "outputs": [
    {
     "name": "stdout",
     "output_type": "stream",
     "text": [
      "0 2 [1, 1, 1, 0]\n",
      "1 6 [1, 1, 1, 1]\n",
      "2 2 [1, 1, 1, 1]\n",
      "3 3 [1, 1, 1, 1]\n"
     ]
    },
    {
     "data": {
      "text/plain": [
       "1"
      ]
     },
     "execution_count": 20,
     "metadata": {},
     "output_type": "execute_result"
    }
   ],
   "source": [
    "Solution().canJump([2,5,0,0])"
   ]
  },
  {
   "cell_type": "code",
   "execution_count": null,
   "metadata": {
    "collapsed": true
   },
   "outputs": [],
   "source": []
  }
 ],
 "metadata": {
  "kernelspec": {
   "display_name": "python37",
   "language": "python",
   "name": "python37"
  },
  "language_info": {
   "codemirror_mode": {
    "name": "ipython",
    "version": 3
   },
   "file_extension": ".py",
   "mimetype": "text/x-python",
   "name": "python",
   "nbconvert_exporter": "python",
   "pygments_lexer": "ipython3",
   "version": "3.7.3"
  }
 },
 "nbformat": 4,
 "nbformat_minor": 2
}
