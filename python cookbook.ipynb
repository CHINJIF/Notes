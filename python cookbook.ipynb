{
 "cells": [
  {
   "cell_type": "markdown",
   "metadata": {},
   "source": [
    "### I. 元类"
   ]
  },
  {
   "cell_type": "code",
   "execution_count": null,
   "metadata": {
    "collapsed": true
   },
   "outputs": [],
   "source": []
  },
  {
   "cell_type": "markdown",
   "metadata": {},
   "source": [
    "### III. 并发编程"
   ]
  },
  {
   "cell_type": "markdown",
   "metadata": {},
   "source": [
    "#### 协程 - coroutine \n",
    "绿色线程，轻量级的线程。"
   ]
  },
  {
   "cell_type": "markdown",
   "metadata": {},
   "source": [
    "* 示例1，用coroutine代替线程"
   ]
  },
  {
   "cell_type": "code",
   "execution_count": 7,
   "metadata": {
    "collapsed": true
   },
   "outputs": [],
   "source": [
    "def countdown(n):\n",
    "    while n > 0:\n",
    "        print('T-minus', n)\n",
    "        yield\n",
    "        n -= 1\n",
    "    print('Blastoff!')\n",
    "    \n",
    "    \n",
    "def countup(n):\n",
    "    x = 0\n",
    "    while x < n:\n",
    "        print('Conuting up', x)\n",
    "        yield\n",
    "        x += 1"
   ]
  },
  {
   "cell_type": "code",
   "execution_count": 4,
   "metadata": {
    "collapsed": true
   },
   "outputs": [],
   "source": [
    "from collections import deque\n",
    "\n",
    "class TaskScheduler:\n",
    "    \n",
    "    def __init__(self):\n",
    "        self._task_queue = deque()\n",
    "        \n",
    "    def new_task(self, task):\n",
    "        '''Admit a newly started task to the scheduler'''\n",
    "        self._task_queue.append(task)\n",
    "    \n",
    "    def run(self):\n",
    "        while self._task_queue:\n",
    "            task = self._task_queue.popleft()\n",
    "            \n",
    "            try:\n",
    "                next(task)\n",
    "                self._task_queue.append(task) # 轮询的运行queue里的协程\n",
    "            except StopIteration:\n",
    "                pass"
   ]
  },
  {
   "cell_type": "code",
   "execution_count": 12,
   "metadata": {
    "collapsed": false
   },
   "outputs": [
    {
     "name": "stdout",
     "output_type": "stream",
     "text": [
      "T-minus 5\n",
      "Conuting up 0\n",
      "T-minus 4\n",
      "Conuting up 1\n",
      "T-minus 3\n",
      "Conuting up 2\n",
      "T-minus 2\n",
      "Conuting up 3\n",
      "T-minus 1\n",
      "Conuting up 4\n",
      "Blastoff!\n",
      "Conuting up 5\n"
     ]
    }
   ],
   "source": [
    "scheduler = TaskScheduler()\n",
    "scheduler.new_task(countdown(5))\n",
    "scheduler.new_task(countup(6))\n",
    "scheduler.run()"
   ]
  },
  {
   "cell_type": "markdown",
   "metadata": {},
   "source": [
    "* 示例2"
   ]
  },
  {
   "cell_type": "code",
   "execution_count": 22,
   "metadata": {
    "collapsed": true
   },
   "outputs": [],
   "source": [
    "class ActorScheduler:\n",
    "    \n",
    "    def __init__(self):\n",
    "        self._actors = {}\n",
    "        self._msg_queue = deque()\n",
    "        \n",
    "    def new_actor(self, name, actor):\n",
    "        self._msg_queue.append((actor, None))\n",
    "        self._actors[name] = actor\n",
    "       \n",
    "    def send(self, name, msg):\n",
    "        actor = self._actors.get(name)\n",
    "        if actor:\n",
    "            self._msg_queue.append((actor, msg))\n",
    "            \n",
    "    def run(self):\n",
    "        while self._msg_queue:\n",
    "            actor, msg = self._msg_queue.popleft()\n",
    "            \n",
    "            try:\n",
    "                actor.send(msg)\n",
    "                print(\"Sending \", msg, \" to \", actor.__name__)\n",
    "            except StopIteration:\n",
    "                pass"
   ]
  },
  {
   "cell_type": "code",
   "execution_count": 23,
   "metadata": {
    "collapsed": true
   },
   "outputs": [],
   "source": [
    "def printer():\n",
    "    while True:\n",
    "        msg = yield\n",
    "        print('Got: ', msg)\n",
    "\n",
    "def counter(sched):\n",
    "    \n",
    "    while True:\n",
    "        n = yield\n",
    "        if n == 0:\n",
    "            break\n",
    "        \n",
    "        sched.send('printer', n)\n",
    "        \n",
    "        sched.send('counter', n-1)"
   ]
  },
  {
   "cell_type": "code",
   "execution_count": 24,
   "metadata": {
    "collapsed": false
   },
   "outputs": [
    {
     "name": "stdout",
     "output_type": "stream",
     "text": [
      "Sending  None  to  printer\n",
      "Sending  None  to  counter\n",
      "Sending  3  to  counter\n",
      "Got:  3\n",
      "Sending  3  to  printer\n",
      "Sending  2  to  counter\n",
      "Got:  2\n",
      "Sending  2  to  printer\n",
      "Sending  1  to  counter\n",
      "Got:  1\n",
      "Sending  1  to  printer\n"
     ]
    }
   ],
   "source": [
    "sched = ActorScheduler()\n",
    "sched.new_actor('printer', printer())\n",
    "sched.new_actor('counter', counter(sched))\n",
    "\n",
    "sched.send('counter', 3)\n",
    "sched.run()"
   ]
  },
  {
   "cell_type": "markdown",
   "metadata": {},
   "source": [
    "* 3"
   ]
  },
  {
   "cell_type": "code",
   "execution_count": 1,
   "metadata": {
    "collapsed": true
   },
   "outputs": [],
   "source": [
    "from select import select\n",
    "from collections import deque\n",
    "\n",
    "class YieldEvent:\n",
    "    def handle_yield(self, sched, task):\n",
    "        pass\n",
    "    \n",
    "    def handle_resume(self, sched, task):\n",
    "        pass\n",
    "\n",
    "    \n",
    "class Scheduler:\n",
    "    \n",
    "    def __init__(self):\n",
    "        self._numtasks = 0\n",
    "        self._ready = deque()\n",
    "        self._read_waiting = {}\n",
    "        self._write_waiting = {}\n",
    "    \n",
    "    def _iopoll(self):\n",
    "        rset, wset, eset = select(self._read_waiting, \n",
    "                                 self._write_waiting, [])\n",
    "        \n",
    "        for r in rset:\n",
    "            evt, task = self._read_waiting.pop(r)\n",
    "            evt.handle_resume(self, task)\n",
    "        \n",
    "        for w in wset:\n",
    "            evt, task = self._write_waiting.pop(w)\n",
    "            evt.handle_resume(self, task)\n",
    "    \n",
    "    def new(self, task):\n",
    "        self._ready.append((task, None))\n",
    "        self._numtasks += 1\n",
    "    \n",
    "    def add_ready(self, task, msg=None):\n",
    "        self._ready.append((task, msg))\n",
    "        \n",
    "    def _read_wait(self, fileno, evt, task):\n",
    "        self._read_waiting[fileno] = (evt, task)\n",
    "    \n",
    "    def _write_wait(self, fileno, evt, task):\n",
    "        self._write_waiting[fileno] = (evt, task)\n",
    "    \n",
    "    def run(self):    \n",
    "        while self._numtasks:\n",
    "        \n",
    "            if not self._ready:\n",
    "                self._iopoll()\n",
    "            task, msg = self._ready.popleft()\n",
    "            \n",
    "            try:\n",
    "                r = task.send(msg)\n",
    "                if isinstance(r, YieldEvent):\n",
    "                    r.handle_yield(self, task)\n",
    "                else:\n",
    "                    raise RuntimeError('Unrecognized yield event')\n",
    "            except StopIteration:\n",
    "                self._numtasks -= 1"
   ]
  },
  {
   "cell_type": "code",
   "execution_count": 2,
   "metadata": {
    "collapsed": false
   },
   "outputs": [],
   "source": [
    "class ReadSocket(YieldEvent):\n",
    "    \n",
    "    def __init__(self, sock, nbytes):\n",
    "        self.sock = sock\n",
    "        self.nbytes = nbytes\n",
    "    \n",
    "    def handle_yield(self, sched, task):\n",
    "        sched._read_wait(self.sock.fileno(), self, task)\n",
    "    \n",
    "    def handle_resume(self, sched, task):\n",
    "        data = self.sock.recv(self.nbytes)\n",
    "        print(\"recieved data \", data)\n",
    "        sched.add_ready(task, data)\n",
    "    \n",
    "class WriteSocket(YieldEvent):\n",
    "    \n",
    "    def __init__(self, sock, data):\n",
    "        self.sock = sock\n",
    "        self.data = data\n",
    "    \n",
    "    def handle_yield(self, sched, task):\n",
    "        sched._write_wait(self.sock.fileno(), self, task)\n",
    "    \n",
    "    def handle_resume(self, sched, task):\n",
    "        nsent = self.sock.send(self.data)\n",
    "        sched.add_ready(task, nsent)\n",
    "    \n",
    "class AcceptSocket(YieldEvent):\n",
    "    \n",
    "    def __init__(self, sock):\n",
    "        self.sock = sock\n",
    "    \n",
    "    def handle_yield(self, sched, task):\n",
    "        sched._read_wait(self.sock.fileno(), self, task)\n",
    "    \n",
    "    def handle_resume(self, sched, task):\n",
    "        r = self.sock.accept()\n",
    "        sched.add_ready(task, r)\n",
    "    \n",
    "class Socket(object):\n",
    "    \n",
    "    def __init__(self, sock):\n",
    "        self._sock = sock\n",
    "    \n",
    "    def recv(self, maxbytes):\n",
    "        return ReadSocket(self._sock, maxbytes)\n",
    "    \n",
    "    def send(self, data):\n",
    "        return WriteSocket(self._sock, data)\n",
    "    \n",
    "    def accept(self):\n",
    "        return AcceptSocket(self._sock)\n",
    "    \n",
    "    def __getattr__(self, name):\n",
    "        return getattr(self._sock, name)"
   ]
  },
  {
   "cell_type": "code",
   "execution_count": 3,
   "metadata": {
    "collapsed": true
   },
   "outputs": [],
   "source": [
    "from socket import socket, AF_INET, SOCK_STREAM\n",
    "import time\n",
    "\n",
    "\n",
    "def readline(sock):\n",
    "    chars = []\n",
    "    while True:\n",
    "        c = yield sock.recv(1)\n",
    "        if not c:\n",
    "            break\n",
    "        \n",
    "        chars.append(c)\n",
    "        if c == b'\\n':\n",
    "            break\n",
    "    return b''.join(chars)\n",
    "\n",
    "\n",
    "class EchoServer:\n",
    "    \n",
    "    def __init__(self, addr, sched):\n",
    "        self.sched = sched\n",
    "        sched.new(self.server_loop(addr))\n",
    "    \n",
    "    def server_loop(self, addr):\n",
    "        s = Socket(socket(AF_INET, SOCK_STREAM))\n",
    "        \n",
    "        s.bind(addr)\n",
    "        s.listen(5)\n",
    "        \n",
    "        while True:\n",
    "            c, a = yield s.accept()\n",
    "            print('Got connnection from ', a)\n",
    "            self.sched.new(self.client_handler(Socket(c)))\n",
    "        \n",
    "    def client_handler(self, client):\n",
    "        while True:\n",
    "            line = yield from readline(client)\n",
    "            if not line:\n",
    "                break\n",
    "            \n",
    "            line = b'Got: ' + line\n",
    "            while line:\n",
    "                nsent = yield client.send(line)\n",
    "                line = line[nsent:]\n",
    "            \n",
    "            client.close()\n",
    "            print('Client closed')"
   ]
  },
  {
   "cell_type": "code",
   "execution_count": 4,
   "metadata": {
    "collapsed": false
   },
   "outputs": [
    {
     "name": "stdout",
     "output_type": "stream",
     "text": [
      "Got connnection from  ('127.0.0.1', 54816)\n",
      "recieved data  b'H'\n",
      "recieved data  b'e'\n",
      "recieved data  b'l'\n",
      "recieved data  b'l'\n",
      "recieved data  b'o'\n",
      "recieved data  b''\n",
      "Client closed\n"
     ]
    },
    {
     "ename": "ValueError",
     "evalue": "file descriptor cannot be a negative integer (-1)",
     "output_type": "error",
     "traceback": [
      "\u001b[1;31m---------------------------------------------------------------------------\u001b[0m",
      "\u001b[1;31mValueError\u001b[0m                                Traceback (most recent call last)",
      "\u001b[1;32m<ipython-input-4-3059e7aaa839>\u001b[0m in \u001b[0;36m<module>\u001b[1;34m()\u001b[0m\n\u001b[0;32m      1\u001b[0m \u001b[0msched\u001b[0m \u001b[1;33m=\u001b[0m \u001b[0mScheduler\u001b[0m\u001b[1;33m(\u001b[0m\u001b[1;33m)\u001b[0m\u001b[1;33m\u001b[0m\u001b[0m\n\u001b[0;32m      2\u001b[0m \u001b[0mEchoServer\u001b[0m\u001b[1;33m(\u001b[0m\u001b[1;33m(\u001b[0m\u001b[1;34m''\u001b[0m\u001b[1;33m,\u001b[0m \u001b[1;36m1600\u001b[0m\u001b[1;33m)\u001b[0m\u001b[1;33m,\u001b[0m \u001b[0msched\u001b[0m\u001b[1;33m)\u001b[0m\u001b[1;33m\u001b[0m\u001b[0m\n\u001b[1;32m----> 3\u001b[1;33m \u001b[0msched\u001b[0m\u001b[1;33m.\u001b[0m\u001b[0mrun\u001b[0m\u001b[1;33m(\u001b[0m\u001b[1;33m)\u001b[0m\u001b[1;33m\u001b[0m\u001b[0m\n\u001b[0m\u001b[0;32m      4\u001b[0m \u001b[1;33m\u001b[0m\u001b[0m\n\u001b[0;32m      5\u001b[0m \u001b[1;33m\u001b[0m\u001b[0m\n",
      "\u001b[1;32m<ipython-input-1-1da98cd40df5>\u001b[0m in \u001b[0;36mrun\u001b[1;34m(self)\u001b[0m\n\u001b[0;32m     47\u001b[0m \u001b[1;33m\u001b[0m\u001b[0m\n\u001b[0;32m     48\u001b[0m             \u001b[1;32mif\u001b[0m \u001b[1;32mnot\u001b[0m \u001b[0mself\u001b[0m\u001b[1;33m.\u001b[0m\u001b[0m_ready\u001b[0m\u001b[1;33m:\u001b[0m\u001b[1;33m\u001b[0m\u001b[0m\n\u001b[1;32m---> 49\u001b[1;33m                 \u001b[0mself\u001b[0m\u001b[1;33m.\u001b[0m\u001b[0m_iopoll\u001b[0m\u001b[1;33m(\u001b[0m\u001b[1;33m)\u001b[0m\u001b[1;33m\u001b[0m\u001b[0m\n\u001b[0m\u001b[0;32m     50\u001b[0m             \u001b[0mtask\u001b[0m\u001b[1;33m,\u001b[0m \u001b[0mmsg\u001b[0m \u001b[1;33m=\u001b[0m \u001b[0mself\u001b[0m\u001b[1;33m.\u001b[0m\u001b[0m_ready\u001b[0m\u001b[1;33m.\u001b[0m\u001b[0mpopleft\u001b[0m\u001b[1;33m(\u001b[0m\u001b[1;33m)\u001b[0m\u001b[1;33m\u001b[0m\u001b[0m\n\u001b[0;32m     51\u001b[0m \u001b[1;33m\u001b[0m\u001b[0m\n",
      "\u001b[1;32m<ipython-input-1-1da98cd40df5>\u001b[0m in \u001b[0;36m_iopoll\u001b[1;34m(self)\u001b[0m\n\u001b[0;32m     20\u001b[0m     \u001b[1;32mdef\u001b[0m \u001b[0m_iopoll\u001b[0m\u001b[1;33m(\u001b[0m\u001b[0mself\u001b[0m\u001b[1;33m)\u001b[0m\u001b[1;33m:\u001b[0m\u001b[1;33m\u001b[0m\u001b[0m\n\u001b[0;32m     21\u001b[0m         rset, wset, eset = select(self._read_waiting, \n\u001b[1;32m---> 22\u001b[1;33m                                  self._write_waiting, [])\n\u001b[0m\u001b[0;32m     23\u001b[0m \u001b[1;33m\u001b[0m\u001b[0m\n\u001b[0;32m     24\u001b[0m         \u001b[1;32mfor\u001b[0m \u001b[0mr\u001b[0m \u001b[1;32min\u001b[0m \u001b[0mrset\u001b[0m\u001b[1;33m:\u001b[0m\u001b[1;33m\u001b[0m\u001b[0m\n",
      "\u001b[1;31mValueError\u001b[0m: file descriptor cannot be a negative integer (-1)"
     ]
    }
   ],
   "source": [
    "sched = Scheduler()\n",
    "EchoServer(('', 1600), sched)\n",
    "sched.run()"
   ]
  },
  {
   "cell_type": "code",
   "execution_count": 5,
   "metadata": {
    "collapsed": false
   },
   "outputs": [
    {
     "data": {
      "text/plain": [
       "['__call__',\n",
       " '__class__',\n",
       " '__delattr__',\n",
       " '__dir__',\n",
       " '__doc__',\n",
       " '__eq__',\n",
       " '__format__',\n",
       " '__ge__',\n",
       " '__getattribute__',\n",
       " '__gt__',\n",
       " '__hash__',\n",
       " '__init__',\n",
       " '__le__',\n",
       " '__lt__',\n",
       " '__module__',\n",
       " '__name__',\n",
       " '__ne__',\n",
       " '__new__',\n",
       " '__qualname__',\n",
       " '__reduce__',\n",
       " '__reduce_ex__',\n",
       " '__repr__',\n",
       " '__self__',\n",
       " '__setattr__',\n",
       " '__sizeof__',\n",
       " '__str__',\n",
       " '__subclasshook__',\n",
       " '__text_signature__']"
      ]
     },
     "execution_count": 5,
     "metadata": {},
     "output_type": "execute_result"
    }
   ],
   "source": [
    "import time\n",
    "dir(time.time)"
   ]
  },
  {
   "cell_type": "code",
   "execution_count": 6,
   "metadata": {
    "collapsed": true
   },
   "outputs": [],
   "source": [
    "from datetime import datetime"
   ]
  },
  {
   "cell_type": "code",
   "execution_count": 7,
   "metadata": {
    "collapsed": false
   },
   "outputs": [
    {
     "data": {
      "text/plain": [
       "['__add__',\n",
       " '__class__',\n",
       " '__delattr__',\n",
       " '__dir__',\n",
       " '__doc__',\n",
       " '__eq__',\n",
       " '__format__',\n",
       " '__ge__',\n",
       " '__getattribute__',\n",
       " '__gt__',\n",
       " '__hash__',\n",
       " '__init__',\n",
       " '__le__',\n",
       " '__lt__',\n",
       " '__ne__',\n",
       " '__new__',\n",
       " '__radd__',\n",
       " '__reduce__',\n",
       " '__reduce_ex__',\n",
       " '__repr__',\n",
       " '__rsub__',\n",
       " '__setattr__',\n",
       " '__sizeof__',\n",
       " '__str__',\n",
       " '__sub__',\n",
       " '__subclasshook__',\n",
       " 'astimezone',\n",
       " 'combine',\n",
       " 'ctime',\n",
       " 'date',\n",
       " 'day',\n",
       " 'dst',\n",
       " 'fromordinal',\n",
       " 'fromtimestamp',\n",
       " 'hour',\n",
       " 'isocalendar',\n",
       " 'isoformat',\n",
       " 'isoweekday',\n",
       " 'max',\n",
       " 'microsecond',\n",
       " 'min',\n",
       " 'minute',\n",
       " 'month',\n",
       " 'now',\n",
       " 'replace',\n",
       " 'resolution',\n",
       " 'second',\n",
       " 'strftime',\n",
       " 'strptime',\n",
       " 'time',\n",
       " 'timestamp',\n",
       " 'timetuple',\n",
       " 'timetz',\n",
       " 'today',\n",
       " 'toordinal',\n",
       " 'tzinfo',\n",
       " 'tzname',\n",
       " 'utcfromtimestamp',\n",
       " 'utcnow',\n",
       " 'utcoffset',\n",
       " 'utctimetuple',\n",
       " 'weekday',\n",
       " 'year']"
      ]
     },
     "execution_count": 7,
     "metadata": {},
     "output_type": "execute_result"
    }
   ],
   "source": [
    "dir(datetime)"
   ]
  },
  {
   "cell_type": "code",
   "execution_count": 8,
   "metadata": {
    "collapsed": true
   },
   "outputs": [],
   "source": [
    "from time import time"
   ]
  },
  {
   "cell_type": "code",
   "execution_count": 11,
   "metadata": {
    "collapsed": false
   },
   "outputs": [
    {
     "ename": "TypeError",
     "evalue": "descriptor 'time' requires a 'datetime.datetime' object but received a 'int'",
     "output_type": "error",
     "traceback": [
      "\u001b[1;31m---------------------------------------------------------------------------\u001b[0m",
      "\u001b[1;31mTypeError\u001b[0m                                 Traceback (most recent call last)",
      "\u001b[1;32m<ipython-input-11-3fca76c644ca>\u001b[0m in \u001b[0;36m<module>\u001b[1;34m()\u001b[0m\n\u001b[1;32m----> 1\u001b[1;33m \u001b[0mdatetime\u001b[0m\u001b[1;33m.\u001b[0m\u001b[0mtime\u001b[0m\u001b[1;33m(\u001b[0m\u001b[1;36m1558658909053\u001b[0m\u001b[1;33m)\u001b[0m\u001b[1;33m\u001b[0m\u001b[0m\n\u001b[0m",
      "\u001b[1;31mTypeError\u001b[0m: descriptor 'time' requires a 'datetime.datetime' object but received a 'int'"
     ]
    }
   ],
   "source": [
    "datetime.time(1558658909053)"
   ]
  },
  {
   "cell_type": "code",
   "execution_count": 13,
   "metadata": {
    "collapsed": false
   },
   "outputs": [
    {
     "ename": "TypeError",
     "evalue": "Required argument 'timestamp' (pos 1) not found",
     "output_type": "error",
     "traceback": [
      "\u001b[1;31m---------------------------------------------------------------------------\u001b[0m",
      "\u001b[1;31mTypeError\u001b[0m                                 Traceback (most recent call last)",
      "\u001b[1;32m<ipython-input-13-b7dd0ed8655b>\u001b[0m in \u001b[0;36m<module>\u001b[1;34m()\u001b[0m\n\u001b[0;32m      1\u001b[0m \u001b[0ms\u001b[0m \u001b[1;33m=\u001b[0m \u001b[1;36m1558658909053\u001b[0m\u001b[1;33m\u001b[0m\u001b[0m\n\u001b[1;32m----> 2\u001b[1;33m \u001b[0mdatetime\u001b[0m\u001b[1;33m.\u001b[0m\u001b[0mfromtimestamp\u001b[0m\u001b[1;33m(\u001b[0m\u001b[1;33m)\u001b[0m\u001b[1;33m\u001b[0m\u001b[0m\n\u001b[0m",
      "\u001b[1;31mTypeError\u001b[0m: Required argument 'timestamp' (pos 1) not found"
     ]
    }
   ],
   "source": [
    "s = 1558658909053\n",
    "datetime.fromtimestamp()"
   ]
  },
  {
   "cell_type": "code",
   "execution_count": 16,
   "metadata": {
    "collapsed": false
   },
   "outputs": [
    {
     "data": {
      "text/plain": [
       "['_STRUCT_TM_ITEMS',\n",
       " '__doc__',\n",
       " '__loader__',\n",
       " '__name__',\n",
       " '__package__',\n",
       " '__spec__',\n",
       " 'altzone',\n",
       " 'asctime',\n",
       " 'clock',\n",
       " 'ctime',\n",
       " 'daylight',\n",
       " 'get_clock_info',\n",
       " 'gmtime',\n",
       " 'localtime',\n",
       " 'mktime',\n",
       " 'monotonic',\n",
       " 'perf_counter',\n",
       " 'process_time',\n",
       " 'sleep',\n",
       " 'strftime',\n",
       " 'strptime',\n",
       " 'struct_time',\n",
       " 'time',\n",
       " 'timezone',\n",
       " 'tzname']"
      ]
     },
     "execution_count": 16,
     "metadata": {},
     "output_type": "execute_result"
    }
   ],
   "source": [
    "import time\n",
    "dir(time)"
   ]
  },
  {
   "cell_type": "code",
   "execution_count": 18,
   "metadata": {
    "collapsed": false
   },
   "outputs": [
    {
     "ename": "OSError",
     "evalue": "[Errno 22] Invalid argument",
     "output_type": "error",
     "traceback": [
      "\u001b[1;31m---------------------------------------------------------------------------\u001b[0m",
      "\u001b[1;31mOSError\u001b[0m                                   Traceback (most recent call last)",
      "\u001b[1;32m<ipython-input-18-dad36f0a95f1>\u001b[0m in \u001b[0;36m<module>\u001b[1;34m()\u001b[0m\n\u001b[1;32m----> 1\u001b[1;33m \u001b[0mtime\u001b[0m\u001b[1;33m.\u001b[0m\u001b[0mgmtime\u001b[0m\u001b[1;33m(\u001b[0m\u001b[0ms\u001b[0m\u001b[1;33m)\u001b[0m\u001b[1;33m\u001b[0m\u001b[0m\n\u001b[0m",
      "\u001b[1;31mOSError\u001b[0m: [Errno 22] Invalid argument"
     ]
    }
   ],
   "source": [
    "time.gmtime(s)"
   ]
  },
  {
   "cell_type": "code",
   "execution_count": null,
   "metadata": {
    "collapsed": true
   },
   "outputs": [],
   "source": []
  }
 ],
 "metadata": {
  "kernelspec": {
   "display_name": "Python py3.5",
   "language": "python",
   "name": "py3.5"
  },
  "language_info": {
   "codemirror_mode": {
    "name": "ipython",
    "version": 3
   },
   "file_extension": ".py",
   "mimetype": "text/x-python",
   "name": "python",
   "nbconvert_exporter": "python",
   "pygments_lexer": "ipython3",
   "version": "3.5.4"
  }
 },
 "nbformat": 4,
 "nbformat_minor": 0
}
