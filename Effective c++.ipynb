{
 "cells": [
  {
   "cell_type": "markdown",
   "metadata": {},
   "source": [
    "I. C++ basics"
   ]
  },
  {
   "cell_type": "markdown",
   "metadata": {},
   "source": [
    "1.0 preprocessor, compiler, link\n",
    "\n",
    "http://www.runoob.com/cplusplus/cpp-preprocessor.html\n"
   ]
  },
  {
   "cell_type": "markdown",
   "metadata": {},
   "source": [
    "![](img/comiler_process.png_)"
   ]
  },
  {
   "cell_type": "code",
   "execution_count": 1,
   "metadata": {},
   "outputs": [
    {
     "name": "stdout",
     "output_type": "stream",
     "text": []
    }
   ],
   "source": [
    "#include <string>\n",
    "#include <vector>\n",
    "#include <iostream>\n",
    "#include <algorithm>\n",
    "#include <memory>\n",
    "#include <functional>\n",
    "#include <map>\n",
    "#include <mutex> \n",
    "using namespace std;"
   ]
  },
  {
   "cell_type": "markdown",
   "metadata": {},
   "source": [
    "1.1 Declaration, definition and initialization "
   ]
  },
  {
   "cell_type": "markdown",
   "metadata": {},
   "source": [
    "* Declaration: 声明式告诉编译器某个东西的名称和类型，但略去细节"
   ]
  },
  {
   "cell_type": "code",
   "execution_count": 2,
   "metadata": {},
   "outputs": [
    {
     "name": "stdout",
     "output_type": "stream",
     "text": []
    }
   ],
   "source": [
    "extern int x;"
   ]
  },
  {
   "cell_type": "markdown",
   "metadata": {},
   "source": [
    "* extern ?"
   ]
  },
  {
   "cell_type": "code",
   "execution_count": 3,
   "metadata": {},
   "outputs": [
    {
     "name": "stdout",
     "output_type": "stream",
     "text": []
    }
   ],
   "source": [
    "std::size_t numDigits(int number);"
   ]
  },
  {
   "cell_type": "code",
   "execution_count": 7,
   "metadata": {},
   "outputs": [
    {
     "name": "stdout",
     "output_type": "stream",
     "text": []
    }
   ],
   "source": [
    "class Widget;"
   ]
  },
  {
   "cell_type": "code",
   "execution_count": 5,
   "metadata": {},
   "outputs": [
    {
     "name": "stdout",
     "output_type": "stream",
     "text": []
    }
   ],
   "source": [
    "template<typename T>"
   ]
  },
  {
   "cell_type": "markdown",
   "metadata": {},
   "source": [
    "* Definition:\n",
    "定义式的任务是提供编译器一些声明式遗漏的细节。对对象而言，定义式是编译器为对象拨发内存的地点；对function或function template而言，定义式提供了代码本体。对class或class template而言，定义式列出他们的成员"
   ]
  },
  {
   "cell_type": "code",
   "execution_count": 6,
   "metadata": {},
   "outputs": [
    {
     "name": "stdout",
     "output_type": "stream",
     "text": []
    }
   ],
   "source": [
    "std::size_t numDigits(int number){\n",
    "    std::size_t digits = 1;\n",
    "    \n",
    "    while((number/=10)!=0) ++digits;\n",
    "    return digits;\n",
    "}"
   ]
  },
  {
   "cell_type": "code",
   "execution_count": 1,
   "metadata": {},
   "outputs": [
    {
     "name": "stdout",
     "output_type": "stream",
     "text": []
    }
   ],
   "source": [
    "class Widget{\n",
    "public:\n",
    "    Widget(){};\n",
    "    ~Widget(){};\n",
    "};"
   ]
  },
  {
   "cell_type": "markdown",
   "metadata": {},
   "source": [
    "尽量延后定义，需要使用变量时再定义  Term 26"
   ]
  },
  {
   "cell_type": "code",
   "execution_count": 4,
   "metadata": {},
   "outputs": [
    {
     "name": "stdout",
     "output_type": "stream",
     "text": []
    }
   ],
   "source": [
    "std::string encrypt(const std::string& s){\n",
    "    std::string encrypted;\n",
    "    \n",
    "    if(!s.length())\n",
    "        throw logic_error(\"invalid string to encrypt\");\n",
    "    \n",
    "    return encrypted;\n",
    "}"
   ]
  },
  {
   "cell_type": "markdown",
   "metadata": {},
   "source": [
    "如果报了异常，则encrypted的定义就浪费了，白白构造和析构"
   ]
  },
  {
   "cell_type": "markdown",
   "metadata": {},
   "source": [
    "赋值操作构造和析构比节约  Term 26\n",
    "\n",
    "方案1，1次构造，1次析构，10次赋值\n",
    "\n",
    "方案2，10次构造，10次析构。\n",
    "\n",
    "在意效率选1"
   ]
  },
  {
   "cell_type": "code",
   "execution_count": 7,
   "metadata": {},
   "outputs": [
    {
     "name": "stdout",
     "output_type": "stream",
     "text": []
    }
   ],
   "source": [
    "Widget w;\n",
    "for(int i=10; i>0; --i){\n",
    "    // w=xx\n",
    "}"
   ]
  },
  {
   "cell_type": "code",
   "execution_count": 8,
   "metadata": {},
   "outputs": [
    {
     "name": "stdout",
     "output_type": "stream",
     "text": []
    }
   ],
   "source": [
    "for(int i=10; i>0; --i){\n",
    "    Widget w;\n",
    "}"
   ]
  },
  {
   "cell_type": "markdown",
   "metadata": {},
   "source": [
    "* Initialization: 初始化是“给予对象初值”的过程。default构造函数是一个可被调用而不带任何实参，不然没有参数，不然每个参数都有缺省值\n",
    "\n",
    "确定对象被使用前已被初始化   Term 4"
   ]
  },
  {
   "cell_type": "markdown",
   "metadata": {},
   "source": [
    "1) 对于类来说\n",
    "* 确保所有对象初始化，即便是int类型，有的编译器不保证初始化\n",
    "* 用初始化列表\n",
    "* 在继承的语境中，用初始化列表初始化父类\n",
    "* 对于const或reference，他们不能被赋值，必须用初始化列表初始化"
   ]
  },
  {
   "cell_type": "markdown",
   "metadata": {},
   "source": [
    "初始化参数列表\n",
    "\n",
    "初始化类的成员有两种方式，一是使用初始化列表，二是在构造函数体内进行赋值操作。\n",
    "\n",
    "对于对象类型，用初始化列表更高效，因为省去了调用默认构造函数的过程，直接使用拷贝构造函数。必须使用初始化列表的情况:\n",
    "* 常量成员，因为常量只能初始化不能赋值，所以必须放在初始化列表里面\n",
    "* 引用类型，引用必须在定义的时候初始化，并且不能重新赋值，所以也要写在初始化列表里面\n",
    "* 没有默认构造函数的类类型，因为使用初始化列表可以不必调用默认构造函数来初始化，而是直接调用拷贝构造函数初始化。"
   ]
  },
  {
   "cell_type": "code",
   "execution_count": 8,
   "metadata": {},
   "outputs": [
    {
     "name": "stdout",
     "output_type": "stream",
     "text": [
      "\r\n"
     ]
    }
   ],
   "source": [
    "class A {\n",
    "private:\n",
    "    int value;\n",
    "    \n",
    "public:\n",
    "    A(int value):value(value) {};\n",
    "};\n",
    "\n",
    "class B: public A {\n",
    "private:\n",
    "    bool flag;\n",
    "    \n",
    "public:\n",
    "    explicit B(int x = 0, bool b = true):A(x), flag(b){}; \n",
    "};"
   ]
  },
  {
   "cell_type": "code",
   "execution_count": 9,
   "metadata": {},
   "outputs": [
    {
     "name": "stdout",
     "output_type": "stream",
     "text": []
    }
   ],
   "source": [
    "B bObj;\n",
    "B bObj1(1, false);"
   ]
  },
  {
   "cell_type": "markdown",
   "metadata": {},
   "source": [
    "2) non-local static 对象的初始化 ??"
   ]
  },
  {
   "cell_type": "code",
   "execution_count": null,
   "metadata": {},
   "outputs": [],
   "source": []
  },
  {
   "cell_type": "markdown",
   "metadata": {},
   "source": [
    "3) move constructor  ??\n",
    "\n",
    "* c++11开始支持，如果没有移动，则必须用拷贝，如果对应大数组，则牵扯到大量资源的复制\n",
    "* IO 类和 unique_ptr 不支持资源共享，不能拷贝，只能移动"
   ]
  },
  {
   "cell_type": "code",
   "execution_count": 2,
   "metadata": {},
   "outputs": [
    {
     "name": "stdout",
     "output_type": "stream",
     "text": []
    }
   ],
   "source": [
    "class IntVec{\n",
    "public:\n",
    "    vector<int> elements;\n",
    "    \n",
    "    IntVec(vector<int>& list):elements(list){}\n",
    "    IntVec(IntVec &&s) noexcept:elements(s.elements) {};\n",
    "}"
   ]
  },
  {
   "cell_type": "code",
   "execution_count": 3,
   "metadata": {},
   "outputs": [
    {
     "name": "stdout",
     "output_type": "stream",
     "text": []
    }
   ],
   "source": [
    "vector<int> v = {1,2,3,4};\n",
    "IntVec v1(v);\n",
    "IntVec v2(std::move(v1));"
   ]
  },
  {
   "cell_type": "markdown",
   "metadata": {},
   "source": [
    "1.2 隐式类型转换"
   ]
  },
  {
   "cell_type": "markdown",
   "metadata": {},
   "source": [
    "关于单参构造函数和类型转换函数。单参构造函数容易被误用\n",
    "\n",
    "其实单参构造函数就是只有一个参数的构造函数，拷贝构造函数就是他的一种，单参构造函数和类型转化函数用法正好相反，单参构造函数是把形参中的值或者是对象转化为本对象，而类型转化函数是把本对象转换为一个值或者一个其他对象"
   ]
  },
  {
   "cell_type": "code",
   "execution_count": 10,
   "metadata": {},
   "outputs": [
    {
     "name": "stdout",
     "output_type": "stream",
     "text": []
    }
   ],
   "source": [
    "long a_long = 10;\n",
    "int a_int=a_long;     //long->int"
   ]
  },
  {
   "cell_type": "code",
   "execution_count": 11,
   "metadata": {},
   "outputs": [
    {
     "name": "stdout",
     "output_type": "stream",
     "text": []
    }
   ],
   "source": [
    "class D {\n",
    "public:\n",
    "    std::string id;\n",
    "    D(std::string id):id(id){};\n",
    "}"
   ]
  },
  {
   "cell_type": "code",
   "execution_count": 12,
   "metadata": {},
   "outputs": [
    {
     "name": "stdout",
     "output_type": "stream",
     "text": [
      "(D &) @0x7f043a1c0038\r\n"
     ]
    }
   ],
   "source": [
    "D aWrongConversion=std::string(\"abc\")  //这里就做了隐式类型转换，把string转换成class D."
   ]
  },
  {
   "cell_type": "markdown",
   "metadata": {},
   "source": [
    "* explicit 关键字修饰单参构造函数可以解决这个问题"
   ]
  },
  {
   "cell_type": "code",
   "execution_count": 13,
   "metadata": {},
   "outputs": [
    {
     "name": "stdout",
     "output_type": "stream",
     "text": []
    }
   ],
   "source": [
    "class C {\n",
    "public:\n",
    "    std::string value;\n",
    "    \n",
    "    explicit C(std::string x):value(x){};\n",
    "};"
   ]
  },
  {
   "cell_type": "code",
   "execution_count": 14,
   "metadata": {},
   "outputs": [
    {
     "name": "stdout",
     "output_type": "stream",
     "text": []
    }
   ],
   "source": [
    "//C conversionWontHappen = std::string(\"abc\");    \n",
    "// candidate constructor (the implicit move constructor) not viable"
   ]
  },
  {
   "cell_type": "markdown",
   "metadata": {},
   "source": [
    "1.3 Static, local static, non-local static\n",
    "\n",
    "static对象，寿命从构造出来开始到程序结束为止，不存储在stack和heap。包括：\n",
    "* global对象\n",
    "* namesapce作用域中对象\n",
    "* class, function, file作用域内被定义为static对象\n",
    "* function内定义的static为local static对象，其他为non-local static对象\n",
    "* 所有static对象在main()结束时调用其析构函数被销毁"
   ]
  },
  {
   "cell_type": "markdown",
   "metadata": {},
   "source": [
    "1.4 复合类型（compound type） reference and pointer\n",
    "\n",
    "reference, lvalue reference, rvalue reference\n",
    "\n",
    "引用，主要指代左值引用, lvalue reference\n",
    "\n",
    "1) 引用只能初始化，不能赋值，因为c++不允许引用改变指向对象"
   ]
  },
  {
   "cell_type": "code",
   "execution_count": 15,
   "metadata": {},
   "outputs": [
    {
     "name": "stdout",
     "output_type": "stream",
     "text": []
    }
   ],
   "source": [
    "int iVal = 1024;\n",
    "int& refVal = iVal;"
   ]
  },
  {
   "cell_type": "code",
   "execution_count": 16,
   "metadata": {},
   "outputs": [
    {
     "name": "stdout",
     "output_type": "stream",
     "text": []
    }
   ],
   "source": [
    "// int& failRefVal;  \n",
    "//declaration of reference variable 'failRefVal' requires an initializer"
   ]
  },
  {
   "cell_type": "markdown",
   "metadata": {},
   "source": [
    "2) 引用**不是对象**，而是对象的一个别名，所以不存在引用的引用。\n",
    "\n",
    "3) 引用必须指向一个对象！"
   ]
  },
  {
   "cell_type": "code",
   "execution_count": 17,
   "metadata": {},
   "outputs": [
    {
     "name": "stdout",
     "output_type": "stream",
     "text": []
    }
   ],
   "source": [
    "// int &refVal1 = 10; \n",
    "//non-const lvalue reference to type 'int' cannot bind to a temporary of type 'int'"
   ]
  },
  {
   "cell_type": "markdown",
   "metadata": {},
   "source": [
    "4) rvalue reference\n",
    "\n",
    "左值引用不能绑定表达式，字面常量，右值引用正相反，只能绑定临时的，不能绑定左值"
   ]
  },
  {
   "cell_type": "code",
   "execution_count": 18,
   "metadata": {},
   "outputs": [
    {
     "name": "stdout",
     "output_type": "stream",
     "text": []
    }
   ],
   "source": [
    "int &&rr = 10;"
   ]
  },
  {
   "cell_type": "markdown",
   "metadata": {},
   "source": [
    "5) 右值用于移动操作move，左值用于拷贝"
   ]
  },
  {
   "cell_type": "markdown",
   "metadata": {},
   "source": [
    "const pointer vs pointer to const"
   ]
  },
  {
   "cell_type": "markdown",
   "metadata": {},
   "source": [
    "1) const pointer, 指针是常量，不能改变值"
   ]
  },
  {
   "cell_type": "code",
   "execution_count": 19,
   "metadata": {},
   "outputs": [
    {
     "name": "stdout",
     "output_type": "stream",
     "text": []
    }
   ],
   "source": [
    "int a = 10, b = 20;\n",
    "int * const  pInt = &a;"
   ]
  },
  {
   "cell_type": "code",
   "execution_count": 20,
   "metadata": {},
   "outputs": [
    {
     "name": "stdout",
     "output_type": "stream",
     "text": []
    }
   ],
   "source": [
    "//pInt = &b;  //variable 'pInt' declared const here"
   ]
  },
  {
   "cell_type": "code",
   "execution_count": 21,
   "metadata": {},
   "outputs": [
    {
     "name": "stdout",
     "output_type": "stream",
     "text": [
      "(int) 20\r\n"
     ]
    }
   ],
   "source": [
    "a = 20;\n",
    "*pInt"
   ]
  },
  {
   "cell_type": "markdown",
   "metadata": {},
   "source": [
    "2) pointer to const, 指向的是常量，不能通过指针修改其值，但是可以直接改被指向值"
   ]
  },
  {
   "cell_type": "code",
   "execution_count": 22,
   "metadata": {},
   "outputs": [
    {
     "name": "stdout",
     "output_type": "stream",
     "text": []
    }
   ],
   "source": [
    "const int * cpInt = &a;"
   ]
  },
  {
   "cell_type": "code",
   "execution_count": 23,
   "metadata": {},
   "outputs": [
    {
     "name": "stdout",
     "output_type": "stream",
     "text": [
      "(const int) 30\r\n"
     ]
    }
   ],
   "source": [
    "a = 30;\n",
    "*cpInt"
   ]
  },
  {
   "cell_type": "code",
   "execution_count": 24,
   "metadata": {},
   "outputs": [
    {
     "name": "stdout",
     "output_type": "stream",
     "text": []
    }
   ],
   "source": [
    "//*cpInt = 20;  //read-only variable is not assignable"
   ]
  },
  {
   "cell_type": "markdown",
   "metadata": {},
   "source": [
    "Pass-by-value,  Pass-by-reference           （Term 20)\n",
    "\n",
    "* 对于内置类型，int，enum，... 值传递更高效\n",
    "* 对于用户定义类，引用传值更高效, 避免了值传递中的复制操作\n",
    "* pass-by-reference-to-const 还可以避免slicing（对象切割）的问题"
   ]
  },
  {
   "cell_type": "markdown",
   "metadata": {},
   "source": [
    "当传递的时derived class时，拷贝构造函数被调用，原本属于derived class的function， member被切割"
   ]
  },
  {
   "cell_type": "code",
   "execution_count": 69,
   "metadata": {},
   "outputs": [
    {
     "name": "stdout",
     "output_type": "stream",
     "text": []
    }
   ],
   "source": [
    "// bool a_interface_accept_base_class(Base b){} ;    "
   ]
  },
  {
   "cell_type": "code",
   "execution_count": 70,
   "metadata": {},
   "outputs": [
    {
     "name": "stdout",
     "output_type": "stream",
     "text": []
    }
   ],
   "source": [
    "// bool a_interface_accept_base_class(const Base& b){} ;     \n",
    "//传递的是地址，copy-constructor未调用"
   ]
  },
  {
   "cell_type": "markdown",
   "metadata": {},
   "source": [
    "Pass-by-reference-to-const\n",
    "\n",
    "reference to const - 对常量的引用， 简称常量引用"
   ]
  },
  {
   "cell_type": "code",
   "execution_count": null,
   "metadata": {},
   "outputs": [],
   "source": []
  },
  {
   "cell_type": "markdown",
   "metadata": {},
   "source": [
    "Reference to pointer"
   ]
  },
  {
   "cell_type": "code",
   "execution_count": null,
   "metadata": {},
   "outputs": [],
   "source": []
  },
  {
   "cell_type": "markdown",
   "metadata": {},
   "source": [
    "1.5 Statements and flow control"
   ]
  },
  {
   "cell_type": "markdown",
   "metadata": {},
   "source": [
    "1. loop"
   ]
  },
  {
   "cell_type": "code",
   "execution_count": 27,
   "metadata": {},
   "outputs": [
    {
     "name": "stdout",
     "output_type": "stream",
     "text": []
    }
   ],
   "source": [
    "vector<int> nums = {1,2};"
   ]
  },
  {
   "cell_type": "markdown",
   "metadata": {},
   "source": [
    "* Range-based for loop\n",
    "\n",
    "The for-loop has another syntax, which is used exclusively with ranges:\n",
    "\n",
    "for ( declaration : range ) statement;\n",
    "\n",
    "Ranges are sequences of elements, including arrays, containers, and any other type supporting the functions __begin()__ and __end()__; "
   ]
  },
  {
   "cell_type": "code",
   "execution_count": 28,
   "metadata": {},
   "outputs": [
    {
     "name": "stdout",
     "output_type": "stream",
     "text": [
      "1\r\n",
      "2\r\n"
     ]
    }
   ],
   "source": [
    "for (int i: nums){\n",
    "    cout << i << endl;\n",
    "}"
   ]
  },
  {
   "cell_type": "markdown",
   "metadata": {},
   "source": [
    "User prefix increment, in for loop, extra copy involved with the postfix. So prefix can be faster"
   ]
  },
  {
   "cell_type": "code",
   "execution_count": 29,
   "metadata": {},
   "outputs": [
    {
     "name": "stdout",
     "output_type": "stream",
     "text": []
    }
   ],
   "source": [
    "for (int i=0; i<nums.size(); ++i){\n",
    "    cout << nums[i];\n",
    "}"
   ]
  },
  {
   "cell_type": "markdown",
   "metadata": {},
   "source": [
    "* iterator"
   ]
  },
  {
   "cell_type": "code",
   "execution_count": 30,
   "metadata": {},
   "outputs": [
    {
     "name": "stdout",
     "output_type": "stream",
     "text": [
      "122\r\n",
      "3\r\n"
     ]
    }
   ],
   "source": [
    "for (vector<int>::iterator it=nums.begin(); it!=nums.end(); ++it){\n",
    "    *it += 1;  \n",
    "    cout << *it << endl;\n",
    "}"
   ]
  },
  {
   "cell_type": "markdown",
   "metadata": {},
   "source": [
    "* begin return const_iterator if vector object is const-qualified"
   ]
  },
  {
   "cell_type": "code",
   "execution_count": 31,
   "metadata": {},
   "outputs": [
    {
     "name": "stdout",
     "output_type": "stream",
     "text": [
      "\r\n"
     ]
    }
   ],
   "source": [
    "const vector<int> cNums = {1,2};    \n",
    "\n",
    "for (auto it=cNums.begin(); it!=cNums.end(); it++){\n",
    "    // *it += 1;  //function 'operator*' which returns const-qualified type\n",
    "    cout << *it;\n",
    "}"
   ]
  },
  {
   "cell_type": "markdown",
   "metadata": {},
   "source": [
    "2. switch case"
   ]
  },
  {
   "cell_type": "code",
   "execution_count": 32,
   "metadata": {},
   "outputs": [
    {
     "name": "stdout",
     "output_type": "stream",
     "text": []
    }
   ],
   "source": [
    "int condition = 1;"
   ]
  },
  {
   "cell_type": "code",
   "execution_count": 33,
   "metadata": {},
   "outputs": [
    {
     "name": "stdout",
     "output_type": "stream",
     "text": [
      "12condition is 1 or 2\r\n"
     ]
    }
   ],
   "source": [
    "switch(condition){\n",
    "    case 1:\n",
    "    case 2:\n",
    "        cout << \"condition is 1 or 2\"<< endl;\n",
    "    default:\n",
    "        cout << \"condition did not match\";\n",
    "}"
   ]
  },
  {
   "cell_type": "markdown",
   "metadata": {},
   "source": [
    "1. 6 Dynamic Memory \n",
    "\n",
    "* 用处：\n",
    "    * C++ 是by default是pass-by-value，面对vector等大的存储结构，很低效，如何把local vector传递出去？不要在stack中建立数据，建立动态内存，在堆中创建\n",
    "* new，delete直接管理堆，会产生很多潜在问题。引入智能指针，shared_ptr, weak_ptr, unique_ptr来管理。\n",
    "\n",
    "1) 变量作用域：\n",
    "* 全局变量\n",
    "* 局部变量\n",
    "* static\n",
    "* 动态分配: 动态分配的对象的生命周期与在哪里创建无关，只有显示释放才会被销毁\n",
    "    \n",
    "2) 内存类型：\n",
    "* 栈内存-- 函数中非static  （全局变量??）\n",
    "* static内存 -- static变量\n",
    "* heap-堆 -- 动态分配   "
   ]
  },
  {
   "cell_type": "markdown",
   "metadata": {},
   "source": [
    "new and delete"
   ]
  },
  {
   "cell_type": "markdown",
   "metadata": {},
   "source": [
    "* new\n",
    "\n",
    "nothrow, if failed to allocate memory, will not throw bad alloc，but return nullptr"
   ]
  },
  {
   "cell_type": "code",
   "execution_count": 34,
   "metadata": {},
   "outputs": [
    {
     "name": "stdout",
     "output_type": "stream",
     "text": []
    }
   ],
   "source": [
    "int *dp;\n",
    "dp = new int;"
   ]
  },
  {
   "cell_type": "code",
   "execution_count": 35,
   "metadata": {},
   "outputs": [
    {
     "name": "stdout",
     "output_type": "stream",
     "text": []
    }
   ],
   "source": [
    "dp = new (nothrow) int[5];"
   ]
  },
  {
   "cell_type": "code",
   "execution_count": 36,
   "metadata": {},
   "outputs": [
    {
     "name": "stdout",
     "output_type": "stream",
     "text": []
    }
   ],
   "source": [
    "if(dp == nullptr){\n",
    "    cout << \"Error: memory could not be allocated\" << endl;\n",
    "}"
   ]
  },
  {
   "cell_type": "code",
   "execution_count": 37,
   "metadata": {},
   "outputs": [
    {
     "name": "stdout",
     "output_type": "stream",
     "text": []
    }
   ],
   "source": [
    "*dp = 10;"
   ]
  },
  {
   "cell_type": "markdown",
   "metadata": {},
   "source": [
    "* delete"
   ]
  },
  {
   "cell_type": "code",
   "execution_count": 38,
   "metadata": {},
   "outputs": [
    {
     "name": "stdout",
     "output_type": "stream",
     "text": []
    }
   ],
   "source": [
    "delete [] dp;"
   ]
  },
  {
   "cell_type": "markdown",
   "metadata": {},
   "source": [
    "smart pointer\n",
    "\n",
    "pointer-like object，类指针对象\n",
    "\n",
    "底层封装了指针的对象, 注意是对象，不是指针\n",
    "\n",
    "* 资源：\n",
    "    * 资源包括内存，文件描述器（file descriptors ??), mutex locks， db connections， socket\n",
    "* 对资源的操作：\n",
    "    * 创建，初始化，销毁，移动，拷贝\n",
    "    * 创建和初始化要同时 RAII"
   ]
  },
  {
   "cell_type": "markdown",
   "metadata": {},
   "source": [
    "RAII  < Term 13>\n",
    "\n",
    "* Resource Acquisition Is Initialization 初始化时获取资源\n",
    "* 对象析构时候要正确释放资源"
   ]
  },
  {
   "cell_type": "markdown",
   "metadata": {},
   "source": [
    "copy < Term 14 think carefully about copying behavior in resource-managing classes>"
   ]
  },
  {
   "cell_type": "code",
   "execution_count": 2,
   "metadata": {},
   "outputs": [
    {
     "name": "stdout",
     "output_type": "stream",
     "text": [
      "?   \r\n"
     ]
    }
   ],
   "source": [
    "class Lock {\n",
    "private:\n",
    "    mutex* mutexPtr;\n",
    "public:\n",
    "    explicit Lock(mutex* pm): mutexPtr(pm) { lock(mutexPtr);}\n",
    "    ~Lock(){ unlock(mutexPtr); }\n",
    "\n",
    "    void lock(mutex* pm) {};\n",
    "    void unlock(mutex* pm) {};\n",
    "};"
   ]
  },
  {
   "cell_type": "code",
   "execution_count": 6,
   "metadata": {},
   "outputs": [
    {
     "name": "stdout",
     "output_type": "stream",
     "text": []
    }
   ],
   "source": [
    "{\n",
    "    mutex m;\n",
    "    Lock m1(&m);\n",
    "    Lock m2(m1);    // 拷贝发生，你想如何定义这个拷贝\n",
    "}"
   ]
  },
  {
   "cell_type": "markdown",
   "metadata": {},
   "source": [
    "* 当一个 RAII 对象被复制，会发生什么事？\n",
    "    * 禁止复制 -- 不允许资源共享\n",
    "    * 对底层资源使用“引用计数法” reference-count -- 允许资源共享\n",
    "    * 复制底层资源 -- 做一个深拷贝\n",
    "    * 转移底部资源拥有权 -- move"
   ]
  },
  {
   "cell_type": "code",
   "execution_count": 7,
   "metadata": {},
   "outputs": [
    {
     "name": "stdout",
     "output_type": "stream",
     "text": [
      "?      \r\n"
     ]
    }
   ],
   "source": [
    "class SharedLock {\n",
    "private:\n",
    "    shared_ptr<mutex> mutexPtr;\n",
    "public:\n",
    "    explicit Lock(mutex* pm): mutexPtr(pm) { lock(mutexPtr.get());}\n",
    "    ~Lock(){ unlock(mutexPtr); }\n",
    "\n",
    "    void lock(mutex* pm) {};\n",
    "    void unlock(mutex* pm) {};\n",
    "};"
   ]
  },
  {
   "cell_type": "markdown",
   "metadata": {},
   "source": [
    "auto_ptr \n",
    "\n",
    "* c++11 deprecated, 被 unique_ptr 代替\n",
    "* auto_ptr 保证当对象不在需要时自动清理\n",
    "* 如果 auto_ptr 被复制，那么会造成资源多次删除，未定义行为。所以类似于 unique_ptr 不能被复制，和copy assignment"
   ]
  },
  {
   "cell_type": "code",
   "execution_count": 93,
   "metadata": {},
   "outputs": [
    {
     "name": "stdout",
     "output_type": "stream",
     "text": []
    }
   ],
   "source": [
    "{\n",
    "    int* p = new int(0);\n",
    "    // auto_ptr<int> ap1 = p; // deprecated\n",
    "    // auto_ptr<int> ap2 = p;\n",
    "}"
   ]
  },
  {
   "cell_type": "markdown",
   "metadata": {},
   "source": [
    "p 会被删除两次\n",
    "* 所以 为了防止，通过 copy-constructor 或者 copy-assignment 赋值他们，他们会变成 null"
   ]
  },
  {
   "cell_type": "code",
   "execution_count": 94,
   "metadata": {},
   "outputs": [
    {
     "name": "stdout",
     "output_type": "stream",
     "text": []
    }
   ],
   "source": [
    "// ap1 = ap2;              ap2 --> nullptr"
   ]
  },
  {
   "cell_type": "markdown",
   "metadata": {},
   "source": [
    "* 又因为，auto_ptr 不支持赋值和拷贝，所以 stl 标准容器中不能用它"
   ]
  },
  {
   "cell_type": "markdown",
   "metadata": {},
   "source": [
    "shared_ptr"
   ]
  },
  {
   "cell_type": "markdown",
   "metadata": {},
   "source": [
    "* constructor\n",
    "\n",
    "1) 初始化为空的指针"
   ]
  },
  {
   "cell_type": "code",
   "execution_count": 46,
   "metadata": {},
   "outputs": [
    {
     "name": "stdout",
     "output_type": "stream",
     "text": [
      "P is nullptr 0\r\n"
     ]
    }
   ],
   "source": [
    "{ \n",
    "    shared_ptr<int> p; \n",
    "    if ( not p && p == nullptr)\n",
    "        cout << \"P is nullptr \" << p << endl;\n",
    "}"
   ]
  },
  {
   "cell_type": "markdown",
   "metadata": {},
   "source": [
    "2) make_shared 在动态内存中分配一个对象并初始化它， 返回此对象的shared_ptr"
   ]
  },
  {
   "cell_type": "code",
   "execution_count": 49,
   "metadata": {},
   "outputs": [
    {
     "name": "stdout",
     "output_type": "stream",
     "text": []
    }
   ],
   "source": [
    "{ shared_ptr<vector<int>> p = make_shared<vector<int>>(); }"
   ]
  },
  {
   "cell_type": "markdown",
   "metadata": {},
   "source": [
    "3) copy-constructed, reference count 引用计数会增加，"
   ]
  },
  {
   "cell_type": "code",
   "execution_count": 48,
   "metadata": {},
   "outputs": [
    {
     "name": "stdout",
     "output_type": "stream",
     "text": [
      "47\r\n"
     ]
    }
   ],
   "source": [
    "{ \n",
    "    auto p = make_shared<int>(47);\n",
    "    auto q(p); \n",
    "    // get 函数返回 shared_ptr内部封装的指针，不要乱用\n",
    "    cout << *q.get() << endl;    \n",
    "}"
   ]
  },
  {
   "cell_type": "markdown",
   "metadata": {},
   "source": [
    "4) use_count, 计算引用计数"
   ]
  },
  {
   "cell_type": "code",
   "execution_count": 3,
   "metadata": {},
   "outputs": [
    {
     "name": "stdout",
     "output_type": "stream",
     "text": [
      "use_count 1\r\n",
      "use_count 2\r\n",
      "\r\n"
     ]
    }
   ],
   "source": [
    "{\n",
    "    shared_ptr<vector<int> > pA(new vector<int>({1,2,3}));\n",
    "    cout << \"use_count \" << pA.use_count() << endl;\n",
    "    \n",
    "    auto pB = pA;\n",
    "    cout << \"use_count \" << pB.use_count() << endl;\n",
    "}\n"
   ]
  },
  {
   "cell_type": "markdown",
   "metadata": {},
   "source": [
    "5) new vs make_shared"
   ]
  },
  {
   "cell_type": "code",
   "execution_count": 54,
   "metadata": {},
   "outputs": [
    {
     "name": "stdout",
     "output_type": "stream",
     "text": []
    }
   ],
   "source": [
    "{ \n",
    "    shared_ptr<vector<int>> p = make_shared<vector<int>>();\n",
    "    shared_ptr<vector<int>> pA(new vector<int>({1,2,3}));\n",
    "}"
   ]
  },
  {
   "cell_type": "markdown",
   "metadata": {},
   "source": [
    "6) shared_ptr get获取裸指针，从而对其指向的堆中的值进行操作\n",
    "\n",
    "可以当作指针一样操作"
   ]
  },
  {
   "cell_type": "code",
   "execution_count": 53,
   "metadata": {},
   "outputs": [
    {
     "name": "stdout",
     "output_type": "stream",
     "text": []
    }
   ],
   "source": [
    "// *pA"
   ]
  },
  {
   "cell_type": "markdown",
   "metadata": {},
   "source": [
    "7) shared_ptr in class"
   ]
  },
  {
   "cell_type": "code",
   "execution_count": null,
   "metadata": {},
   "outputs": [],
   "source": []
  },
  {
   "cell_type": "markdown",
   "metadata": {},
   "source": [
    "* delete\n",
    "    * 引用计数为0自动析构\n",
    "    * 对于一些管理资源的对象来说，e.g db connection, 释放资源可能有自己的函数, shared_ptr 第二个参数可以传递自己的删除器 deleter"
   ]
  },
  {
   "cell_type": "code",
   "execution_count": 88,
   "metadata": {},
   "outputs": [
    {
     "name": "stdout",
     "output_type": "stream",
     "text": []
    }
   ],
   "source": [
    "{ \n",
    "    // connection c = connect(&d);\n",
    "    // shared_ptr<connection> p(&c, end_connection)\n",
    "}"
   ]
  },
  {
   "cell_type": "markdown",
   "metadata": {},
   "source": [
    "智能指针陷阱 "
   ]
  },
  {
   "cell_type": "markdown",
   "metadata": {},
   "source": [
    "1) 不要混用普通指针和智能指针\n",
    "\n",
    "* error: no viable conversion from 'int *' to 'shared_ptr<int>'"
   ]
  },
  {
   "cell_type": "code",
   "execution_count": 2,
   "metadata": {},
   "outputs": [
    {
     "name": "stdout",
     "output_type": "stream",
     "text": []
    }
   ],
   "source": [
    "int *x(new int(1));\n",
    "// shared_ptr<int> ptr = x;"
   ]
  },
  {
   "cell_type": "markdown",
   "metadata": {},
   "source": [
    "* 如下例，混用可能造成，指针被意外释放"
   ]
  },
  {
   "cell_type": "code",
   "execution_count": 3,
   "metadata": {},
   "outputs": [
    {
     "name": "stdout",
     "output_type": "stream",
     "text": []
    }
   ],
   "source": [
    "void process(shared_ptr<int> x) {;}\n",
    "process(shared_ptr<int>(x));\n",
    "*x     // x 已经被释放"
   ]
  },
  {
   "cell_type": "markdown",
   "metadata": {},
   "source": [
    "2) 不要使用 get 初始化另一个智能指针，或赋值"
   ]
  },
  {
   "cell_type": "code",
   "execution_count": 26,
   "metadata": {},
   "outputs": [
    {
     "name": "stdout",
     "output_type": "stream",
     "text": []
    }
   ],
   "source": [
    "{\n",
    "    shared_ptr<int> p(new int(1));\n",
    "    int *q = p.get();\n",
    "    {\n",
    "        shared_ptr<int>(q);\n",
    "    }\n",
    "    // p 的内部指针已经悬挂\n",
    "}"
   ]
  },
  {
   "cell_type": "markdown",
   "metadata": {},
   "source": [
    "* 原则是 get 出来的裸指针，一定不能被删除！"
   ]
  },
  {
   "cell_type": "markdown",
   "metadata": {},
   "source": [
    "3) 如果智能指针管理的资源不是new分配的，记住传递给他一个删除器，（上db connection)"
   ]
  },
  {
   "cell_type": "markdown",
   "metadata": {},
   "source": [
    "unique ptr ??"
   ]
  },
  {
   "cell_type": "code",
   "execution_count": 42,
   "metadata": {},
   "outputs": [
    {
     "name": "stdout",
     "output_type": "stream",
     "text": []
    }
   ],
   "source": [
    "unique_ptr<int[]> pU(new int[5]);"
   ]
  },
  {
   "cell_type": "code",
   "execution_count": 43,
   "metadata": {},
   "outputs": [
    {
     "name": "stdout",
     "output_type": "stream",
     "text": []
    }
   ],
   "source": [
    "pU[0] = 10;"
   ]
  },
  {
   "cell_type": "markdown",
   "metadata": {},
   "source": [
    "weak_ptr  ??"
   ]
  },
  {
   "cell_type": "markdown",
   "metadata": {},
   "source": [
    "1.8 const                    (Term 2)"
   ]
  },
  {
   "cell_type": "code",
   "execution_count": 44,
   "metadata": {},
   "outputs": [
    {
     "name": "stdout",
     "output_type": "stream",
     "text": []
    }
   ],
   "source": [
    "//char * const authorName1 = \"Scott Meyers\";  \n",
    "// ISO C++11 does not allow conversion from string literal to 'char *const'\n",
    "const char * const authorName = \"Scott Meyers\";"
   ]
  },
  {
   "cell_type": "code",
   "execution_count": 45,
   "metadata": {},
   "outputs": [
    {
     "name": "stdout",
     "output_type": "stream",
     "text": []
    }
   ],
   "source": [
    "const std::string authoerName1(\"Scott Meyers\");   // String is better then char *"
   ]
  },
  {
   "cell_type": "markdown",
   "metadata": {},
   "source": [
    "* class专属常量\n",
    "\n",
    "类的静态数据成员不属于类的任何一个对象，他们并不是在类初始化时被定义的。一般来说，我们不能在累的内部初始化静态成员，而必须在外部定义，和初始化。并且只能定义**一次**"
   ]
  },
  {
   "cell_type": "code",
   "execution_count": null,
   "metadata": {},
   "outputs": [],
   "source": [
    "class CostEstimate {\n",
    "private:\n",
    "    static const double counter;              // 常量声明式\n",
    "}\n",
    "// const double CostEstimate::counter = 1.0;    // 常量定义，在.cpp文件"
   ]
  },
  {
   "cell_type": "markdown",
   "metadata": {},
   "source": [
    "* 只有一个例外，const 整数类型，可以在类内设定初始值："
   ]
  },
  {
   "cell_type": "code",
   "execution_count": 46,
   "metadata": {},
   "outputs": [
    {
     "name": "stdout",
     "output_type": "stream",
     "text": []
    }
   ],
   "source": [
    "class GamePlayer {\n",
    "private:\n",
    "    static const int NumTurns = 5;           //常量声明式 不是定义式！\n",
    "}"
   ]
  },
  {
   "cell_type": "code",
   "execution_count": 47,
   "metadata": {},
   "outputs": [
    {
     "name": "stdout",
     "output_type": "stream",
     "text": []
    }
   ],
   "source": [
    "// const int GamePlayer::NumTurns;          // 已经有初值了，定义时不提供值，在.cpp内"
   ]
  },
  {
   "cell_type": "markdown",
   "metadata": {},
   "source": [
    "* 有的编译器不支持，class static member 需要用enum hack"
   ]
  },
  {
   "cell_type": "code",
   "execution_count": null,
   "metadata": {},
   "outputs": [],
   "source": [
    "class GamePlayerHack{\n",
    "private:\n",
    "    enum { NumTurns = 5};\n",
    "    \n",
    "    int scores[NumTurns];\n",
    "}"
   ]
  },
  {
   "cell_type": "markdown",
   "metadata": {},
   "source": [
    "* const 成员函数  ??"
   ]
  },
  {
   "cell_type": "markdown",
   "metadata": {},
   "source": [
    "* constexpr ??"
   ]
  },
  {
   "cell_type": "markdown",
   "metadata": {},
   "source": [
    "const vs volatility ??"
   ]
  },
  {
   "cell_type": "code",
   "execution_count": null,
   "metadata": {},
   "outputs": [],
   "source": []
  },
  {
   "cell_type": "markdown",
   "metadata": {},
   "source": [
    "1.9 string, c style character string"
   ]
  },
  {
   "cell_type": "markdown",
   "metadata": {},
   "source": [
    "* string 最重要的标准库类型之一，表示可变长度字符串"
   ]
  },
  {
   "cell_type": "code",
   "execution_count": 51,
   "metadata": {},
   "outputs": [
    {
     "name": "stdout",
     "output_type": "stream",
     "text": []
    }
   ],
   "source": [
    "string s1 = \"A string example\";      // 调用拷贝构造函数赋值\n",
    "string s2(\"A different string\");     // 调用构造函数"
   ]
  },
  {
   "cell_type": "code",
   "execution_count": 52,
   "metadata": {},
   "outputs": [
    {
     "name": "stdout",
     "output_type": "stream",
     "text": [
      "(bool) false\r\n"
     ]
    }
   ],
   "source": [
    "s1 < s2"
   ]
  },
  {
   "cell_type": "markdown",
   "metadata": {},
   "source": [
    "* C style character string不是一种类型，而是为了表达和使用字符串形成的约定俗成的写法。以空字符('\\0')来标识结束"
   ]
  },
  {
   "cell_type": "code",
   "execution_count": 53,
   "metadata": {},
   "outputs": [
    {
     "name": "stdout",
     "output_type": "stream",
     "text": [
      "(char [4]) \"c++\"\r\n"
     ]
    }
   ],
   "source": [
    "#include \"string.h\"\n",
    "char ca[] = {'c', '+', '+', '\\0'}"
   ]
  },
  {
   "cell_type": "markdown",
   "metadata": {},
   "source": [
    "* 对string的操作"
   ]
  },
  {
   "cell_type": "code",
   "execution_count": 54,
   "metadata": {},
   "outputs": [
    {
     "name": "stdout",
     "output_type": "stream",
     "text": [
      "3\r\n"
     ]
    }
   ],
   "source": [
    "cout << strlen(ca) << endl;           // similar to s1.size()"
   ]
  },
  {
   "cell_type": "code",
   "execution_count": 55,
   "metadata": {},
   "outputs": [
    {
     "name": "stdout",
     "output_type": "stream",
     "text": [
      "(bool) false\r\n"
     ]
    }
   ],
   "source": [
    "const char ca1[] = \"A string example\";\n",
    "const char ca2[] = \"A different string\";\n",
    "//if (ca1 < ca2)  \n",
    "//warning: array comparison always evaluates to a constant\n",
    "strcmp(ca1, ca2) < 0        //\"Similar to S1 < S2\""
   ]
  },
  {
   "cell_type": "code",
   "execution_count": 56,
   "metadata": {},
   "outputs": [
    {
     "name": "stdout",
     "output_type": "stream",
     "text": []
    }
   ],
   "source": [
    "char ca3[100];\n",
    "strcpy(ca3, ca2);    // Similar to S3 = S2\n",
    "strcat(ca3, ca1);   // similar to S3 + S1"
   ]
  },
  {
   "cell_type": "markdown",
   "metadata": {},
   "source": [
    "* string to C-string"
   ]
  },
  {
   "cell_type": "code",
   "execution_count": 57,
   "metadata": {},
   "outputs": [
    {
     "name": "stdout",
     "output_type": "stream",
     "text": []
    }
   ],
   "source": [
    "const char * str = s1.c_str();"
   ]
  },
  {
   "cell_type": "markdown",
   "metadata": {},
   "source": [
    "1.10 Friend"
   ]
  },
  {
   "cell_type": "code",
   "execution_count": 2,
   "metadata": {},
   "outputs": [
    {
     "name": "stdout",
     "output_type": "stream",
     "text": []
    }
   ],
   "source": [
    "class WithFriend {\n",
    "friend void checkName(const WithFriend& f);\n",
    "private:\n",
    "    std::string name;\n",
    "public:\n",
    "    WithFriend(const std::string& name):name(name){};\n",
    "};\n",
    "\n",
    "void checkName(const WithFriend& f){\n",
    "    cout << f.name << endl;\n",
    "}"
   ]
  },
  {
   "cell_type": "code",
   "execution_count": 4,
   "metadata": {},
   "outputs": [
    {
     "name": "stdout",
     "output_type": "stream",
     "text": []
    }
   ],
   "source": [
    "WithFriend withFriend1(\"ABC\");\n",
    "checkName(withFriend1)      // No problem in accessing private memebers"
   ]
  },
  {
   "cell_type": "markdown",
   "metadata": {},
   "source": [
    "1.11 Casting\n",
    "\n",
    "c++中有一些是关联类型，所以相互之间可以转换。\n",
    "\n",
    "Categorize\n",
    "* explicit cast\n",
    "* implicit conversion\n",
    "    * 无需coder介入的转换\n",
    "    * 算数转换(arithmetic conversion), e.g int to double\n",
    "    * 数组到指针\n",
    "    * 指针的转换\n",
    "    * 转换为boolean, e.g if(a_value)\n",
    "    * 转换为常量， e.g const int& j = i;\n",
    "    * 类类型转换，通过写带有一个单参构造函数实现\n",
    "\n",
    "explicit cast\n",
    "* old-style casts\n",
    "    * (T)expression\n",
    "    * T(expression)\n",
    "* c++-style casts: cast-name<type>(expression)\n",
    "    * const_cast<T>( expression ): 移除常量性\n",
    "    * dynamic_cast<T>( expression )\n",
    "    * reintepret_cast<T>( expression )\n",
    "    * static_cast<T>( expression)"
   ]
  },
  {
   "cell_type": "markdown",
   "metadata": {},
   "source": [
    "1) const_cast\n",
    "\n",
    "如果被引用的值为const，则const_cast之后仍旧不能改变值，只能改变引用的const属性"
   ]
  },
  {
   "cell_type": "code",
   "execution_count": 20,
   "metadata": {},
   "outputs": [
    {
     "name": "stdout",
     "output_type": "stream",
     "text": []
    }
   ],
   "source": [
    "{\n",
    "    int number = 10;\n",
    "    const int& ref = number;\n",
    "    \n",
    "    const_cast<int&>(ref) = 5;   // after convert could change value\n",
    "}"
   ]
  },
  {
   "cell_type": "markdown",
   "metadata": {},
   "source": [
    "2) dynamic_cast\n",
    "\n",
    "继承中进行(safe downcasting)，static_cast upcasting安全，但是down_casting因为时静态绑定时检查，无法查出动态的类别\n",
    "\n",
    "dynamic非常妙，必须是动态绑定的对象的指针或者引用，才可以进行dynamic cast.\n",
    "\n",
    "如果没有virtual function，没有动态绑定，则cast会有error  // ERROR is not polymorphic"
   ]
  },
  {
   "cell_type": "code",
   "execution_count": 9,
   "metadata": {},
   "outputs": [
    {
     "name": "stdout",
     "output_type": "stream",
     "text": []
    }
   ],
   "source": [
    "{\n",
    "    class A {\n",
    "        virtual void f(){};  // 必须定义一个虚函数，让类进行动态绑定\n",
    "    };\n",
    "    \n",
    "    class B:public A {};\n",
    "    \n",
    "    B b;\n",
    "    A& ref = b;\n",
    "       \n",
    "    B& refToB = dynamic_cast<B&>(ref);\n",
    "}"
   ]
  },
  {
   "cell_type": "markdown",
   "metadata": {},
   "source": [
    "3) reinterpret_cast\n",
    "\n",
    "不可移植"
   ]
  },
  {
   "cell_type": "code",
   "execution_count": null,
   "metadata": {},
   "outputs": [],
   "source": []
  },
  {
   "cell_type": "markdown",
   "metadata": {},
   "source": [
    "4) static_cast\n",
    "* 静态类型转换，编译时进行的强制类型转换，除了const_cast其余两种都可以被static_cast代替\n",
    "* 优于old-style 强制类型转换的一点：static_cast在编译时会进行类型检查，而强制转换不会。\n",
    "* 将typed指针转换为void * verse vise"
   ]
  },
  {
   "cell_type": "code",
   "execution_count": 52,
   "metadata": {},
   "outputs": [
    {
     "name": "stdout",
     "output_type": "stream",
     "text": []
    }
   ],
   "source": [
    "{\n",
    "    double a=10.1, *pA=&a;\n",
    "    \n",
    "    static_cast<int>(a);\n",
    "    static_cast<void>(pA);\n",
    "    \n",
    "    // static_cast from 'double *' to 'int *' is not allowed\n",
    "    // static_cast<int*>(pA); \n",
    "}"
   ]
  },
  {
   "cell_type": "markdown",
   "metadata": {},
   "source": [
    "Minimize casting Term 27"
   ]
  },
  {
   "cell_type": "code",
   "execution_count": 7,
   "metadata": {},
   "outputs": [
    {
     "name": "stdout",
     "output_type": "stream",
     "text": [
      "\r\n",
      "\r\n"
     ]
    }
   ],
   "source": [
    "class Window {\n",
    "public:\n",
    "    virtual void onResize() { size = 0; }\n",
    "    int size = 1001;\n",
    "};\n",
    "\n",
    "class SpecialWindow: public Window {\n",
    "public:\n",
    "    virtual void onResize() {\n",
    "        static_cast<Window>(*this).onResize();\n",
    "        // Window::onResize();            correct\n",
    "    }\n",
    "    \n",
    "    int getSize() { return Window::size; }\n",
    "    void blink() {}\n",
    "};\n",
    "\n",
    "class SpecialWindow2: public Window {};"
   ]
  },
  {
   "cell_type": "markdown",
   "metadata": {},
   "source": [
    "static_cast 之后调用的不是本来SpecialWindow示例里的Window，而是产生的副本上调用Window::Resize\n",
    "\n",
    "如果函数中修改变量值，e.g size，修改就会丢失"
   ]
  },
  {
   "cell_type": "code",
   "execution_count": 8,
   "metadata": {},
   "outputs": [
    {
     "name": "stdout",
     "output_type": "stream",
     "text": [
      "(int) 1001\r\n"
     ]
    }
   ],
   "source": [
    "SpecialWindow sWindow;\n",
    "sWindow.onResize();\n",
    "sWindow.getSize()"
   ]
  },
  {
   "cell_type": "markdown",
   "metadata": {},
   "source": [
    "dynamic_cast "
   ]
  },
  {
   "cell_type": "markdown",
   "metadata": {},
   "source": [
    "Problem: 用一个数组，存储一个基类的各种子类。而后判断其类型，进行不同的处理\n",
    "\n",
    "* 那么数组中只能存储指针，我们首选shared_ptr"
   ]
  },
  {
   "cell_type": "code",
   "execution_count": 9,
   "metadata": {},
   "outputs": [
    {
     "name": "stdout",
     "output_type": "stream",
     "text": []
    }
   ],
   "source": [
    "typedef vector<shared_ptr<Window>> VPW;\n",
    "VPW winPtrs;"
   ]
  },
  {
   "cell_type": "code",
   "execution_count": 10,
   "metadata": {},
   "outputs": [
    {
     "name": "stdout",
     "output_type": "stream",
     "text": []
    }
   ],
   "source": [
    "winPtrs.push_back(shared_ptr<Window>(new SpecialWindow()));\n",
    "winPtrs.push_back(shared_ptr<Window>(new SpecialWindow2()));"
   ]
  },
  {
   "cell_type": "markdown",
   "metadata": {},
   "source": [
    "* 接着要进行类型判断，每个shared_ptr究竟是那种derived class，方法对其进行dynamic_cast"
   ]
  },
  {
   "cell_type": "code",
   "execution_count": 11,
   "metadata": {},
   "outputs": [
    {
     "name": "stdout",
     "output_type": "stream",
     "text": [
      "Got an SpecialWindow\r\n",
      "Got an SpecialWindow2\r\n"
     ]
    }
   ],
   "source": [
    "for (VPW::iterator iter =  winPtrs.begin(); iter!=winPtrs.end(); ++iter){\n",
    "    if (SpecialWindow *sp = dynamic_cast<SpecialWindow*>(iter->get())){\n",
    "        cout << \"Got an SpecialWindow\" << endl;\n",
    "    }\n",
    "    else if(SpecialWindow2 *sp = dynamic_cast<SpecialWindow2*>(iter->get())){\n",
    "        cout << \"Got an SpecialWindow2\" << endl;\n",
    "    }\n",
    "}"
   ]
  },
  {
   "cell_type": "markdown",
   "metadata": {},
   "source": [
    "SpecialWindow *sp = dynamic_cast<SpecialWindow*>(iter->get());\n",
    "    * iter->get() 获得shared_ptr的裸指针，是 Window *\n",
    "    * dynamic_cast<SpecialWindow*>(Window*)  把window* 转化为 derived*"
   ]
  },
  {
   "cell_type": "markdown",
   "metadata": {},
   "source": [
    "* 这种写法非常不可取，因为dynamic_cast很没有效率\n",
    "    * 设计存在缺陷，既然放到一个数组，那么就应该只调用其公共接口\n",
    "    * 改善，从新设计公共接口，如果有些实例不需实现，可以留空实现"
   ]
  },
  {
   "cell_type": "markdown",
   "metadata": {},
   "source": [
    "II. Object-Oriented"
   ]
  },
  {
   "cell_type": "markdown",
   "metadata": {},
   "source": [
    "2.0 constructor, copy constructor, copy assignment, deconstructor     Term 5\n",
    "\n",
    "1) C++自动为每一个类生成这4个函数"
   ]
  },
  {
   "cell_type": "code",
   "execution_count": 3,
   "metadata": {},
   "outputs": [
    {
     "name": "stdout",
     "output_type": "stream",
     "text": []
    }
   ],
   "source": [
    "// class Empty {};"
   ]
  },
  {
   "cell_type": "markdown",
   "metadata": {},
   "source": [
    "相当于定义了："
   ]
  },
  {
   "cell_type": "code",
   "execution_count": 1,
   "metadata": {},
   "outputs": [
    {
     "name": "stdout",
     "output_type": "stream",
     "text": []
    }
   ],
   "source": [
    "class Empty {\n",
    "public:\n",
    "    Empty(){};\n",
    "    Empty(const Empty&rhs) {};\n",
    "    ~Empty(){};\n",
    "    \n",
    "    Empty& operator=(const Empty& rhs) = default;\n",
    "};"
   ]
  },
  {
   "cell_type": "code",
   "execution_count": 3,
   "metadata": {},
   "outputs": [
    {
     "name": "stdout",
     "output_type": "stream",
     "text": []
    }
   ],
   "source": [
    "Empty e1;\n",
    "Empty e2 = e1;"
   ]
  },
  {
   "cell_type": "markdown",
   "metadata": {},
   "source": [
    "2) 当成员有const，或者referenc，default copy assginment会失效"
   ]
  },
  {
   "cell_type": "code",
   "execution_count": 5,
   "metadata": {},
   "outputs": [
    {
     "name": "stdout",
     "output_type": "stream",
     "text": []
    }
   ],
   "source": [
    "template<typename T>\n",
    "class NamedObject {\n",
    "public:\n",
    "    NamedObject(std::string& name, const T& value):nameValue(name), objectValue(value){};\n",
    "private:\n",
    "    std::string& nameValue;\n",
    "    const T objectValue;\n",
    "};"
   ]
  },
  {
   "cell_type": "code",
   "execution_count": 6,
   "metadata": {},
   "outputs": [
    {
     "name": "stdout",
     "output_type": "stream",
     "text": [
      "\r\n",
      "\r\n"
     ]
    }
   ],
   "source": [
    "std::string newDogName = \"Peter\";\n",
    "NamedObject<int> newDog(newDogName, 10);\n",
    "\n",
    "std::string oldDogName = \"Satch\";\n",
    "NamedObject<int> oldDog(oldDogName, 26);\n"
   ]
  },
  {
   "cell_type": "markdown",
   "metadata": {},
   "source": [
    "object of type 'NamedObject<int>' cannot be assigned because its copy assignment operator is implicitly deleted"
   ]
  },
  {
   "cell_type": "code",
   "execution_count": 8,
   "metadata": {},
   "outputs": [
    {
     "name": "stdout",
     "output_type": "stream",
     "text": []
    }
   ],
   "source": [
    "// newDog = oldDog;    "
   ]
  },
  {
   "cell_type": "markdown",
   "metadata": {},
   "source": [
    "因为name是一个string 左值引用，所以不能被更改，赋值，因此 NamedObject本身的赋值运算符重载被删除\n",
    "\n",
    "同理，如果NamedObject本身包含const member，那么编译器定义的default copy assignment operator也会失败，因为常量不能更改\n",
    "\n",
    "（而编译器给的缺省拷贝，赋值构造函数就是简单的将每个成员进行拷贝）\n",
    "\n",
    "* solution，自己定义copy constructor, copy assignment if needed， 或者拒绝编译器自动生成的函数"
   ]
  },
  {
   "cell_type": "markdown",
   "metadata": {},
   "source": [
    "3) =default \n",
    "c++11中，如果我们需要默认的行为，可以通过在参数列表后面加上 =default 来要求编译器生成\n",
    "\n",
    "和其他函数一样，如果 =default 出现在类的内部，则默认构造函数时内联的，如果在外部，则不是内联的"
   ]
  },
  {
   "cell_type": "markdown",
   "metadata": {},
   "source": [
    "Copy constructor, Copy assignment    <Term 12>"
   ]
  },
  {
   "cell_type": "markdown",
   "metadata": {},
   "source": [
    "2.1 不想使用编译器自动生成的函数，就明确拒绝"
   ]
  },
  {
   "cell_type": "markdown",
   "metadata": {},
   "source": [
    "将拷贝构造函数，copy assignment设为private，并且不定义"
   ]
  },
  {
   "cell_type": "code",
   "execution_count": 10,
   "metadata": {},
   "outputs": [
    {
     "name": "stdout",
     "output_type": "stream",
     "text": []
    }
   ],
   "source": [
    "template<typename T>\n",
    "class NamedObject2 {\n",
    "public:\n",
    "    NamedObject2(const T& value):objectValue(value){};\n",
    "private:\n",
    "    const T objectValue;\n",
    "    \n",
    "    NamedObject2(const NamedObject2 & rhs);            \n",
    "    NamedObject2& operator=(const NamedObject2 & rhs);\n",
    "};"
   ]
  },
  {
   "cell_type": "markdown",
   "metadata": {},
   "source": [
    "2) 或者定义一个uncopyable base class"
   ]
  },
  {
   "cell_type": "code",
   "execution_count": 11,
   "metadata": {},
   "outputs": [
    {
     "name": "stdout",
     "output_type": "stream",
     "text": [
      "?   \r\n"
     ]
    }
   ],
   "source": [
    "class Uncopyable{\n",
    "protected:\n",
    "    Uncopyable(){};\n",
    "    ~Uncopyable() {};\n",
    "\n",
    "private:\n",
    "    Uncopyable(const Uncopyable&);\n",
    "    Uncopyable& operator=(const Uncopyable&);\n",
    "}"
   ]
  },
  {
   "cell_type": "code",
   "execution_count": 12,
   "metadata": {},
   "outputs": [
    {
     "name": "stdout",
     "output_type": "stream",
     "text": []
    }
   ],
   "source": [
    "class UncopyableDerived: protected Uncopyable{};"
   ]
  },
  {
   "cell_type": "code",
   "execution_count": 14,
   "metadata": {},
   "outputs": [
    {
     "name": "stdout",
     "output_type": "stream",
     "text": []
    }
   ],
   "source": [
    "UncopyableDerived aUncopyable;"
   ]
  },
  {
   "cell_type": "code",
   "execution_count": 16,
   "metadata": {},
   "outputs": [
    {
     "name": "stdout",
     "output_type": "stream",
     "text": []
    }
   ],
   "source": [
    "// call to implicitly-deleted copy constructor of 'UncopyableDerived'\n",
    "// UncopyableDerived anotherUncopyable(aUncopyable); "
   ]
  },
  {
   "cell_type": "markdown",
   "metadata": {},
   "source": [
    "2.2 继承"
   ]
  },
  {
   "cell_type": "markdown",
   "metadata": {},
   "source": [
    "1) 基类定义\n",
    "\n",
    "基类必须被定义，而不仅仅是声明，否则派生类不知道如何继承"
   ]
  },
  {
   "cell_type": "code",
   "execution_count": 3,
   "metadata": {},
   "outputs": [
    {
     "name": "stdout",
     "output_type": "stream",
     "text": []
    }
   ],
   "source": [
    "class BaseOnlyDeclare;\n",
    "\n",
    "//class Derived : BaseOnlyDeclare {}; //  base class has incomplete type"
   ]
  },
  {
   "cell_type": "code",
   "execution_count": 10,
   "metadata": {},
   "outputs": [
    {
     "name": "stdout",
     "output_type": "stream",
     "text": [
      "?   \r\n"
     ]
    }
   ],
   "source": [
    "class Base {\n",
    "public:\n",
    "    Base() = default;                         \n",
    "    Base(int value):value(value) {};\n",
    "    \n",
    "    virtual std::ostream& print (std::ostream& os) const {       //const member functions\n",
    "        os << \"Base print() \" << value << std::endl;\n",
    "        return os;\n",
    "    }\n",
    "    \n",
    "    friend std::ostream& operator<<(std::ostream& os, const Base& b){\n",
    "        return b.print(os);          // 这里的b对象，是动态绑定的，调用不同的print 函数\n",
    "    }\n",
    "    \n",
    "    virtual ~Base() = default;                 // 析构函数必须 virtual\n",
    "\n",
    "protected:\n",
    "    int value;\n",
    "}"
   ]
  },
  {
   "cell_type": "markdown",
   "metadata": {},
   "source": [
    "2) 派生类继承并初始化基类"
   ]
  },
  {
   "cell_type": "markdown",
   "metadata": {},
   "source": [
    "在参数化列表中初始化基类"
   ]
  },
  {
   "cell_type": "code",
   "execution_count": 11,
   "metadata": {},
   "outputs": [
    {
     "name": "stdout",
     "output_type": "stream",
     "text": []
    }
   ],
   "source": [
    "class Derived: public Base {\n",
    "public:\n",
    "    Derived(int value): Base(value) {};\n",
    "    \n",
    "    virtual std::ostream& print(std::ostream& os) const {\n",
    "        os << \"Derived print() \" << value << std::endl;\n",
    "        return os;\n",
    "    }\n",
    "}"
   ]
  },
  {
   "cell_type": "markdown",
   "metadata": {},
   "source": [
    "3) 虚函数与动态绑定，见 2.3"
   ]
  },
  {
   "cell_type": "markdown",
   "metadata": {},
   "source": [
    "4) override 关键字\n",
    "\n",
    "C++11 可以使用override 来说明派生类中的虚函数"
   ]
  },
  {
   "cell_type": "code",
   "execution_count": 1,
   "metadata": {},
   "outputs": [
    {
     "name": "stdout",
     "output_type": "stream",
     "text": []
    }
   ],
   "source": [
    "class BaseOverride {\n",
    "public:\n",
    "    virtual void f1(int) const;\n",
    "    virtual void f2();\n",
    "    void f3();\n",
    "}"
   ]
  },
  {
   "cell_type": "code",
   "execution_count": 4,
   "metadata": {},
   "outputs": [
    {
     "name": "stdout",
     "output_type": "stream",
     "text": []
    }
   ],
   "source": [
    "class DerivedOverride: public BaseOverride{\n",
    "public:\n",
    "    void f1(int) const override;\n",
    "    // void f2(int) override;   // error f2 signiture no match\n",
    "    // void f3() override;      //error, f3 not virtual\n",
    "    // void f4() override;     //error, no f4 in base\n",
    "}"
   ]
  },
  {
   "cell_type": "markdown",
   "metadata": {},
   "source": [
    "5) final 关键字"
   ]
  },
  {
   "cell_type": "code",
   "execution_count": 17,
   "metadata": {},
   "outputs": [
    {
     "name": "stdout",
     "output_type": "stream",
     "text": []
    }
   ],
   "source": [
    "class BaseFinal final {};"
   ]
  },
  {
   "cell_type": "markdown",
   "metadata": {},
   "source": [
    "**error**: base 'BaseFinal' is marked 'final'"
   ]
  },
  {
   "cell_type": "code",
   "execution_count": 19,
   "metadata": {},
   "outputs": [
    {
     "name": "stdout",
     "output_type": "stream",
     "text": []
    }
   ],
   "source": [
    "// class DeriveFromFinal: public BaseFinal {};"
   ]
  },
  {
   "cell_type": "markdown",
   "metadata": {},
   "source": [
    "6) 继承与静态成员"
   ]
  },
  {
   "cell_type": "code",
   "execution_count": 1,
   "metadata": {},
   "outputs": [
    {
     "name": "stdout",
     "output_type": "stream",
     "text": [
      "\r\n"
     ]
    }
   ],
   "source": [
    "class BaseStatic{\n",
    "public:\n",
    "    static void statmem();\n",
    "};\n",
    "\n",
    "class DerivedStatic: public BaseStatic{\n",
    "    void f(const DerivedStatic&);\n",
    "}"
   ]
  },
  {
   "cell_type": "code",
   "execution_count": 2,
   "metadata": {},
   "outputs": [
    {
     "name": "stdout",
     "output_type": "stream",
     "text": []
    }
   ],
   "source": [
    "void DerivedStatic::f(const DerivedStatic& obj){\n",
    "    BaseStatic::statmem();    //正确，通过基类访问\n",
    "    DerivedStatic::statmem();  //正确，派生类可以访问基类静态成员\n",
    "    obj.statmem();  //正确，通过 DerivedStatic 对象访问\n",
    "    statmem();  //正确，通过 this 访问\n",
    "}"
   ]
  },
  {
   "cell_type": "markdown",
   "metadata": {},
   "source": [
    "2.2.1 Dynamic Binding  动态绑定"
   ]
  },
  {
   "cell_type": "code",
   "execution_count": 12,
   "metadata": {},
   "outputs": [
    {
     "name": "stdout",
     "output_type": "stream",
     "text": []
    }
   ],
   "source": [
    "Base base_instance(10);\n",
    "Derived derived_instance(11);"
   ]
  },
  {
   "cell_type": "code",
   "execution_count": 13,
   "metadata": {},
   "outputs": [
    {
     "name": "stdout",
     "output_type": "stream",
     "text": [
      "Base print() 10\r\n",
      "Derived print() 11\r\n"
     ]
    }
   ],
   "source": [
    "std::cout << base_instance << derived_instance;"
   ]
  },
  {
   "cell_type": "markdown",
   "metadata": {},
   "source": [
    "1） Dynamic binding, bind Derived to Base reference\n",
    "\n",
    "动态绑定只有在指针，引用才会发生，实际的对象永远都是其对应的类型，进行静态绑定"
   ]
  },
  {
   "cell_type": "code",
   "execution_count": 14,
   "metadata": {},
   "outputs": [
    {
     "name": "stdout",
     "output_type": "stream",
     "text": [
      "Derived print() 11\r\n"
     ]
    }
   ],
   "source": [
    "Base& bp = derived_instance;    // Derived绑定到了Base reference上\n",
    "bp.print(std::cout);"
   ]
  },
  {
   "cell_type": "markdown",
   "metadata": {},
   "source": [
    "2） Base class cannot bind to Derived pointer/reference\n",
    "\n",
    "non-const lvalue reference to type 'Derived' cannot bind to a value of unrelated type 'Base'"
   ]
  },
  {
   "cell_type": "code",
   "execution_count": 15,
   "metadata": {},
   "outputs": [
    {
     "name": "stdout",
     "output_type": "stream",
     "text": []
    }
   ],
   "source": [
    "// Derived& dp = b;  "
   ]
  },
  {
   "cell_type": "markdown",
   "metadata": {},
   "source": [
    "3) 强行不进行动态绑定\n",
    "\n",
    "通常是当派生类覆盖了基类的版本时，通常情况下，基类的版本需要完成一些共同任务，强行调用基类版本"
   ]
  },
  {
   "cell_type": "code",
   "execution_count": 17,
   "metadata": {},
   "outputs": [
    {
     "name": "stdout",
     "output_type": "stream",
     "text": [
      "Base print() 11\r\n"
     ]
    }
   ],
   "source": [
    "bp.Base::print(cout);"
   ]
  },
  {
   "cell_type": "markdown",
   "metadata": {},
   "source": [
    "2.2.2 析构函数必须 virtual    <Term 7>"
   ]
  },
  {
   "cell_type": "markdown",
   "metadata": {},
   "source": [
    "1) 对于有多态性的继承，编译器需要知道每一个类该如何被析构，所以需要定义deconstructor virtual"
   ]
  },
  {
   "cell_type": "markdown",
   "metadata": {},
   "source": [
    "2) 不要随便继承没有析构函数的类，包括所有STL容器，vector, list, set, tr1::unordered_map, string...\n",
    "\n",
    "这些classes不是作为base classes，或者作为base calsses但不具备多态性"
   ]
  },
  {
   "cell_type": "code",
   "execution_count": 2,
   "metadata": {},
   "outputs": [
    {
     "name": "stdout",
     "output_type": "stream",
     "text": []
    }
   ],
   "source": [
    "template<typename T>\n",
    "class UserVector: public std::vector<T>{};"
   ]
  },
  {
   "cell_type": "markdown",
   "metadata": {},
   "source": [
    "2.2.3 绝不在构造和析构过程中调用virtual  <Term 9>"
   ]
  },
  {
   "cell_type": "markdown",
   "metadata": {},
   "source": [
    "**Warning** call to pure virtual member function 'log' has undefined behavior; overrides of 'log' in subclasses are not available in the constructor of 'BaseConstructorCallVirtual'\n",
    "\n",
    "当base class构造的时候，virtual 函数的override 还没有定义呢。没有办法进行动态调用"
   ]
  },
  {
   "cell_type": "code",
   "execution_count": 1,
   "metadata": {},
   "outputs": [
    {
     "name": "stdout",
     "output_type": "stream",
     "text": [
      "\r\n"
     ]
    }
   ],
   "source": [
    "class BaseConstructorCallVirtual{\n",
    "public:\n",
    "    BaseConstructorCallVirtual(){ /*log();*/ }\n",
    "    virtual void log() const = 0;\n",
    "    // 即使不定义为 pure virtual函数，如果没有定义，链接会报错\n",
    "    // 即使定义，程序会调用基类的版本，无法实现多态\n",
    "}\n",
    "\n",
    "class DerivedConstructorCallVirtual: public BaseConstructorCallVirtual{\n",
    "public:\n",
    "    DerivedConstructorCallVirtual():BaseConstructorCallVirtual() {}\n",
    "    virtual void log() const override {};\n",
    "}"
   ]
  },
  {
   "cell_type": "markdown",
   "metadata": {},
   "source": [
    "* Solution, 不定义为virtual，而是把构造期间需要的数据，由Derived 向上传递给 Base"
   ]
  },
  {
   "cell_type": "code",
   "execution_count": 4,
   "metadata": {},
   "outputs": [
    {
     "name": "stdout",
     "output_type": "stream",
     "text": [
      "\r\n"
     ]
    }
   ],
   "source": [
    "class BasePassDataUp{\n",
    "public:\n",
    "    BasePassDataUp(std::string& logInfo){ log(logInfo); }\n",
    "    void log(std::string& logInfo) const;\n",
    "}\n",
    "\n",
    "class DerivedPassDataUp: public BasePassDataUp{\n",
    "public:\n",
    "    DerivedPassDataUp(std::string& logInfo):BasePassDataUp(logInfo) {};\n",
    "}"
   ]
  },
  {
   "cell_type": "markdown",
   "metadata": {},
   "source": [
    "2.3 设计"
   ]
  },
  {
   "cell_type": "markdown",
   "metadata": {},
   "source": [
    "2.3.1 Avoid returning \"handles\" to object internals Term 28"
   ]
  },
  {
   "cell_type": "code",
   "execution_count": 2,
   "metadata": {},
   "outputs": [
    {
     "name": "stdout",
     "output_type": "stream",
     "text": []
    }
   ],
   "source": [
    "class Point {\n",
    "public:\n",
    "    Point(int x=0, int y=0):x(x), y(y) {}\n",
    "    int x;\n",
    "    int y;\n",
    "}"
   ]
  },
  {
   "cell_type": "code",
   "execution_count": 3,
   "metadata": {},
   "outputs": [
    {
     "name": "stdout",
     "output_type": "stream",
     "text": []
    }
   ],
   "source": [
    "struct RectData{\n",
    "    Point ulhc;\n",
    "    Point lrhc;\n",
    "}"
   ]
  },
  {
   "cell_type": "code",
   "execution_count": 4,
   "metadata": {},
   "outputs": [
    {
     "name": "stdout",
     "output_type": "stream",
     "text": [
      "\r\n"
     ]
    }
   ],
   "source": [
    "class Rectangle {\n",
    "private:\n",
    "    shared_ptr<RectData> pData;\n",
    "    \n",
    "public:\n",
    "    Rectangle(shared_ptr<RectData>& pData):pData(pData) { }\n",
    "    \n",
    "    Point& upperLeft() const { return (*pData).ulhc; }\n",
    "    const Point& lowerRight() const { return (*pData).lrhc; }\n",
    "};\n",
    "    \n",
    "const Point& foo(){\n",
    "    shared_ptr<RectData> pData(new RectData({Point(1,1), Point(2,2)}));\n",
    "    Rectangle r(pData);\n",
    "    const Point& dangle = r.lowerRight();\n",
    "    cout << \"before rect destoried \" << dangle.x << endl;\n",
    "    return dangle;\n",
    "}\n"
   ]
  },
  {
   "cell_type": "code",
   "execution_count": 5,
   "metadata": {},
   "outputs": [
    {
     "name": "stdout",
     "output_type": "stream",
     "text": [
      "before rect destoried 2\r\n"
     ]
    }
   ],
   "source": [
    "const Point& dangle = foo();"
   ]
  },
  {
   "cell_type": "code",
   "execution_count": 6,
   "metadata": {},
   "outputs": [
    {
     "name": "stdout",
     "output_type": "stream",
     "text": [
      "(const int) 115939584\r\n"
     ]
    }
   ],
   "source": [
    "dangle.x"
   ]
  },
  {
   "cell_type": "markdown",
   "metadata": {},
   "source": [
    "Rectangle(const Point& ulhc, const Point& lrhc) :pData(make_shared<RectData>()){ }\n",
    "??\n",
    "    \n",
    "* upperLeft()返回了底层数据的引用。所有的这些引用，指针，iter都叫handles。 upperLeft()这样做破坏了数据的封装性\n",
    "* lowerRight() 返回一个const ref，解决了封装性问题，但是，可能会造成dangle ref。"
   ]
  },
  {
   "cell_type": "code",
   "execution_count": 8,
   "metadata": {},
   "outputs": [
    {
     "name": "stdout",
     "output_type": "stream",
     "text": []
    }
   ],
   "source": []
  },
  {
   "cell_type": "code",
   "execution_count": null,
   "metadata": {},
   "outputs": [],
   "source": []
  },
  {
   "cell_type": "markdown",
   "metadata": {},
   "source": [
    "III. Exception"
   ]
  },
  {
   "cell_type": "markdown",
   "metadata": {},
   "source": [
    "3.1 不要让异常跑出析构函数\n",
    "\n",
    "容易造成析构不完全，内存泄漏。尤其是有list，第一个析构异常，后面都析构不了"
   ]
  },
  {
   "cell_type": "code",
   "execution_count": null,
   "metadata": {},
   "outputs": [],
   "source": []
  },
  {
   "cell_type": "markdown",
   "metadata": {},
   "source": [
    "3.2 异常安全\n",
    "\n",
    "Strive for exception-safe code -- Term 29\n",
    "\n",
    "异常安全，是保证在异常发生时，不会发生：\n",
    "* 不会数据泄露，包括内存，死锁，数据库连接等等\n",
    "* 不允许数据败坏"
   ]
  },
  {
   "cell_type": "code",
   "execution_count": 2,
   "metadata": {},
   "outputs": [
    {
     "name": "stdout",
     "output_type": "stream",
     "text": [
      "\r\n"
     ]
    }
   ],
   "source": [
    "class Image {\n",
    "public:\n",
    "    Image(std::istream& imgSrc){}\n",
    "}\n",
    "\n",
    "class PrettyMenu {\n",
    "public:\n",
    "    void changeBackground(std::istream& imgSrc);\n",
    "private:\n",
    "    mutex mutex;\n",
    "    Image* bgImage;\n",
    "    int imageChange;\n",
    "}"
   ]
  },
  {
   "cell_type": "code",
   "execution_count": 3,
   "metadata": {},
   "outputs": [
    {
     "name": "stdout",
     "output_type": "stream",
     "text": []
    }
   ],
   "source": [
    "void PrettyMenu::changeBackground(std::istream& imgSrc) {\n",
    "    //lock(&mutex);\n",
    "    delete bgImage;\n",
    "    ++imageChange;\n",
    "    bgImage = new Image(imgSrc);\n",
    "    //unlock(&mutex);\n",
    "    \n",
    "}"
   ]
  },
  {
   "cell_type": "markdown",
   "metadata": {},
   "source": [
    "* 如果new image有异常，那么unlock不会被调用，mutex未被合理释放造成死锁\n",
    "    * Lock m(&mutex) 通过析构函数释放，保证资源未被泄露\n",
    "* 如果new image异常，但此时imageChange 已经 ++, 这叫数据败坏"
   ]
  },
  {
   "cell_type": "code",
   "execution_count": null,
   "metadata": {},
   "outputs": [],
   "source": []
  },
  {
   "cell_type": "code",
   "execution_count": null,
   "metadata": {},
   "outputs": [],
   "source": []
  },
  {
   "cell_type": "markdown",
   "metadata": {},
   "source": [
    "3.3 多线程"
   ]
  },
  {
   "cell_type": "markdown",
   "metadata": {},
   "source": [
    "IV. Operator overloading ??\n",
    "\n",
    "* 重载运算符是具有**特殊名字**的函数，opeartor=\n",
    "* 和其他函数一样，也包含返回类型，参数列表，函数体"
   ]
  },
  {
   "cell_type": "code",
   "execution_count": 1,
   "metadata": {},
   "outputs": [
    {
     "name": "stdout",
     "output_type": "stream",
     "text": [
      "?   \r\n"
     ]
    }
   ],
   "source": [
    "class MyInteger {\n",
    "private:\n",
    "    int value;\n",
    "\n",
    "public:\n",
    "    MyInteger(int value=0):value(value){};\n",
    "    \n",
    "    MyInteger& operator=(const MyInteger& rhs){\n",
    "        this->value = rhs.value;\n",
    "        return *this;\n",
    "    }\n",
    "}"
   ]
  },
  {
   "cell_type": "markdown",
   "metadata": {},
   "source": [
    "* 用操作符调用，和直接调用operator= function等价"
   ]
  },
  {
   "cell_type": "code",
   "execution_count": 3,
   "metadata": {},
   "outputs": [
    {
     "name": "stdout",
     "output_type": "stream",
     "text": []
    }
   ],
   "source": [
    "MyInteger integer(10), integer1;\n",
    "\n",
    "integer1 = integer;\n",
    "integer1.operator=(integer);"
   ]
  },
  {
   "cell_type": "markdown",
   "metadata": {},
   "source": [
    "4.1 一元运算符"
   ]
  },
  {
   "cell_type": "markdown",
   "metadata": {},
   "source": [
    "4.2 二元运算符"
   ]
  },
  {
   "cell_type": "markdown",
   "metadata": {},
   "source": [
    "4.3 operator= 和 copy assignment，copy constructor"
   ]
  },
  {
   "cell_type": "markdown",
   "metadata": {},
   "source": [
    "令operator= 返回一个 reference to *this  <Term 10>\n",
    "\n",
    "为了实现连锁赋值，所有赋值运算符的重载，都应该返回 reference to *this, 包括 +=, -=,"
   ]
  },
  {
   "cell_type": "code",
   "execution_count": 5,
   "metadata": {},
   "outputs": [
    {
     "name": "stdout",
     "output_type": "stream",
     "text": []
    }
   ],
   "source": [
    "MyInteger myX, myY, myZ;\n",
    "myX = myY = myZ = MyInteger(10);"
   ]
  },
  {
   "cell_type": "markdown",
   "metadata": {},
   "source": [
    "在 operator= 中处理\"自我赋值\"   <Term 11>"
   ]
  },
  {
   "cell_type": "code",
   "execution_count": 6,
   "metadata": {},
   "outputs": [
    {
     "name": "stdout",
     "output_type": "stream",
     "text": []
    }
   ],
   "source": [
    "myX = myX;"
   ]
  },
  {
   "cell_type": "markdown",
   "metadata": {},
   "source": [
    "* 因为别名, reference/pointer 引起的不明显的自我赋值"
   ]
  },
  {
   "cell_type": "code",
   "execution_count": 8,
   "metadata": {},
   "outputs": [
    {
     "name": "stdout",
     "output_type": "stream",
     "text": []
    }
   ],
   "source": [
    "MyInteger& refMyInt = myX;\n",
    "myX = refMyInt;"
   ]
  },
  {
   "cell_type": "markdown",
   "metadata": {},
   "source": [
    "* 如果赋值中包含对指针，资源的操作，自我赋值会引发问题\n",
    "\n",
    "先delete 了自己的内存，然后试图赋值给自己\n",
    "\n",
    "1) solution 1: identity test\n",
    "\n",
    "if（this == &rhs) return *this;"
   ]
  },
  {
   "cell_type": "code",
   "execution_count": 1,
   "metadata": {},
   "outputs": [
    {
     "name": "stdout",
     "output_type": "stream",
     "text": [
      "\r\n",
      "?   \r\n"
     ]
    }
   ],
   "source": [
    "class Bitmap{};\n",
    "\n",
    "class Widget{\n",
    "private:\n",
    "    Bitmap *p;     //指针，指向一个 heap 分配的对象\n",
    "\n",
    "public:\n",
    "    Widget& operator=(const Widget& rhs){\n",
    "        delete p;\n",
    "        p = new Bitmap(*rhs.p);\n",
    "        return *this;\n",
    "    }\n",
    "}"
   ]
  },
  {
   "cell_type": "markdown",
   "metadata": {},
   "source": [
    "2) solultion 2: copy and swap\n",
    "\n",
    "每一次赋值都做一个比较，效率低\n",
    "```\n",
    "    Widget temp(rhs);\n",
    "    swap(temp);\n",
    "    return *this;\n",
    "```\n",
    "拷贝，swap 比比较效率高？"
   ]
  },
  {
   "cell_type": "markdown",
   "metadata": {},
   "source": [
    "v Template\n",
    "* function template specilization\n",
    "* class tempalte partial speicilization"
   ]
  },
  {
   "cell_type": "code",
   "execution_count": null,
   "metadata": {},
   "outputs": [],
   "source": []
  },
  {
   "cell_type": "markdown",
   "metadata": {},
   "source": [
    "VI Functional\n",
    "\n",
    "6.0 可调用对象\n",
    "\n",
    "* 函数\n",
    "* 函数指针\n",
    "* lambda表达式\n",
    "* bind创建的对象 ??\n",
    "* 函数对象 function object"
   ]
  },
  {
   "cell_type": "code",
   "execution_count": 8,
   "metadata": {},
   "outputs": [
    {
     "name": "stdout",
     "output_type": "stream",
     "text": []
    }
   ],
   "source": [
    "int add(int i, int j) { return i+j; }"
   ]
  },
  {
   "cell_type": "code",
   "execution_count": 7,
   "metadata": {},
   "outputs": [
    {
     "name": "stdout",
     "output_type": "stream",
     "text": [
      "((lambda) &) @0x7f16d19ba038\r\n"
     ]
    }
   ],
   "source": [
    "auto mod = [](int i, int j) { return i%j; }"
   ]
  },
  {
   "cell_type": "code",
   "execution_count": 15,
   "metadata": {},
   "outputs": [
    {
     "name": "stdout",
     "output_type": "stream",
     "text": []
    }
   ],
   "source": [
    "struct divide {\n",
    "    int operator() (int denominator, int divisor) {\n",
    "        return denominator / divisor;\n",
    "    }\n",
    "}"
   ]
  },
  {
   "cell_type": "code",
   "execution_count": 10,
   "metadata": {},
   "outputs": [
    {
     "name": "stdout",
     "output_type": "stream",
     "text": [
      "(int) 2\r\n"
     ]
    }
   ],
   "source": [
    "divide()(6, 3)"
   ]
  },
  {
   "cell_type": "markdown",
   "metadata": {},
   "source": [
    "6.1 lambda\n",
    "* lambda is also function object\n",
    "* [  ] (arguments list) mnutable throw() -> bool {}\n",
    "* [  ] for closure\n",
    "    * [&] capture all by reference\n",
    "    * [=] capture all by value\n",
    "    * [n] capture variable n by value\n",
    "    * [&n] capture variable by reference"
   ]
  },
  {
   "cell_type": "code",
   "execution_count": 4,
   "metadata": {},
   "outputs": [
    {
     "name": "stdout",
     "output_type": "stream",
     "text": []
    }
   ],
   "source": [
    "{\n",
    "    int n = 5;\n",
    "    vector<int> numCount = {1,2,3,4,5};\n",
    "    find_if(numCount.begin(), numCount.end(), [n](int a)->bool{return a==n;});\n",
    "}"
   ]
  },
  {
   "cell_type": "markdown",
   "metadata": {},
   "source": [
    "6.2 Function Object"
   ]
  },
  {
   "cell_type": "code",
   "execution_count": 12,
   "metadata": {},
   "outputs": [
    {
     "name": "stdout",
     "output_type": "stream",
     "text": []
    }
   ],
   "source": [
    "struct StringPtrLess{\n",
    "    bool operator() (const string *p1, const string *p2) const{\n",
    "        return *p1 < *p2;\n",
    "    }\n",
    "}"
   ]
  },
  {
   "cell_type": "code",
   "execution_count": 20,
   "metadata": {},
   "outputs": [
    {
     "name": "stdout",
     "output_type": "stream",
     "text": [
      "?   \r\n"
     ]
    }
   ],
   "source": [
    "{\n",
    "    string a = \"abc\", b = \"ABC\";\n",
    "    string *pa=&a, *pb=&b;\n",
    "    cout << StringPtrLess(pa, pb) << endl;\n",
    "}\n"
   ]
  },
  {
   "cell_type": "markdown",
   "metadata": {},
   "source": [
    "2) 通过类做闭包"
   ]
  },
  {
   "cell_type": "code",
   "execution_count": null,
   "metadata": {},
   "outputs": [],
   "source": []
  },
  {
   "cell_type": "markdown",
   "metadata": {},
   "source": [
    "6.3 bind\n",
    "\n",
    "* bind 1st parameter"
   ]
  },
  {
   "cell_type": "code",
   "execution_count": 7,
   "metadata": {},
   "outputs": [
    {
     "name": "stdout",
     "output_type": "stream",
     "text": [
      "(std::function<int (int)> &) @0x7fee6eb24018\r\n"
     ]
    }
   ],
   "source": [
    "function<int(int)> plusOne = bind(add, 1, placeholders::_1)"
   ]
  },
  {
   "cell_type": "markdown",
   "metadata": {},
   "source": [
    "* bind 2nd parameter"
   ]
  },
  {
   "cell_type": "code",
   "execution_count": 12,
   "metadata": {},
   "outputs": [
    {
     "name": "stdout",
     "output_type": "stream",
     "text": [
      "(std::function<int (int)> &) @0x7fee6eb24040\r\n"
     ]
    }
   ],
   "source": [
    "function<int(int)> modTwo = bind(mod, placeholders::_1, 2)"
   ]
  },
  {
   "cell_type": "markdown",
   "metadata": {},
   "source": [
    "* bind parameter for function object"
   ]
  },
  {
   "cell_type": "code",
   "execution_count": 18,
   "metadata": {},
   "outputs": [
    {
     "name": "stdout",
     "output_type": "stream",
     "text": [
      "(std::_Bind<divide (_Placeholder<1>, int)> &) @0x7fee6eb24060\r\n"
     ]
    }
   ],
   "source": [
    "auto divideTwo = bind(divide(), placeholders::_1, 2)"
   ]
  },
  {
   "cell_type": "code",
   "execution_count": 19,
   "metadata": {},
   "outputs": [
    {
     "name": "stdout",
     "output_type": "stream",
     "text": [
      "(int) 3\r\n"
     ]
    }
   ],
   "source": [
    "divideTwo(6)"
   ]
  },
  {
   "cell_type": "markdown",
   "metadata": {},
   "source": [
    "* bind class member function\n",
    "\n",
    "closure provided by class instance as the first argument to class function (similar to this pointer)"
   ]
  },
  {
   "cell_type": "code",
   "execution_count": 2,
   "metadata": {},
   "outputs": [
    {
     "name": "stdout",
     "output_type": "stream",
     "text": [
      "?   \r\n"
     ]
    }
   ],
   "source": [
    "class ToBindObj {\n",
    "private:\n",
    "    int id;\n",
    "\n",
    "public:\n",
    "    ToBindObj(int id):id(id){}\n",
    "    void hello(const std::string& s){\n",
    "        std::cout << \"Hello \" << id << \" \" << s << std::endl;\n",
    "    }\n",
    "}"
   ]
  },
  {
   "cell_type": "code",
   "execution_count": 3,
   "metadata": {},
   "outputs": [
    {
     "name": "stdout",
     "output_type": "stream",
     "text": []
    }
   ],
   "source": [
    "ToBindObj instance(10);\n",
    "auto bindedHello = bind(&ToBindObj::hello, instance, \"BINDED\");"
   ]
  },
  {
   "cell_type": "code",
   "execution_count": 4,
   "metadata": {},
   "outputs": [
    {
     "name": "stdout",
     "output_type": "stream",
     "text": [
      "Hello 10 BINDED\r\n"
     ]
    }
   ],
   "source": [
    "bindedHello()"
   ]
  },
  {
   "cell_type": "markdown",
   "metadata": {},
   "source": [
    "* bind static method\n",
    "\n",
    "static method "
   ]
  },
  {
   "cell_type": "code",
   "execution_count": 5,
   "metadata": {},
   "outputs": [
    {
     "name": "stdout",
     "output_type": "stream",
     "text": []
    }
   ],
   "source": [
    "class ToBindStaticMethod {\n",
    "public:\n",
    "    static void hello(const std::string& s){\n",
    "        std::cout << \"Hello Static method \" << s << std::endl;\n",
    "    }\n",
    "}"
   ]
  },
  {
   "cell_type": "code",
   "execution_count": 6,
   "metadata": {},
   "outputs": [
    {
     "name": "stdout",
     "output_type": "stream",
     "text": []
    }
   ],
   "source": [
    "ToBindStaticMethod bindedStatic;\n",
    "auto bindedHelloStatic = bind(ToBindStaticMethod::hello, \"Binded\");"
   ]
  },
  {
   "cell_type": "code",
   "execution_count": 7,
   "metadata": {},
   "outputs": [
    {
     "name": "stdout",
     "output_type": "stream",
     "text": [
      "Hello Static method Binded\r\n"
     ]
    }
   ],
   "source": [
    "bindedHelloStatic()"
   ]
  },
  {
   "cell_type": "markdown",
   "metadata": {},
   "source": [
    "6.4 function\n",
    "\n",
    "* function<int(int, int)>:  调用形式 call signature"
   ]
  },
  {
   "cell_type": "code",
   "execution_count": 11,
   "metadata": {},
   "outputs": [
    {
     "name": "stdout",
     "output_type": "stream",
     "text": []
    }
   ],
   "source": [
    "function<int(int, int)> f1 = add;"
   ]
  },
  {
   "cell_type": "markdown",
   "metadata": {},
   "source": [
    "* 可以把不对的函数对象用统一的call signature引用，可以理解为为函数定义类型"
   ]
  },
  {
   "cell_type": "code",
   "execution_count": 12,
   "metadata": {},
   "outputs": [
    {
     "name": "stdout",
     "output_type": "stream",
     "text": [
      "(std::map<std::string, std::function<int (int, int)> > &) { \"%\" => @0x8adb148, \"+\" => @0x880c9c8 }\r\n"
     ]
    }
   ],
   "source": [
    "map<string, function<int(int, int)>> binops = {\n",
    "    {\"+\", add},\n",
    "    {\"%\", mod}\n",
    "}"
   ]
  },
  {
   "cell_type": "code",
   "execution_count": 13,
   "metadata": {},
   "outputs": [
    {
     "name": "stdout",
     "output_type": "stream",
     "text": [
      "(int) 2\r\n"
     ]
    }
   ],
   "source": [
    "binops[\"+\"](1, 1)"
   ]
  },
  {
   "cell_type": "code",
   "execution_count": null,
   "metadata": {},
   "outputs": [],
   "source": []
  }
 ],
 "metadata": {
  "kernelspec": {
   "display_name": "C++",
   "language": "",
   "name": "cling"
  },
  "language_info": {
   "codemirror_mode": "text/x-c++src",
   "file_extension": ".c++",
   "mimetype": " text/x-c++src",
   "name": "c++"
  }
 },
 "nbformat": 4,
 "nbformat_minor": 2
}
