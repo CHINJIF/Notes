{
 "cells": [
  {
   "cell_type": "markdown",
   "metadata": {},
   "source": [
    "I. Programming basics"
   ]
  },
  {
   "cell_type": "markdown",
   "metadata": {},
   "source": [
    "##### Declaration, definition and initialization \n",
    "* 声明式告诉编译器某个东西的名称和类型，但略去细节"
   ]
  },
  {
   "cell_type": "code",
   "execution_count": 23,
   "metadata": {},
   "outputs": [
    {
     "name": "stdout",
     "output_type": "stream",
     "text": []
    }
   ],
   "source": [
    "extern int x;"
   ]
  },
  {
   "cell_type": "markdown",
   "metadata": {},
   "source": [
    "extern ?"
   ]
  },
  {
   "cell_type": "code",
   "execution_count": 24,
   "metadata": {},
   "outputs": [
    {
     "name": "stdout",
     "output_type": "stream",
     "text": []
    }
   ],
   "source": [
    "std::size_t numDigits(int number);"
   ]
  },
  {
   "cell_type": "code",
   "execution_count": 25,
   "metadata": {},
   "outputs": [
    {
     "name": "stdout",
     "output_type": "stream",
     "text": []
    }
   ],
   "source": [
    "class Widget;"
   ]
  },
  {
   "cell_type": "code",
   "execution_count": 28,
   "metadata": {},
   "outputs": [
    {
     "name": "stdout",
     "output_type": "stream",
     "text": []
    }
   ],
   "source": [
    "template<typename T>"
   ]
  },
  {
   "cell_type": "markdown",
   "metadata": {},
   "source": [
    "* 定义式的任务是提供编译器一些声明式遗漏的细节。对对象而言，定义式是编译器为对象拨发内存的地点；对function或function template而言，定义式提供了代码本体。对class或class template而言，定义式列出他们的成员"
   ]
  },
  {
   "cell_type": "code",
   "execution_count": 30,
   "metadata": {},
   "outputs": [
    {
     "name": "stdout",
     "output_type": "stream",
     "text": []
    }
   ],
   "source": [
    "std::size_t numDigits(int number){\n",
    "    std::size_t digits = 1;\n",
    "    \n",
    "    while((number/=10)!=0) ++digits;\n",
    "    return digits;\n",
    "}"
   ]
  },
  {
   "cell_type": "code",
   "execution_count": 33,
   "metadata": {},
   "outputs": [
    {
     "name": "stdout",
     "output_type": "stream",
     "text": []
    }
   ],
   "source": [
    "class Widget{\n",
    "public:\n",
    "    Widget();\n",
    "    ~Widget();\n",
    "};"
   ]
  },
  {
   "cell_type": "markdown",
   "metadata": {},
   "source": [
    "* 初始化是“给予对象初值”的过程。default构造函数是一个可被调用而不带任何实参，不然没有参数，不然每个参数都有缺省值\n",
    "\n",
    "###### 初始化参数列表\n",
    "初始化类的成员有两种方式，一是使用初始化列表，二是在构造函数体内进行赋值操作。\n",
    "\n",
    "对于对象类型，用初始化列表更高效，因为省去了调用默认构造函数的过程，直接使用拷贝构造函数。必须使用初始化列表的情况:\n",
    "* 常量成员，因为常量只能初始化不能赋值，所以必须放在初始化列表里面\n",
    "* 引用类型，引用必须在定义的时候初始化，并且不能重新赋值，所以也要写在初始化列表里面\n",
    "* 没有默认构造函数的类类型，因为使用初始化列表可以不必调用默认构造函数来初始化，而是直接调用拷贝构造函数初始化。"
   ]
  },
  {
   "cell_type": "markdown",
   "metadata": {},
   "source": [
    "    * 拷贝构造函数 ?\n",
    "    * explicit ?\n",
    "    * 隐式类型转换 ?\n",
    "    "
   ]
  },
  {
   "cell_type": "code",
   "execution_count": 1,
   "metadata": {},
   "outputs": [
    {
     "name": "stdout",
     "output_type": "stream",
     "text": [
      "\r\n",
      "\r\n",
      "?   \r\n",
      "\r\n"
     ]
    }
   ],
   "source": [
    "#include <string>\n",
    "\n",
    "class A {\n",
    "public:\n",
    "    A(){};\n",
    "};\n",
    "\n",
    "class B {\n",
    "public:\n",
    "    int value;\n",
    "    bool flag;\n",
    "\n",
    "    explicit B(int x = 0, bool b = true):value(x), flag(b){}; \n",
    "};\n",
    "\n",
    "class C {\n",
    "public:\n",
    "    std::string value;\n",
    "    \n",
    "    explicit C(std::string x):value(x){};\n",
    "};"
   ]
  },
  {
   "cell_type": "code",
   "execution_count": 2,
   "metadata": {},
   "outputs": [
    {
     "name": "stdout",
     "output_type": "stream",
     "text": []
    }
   ],
   "source": [
    "B bObj;"
   ]
  },
  {
   "cell_type": "code",
   "execution_count": 3,
   "metadata": {},
   "outputs": [
    {
     "name": "stdout",
     "output_type": "stream",
     "text": []
    }
   ],
   "source": [
    "B bObj1(1, false);"
   ]
  },
  {
   "cell_type": "code",
   "execution_count": 4,
   "metadata": {},
   "outputs": [
    {
     "name": "stdout",
     "output_type": "stream",
     "text": [
      "\r\n",
      "\r\n",
      "\r\n"
     ]
    }
   ],
   "source": [
    "class D {\n",
    "public:\n",
    "    std::string id;\n",
    "    D(std::string id):id(id){};\n",
    "}\n",
    "\n",
    "bool checkId(const D& other){\n",
    "    return true;\n",
    "}"
   ]
  },
  {
   "cell_type": "code",
   "execution_count": 5,
   "metadata": {},
   "outputs": [
    {
     "name": "stdout",
     "output_type": "stream",
     "text": [
      "(bool) true\r\n"
     ]
    }
   ],
   "source": [
    "D d(\"test\");\n",
    "checkId(std::string(\"test\"))"
   ]
  },
  {
   "cell_type": "markdown",
   "metadata": {},
   "source": [
    "这里就做了隐式类型转换，把string转换成class D.\n",
    "\n",
    "R"
   ]
  },
  {
   "cell_type": "code",
   "execution_count": 6,
   "metadata": {},
   "outputs": [
    {
     "name": "stdout",
     "output_type": "stream",
     "text": []
    }
   ],
   "source": [
    "bool checkId2(const C& other){\n",
    "    return true;\n",
    "}"
   ]
  },
  {
   "cell_type": "code",
   "execution_count": 7,
   "metadata": {},
   "outputs": [
    {
     "name": "stdout",
     "output_type": "stream",
     "text": []
    },
    {
     "ename": "ename",
     "evalue": "evalue",
     "output_type": "error",
     "traceback": [
      "\u001b[1minput_line_15:2:2: \u001b[0m\u001b[0;1;31merror: \u001b[0m\u001b[1mno matching function for call to 'checkId2'\u001b[0m",
      " checkId2(std::string(\"test\"));",
      "\u001b[0;1;32m ^~~~~~~~",
      "\u001b[0m\u001b[1minput_line_14:1:6: \u001b[0m\u001b[0;1;30mnote: \u001b[0mcandidate function not viable: no known conversion from 'std::string' (aka",
      "      'basic_string<char>') to 'const C' for 1st argument\u001b[0m",
      "bool checkId2(const C& other){",
      "\u001b[0;1;32m     ^",
      "\u001b[0m"
     ]
    }
   ],
   "source": [
    "checkId2(std::string(\"test\"));"
   ]
  },
  {
   "cell_type": "code",
   "execution_count": 7,
   "metadata": {},
   "outputs": [
    {
     "name": "stdout",
     "output_type": "stream",
     "text": []
    }
   ],
   "source": []
  },
  {
   "cell_type": "markdown",
   "metadata": {},
   "source": [
    "##### reference and pointer\n",
    "    1. const pointer vs pointer to const"
   ]
  },
  {
   "cell_type": "markdown",
   "metadata": {},
   "source": [
    "* const pointer, 指针是常量，不能改变值"
   ]
  },
  {
   "cell_type": "code",
   "execution_count": 20,
   "metadata": {},
   "outputs": [
    {
     "name": "stdout",
     "output_type": "stream",
     "text": []
    }
   ],
   "source": [
    "int a = 10, b = 20;\n",
    "int * const  pInt = &a;"
   ]
  },
  {
   "cell_type": "code",
   "execution_count": 3,
   "metadata": {},
   "outputs": [
    {
     "name": "stdout",
     "output_type": "stream",
     "text": []
    }
   ],
   "source": [
    "//pInt = &b;  //variable 'pInt' declared const here"
   ]
  },
  {
   "cell_type": "code",
   "execution_count": 4,
   "metadata": {},
   "outputs": [
    {
     "name": "stdout",
     "output_type": "stream",
     "text": [
      "(int) 20\r\n"
     ]
    }
   ],
   "source": [
    "a = 20;\n",
    "*pInt"
   ]
  },
  {
   "cell_type": "markdown",
   "metadata": {},
   "source": [
    "* pointer to const, 指向的是常量，不能通过指针修改其值，但是可以直接改被指向值"
   ]
  },
  {
   "cell_type": "code",
   "execution_count": 5,
   "metadata": {},
   "outputs": [
    {
     "name": "stdout",
     "output_type": "stream",
     "text": []
    }
   ],
   "source": [
    "const int * cpInt = &a;"
   ]
  },
  {
   "cell_type": "code",
   "execution_count": 6,
   "metadata": {},
   "outputs": [
    {
     "name": "stdout",
     "output_type": "stream",
     "text": [
      "(const int) 30\r\n"
     ]
    }
   ],
   "source": [
    "a = 30;\n",
    "*cpInt"
   ]
  },
  {
   "cell_type": "code",
   "execution_count": 7,
   "metadata": {},
   "outputs": [
    {
     "name": "stdout",
     "output_type": "stream",
     "text": []
    }
   ],
   "source": [
    "//*cpInt = 20;  //read-only variable is not assignable"
   ]
  },
  {
   "cell_type": "markdown",
   "metadata": {},
   "source": [
    "    2. const point to reference"
   ]
  },
  {
   "cell_type": "markdown",
   "metadata": {},
   "source": [
    "##### Statements and flow control"
   ]
  },
  {
   "cell_type": "markdown",
   "metadata": {},
   "source": [
    "    1. loop"
   ]
  },
  {
   "cell_type": "code",
   "execution_count": 21,
   "metadata": {},
   "outputs": [
    {
     "name": "stdout",
     "output_type": "stream",
     "text": []
    }
   ],
   "source": [
    "#include <vector>\n",
    "#include <iostream>\n",
    "using namespace std;"
   ]
  },
  {
   "cell_type": "code",
   "execution_count": 22,
   "metadata": {},
   "outputs": [
    {
     "name": "stdout",
     "output_type": "stream",
     "text": []
    }
   ],
   "source": [
    "vector<int> nums = {1,2};"
   ]
  },
  {
   "cell_type": "markdown",
   "metadata": {},
   "source": [
    "* Range-based for loop\n",
    "\n",
    "The for-loop has another syntax, which is used exclusively with ranges:\n",
    "\n",
    "for ( declaration : range ) statement;\n",
    "\n",
    "Ranges are sequences of elements, including arrays, containers, and any other type supporting the functions __begin()__ and __end()__; "
   ]
  },
  {
   "cell_type": "code",
   "execution_count": 12,
   "metadata": {},
   "outputs": [
    {
     "name": "stdout",
     "output_type": "stream",
     "text": [
      "5\r\n",
      "6\r\n"
     ]
    }
   ],
   "source": [
    "for (int i: nums){\n",
    "    cout << i << endl;\n",
    "}"
   ]
  },
  {
   "cell_type": "markdown",
   "metadata": {},
   "source": [
    "User prefix increment, in for loop, extra copy involved with the postfix. So prefix can be faster"
   ]
  },
  {
   "cell_type": "code",
   "execution_count": 9,
   "metadata": {},
   "outputs": [
    {
     "name": "stdout",
     "output_type": "stream",
     "text": []
    }
   ],
   "source": [
    "for (int i=0; i<nums.size(); ++i){\n",
    "    cout << nums[i];\n",
    "}"
   ]
  },
  {
   "cell_type": "markdown",
   "metadata": {},
   "source": [
    "* iterator"
   ]
  },
  {
   "cell_type": "code",
   "execution_count": 11,
   "metadata": {},
   "outputs": [
    {
     "name": "stdout",
     "output_type": "stream",
     "text": [
      "5\r\n",
      "6\r\n"
     ]
    }
   ],
   "source": [
    "for (vector<int>::iterator it=nums.begin(); it!=nums.end(); it++){\n",
    "    *it += 1;  \n",
    "    cout << *it << endl;\n",
    "}"
   ]
  },
  {
   "cell_type": "markdown",
   "metadata": {},
   "source": [
    "* begin return const_iterator if vector object is const-qualified"
   ]
  },
  {
   "cell_type": "code",
   "execution_count": 7,
   "metadata": {},
   "outputs": [
    {
     "name": "stdout",
     "output_type": "stream",
     "text": [
      "\r\n"
     ]
    }
   ],
   "source": [
    "const vector<int> cNums = {1,2};    \n",
    "\n",
    "for (auto it=cNums.begin(); it!=cNums.end(); it++){\n",
    "    // *it += 1;  //function 'operator*' which returns const-qualified type\n",
    "    cout << *it;\n",
    "}"
   ]
  },
  {
   "cell_type": "markdown",
   "metadata": {},
   "source": [
    "    2. switch case"
   ]
  },
  {
   "cell_type": "code",
   "execution_count": null,
   "metadata": {},
   "outputs": [],
   "source": [
    "int condition = 1;"
   ]
  },
  {
   "cell_type": "code",
   "execution_count": 2,
   "metadata": {},
   "outputs": [
    {
     "name": "stdout",
     "output_type": "stream",
     "text": [
      "condition is 1 or 2\r\n"
     ]
    }
   ],
   "source": [
    "switch(condition){\n",
    "    case 1:\n",
    "    case 2:\n",
    "        cout << \"condition is 1 or 2\"<< endl;\n",
    "    default:\n",
    "        cout << \"condition did not match\";\n",
    "}"
   ]
  },
  {
   "cell_type": "markdown",
   "metadata": {},
   "source": [
    "##### Dynamic Memory \n",
    "    * 用处：\n",
    "        C++ 是by default是pass-by-value，面对vector等大的存储结构，很低效，如何把local vector传递出去？不要在stack中建立数据，建立动态内存，在堆中创建\n",
    "        new，delete直接管理堆，会产生很多潜在问题。引入智能指针，shared_ptr, weak_ptr, unique_ptr来管理。\n",
    "    * 变量作用域：\n",
    "        全局变量\n",
    "        局部变量\n",
    "        static\n",
    "        动态分配\n",
    "    * 内存类型：\n",
    "        栈内存-- 函数中非static  （全局变量？）\n",
    "        static内存 -- static变量\n",
    "        heap-堆 -- 动态分配   \n",
    "        \n",
    "    1. new and delete"
   ]
  },
  {
   "cell_type": "markdown",
   "metadata": {},
   "source": [
    "* new\n",
    "\n",
    "nothrow, if failed to allocate memory, will not throw bad alloc，but return nullptr"
   ]
  },
  {
   "cell_type": "code",
   "execution_count": 20,
   "metadata": {},
   "outputs": [
    {
     "name": "stdout",
     "output_type": "stream",
     "text": []
    }
   ],
   "source": [
    "int *dp;\n",
    "dp = new int;"
   ]
  },
  {
   "cell_type": "code",
   "execution_count": 23,
   "metadata": {},
   "outputs": [
    {
     "name": "stdout",
     "output_type": "stream",
     "text": []
    }
   ],
   "source": [
    "dp = new (nothrow) int[5];"
   ]
  },
  {
   "cell_type": "code",
   "execution_count": 24,
   "metadata": {},
   "outputs": [
    {
     "name": "stdout",
     "output_type": "stream",
     "text": []
    }
   ],
   "source": [
    "if(dp == nullptr){\n",
    "    cout << \"Error: memory could not be allocated\" << endl;\n",
    "}"
   ]
  },
  {
   "cell_type": "code",
   "execution_count": 25,
   "metadata": {},
   "outputs": [
    {
     "name": "stdout",
     "output_type": "stream",
     "text": []
    }
   ],
   "source": [
    "*dp = 10;"
   ]
  },
  {
   "cell_type": "markdown",
   "metadata": {},
   "source": [
    "* delete"
   ]
  },
  {
   "cell_type": "code",
   "execution_count": 26,
   "metadata": {},
   "outputs": [
    {
     "name": "stdout",
     "output_type": "stream",
     "text": []
    }
   ],
   "source": [
    "delete [] dp;"
   ]
  },
  {
   "cell_type": "markdown",
   "metadata": {},
   "source": [
    "    2. smart pointer\n",
    "* shared_ptr"
   ]
  },
  {
   "cell_type": "code",
   "execution_count": 2,
   "metadata": {},
   "outputs": [
    {
     "name": "stdout",
     "output_type": "stream",
     "text": []
    }
   ],
   "source": [
    "#include <memory>"
   ]
  },
  {
   "cell_type": "code",
   "execution_count": 3,
   "metadata": {},
   "outputs": [
    {
     "name": "stdout",
     "output_type": "stream",
     "text": [
      "(std::shared_ptr<std::vector<int> > &) @0x7fd116876018\r\n"
     ]
    }
   ],
   "source": [
    "shared_ptr<vector<int>> p = make_shared<vector<int>>()"
   ]
  },
  {
   "cell_type": "code",
   "execution_count": 4,
   "metadata": {},
   "outputs": [
    {
     "name": "stdout",
     "output_type": "stream",
     "text": [
      "(std::shared_ptr<std::vector<int> > &) @0x7fd116876028\r\n",
      "\r\n"
     ]
    }
   ],
   "source": [
    "p->push_back(5)\n",
    "shared_ptr<vector<int>> p2 = p\n",
    "\n",
    "p2->push_back(10);\n",
    "p2->at(1);"
   ]
  },
  {
   "cell_type": "markdown",
   "metadata": {},
   "source": [
    "* unique ptr"
   ]
  },
  {
   "cell_type": "code",
   "execution_count": 5,
   "metadata": {},
   "outputs": [
    {
     "name": "stdout",
     "output_type": "stream",
     "text": []
    }
   ],
   "source": [
    "unique_ptr<int[]> pU(new int[5]);"
   ]
  },
  {
   "cell_type": "code",
   "execution_count": 19,
   "metadata": {},
   "outputs": [
    {
     "name": "stdout",
     "output_type": "stream",
     "text": []
    }
   ],
   "source": [
    "pU[0] = 10;"
   ]
  },
  {
   "cell_type": "code",
   "execution_count": null,
   "metadata": {},
   "outputs": [],
   "source": []
  }
 ],
 "metadata": {
  "kernelspec": {
   "display_name": "C++",
   "language": "",
   "name": "cling"
  },
  "language_info": {
   "codemirror_mode": "text/x-c++src",
   "file_extension": ".c++",
   "mimetype": " text/x-c++src",
   "name": "c++"
  }
 },
 "nbformat": 4,
 "nbformat_minor": 2
}
