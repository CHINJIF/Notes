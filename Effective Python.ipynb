{
 "cells": [
  {
   "cell_type": "markdown",
   "metadata": {},
   "source": [
    "### Refs\n",
    "http://python-future.org/compatible_idioms.html"
   ]
  },
  {
   "cell_type": "markdown",
   "metadata": {},
   "source": [
    "magic functions"
   ]
  },
  {
   "cell_type": "markdown",
   "metadata": {},
   "source": [
    "* 与运算无关"
   ]
  },
  {
   "cell_type": "markdown",
   "metadata": {},
   "source": [
    "|类别方法名|方法名\n",
    "|----|----|\n",
    "|字符串 /字节序列表示形式 | \\__repr\\__、\\__str\\__、\\__format\\__、\\__bytes\\__\n",
    "|数值转换 | \\__abs\\__、\\__bool\\__、\\__complex\\__、\\__int\\__、\\__float\\__、\\__hash\\__、\\__index\\__\n",
    "| 集合模拟 | \\__len\\__、\\__getitem\\__、\\__setitem\\__、\\__delitem\\__、\\__contains\\__\n",
    "| 迭代枚举 | \\__iter\\__、\\__reversed\\__、\\__next\\__\n",
    "| 可调用模拟 | \\__call\\__\n",
    "|上下文管理 | \\__enter\\__、\\__exit\\__\n",
    "| 实例创建和销毁 | \\__new\\__、\\__init\\__、\\__del\\__\n",
    "|属性管理 | \\__getattr\\__、\\__getattribute\\__、\\__setattr\\__、\\__delattr\\__、\\__dir\\__\n",
    "| 属性描述符 | \\__get\\__、\\__set\\__、\\__delete\\__\n",
    "| 跟类相关的服务 | \\__prepare\\__、\\__instancecheck\\__、\\__subclasscheck\\__"
   ]
  },
  {
   "cell_type": "markdown",
   "metadata": {},
   "source": [
    "* 与运算有关"
   ]
  },
  {
   "cell_type": "markdown",
   "metadata": {},
   "source": [
    "|类别方法名|方法名\n",
    "|----|----|\n",
    "|一元运算符 | \\__neg\\__ -、\\__pos\\__ +、\\__abs\\__ abs()\n",
    "|众多比较运算符 | \\__lt\\__ <、\\__le\\__ <=、\\__eq\\__ ==、\\__ne\\__ !=、\\__gt\\__ >、\\__ge\\__ >=\n",
    "| 算术运算符 | \\__add\\__ +、\\__sub\\__ -、\\__mul\\__ *、\\__truediv\\__ /、\\__floordiv\\__ //、\\__mod\\__ %、\\__divmod\\__ divmod()、\\__pow\\__ ** 或pow()、\\__round\\__ round()\n",
    "|反向算术运算符 | \\__radd\\__、\\__rsub\\__、\\__rmul\\__、\\__rtruediv\\__、\\__rfloordiv\\__、\\__rmod\\__、\\__rdivmod\\__、\\__rpow\\__\n",
    "| 增量赋值算术运算符 | \\__iadd\\__、\\__isub\\__、\\__imul\\__、\\__itruediv\\__、\\__ifloordiv\\__、\\__imod\\__、\\__ipow\\__\n",
    "| 位运算符 | \\__invert\\__ ~、\\__lshift\\__ <<、\\__rshift\\__ >>、\\__and\\__ &、\\__or\\__ |、\\__xor\\__ ^\n",
    "| 反向位运算符 | \\__rlshift\\__、\\__rrshift\\__、\\__rand\\__、\\__rxor\\__、\\__ror\\__\n",
    "|增量赋值位运算符|\\__ilshift\\__、\\__irshift\\__、\\__iand\\__、\\__ixor\\__、\\__ior\\__"
   ]
  },
  {
   "cell_type": "markdown",
   "metadata": {},
   "source": [
    "### Term 4 - Style\n",
    "短小的辅助函数比一味紧凑好\n",
    "\n",
    "#### 从url中解码查询字符串"
   ]
  },
  {
   "cell_type": "code",
   "execution_count": 1,
   "metadata": {
    "collapsed": true
   },
   "outputs": [],
   "source": [
    "from urllib.parse import parse_qs\n",
    "# url = 'https://cn.bing.com/search?red=5&blue=0&green='\n",
    "values = parse_qs('red=5&blue=0&green=',\n",
    "                 keep_blank_values=True)\n",
    "# values = {'blue': ['0'], 'red': ['5'], 'green': ['']}"
   ]
  },
  {
   "cell_type": "markdown",
   "metadata": {},
   "source": [
    "* 紧凑的写法\n",
    "    * or, and -- bool表达式"
   ]
  },
  {
   "cell_type": "code",
   "execution_count": 2,
   "metadata": {
    "collapsed": true
   },
   "outputs": [],
   "source": [
    "red = values.get(\"red\", [''])[0] or 0"
   ]
  },
  {
   "cell_type": "markdown",
   "metadata": {},
   "source": [
    "* better: 用if else 表达式"
   ]
  },
  {
   "cell_type": "code",
   "execution_count": 3,
   "metadata": {
    "collapsed": true
   },
   "outputs": [],
   "source": [
    "red = values.get(\"red\", [''])[0] if values.get(\"red\") else 0"
   ]
  },
  {
   "cell_type": "markdown",
   "metadata": {},
   "source": [
    "* even better: 辅助函数"
   ]
  },
  {
   "cell_type": "code",
   "execution_count": 4,
   "metadata": {
    "collapsed": true
   },
   "outputs": [],
   "source": [
    "def get_first_int(values, key, default=0):\n",
    "    found = valud.get(key, [''])\n",
    "    if found[0]:\n",
    "        found = int(found[0])\n",
    "    else:\n",
    "        found = default\n",
    "    return found"
   ]
  },
  {
   "cell_type": "markdown",
   "metadata": {},
   "source": [
    "### Term 5 -  列表\n",
    "使用slice，slice支持所有支持 \\__getitem\\__ 以及 \\__setitem\\__ 的类"
   ]
  },
  {
   "cell_type": "code",
   "execution_count": 5,
   "metadata": {
    "collapsed": false
   },
   "outputs": [
    {
     "name": "stdout",
     "output_type": "stream",
     "text": [
      "First Four:  ['a', 'b', 'c', 'd']\n",
      "Last Four:  ['e', 'f', 'g', 'h']\n"
     ]
    }
   ],
   "source": [
    "a = ['a', 'b', 'c', 'd', 'e', 'f', 'g', 'h']\n",
    "print('First Four: ', a[:4])\n",
    "print('Last Four: ', a[-4:])"
   ]
  },
  {
   "cell_type": "markdown",
   "metadata": {},
   "source": [
    "* 使用slice时即使数组越界也ok， 但是访问单个元素越界会异常"
   ]
  },
  {
   "cell_type": "code",
   "execution_count": 6,
   "metadata": {
    "collapsed": false
   },
   "outputs": [
    {
     "data": {
      "text/plain": [
       "['a', 'b', 'c', 'd', 'e', 'f', 'g', 'h']"
      ]
     },
     "execution_count": 6,
     "metadata": {},
     "output_type": "execute_result"
    }
   ],
   "source": [
    "a[:20]"
   ]
  },
  {
   "cell_type": "markdown",
   "metadata": {},
   "source": [
    "* slice操作会产生一个对原对象的**拷贝**， 而赋值仅仅是传递一个引用"
   ]
  },
  {
   "cell_type": "code",
   "execution_count": 7,
   "metadata": {
    "collapsed": false
   },
   "outputs": [
    {
     "name": "stdout",
     "output_type": "stream",
     "text": [
      "True False\n"
     ]
    }
   ],
   "source": [
    "b = a\n",
    "c = a[:]\n",
    "b.append('i')\n",
    "print(a==b, a==c)"
   ]
  },
  {
   "cell_type": "markdown",
   "metadata": {},
   "source": [
    "### Term 6 -  列表\n",
    "slice还可以有step（stride）参数，但不要给slice三个参数，step参数的使用有很多坑"
   ]
  },
  {
   "cell_type": "code",
   "execution_count": 8,
   "metadata": {
    "collapsed": false
   },
   "outputs": [
    {
     "name": "stdout",
     "output_type": "stream",
     "text": [
      "Bytes works fine:  b'gfedcba'\n"
     ]
    }
   ],
   "source": [
    "to_reverse = b'abcdefg'\n",
    "print('Bytes works fine: ', to_reverse[::-1])"
   ]
  },
  {
   "cell_type": "code",
   "execution_count": 9,
   "metadata": {
    "collapsed": false
   },
   "outputs": [
    {
     "name": "stdout",
     "output_type": "stream",
     "text": [
      "Unicode works fine after 3.5:  亚路利哈\n"
     ]
    }
   ],
   "source": [
    "to_reverse = u'哈利路亚'\n",
    "print('Unicode works fine after 3.5: ', to_reverse[::-1])  # 3.4 sucks"
   ]
  },
  {
   "cell_type": "markdown",
   "metadata": {},
   "source": [
    "* 过多的复杂的start，end，stride操作降低代码可读性\n"
   ]
  },
  {
   "cell_type": "code",
   "execution_count": 10,
   "metadata": {
    "collapsed": false
   },
   "outputs": [
    {
     "data": {
      "text/plain": [
       "['h', 'f', 'd']"
      ]
     },
     "execution_count": 10,
     "metadata": {},
     "output_type": "execute_result"
    }
   ],
   "source": [
    "a[-2:2:-2]    # what does -2,2,-2 mean"
   ]
  },
  {
   "cell_type": "markdown",
   "metadata": {},
   "source": [
    "* 先slice，再step做两次，提高可读性。step尽量不用负数"
   ]
  },
  {
   "cell_type": "markdown",
   "metadata": {},
   "source": [
    "### Term 7 -  列表\n",
    "用list comprehension代替map，filter\n",
    "* l2, l3等价，对于map而言如果是有条件的map，还要辅助filter"
   ]
  },
  {
   "cell_type": "code",
   "execution_count": 1,
   "metadata": {
    "collapsed": false
   },
   "outputs": [
    {
     "data": {
      "text/plain": [
       "True"
      ]
     },
     "execution_count": 1,
     "metadata": {},
     "output_type": "execute_result"
    }
   ],
   "source": [
    "nums = [1, 2, 3, 4, 5]\n",
    "l2 = [x*2 for x in l if x % 2 == 0]\n",
    "l3 = map(lambda x: x*2, filter(lambda x: x%2 ==0, nums))\n",
    "list(l3) == l2"
   ]
  },
  {
   "cell_type": "code",
   "execution_count": 2,
   "metadata": {
    "collapsed": false
   },
   "outputs": [
    {
     "data": {
      "text/plain": [
       "[4, 8]"
      ]
     },
     "execution_count": 2,
     "metadata": {},
     "output_type": "execute_result"
    }
   ],
   "source": [
    "[x * 2 for x in nums if x % 2 == 0]"
   ]
  },
  {
   "cell_type": "markdown",
   "metadata": {},
   "source": [
    "### Term 8 - 列表\n",
    "list comprehension虽好，不要用嵌套"
   ]
  },
  {
   "cell_type": "markdown",
   "metadata": {},
   "source": [
    "### Term 9 - Iterator （遍历）\n",
    "使用生成式表达式来处理较大的list comprehension，来解决效率问题\n",
    "\n",
    "使用列表推导的一个潜在缺陷是如果输入非常大的时候会产成一个很大的结果集，占用大量内存。\n",
    "* list comprehension每一次调用，都会把返回值存在内存中，不适用于数据量大的情况。会浪费内存，效率低下\n",
    "* gnerator expression与之等价，但不会缓存结果。"
   ]
  },
  {
   "cell_type": "code",
   "execution_count": 12,
   "metadata": {
    "collapsed": true
   },
   "outputs": [],
   "source": [
    "import six\n",
    "import time\n",
    "\n",
    "def timer(func):\n",
    "    @six.wraps(func)\n",
    "    def wrapper(*args, **kwargs):\n",
    "        start = time.time()\n",
    "        func()\n",
    "        print('Running ', str(time.time() - start))\n",
    "    return wrapper"
   ]
  },
  {
   "cell_type": "code",
   "execution_count": 13,
   "metadata": {
    "collapsed": true
   },
   "outputs": [],
   "source": [
    "@timer\n",
    "def list_comprehension():\n",
    "    [len(x) for x in open('sample', 'r', encoding='utf-8')]"
   ]
  },
  {
   "cell_type": "code",
   "execution_count": 14,
   "metadata": {
    "collapsed": true
   },
   "outputs": [],
   "source": [
    "@timer\n",
    "def generator_expresion():\n",
    "    (len(x) for x in open('sample', 'r', encoding='utf-8'))    # generator expresion use small bracket "
   ]
  },
  {
   "cell_type": "code",
   "execution_count": 15,
   "metadata": {
    "collapsed": false
   },
   "outputs": [
    {
     "name": "stdout",
     "output_type": "stream",
     "text": [
      "Generator timing: \n",
      "Running  0.0009722709655761719\n",
      "list comprehension timing: \n"
     ]
    }
   ],
   "source": [
    "print(\"Generator timing: \")\n",
    "generator_expresion()\n",
    "print(\"list comprehension timing: \")\n",
    "# list_comprehension()"
   ]
  },
  {
   "cell_type": "markdown",
   "metadata": {},
   "source": [
    "* list comprehension 的完整写法"
   ]
  },
  {
   "cell_type": "code",
   "execution_count": 16,
   "metadata": {
    "collapsed": true
   },
   "outputs": [],
   "source": [
    "symbols = [1,2,3,4,5]\n",
    "codes = []\n",
    "for symbol in symbols:\n",
    "    codes.append(symbol)"
   ]
  },
  {
   "cell_type": "markdown",
   "metadata": {},
   "source": [
    "* generator expression的完整写法？"
   ]
  },
  {
   "cell_type": "code",
   "execution_count": 17,
   "metadata": {
    "collapsed": false
   },
   "outputs": [
    {
     "data": {
      "text/plain": [
       "[1, 2, 3, 4, 5]"
      ]
     },
     "execution_count": 17,
     "metadata": {},
     "output_type": "execute_result"
    }
   ],
   "source": [
    "def iter(symbols):\n",
    "    for symbol in symbols:\n",
    "        yield symbol\n",
    "[x for x in iter(symbols)]"
   ]
  },
  {
   "cell_type": "markdown",
   "metadata": {},
   "source": [
    "### Term 16 - Iterator （遍历）\n",
    "考虑用generator改写直接返回列表的函数。\n",
    "list，set，等是可迭代对象。而generator是返回一个迭代器。我们可以利用迭代器来代替list，优点是节省内存"
   ]
  },
  {
   "cell_type": "markdown",
   "metadata": {},
   "source": [
    "### Term 17 - Iterator （遍历）\n",
    "当用generator改写返回列表的函数之后，注意，generator是有状态的，只能遍历一次。"
   ]
  },
  {
   "cell_type": "code",
   "execution_count": 44,
   "metadata": {
    "collapsed": true
   },
   "outputs": [],
   "source": [
    "def normalize(numbers):\n",
    "    total = sum(numbers)\n",
    "    for number in numbers:\n",
    "        yield round(number/total, 2)"
   ]
  },
  {
   "cell_type": "code",
   "execution_count": 45,
   "metadata": {
    "collapsed": false
   },
   "outputs": [
    {
     "name": "stdout",
     "output_type": "stream",
     "text": [
      "[0.07, 0.13, 0.2, 0.27, 0.33]\n"
     ]
    }
   ],
   "source": [
    "print([x for x in normalize([1,2,3,4,5])])"
   ]
  },
  {
   "cell_type": "markdown",
   "metadata": {},
   "source": [
    "### Generator, Iterator\n",
    "#### Iterator pattern\n",
    "* 按需一次获取一个数据项。iterator pattern是一种范式，对应于c++中的基于范式的编程。即只要程序/类实现了某个pattern的接口，那它就是那个pattern的一种范式的实现\n",
    "* \\__iter\\__是与之对应的协议，与接口概念相同，但不强制实现"
   ]
  },
  {
   "cell_type": "code",
   "execution_count": 18,
   "metadata": {
    "collapsed": true
   },
   "outputs": [],
   "source": [
    "import re\n",
    "\n",
    "RE_WORD = re.compile('\\w+')\n",
    "\n",
    "\n",
    "class Sentence:\n",
    "    \n",
    "    def __init__(self, text):\n",
    "        self.text = text\n",
    "        self.words =  RE_WORD.findall(text)\n",
    "    \n",
    "    def __getitem__(self, index):\n",
    "        return self.words[index]\n",
    "    \n",
    "    def __len__(self):\n",
    "        return len(self.words)"
   ]
  },
  {
   "cell_type": "markdown",
   "metadata": {},
   "source": [
    "* Sentence类是可以迭代的。因为它实现了 **\\__getitem\\__** \n",
    "* 可以迭代的定义：\n",
    "    * 首先如果有 \\__iter\\__ 调用 iter\n",
    "    * 没有iter，调用\\__getitem\\__, 从index=0 开始迭代到最后， 即 catch StopIteration\n",
    "    * 还没有，raise TypeError "
   ]
  },
  {
   "cell_type": "code",
   "execution_count": 19,
   "metadata": {
    "collapsed": false
   },
   "outputs": [
    {
     "name": "stdout",
     "output_type": "stream",
     "text": [
      "['The', 'world', 's', 'biggest', 'electric', 'firms', 'have', 'good', 'reason', 'to', 'be', 'focused', 'on', 'China']\n"
     ]
    }
   ],
   "source": [
    "s = Sentence('The world’s biggest electric firms have good reason to be focused on China.')\n",
    "print([x for x in s])"
   ]
  },
  {
   "cell_type": "markdown",
   "metadata": {},
   "source": [
    "##### 可迭代对象 iterable vs 迭代器 iterator\n",
    "* 可迭代对象实现\\__iter\\__ or \\__getitem\\__ 接口\n",
    "* 这些接口，可以返回一个iterator\n",
    "* Iterator是这样的对象\n",
    "    * 实现了next()\n",
    "    * 没有元素抛出 StopIteration"
   ]
  },
  {
   "cell_type": "markdown",
   "metadata": {},
   "source": [
    "#### Generator\n",
    "* 首先generator实现了iterator的所有接口，它是一种迭代器\n",
    "* 即实现next(), raise StopIteration\n",
    "* 所谓生成器，就是用yield关键字，把它所在的函数/类变成一个**迭代器**。 在对其next()的时候，产生并遍历值\n",
    "* 简单的说，yield即返回一个迭代器"
   ]
  },
  {
   "cell_type": "code",
   "execution_count": 54,
   "metadata": {
    "collapsed": true
   },
   "outputs": [],
   "source": [
    "class Sentence:\n",
    "    \n",
    "    def __init__(self, text):\n",
    "        self.text = text\n",
    "        self.words =  RE_WORD.findall(text)\n",
    "    \n",
    "    def __iter__(self):\n",
    "        for word in self.words:\n",
    "            yield word\n",
    "        return"
   ]
  },
  {
   "cell_type": "markdown",
   "metadata": {},
   "source": [
    "### Term 10 - enumerate （遍历）\n",
    "尽量用enumerate取代range"
   ]
  },
  {
   "cell_type": "code",
   "execution_count": 55,
   "metadata": {
    "collapsed": true
   },
   "outputs": [],
   "source": [
    "a = [1,2,3,4,5]\n",
    "for i in range(len(a)):\n",
    "    a[i]"
   ]
  },
  {
   "cell_type": "markdown",
   "metadata": {},
   "source": [
    "* better use enumerate. enumerate产生一个generator，并且之后返回两个值，下标，数值"
   ]
  },
  {
   "cell_type": "code",
   "execution_count": 56,
   "metadata": {
    "collapsed": true
   },
   "outputs": [],
   "source": [
    "for index, value in enumerate(a):\n",
    "    index, value"
   ]
  },
  {
   "cell_type": "markdown",
   "metadata": {},
   "source": [
    "### Term 11 - zip （遍历）\n",
    "用Zip遍历多个序列\n",
    "* py3\n",
    "    * 把两个以上的iterator封装成生成器，以便稍后求值。该生成器，后面会返回元组\n",
    "* py2\n",
    "    * zip不是生成器而是迭代器，平行遍历所有iterator一遍，将产生值汇聚成元组。然后把元组构成的完整列表返回给zip caller，浪费内存\n",
    "\n",
    "* 如果两个列表长度不同，则遍历会提前结束\n",
    "    * 可以选择py3 itertools.zip_longest\n",
    "    * py2 itertools.izip_longest 来选择遍历最长的结束"
   ]
  },
  {
   "cell_type": "code",
   "execution_count": 145,
   "metadata": {
    "collapsed": false
   },
   "outputs": [
    {
     "name": "stdout",
     "output_type": "stream",
     "text": [
      "1 1\n",
      "2 2\n"
     ]
    }
   ],
   "source": [
    "from six.moves import zip, zip_longest    # py23 zip 处理不同\n",
    "for a, b in zip([1,2], [1,2,3]):\n",
    "    print(a,b)"
   ]
  },
  {
   "cell_type": "code",
   "execution_count": 65,
   "metadata": {
    "collapsed": false
   },
   "outputs": [
    {
     "name": "stdout",
     "output_type": "stream",
     "text": [
      "1 1\n",
      "2 2\n",
      "None 3\n"
     ]
    }
   ],
   "source": [
    "for a, b in zip_longest([1,2], [1,2,3]):\n",
    "    print(a,b)"
   ]
  },
  {
   "cell_type": "markdown",
   "metadata": {},
   "source": [
    "### Term 12 - 程序控制语句\n",
    "不要在for，while之后加else，可读性差，容易引起误解\n",
    "* Python 支持一种特殊语法，在for，while后加else\n",
    "* 表示，如果break 提前结束，则**不**进入else\n",
    "* 如果for的iterator为空，进入else"
   ]
  },
  {
   "cell_type": "code",
   "execution_count": 71,
   "metadata": {
    "collapsed": false
   },
   "outputs": [
    {
     "name": "stdout",
     "output_type": "stream",
     "text": [
      "empty\n"
     ]
    }
   ],
   "source": [
    "for i in []:\n",
    "    pass\n",
    "else:\n",
    "    print(\"empty\")"
   ]
  },
  {
   "cell_type": "code",
   "execution_count": 70,
   "metadata": {
    "collapsed": false
   },
   "outputs": [
    {
     "name": "stdout",
     "output_type": "stream",
     "text": [
      "empty\n"
     ]
    }
   ],
   "source": [
    "for i in [1,2,3]:\n",
    "    pass\n",
    "else:\n",
    "    print(\"empty\")"
   ]
  },
  {
   "cell_type": "markdown",
   "metadata": {},
   "source": [
    "### Term 13 - 程序控制语句"
   ]
  },
  {
   "cell_type": "markdown",
   "metadata": {},
   "source": [
    "学会使用try/except/else/finally\n",
    "* 用try/finally来清理文件句柄，既保证了exception会被raise，又确保资源会被释放"
   ]
  },
  {
   "cell_type": "code",
   "execution_count": 93,
   "metadata": {
    "collapsed": true
   },
   "outputs": [],
   "source": [
    "handle = open('sample', 'r', encoding='utf-8')     #py23, 注意py3打开文件如果不specify encoding，中文按gbk来\n",
    "try:\n",
    "    data = handle.read()\n",
    "finally:\n",
    "    handle.close()"
   ]
  },
  {
   "cell_type": "markdown",
   "metadata": {},
   "source": [
    "* 用try/except/else 减少try中语句，增加可读性, else是没有异常则进入"
   ]
  },
  {
   "cell_type": "code",
   "execution_count": 87,
   "metadata": {
    "collapsed": true
   },
   "outputs": [],
   "source": [
    "import json\n",
    "\n",
    "def load_json(data, key):\n",
    "    try:\n",
    "        result = json.loads(data)\n",
    "    except ValueError as e:\n",
    "        raise KeyError from e\n",
    "    else:\n",
    "        return result[key]          # still could raise keyError"
   ]
  },
  {
   "cell_type": "code",
   "execution_count": 90,
   "metadata": {
    "collapsed": true
   },
   "outputs": [],
   "source": [
    "data = '{\"key\":\"my_key\"}'\n",
    "# print(load_json(data, 'key'))\n",
    "# load_json(data, 'not_exist')\n",
    "# load_json('', 'key')"
   ]
  },
  {
   "cell_type": "markdown",
   "metadata": {},
   "source": [
    "## Part II. 函数\n",
    "### Term 14\n",
    "尽量用异常返回特殊状况，而不是None。\n",
    "\n",
    "None有特殊含义，调用者容易处理出错"
   ]
  },
  {
   "cell_type": "code",
   "execution_count": null,
   "metadata": {
    "collapsed": true
   },
   "outputs": [],
   "source": []
  },
  {
   "cell_type": "markdown",
   "metadata": {},
   "source": [
    "### Term 15 （函数式)\n"
   ]
  },
  {
   "cell_type": "code",
   "execution_count": 115,
   "metadata": {
    "collapsed": true
   },
   "outputs": [],
   "source": [
    "def sort_proirity(values, group):\n",
    "    def helper(x):\n",
    "        if x in group:       # Note, why helper could access group\n",
    "            return (0, x)    # compare by tuple, first compare 1st ele, then compare 2nd\n",
    "        return (1, x)\n",
    "    values.sort(key=helper)\n",
    "    _helper_func = helper"
   ]
  },
  {
   "cell_type": "code",
   "execution_count": 116,
   "metadata": {
    "collapsed": false
   },
   "outputs": [
    {
     "name": "stdout",
     "output_type": "stream",
     "text": [
      "[2, 3, 1, 5, 8]\n"
     ]
    }
   ],
   "source": [
    "data = [8, 3, 1, 2, 5]\n",
    "sort_proirity(data, group=[3,2])\n",
    "print(data)"
   ]
  },
  {
   "cell_type": "code",
   "execution_count": 120,
   "metadata": {
    "collapsed": false
   },
   "outputs": [
    {
     "name": "stdout",
     "output_type": "stream",
     "text": [
      "None\n"
     ]
    }
   ],
   "source": [
    "dir(sort_proirity)\n",
    "print(sort_proirity.__closure__)"
   ]
  },
  {
   "cell_type": "markdown",
   "metadata": {},
   "source": [
    "### 闭包 closure"
   ]
  },
  {
   "cell_type": "markdown",
   "metadata": {},
   "source": [
    "示例做一个Averager，计算平均值。\n",
    "* Method 1：用类实现，所有数值按辅助类的属性保存"
   ]
  },
  {
   "cell_type": "code",
   "execution_count": 149,
   "metadata": {
    "collapsed": true
   },
   "outputs": [],
   "source": [
    "class Averager():\n",
    "    \n",
    "    def __init__(self):\n",
    "        self.series = []\n",
    "    \n",
    "    def __call__(self, new_value):\n",
    "        self.series.append(new_value)\n",
    "        return sum(self.series)/len(self.series)"
   ]
  },
  {
   "cell_type": "code",
   "execution_count": 126,
   "metadata": {
    "collapsed": false
   },
   "outputs": [
    {
     "name": "stdout",
     "output_type": "stream",
     "text": [
      "10.0\n",
      "10.5\n"
     ]
    }
   ],
   "source": [
    "avg = Averager()\n",
    "print(avg(10))\n",
    "print(avg(11))"
   ]
  },
  {
   "cell_type": "markdown",
   "metadata": {},
   "source": [
    "* Method 2：函数式实现，利用高阶函数make_averager，(高阶函数就是返回值是一个函数）\n",
    "    * 做的事情实际上，是利用高阶函数，做了一个闭包，把函数 average 和 series[] 绑定在一个闭包里， 最后返回闭包"
   ]
  },
  {
   "cell_type": "code",
   "execution_count": 129,
   "metadata": {
    "collapsed": true
   },
   "outputs": [],
   "source": [
    "def make_averager():\n",
    "    series = []\n",
    "    def average(new_value):\n",
    "        series.append(new_value)\n",
    "        return sum(series)/len(series)\n",
    "    return average   # 函数 average 和 series[] 绑定在一个闭包里， 最后返回闭包"
   ]
  },
  {
   "cell_type": "code",
   "execution_count": 144,
   "metadata": {
    "collapsed": false
   },
   "outputs": [
    {
     "name": "stdout",
     "output_type": "stream",
     "text": [
      "10.0\n",
      "10.5\n"
     ]
    }
   ],
   "source": [
    "avg = make_averager()  # 是利用高阶函数，做了一个闭包\n",
    "print(avg(10))\n",
    "print(avg(11))"
   ]
  },
  {
   "cell_type": "code",
   "execution_count": 146,
   "metadata": {
    "collapsed": false
   },
   "outputs": [
    {
     "data": {
      "text/plain": [
       "('new_value',)"
      ]
     },
     "execution_count": 146,
     "metadata": {},
     "output_type": "execute_result"
    }
   ],
   "source": [
    "avg.__code__.co_varnames"
   ]
  },
  {
   "cell_type": "markdown",
   "metadata": {},
   "source": [
    "* 闭包的自由变量 free variable, 指未在本地作用域中绑定的变量"
   ]
  },
  {
   "cell_type": "code",
   "execution_count": 147,
   "metadata": {
    "collapsed": false
   },
   "outputs": [
    {
     "data": {
      "text/plain": [
       "('series',)"
      ]
     },
     "execution_count": 147,
     "metadata": {},
     "output_type": "execute_result"
    }
   ],
   "source": [
    "avg.__code__.co_freevars"
   ]
  },
  {
   "cell_type": "code",
   "execution_count": 141,
   "metadata": {
    "collapsed": false
   },
   "outputs": [
    {
     "data": {
      "text/plain": [
       "(<cell at 0x0000021805E69C78: list object at 0x0000021805E0E708>,)"
      ]
     },
     "execution_count": 141,
     "metadata": {},
     "output_type": "execute_result"
    }
   ],
   "source": [
    "avg.__closure__"
   ]
  },
  {
   "cell_type": "markdown",
   "metadata": {},
   "source": [
    "* \\__closure\\__中的cell_contents 属性，保存着真正的值"
   ]
  },
  {
   "cell_type": "code",
   "execution_count": 148,
   "metadata": {
    "collapsed": false
   },
   "outputs": [
    {
     "data": {
      "text/plain": [
       "[10, 11]"
      ]
     },
     "execution_count": 148,
     "metadata": {},
     "output_type": "execute_result"
    }
   ],
   "source": [
    "avg.__closure__[0].cell_contents"
   ]
  },
  {
   "cell_type": "markdown",
   "metadata": {},
   "source": [
    "### Non Local"
   ]
  },
  {
   "cell_type": "markdown",
   "metadata": {},
   "source": [
    "### 装饰器 Decorator\n",
    "装饰器只是语法糖，最简单的调用就是，接受一个函数为参数。\n",
    "* 一大特性是能把被装饰的函数**替换**成其他函数。（deco 接受target 为参数，返回inner，替换target）\n",
    "* 另一个特性是，装饰器在模块加载（import）时候运行"
   ]
  },
  {
   "cell_type": "code",
   "execution_count": 164,
   "metadata": {
    "collapsed": false
   },
   "outputs": [
    {
     "name": "stdout",
     "output_type": "stream",
     "text": [
      "running inner\n"
     ]
    }
   ],
   "source": [
    "def deco(func):\n",
    "    def inner():\n",
    "        print(\"running inner\")\n",
    "    return inner\n",
    "\n",
    "@deco\n",
    "def target():\n",
    "    print(\"running target\")\n",
    "\n",
    "target()"
   ]
  },
  {
   "cell_type": "markdown",
   "metadata": {},
   "source": [
    "* 实际上，装饰器是把target函数，绑定到一个闭包，闭包中可以定义一些额外的操作（比如，增加一个timer，http 注册一个网址）"
   ]
  },
  {
   "cell_type": "code",
   "execution_count": 172,
   "metadata": {
    "collapsed": true
   },
   "outputs": [],
   "source": [
    "from functools import wraps\n",
    "import time\n",
    "\n",
    "def timer(func):\n",
    "    \n",
    "    @wraps(func)                          # 有没有这句话都可以运行，作用如下\n",
    "    def wrapper(*args, **kwargs):\n",
    "        start = time.time()\n",
    "        func()\n",
    "        print(\"Running Time \", time.time() - start)\n",
    "    return wrapper"
   ]
  },
  {
   "cell_type": "markdown",
   "metadata": {},
   "source": [
    "*  如果没有，则wrapper不支持关键字参数，而且遮盖了target函数的\\__name\\__和\\__doc\\__属性，functools.wrap可以把装饰器相关属性从func复制到wrapper中"
   ]
  },
  {
   "cell_type": "code",
   "execution_count": null,
   "metadata": {
    "collapsed": true
   },
   "outputs": [],
   "source": [
    "@timer\n",
    "def sleep():\n",
    "    time.sleep(2)\n",
    "sleep()"
   ]
  },
  {
   "cell_type": "markdown",
   "metadata": {},
   "source": [
    "#### 装饰器的一些高级应用\n",
    "##### Singleddispatch\n",
    "python不支持函数重载，对于一些类型不同，处理方式不同的函数，很头疼，python3.4引入singledispatch\n",
    "* htmlize.register 装饰器，把多个函数绑在一起组成一个泛函数"
   ]
  },
  {
   "cell_type": "code",
   "execution_count": 196,
   "metadata": {
    "collapsed": true
   },
   "outputs": [],
   "source": [
    "from functools import singledispatch\n",
    "from collections import abc\n",
    "import numbers\n",
    "import html\n",
    "\n",
    "@singledispatch\n",
    "def htmlize(obj):\n",
    "    content = html.escape(repr(obj))\n",
    "    return '<pre>{}</pre>'.format(content)\n",
    "\n",
    "@htmlize.register(str)\n",
    "def _(text):\n",
    "    content = html.escape(text).replace('\\n', '<br>\\n')\n",
    "    return '<p>{}</p>'.format(content)\n",
    "\n",
    "@htmlize.register(numbers.Integral)\n",
    "def _(n):                                       # 函数名称不重要，基于参数类型register， then dispatch\n",
    "    return '<pre>{0} (0x{0:x})</pre>'.format(n)\n",
    "\n",
    "@htmlize.register(tuple)\n",
    "@htmlize.register(abc.MutableSequence)\n",
    "def _(seq):\n",
    "    inner = '<li>\\n<li>'.join(htmlize(item) for item in seq)\n",
    "    return '<ul>\\n<li>' + inner + '<li>\\n<ul>'"
   ]
  },
  {
   "cell_type": "code",
   "execution_count": 193,
   "metadata": {
    "collapsed": false
   },
   "outputs": [
    {
     "name": "stdout",
     "output_type": "stream",
     "text": [
      "String:  <p>abc</p>\n",
      "Number:  <pre>123 (0x7b)</pre>\n",
      "Sequence:\n",
      " <ul>\n",
      "<li><p>a</p><li>\n",
      "<li><p>b</p><li>\n",
      "<li><p>c</p><li>\n",
      "<ul>\n",
      "not specified handler, for dict:  <pre>{&#x27;a&#x27;: 1, &#x27;b&#x27;: 2}</pre>\n"
     ]
    }
   ],
   "source": [
    "print('String: ', htmlize('abc'))\n",
    "print('Number: ', htmlize(123))\n",
    "print('Sequence:\\n', htmlize(('a','b','c')))\n",
    "print('not specified handler, for dict: ', htmlize({'a':1,'b':2}))"
   ]
  },
  {
   "cell_type": "markdown",
   "metadata": {},
   "source": [
    "#### 叠放装饰器"
   ]
  },
  {
   "cell_type": "markdown",
   "metadata": {},
   "source": [
    "#### 参数化装饰器"
   ]
  },
  {
   "cell_type": "code",
   "execution_count": 231,
   "metadata": {
    "collapsed": false
   },
   "outputs": [
    {
     "name": "stdout",
     "output_type": "stream",
     "text": [
      "running register(<function f1 at 0x0000021803AA2950>)\n",
      "First register f1:  {<function f1 at 0x0000021803AA2950>}\n"
     ]
    }
   ],
   "source": [
    "registry = set()\n",
    "\n",
    "def register(active=True):\n",
    "    \n",
    "    def decorate(func):\n",
    "        if active:\n",
    "            print('running register(%s)' % func)\n",
    "            registry.add(func)\n",
    "        else:\n",
    "            print('discard (%s)' % func)\n",
    "            registry.discard(func)\n",
    "        \n",
    "        return func\n",
    "    \n",
    "    return decorate\n",
    "\n",
    "@register()\n",
    "def f1():\n",
    "    print('running f1')\n",
    "\n",
    "print('First register f1: ', registry)"
   ]
  },
  {
   "cell_type": "code",
   "execution_count": 232,
   "metadata": {
    "collapsed": false
   },
   "outputs": [
    {
     "name": "stdout",
     "output_type": "stream",
     "text": [
      "discard (<function f1 at 0x0000021803AA2950>)\n",
      "Discard f1:  set()\n"
     ]
    }
   ],
   "source": [
    "register(active=False)(f1)\n",
    "\n",
    "print('Discard f1: ', registry)"
   ]
  },
  {
   "cell_type": "markdown",
   "metadata": {},
   "source": [
    "##### Part III. 类\n",
    "###### Term 23 - 接口\n",
    "简单的接口应该接受函数，而不是类的实例"
   ]
  },
  {
   "cell_type": "code",
   "execution_count": 104,
   "metadata": {
    "collapsed": false
   },
   "outputs": [
    {
     "name": "stdout",
     "output_type": "stream",
     "text": [
      "Key added\n"
     ]
    }
   ],
   "source": [
    "from collections import defaultdict\n",
    "\n",
    "def log_missing():\n",
    "    print('Key added')\n",
    "    return 0\n",
    "\n",
    "result = defaultdict(log_missing)    # 所以给它int，list，dict 实际上是传递了一个构造函数，如果没有调用返回默认值\n",
    "result['A'] += 1 "
   ]
  },
  {
   "cell_type": "markdown",
   "metadata": {
    "collapsed": true
   },
   "source": [
    "##### 多态\n",
    "* mapReduce示例，定义InputData，Worker两个基类。InputData定义了read()接口，Worker定义了map(),reduce()接口。\n",
    "* 问题是，我们需要一些辅助函数gnerate_input，create_worker etc把功能链接起来\n",
    "* generate_input是和InputData绑定的，不同的类别有自己generate_input的方法，需要多态\n",
    "* create_worker是统一的。我们不想为了每一个InputData重写worker level的辅助函数"
   ]
  },
  {
   "cell_type": "markdown",
   "metadata": {},
   "source": [
    "###### @classmethod"
   ]
  },
  {
   "cell_type": "code",
   "execution_count": 14,
   "metadata": {
    "collapsed": true
   },
   "outputs": [],
   "source": [
    "# classmethod passed in class, rather then instance\n",
    "class Demo:\n",
    "    @classmethod\n",
    "    def klassmeth(*args):\n",
    "        return args\n",
    "    \n",
    "    @staticmethod\n",
    "    def statmeth(*args):\n",
    "        return args"
   ]
  },
  {
   "cell_type": "markdown",
   "metadata": {},
   "source": [
    "* passed in class"
   ]
  },
  {
   "cell_type": "code",
   "execution_count": 11,
   "metadata": {
    "collapsed": false
   },
   "outputs": [
    {
     "data": {
      "text/plain": [
       "(__main__.Demo,)"
      ]
     },
     "execution_count": 11,
     "metadata": {},
     "output_type": "execute_result"
    }
   ],
   "source": [
    "Demo.klassmeth()"
   ]
  },
  {
   "cell_type": "markdown",
   "metadata": {},
   "source": [
    "* staticmethod passed in only arguments"
   ]
  },
  {
   "cell_type": "code",
   "execution_count": 12,
   "metadata": {
    "collapsed": false
   },
   "outputs": [
    {
     "data": {
      "text/plain": [
       "()"
      ]
     },
     "execution_count": 12,
     "metadata": {},
     "output_type": "execute_result"
    }
   ],
   "source": [
    "Demo.statmeth()"
   ]
  },
  {
   "cell_type": "code",
   "execution_count": 13,
   "metadata": {
    "collapsed": false
   },
   "outputs": [
    {
     "data": {
      "text/plain": [
       "('spma',)"
      ]
     },
     "execution_count": 13,
     "metadata": {},
     "output_type": "execute_result"
    }
   ],
   "source": [
    "Demo.statmeth('spma')"
   ]
  },
  {
   "cell_type": "markdown",
   "metadata": {},
   "source": [
    "* 该例中classmethod起到了工厂函数的作用，工厂函数是要产生对象，所以必须在类方法上定义，而非实例方法。"
   ]
  },
  {
   "cell_type": "code",
   "execution_count": 56,
   "metadata": {
    "collapsed": true
   },
   "outputs": [],
   "source": [
    "import os\n",
    "class InputData(object):\n",
    "    def read(self):\n",
    "        raise NotImplementedError\n",
    "    \n",
    "    @classmethod\n",
    "    def generate_inputs(cls, config):\n",
    "        raise NotImplementedError\n",
    "        \n",
    "class PathInputData(object):\n",
    "    def __init__(self, path):\n",
    "        super().__init__()\n",
    "        self.path = path\n",
    "    \n",
    "    def read(self):\n",
    "        return open(self.path, 'rb').read().decode('utf-8')\n",
    "    \n",
    "    @classmethod\n",
    "    def generate_inputs(cls, config):\n",
    "        data_dir = config['data_dir']\n",
    "        for name in os.listdir(data_dir):\n",
    "            yield cls(os.path.join(data_dir, name))"
   ]
  },
  {
   "cell_type": "code",
   "execution_count": 61,
   "metadata": {
    "collapsed": true
   },
   "outputs": [],
   "source": [
    "class Worker(object):\n",
    "    def __init__(self, input_data):\n",
    "        self.input_data = input_data\n",
    "        self.result = None\n",
    "    \n",
    "    def map(self):\n",
    "        raise NotImplementedError\n",
    "        \n",
    "    def reduce(self):\n",
    "        raise NotImplementedError\n",
    "        \n",
    "    @classmethod\n",
    "    def create_workers(cls, input_class, config):\n",
    "        workers = []\n",
    "        for input_data in input_class.generate_inputs(config):\n",
    "            workers.append(cls(input_data))\n",
    "        return workers\n",
    "\n",
    "class LineCountWorker(Worker):\n",
    "    def map(self):\n",
    "        data = self.input_data.read()\n",
    "        self.result = data.count('\\n')\n",
    "    \n",
    "    def reduce(self, other):\n",
    "        self.result += other.result"
   ]
  },
  {
   "cell_type": "code",
   "execution_count": 62,
   "metadata": {
    "collapsed": false
   },
   "outputs": [
    {
     "name": "stdout",
     "output_type": "stream",
     "text": [
      "sample test\n",
      "sample test2\n",
      "sample test3\n"
     ]
    }
   ],
   "source": [
    "config = {'data_dir':'sample'}\n",
    "workers = LineCountWorker.create_workers(PathInputData, config)"
   ]
  },
  {
   "cell_type": "code",
   "execution_count": 69,
   "metadata": {
    "collapsed": false
   },
   "outputs": [
    {
     "name": "stdout",
     "output_type": "stream",
     "text": [
      "2\n"
     ]
    }
   ],
   "source": [
    "workers[1].map()\n",
    "workers[1].reduce(workers[0])\n",
    "print(workers[1].result)"
   ]
  },
  {
   "cell_type": "markdown",
   "metadata": {},
   "source": [
    "##### 2. classmethod实现备选构造方法"
   ]
  },
  {
   "cell_type": "code",
   "execution_count": 1,
   "metadata": {
    "collapsed": true
   },
   "outputs": [],
   "source": [
    "from array import array\n",
    "import math\n",
    "\n",
    "class Vector2d:\n",
    "    typecode = 'd'\n",
    "    \n",
    "    def __init__(self, x, y):\n",
    "        self.__x = float(x)\n",
    "        self.__y = float(y)\n",
    "        \n",
    "    @classmethod\n",
    "    def frombytes(cls, octets):\n",
    "        typecode = chr(octets[0])\n",
    "        memv = memoryview(octets[1:]).cast(typecode)\n",
    "        return cls(*memv)\n",
    "        \n",
    "    def __iter__(self):\n",
    "        return (i for i in (self.x, self.y))\n",
    "    \n",
    "    def __repr__(self):\n",
    "        class_name = type(self).__name__\n",
    "        return '{}({!r}, {!r})'.format(class_name, *self)\n",
    "    \n",
    "    def __bytes__(self):\n",
    "        return (bytes([ord(self.typecode)]) + \n",
    "               bytes(array(self.typecode, self)))\n",
    "    \n",
    "    def __abs__(self):\n",
    "        return math.hypot(self.x, self.y)\n",
    "    \n",
    "    def __bool__(self):\n",
    "        return bool(abs(self))\n",
    "    \n",
    "    # make vector2d hashable \n",
    "    @property\n",
    "    def x(self):\n",
    "        return self.__x\n",
    "    \n",
    "    @property\n",
    "    def y(self):\n",
    "        return self.__y\n",
    "    \n",
    "    def __hash__(self):\n",
    "        return hash(self.x) ^ hash(self.y)"
   ]
  },
  {
   "cell_type": "markdown",
   "metadata": {},
   "source": [
    "* 可散列的对象必须实现\\__hash\\__方法 和\\__eq\\__\n",
    "* 保证在 a== b 为真的情况下 hash(a) == hash(b) 也必定为真。否则就会破坏恒定的散列表算法，导致由这些对象所组成的字典和集合完全失去可靠性，这个后果是非常可怕的。"
   ]
  },
  {
   "cell_type": "code",
   "execution_count": 2,
   "metadata": {
    "collapsed": true
   },
   "outputs": [],
   "source": [
    "v1 = Vector2d(3, 4)\n",
    "v2 = Vector2d(3.1, 4.2)"
   ]
  },
  {
   "cell_type": "code",
   "execution_count": 3,
   "metadata": {
    "collapsed": false
   },
   "outputs": [
    {
     "name": "stdout",
     "output_type": "stream",
     "text": [
      "(7, 537100288)\n"
     ]
    },
    {
     "data": {
      "text/plain": [
       "{instance(3.0, 4.0), instance(3.1, 4.2)}"
      ]
     },
     "execution_count": 3,
     "metadata": {},
     "output_type": "execute_result"
    }
   ],
   "source": [
    "print(hash(v1), hash(v2))\n",
    "set([v1, v2])"
   ]
  },
  {
   "cell_type": "markdown",
   "metadata": {},
   "source": [
    "* \\__repr\\__ 方法使用 **{!r}** 获取各个分量的表示形式，然后插值，构成一个字符串"
   ]
  },
  {
   "cell_type": "code",
   "execution_count": 33,
   "metadata": {
    "collapsed": false
   },
   "outputs": [
    {
     "name": "stdout",
     "output_type": "stream",
     "text": [
      "test __iter__:  [1.0, 2.0]\n",
      "test __repr__:  Vector2d(1.0, 2.0)\n"
     ]
    }
   ],
   "source": [
    "v = Vector2d(1, 2)\n",
    "print('test __iter__: ', [x for x in v])\n",
    "print('test __repr__: ', v)"
   ]
  },
  {
   "cell_type": "code",
   "execution_count": 34,
   "metadata": {
    "collapsed": false
   },
   "outputs": [
    {
     "name": "stdout",
     "output_type": "stream",
     "text": [
      "test __bytes__:  b'd\\x00\\x00\\x00\\x00\\x00\\x00\\x00\\x00\\x00\\x00\\x00\\x00\\x00\\x00\\x00\\x00'\n"
     ]
    }
   ],
   "source": [
    "print('test __bytes__: ', bytes(v2))"
   ]
  },
  {
   "cell_type": "code",
   "execution_count": null,
   "metadata": {
    "collapsed": true
   },
   "outputs": [],
   "source": [
    "v2 = Vector2d(0,0)\n",
    "print('test __abs__: ', abs(v))\n",
    "print('test __abs__: ', abs(v2))"
   ]
  },
  {
   "cell_type": "markdown",
   "metadata": {},
   "source": [
    "* python不支持函数重载，所以我们不能重载构造函数\n",
    "* classmethod的trick是，重新命名一个函数名，但是可以把类对象给它，变相的实现的重载的功能"
   ]
  },
  {
   "cell_type": "markdown",
   "metadata": {},
   "source": [
    "###### repr vs str\n",
    "* repr() 以便于开发者理解的方式返回对象的字符串表示形式。\n",
    "* str() 以便于用户理解的方式返回对象的字符串表示形式。"
   ]
  },
  {
   "cell_type": "markdown",
   "metadata": {},
   "source": [
    "###### Great example for bytes repr\n",
    "* chr()\n",
    "* octets\n",
    "* memoryview\n",
    "* typecode"
   ]
  },
  {
   "cell_type": "code",
   "execution_count": 40,
   "metadata": {
    "collapsed": false
   },
   "outputs": [
    {
     "name": "stdout",
     "output_type": "stream",
     "text": [
      "test classmethod:  Vector2d(1.0, 2.0)\n"
     ]
    }
   ],
   "source": [
    "bytes_repr = bytes(v)\n",
    "constructed_from_bytes = Vector2d.frombytes(bytes_repr)\n",
    "print(\"test classmethod: \", constructed_from_bytes)"
   ]
  },
  {
   "cell_type": "markdown",
   "metadata": {},
   "source": [
    "### 序列\n",
    "###### 容器序列\n",
    "* list、tuple 和 collections.deque 这些序列能存放不同类型的数据\n",
    "* 容器序列里储存的是对象引用\n",
    "\n",
    "###### 扁平序列\n",
    "* str、bytes、bytearray、memoryview 和 array.array，这类序列只能容纳一种类型\n",
    "* 扁平序列里储存的是值\n",
    "\n",
    "###### 可变序列\n",
    "* list、bytearray、array.array、collections.deque 和 memoryview\n",
    "\n",
    "###### 不可变序列\n",
    "* tuple、str 和 bytes"
   ]
  },
  {
   "cell_type": "markdown",
   "metadata": {},
   "source": [
    "### 文本和字节序列\n",
    "fluent python, 正确理解字符，人类可读的字节序列，字符编码，字节，字节流，解码\n",
    "\n",
    "* 人类可读的字节序列\n",
    "* unicode字符串\n",
    "* 二进制序列：bytes, bytearray, memoryview\n"
   ]
  },
  {
   "cell_type": "code",
   "execution_count": 68,
   "metadata": {
    "collapsed": true
   },
   "outputs": [],
   "source": [
    "def test_encoding(uni):\n",
    "    unicodes_ = uni\n",
    "    bytes_ = unicodes_.encode(\"utf-8\")\n",
    "    print(\"bytes:\", type(bytes_), bytes_)\n",
    "    print(\"unicodes: \", type(unicodes_), unicodes_)"
   ]
  },
  {
   "cell_type": "code",
   "execution_count": 71,
   "metadata": {
    "collapsed": false
   },
   "outputs": [
    {
     "name": "stdout",
     "output_type": "stream",
     "text": [
      "bytes: <class 'bytes'> b'\\xe4\\xb8\\xad\\xe5\\x9b\\xbd'\n",
      "unicodes:  <class 'str'> 中国\n"
     ]
    }
   ],
   "source": [
    "test_encoding('中国')"
   ]
  },
  {
   "cell_type": "code",
   "execution_count": 70,
   "metadata": {
    "collapsed": false
   },
   "outputs": [
    {
     "name": "stdout",
     "output_type": "stream",
     "text": [
      "bytes: <class 'bytes'> b'China'\n",
      "unicodes:  <class 'str'> China\n"
     ]
    }
   ],
   "source": [
    "test_encoding('China')"
   ]
  },
  {
   "cell_type": "markdown",
   "metadata": {},
   "source": [
    "##### bypes vs bytearray\n",
    "* Python 3引入的不可变bytes类型和Python 2.6添加的bytearray可变类型。\n",
    "* bytes或bytearray对象的各个元素是介于0~255（含）之间的整数"
   ]
  },
  {
   "cell_type": "code",
   "execution_count": 105,
   "metadata": {
    "collapsed": false
   },
   "outputs": [
    {
     "name": "stdout",
     "output_type": "stream",
     "text": [
      "99 bytearray(b'c')\n"
     ]
    }
   ],
   "source": [
    "cafe = bytes('caf', encoding='utf_8')\n",
    "cafe_arr = bytearray(cafe)\n",
    "cafe_arr += bytearray(b'\\xc3\\xa9')\n",
    "\n",
    "print(cafe_arr[0], cafe_arr[:1])       # bytearray[0]取得的是一个整数，bytearray[:1]是一个切片"
   ]
  },
  {
   "cell_type": "code",
   "execution_count": 93,
   "metadata": {
    "collapsed": false
   },
   "outputs": [
    {
     "name": "stdout",
     "output_type": "stream",
     "text": [
      "bytearray(b'caf\\xc3\\xa9')\n",
      "café\n",
      "99 bytearray(b'c')\n"
     ]
    }
   ],
   "source": [
    "print(cafe_arr)\n",
    "print(cafe_arr.decode('utf-8'))"
   ]
  },
  {
   "cell_type": "markdown",
   "metadata": {},
   "source": [
    "#### encoding and files"
   ]
  },
  {
   "cell_type": "code",
   "execution_count": 109,
   "metadata": {
    "collapsed": false
   },
   "outputs": [
    {
     "data": {
      "text/plain": [
       "4"
      ]
     },
     "execution_count": 109,
     "metadata": {},
     "output_type": "execute_result"
    }
   ],
   "source": [
    "open('sample/cafe.txt', 'w', encoding='utf-8').write('café')"
   ]
  },
  {
   "cell_type": "code",
   "execution_count": 110,
   "metadata": {
    "collapsed": false
   },
   "outputs": [
    {
     "data": {
      "text/plain": [
       "'caf茅'"
      ]
     },
     "execution_count": 110,
     "metadata": {},
     "output_type": "execute_result"
    }
   ],
   "source": [
    "open('sample/cafe.txt').read()"
   ]
  },
  {
   "cell_type": "code",
   "execution_count": 120,
   "metadata": {
    "collapsed": false
   },
   "outputs": [
    {
     "data": {
      "text/plain": [
       "'café'"
      ]
     },
     "execution_count": 120,
     "metadata": {},
     "output_type": "execute_result"
    }
   ],
   "source": [
    " open('sample/cafe.txt', encoding='utf-8').read()    "
   ]
  },
  {
   "cell_type": "markdown",
   "metadata": {},
   "source": [
    "##### python 2, 3\n",
    "* py23, python2 str is bytes, but python3 str is unicode. So how to write a open function work for both\n",
    "* 所以用‘rb’ option强制读出的是bytes而不是unicode，再多bytes解码"
   ]
  },
  {
   "cell_type": "code",
   "execution_count": 119,
   "metadata": {
    "collapsed": false
   },
   "outputs": [
    {
     "data": {
      "text/plain": [
       "'café'"
      ]
     },
     "execution_count": 119,
     "metadata": {},
     "output_type": "execute_result"
    }
   ],
   "source": [
    "open('sample/cafe.txt', 'rb').read().decode('utf-8')"
   ]
  },
  {
   "cell_type": "markdown",
   "metadata": {},
   "source": [
    "#### Term 25 用super初始化父类 (继承）\n",
    "* 一般继承方法，再子类里调用父类的\\__init\\__\n",
    "* super\n",
    "    * python 2：super(Child, self).\\__init\\__()\n",
    "    * python 3: super().\\__init\\__()\n",
    "    \n",
    "###### 继承中的常见问题\n",
    "* 多重继承，初始化顺序不确定"
   ]
  },
  {
   "cell_type": "code",
   "execution_count": 165,
   "metadata": {
    "collapsed": true
   },
   "outputs": [],
   "source": [
    "class BaseA(object):\n",
    "    def __init__(self):\n",
    "        print('Initialized Base A')\n",
    "\n",
    "class BaseB(object):\n",
    "    def __init__(self):\n",
    "        print('Initialized Base B')\n",
    "\n",
    "class Child(BaseA, BaseB):\n",
    "    pass\n",
    "        \n",
    "class Child2(BaseB, BaseA):\n",
    "    pass"
   ]
  },
  {
   "cell_type": "markdown",
   "metadata": {},
   "source": [
    "##### MRO\n",
    "* method resolution order, 调用这个方法可以看到规定的标准化的类的初始化顺序\n",
    "* Child，Child2由于签名写的不同，父类的初始化顺序不同"
   ]
  },
  {
   "cell_type": "code",
   "execution_count": 166,
   "metadata": {
    "collapsed": false
   },
   "outputs": [
    {
     "name": "stdout",
     "output_type": "stream",
     "text": [
      "[<class '__main__.Child'>, <class '__main__.BaseA'>, <class '__main__.BaseB'>, <class 'object'>]\n",
      "Initialized Base A\n",
      "<__main__.Child object at 0x0000018B82DC0A58>\n"
     ]
    }
   ],
   "source": [
    "print(Child.mro())\n",
    "print(Child())"
   ]
  },
  {
   "cell_type": "code",
   "execution_count": 167,
   "metadata": {
    "collapsed": false
   },
   "outputs": [
    {
     "name": "stdout",
     "output_type": "stream",
     "text": [
      "[<class '__main__.Child2'>, <class '__main__.BaseB'>, <class '__main__.BaseA'>, <class 'object'>]\n",
      "Initialized Base B\n",
      "<__main__.Child2 object at 0x0000018B82D9D780>\n"
     ]
    }
   ],
   "source": [
    "print(Child2.mro())\n",
    "print(Child2())"
   ]
  },
  {
   "cell_type": "markdown",
   "metadata": {},
   "source": [
    "#### Diamond \n",
    "* 钻石形状继承，会让公共基类多次初始化"
   ]
  },
  {
   "cell_type": "code",
   "execution_count": 206,
   "metadata": {
    "collapsed": true
   },
   "outputs": [],
   "source": [
    "class Base(object):\n",
    "    data = 0\n",
    "    def __init__(self, value):\n",
    "        print('Base Constractor called')\n",
    "        self.data += value\n",
    "\n",
    "class BaseC(Base):\n",
    "    def __init__(self, value):\n",
    "        Base.__init__(self, value)\n",
    "\n",
    "class BaseD(Base):\n",
    "    def __init__(self, value):\n",
    "        Base.__init__(self, value)\n",
    "\n",
    "class Plus2(BaseC, BaseD):\n",
    "    def __init__(self, value):\n",
    "        BaseC.__init__(self, value)\n",
    "        BaseD.__init__(self, value)"
   ]
  },
  {
   "cell_type": "code",
   "execution_count": 207,
   "metadata": {
    "collapsed": false
   },
   "outputs": [
    {
     "name": "stdout",
     "output_type": "stream",
     "text": [
      "[<class '__main__.Plus2'>, <class '__main__.BaseC'>, <class '__main__.BaseD'>, <class '__main__.Base'>, <class 'object'>]\n",
      "Base Constractor called\n",
      "Base Constractor called\n",
      "4\n"
     ]
    }
   ],
   "source": [
    "print(Plus2.mro())\n",
    "p = Plus2(2)\n",
    "print(p.data)"
   ]
  },
  {
   "cell_type": "markdown",
   "metadata": {},
   "source": [
    "* 使用super，公共基类只会初始化一次"
   ]
  },
  {
   "cell_type": "code",
   "execution_count": 208,
   "metadata": {
    "collapsed": true
   },
   "outputs": [],
   "source": [
    "class BaseE(Base):\n",
    "    def __init__(self, value):\n",
    "        print('BaseC Constractor called')\n",
    "        super().__init__(value)\n",
    "\n",
    "class BaseF(Base):\n",
    "    def __init__(self, value):\n",
    "        print('BaseD Constractor called')\n",
    "        super().__init__(value)\n",
    "\n",
    "class Plus2D(BaseE, BaseF):\n",
    "    def __init__(self, value):\n",
    "        super().__init__(value)"
   ]
  },
  {
   "cell_type": "code",
   "execution_count": 209,
   "metadata": {
    "collapsed": false
   },
   "outputs": [
    {
     "name": "stdout",
     "output_type": "stream",
     "text": [
      "BaseC Constractor called\n",
      "BaseD Constractor called\n",
      "Base Constractor called\n",
      "2\n"
     ]
    }
   ],
   "source": [
    "p = Plus2D(2)\n",
    "print(p.data)"
   ]
  },
  {
   "cell_type": "markdown",
   "metadata": {},
   "source": [
    "* super在parent signature不明确的时候会造成混乱，根据MRO顺序进行初始化，但是参数怎么分配呢"
   ]
  },
  {
   "cell_type": "code",
   "execution_count": 249,
   "metadata": {
    "collapsed": true
   },
   "outputs": [],
   "source": [
    "class BaseE(Base):\n",
    "    def __init__(self, a, b):\n",
    "        print('BaseC Constractor called')\n",
    "        super().__init__(a)\n",
    "        self.b = b\n",
    "\n",
    "class BaseF(Base):\n",
    "    def __init__(self, a, d):\n",
    "        print('BaseD Constractor called')\n",
    "        super().__init__(a)\n",
    "\n",
    "class Thrid(BaseE, BaseF):\n",
    "    def __init__(self, a, b):\n",
    "        super().__init__(a, b)"
   ]
  },
  {
   "cell_type": "code",
   "execution_count": 250,
   "metadata": {
    "collapsed": false
   },
   "outputs": [
    {
     "name": "stdout",
     "output_type": "stream",
     "text": [
      "BaseC Constractor called\n"
     ]
    },
    {
     "ename": "TypeError",
     "evalue": "__init__() missing 1 required positional argument: 'd'",
     "output_type": "error",
     "traceback": [
      "\u001b[1;31m---------------------------------------------------------------------------\u001b[0m",
      "\u001b[1;31mTypeError\u001b[0m                                 Traceback (most recent call last)",
      "\u001b[1;32m<ipython-input-250-b0a2d0626b50>\u001b[0m in \u001b[0;36m<module>\u001b[1;34m()\u001b[0m\n\u001b[1;32m----> 1\u001b[1;33m \u001b[0mThrid\u001b[0m\u001b[1;33m(\u001b[0m\u001b[1;36m1\u001b[0m\u001b[1;33m,\u001b[0m\u001b[1;36m3\u001b[0m\u001b[1;33m)\u001b[0m\u001b[1;33m\u001b[0m\u001b[0m\n\u001b[0m",
      "\u001b[1;32m<ipython-input-249-a6df49cbaf86>\u001b[0m in \u001b[0;36m__init__\u001b[1;34m(self, a, b)\u001b[0m\n\u001b[0;32m     12\u001b[0m \u001b[1;32mclass\u001b[0m \u001b[0mThrid\u001b[0m\u001b[1;33m(\u001b[0m\u001b[0mBaseE\u001b[0m\u001b[1;33m,\u001b[0m \u001b[0mBaseF\u001b[0m\u001b[1;33m)\u001b[0m\u001b[1;33m:\u001b[0m\u001b[1;33m\u001b[0m\u001b[0m\n\u001b[0;32m     13\u001b[0m     \u001b[1;32mdef\u001b[0m \u001b[0m__init__\u001b[0m\u001b[1;33m(\u001b[0m\u001b[0mself\u001b[0m\u001b[1;33m,\u001b[0m \u001b[0ma\u001b[0m\u001b[1;33m,\u001b[0m \u001b[0mb\u001b[0m\u001b[1;33m)\u001b[0m\u001b[1;33m:\u001b[0m\u001b[1;33m\u001b[0m\u001b[0m\n\u001b[1;32m---> 14\u001b[1;33m         \u001b[0msuper\u001b[0m\u001b[1;33m(\u001b[0m\u001b[1;33m)\u001b[0m\u001b[1;33m.\u001b[0m\u001b[0m__init__\u001b[0m\u001b[1;33m(\u001b[0m\u001b[0ma\u001b[0m\u001b[1;33m,\u001b[0m \u001b[0mb\u001b[0m\u001b[1;33m)\u001b[0m\u001b[1;33m\u001b[0m\u001b[0m\n\u001b[0m",
      "\u001b[1;32m<ipython-input-249-a6df49cbaf86>\u001b[0m in \u001b[0;36m__init__\u001b[1;34m(self, a, b)\u001b[0m\n\u001b[0;32m      2\u001b[0m     \u001b[1;32mdef\u001b[0m \u001b[0m__init__\u001b[0m\u001b[1;33m(\u001b[0m\u001b[0mself\u001b[0m\u001b[1;33m,\u001b[0m \u001b[0ma\u001b[0m\u001b[1;33m,\u001b[0m \u001b[0mb\u001b[0m\u001b[1;33m)\u001b[0m\u001b[1;33m:\u001b[0m\u001b[1;33m\u001b[0m\u001b[0m\n\u001b[0;32m      3\u001b[0m         \u001b[0mprint\u001b[0m\u001b[1;33m(\u001b[0m\u001b[1;34m'BaseC Constractor called'\u001b[0m\u001b[1;33m)\u001b[0m\u001b[1;33m\u001b[0m\u001b[0m\n\u001b[1;32m----> 4\u001b[1;33m         \u001b[0msuper\u001b[0m\u001b[1;33m(\u001b[0m\u001b[1;33m)\u001b[0m\u001b[1;33m.\u001b[0m\u001b[0m__init__\u001b[0m\u001b[1;33m(\u001b[0m\u001b[0ma\u001b[0m\u001b[1;33m)\u001b[0m\u001b[1;33m\u001b[0m\u001b[0m\n\u001b[0m\u001b[0;32m      5\u001b[0m         \u001b[0mself\u001b[0m\u001b[1;33m.\u001b[0m\u001b[0mb\u001b[0m \u001b[1;33m=\u001b[0m \u001b[0mb\u001b[0m\u001b[1;33m\u001b[0m\u001b[0m\n\u001b[0;32m      6\u001b[0m \u001b[1;33m\u001b[0m\u001b[0m\n",
      "\u001b[1;31mTypeError\u001b[0m: __init__() missing 1 required positional argument: 'd'"
     ]
    }
   ],
   "source": [
    "Thrid(1,3)"
   ]
  },
  {
   "cell_type": "code",
   "execution_count": 213,
   "metadata": {
    "collapsed": false
   },
   "outputs": [
    {
     "data": {
      "text/plain": [
       "(2, 3)"
      ]
     },
     "execution_count": 213,
     "metadata": {},
     "output_type": "execute_result"
    }
   ],
   "source": [
    "t.data, t.b"
   ]
  },
  {
   "cell_type": "markdown",
   "metadata": {},
   "source": [
    "###### Mix-in"
   ]
  },
  {
   "cell_type": "code",
   "execution_count": 260,
   "metadata": {
    "collapsed": true
   },
   "outputs": [],
   "source": [
    "class ToDictMixin(object):\n",
    "    def to_dict(self):\n",
    "        return self._traverse_dict(self.__dict__)\n",
    "    \n",
    "    def _traverse_dict(self, instance_dict):\n",
    "        output = {}\n",
    "        for k, v in instance_dict.items():\n",
    "            output[k] = self._traverse(k, v)\n",
    "        return output\n",
    "    \n",
    "    def _traverse(self, k, v):\n",
    "        if isinstance(v, ToDictMixin):\n",
    "            return v.to_dict()\n",
    "        elif isinstance(v, dict):\n",
    "            return self._traverse_dict(v)\n",
    "        elif isinstance(v, list):\n",
    "            return [self._traverse(k, i) for i in value]\n",
    "        elif hasattr(v, '__dict__'):\n",
    "            return self._traverse_dict(v.__dict__)\n",
    "        else:\n",
    "            return v\n",
    "        \n",
    "class BinaryTree(ToDictMixin):\n",
    "    \n",
    "    def __init__(self, value, left=None, right=None):\n",
    "        self.value = value\n",
    "        self.left = left\n",
    "        self.right = right"
   ]
  },
  {
   "cell_type": "code",
   "execution_count": 262,
   "metadata": {
    "collapsed": false
   },
   "outputs": [
    {
     "name": "stdout",
     "output_type": "stream",
     "text": [
      "{'value': 10, 'right': {'value': 13, 'right': None, 'left': None}, 'left': {'value': 7, 'right': {'value': 9, 'right': None, 'left': None}, 'left': None}}\n"
     ]
    }
   ],
   "source": [
    "t = BinaryTree(10, left=BinaryTree(7, right=BinaryTree(9)), right=BinaryTree(13))\n",
    "print(t.to_dict())"
   ]
  },
  {
   "cell_type": "markdown",
   "metadata": {
    "collapsed": true
   },
   "source": [
    "#### Public vs private\n",
    "如果以 \\__mood 的形式（两个前导下划线，尾部没有或最多有一个下划线）命名实例属性，Python 会把属性名存入实例的\\__dict\\__ 属性中，而且会在前面加上一个下划线和类名。因此，对Dog 类来说，\\__mood 会变成 _Dog\\__mood；对 Beagle 类来说，会变成 _Beagle\\__mood。这个语言特性叫名称改写（name mangling）\n",
    "* 但是python只是改名，用户如果知道规则也是可以访问"
   ]
  },
  {
   "cell_type": "code",
   "execution_count": 12,
   "metadata": {
    "collapsed": true
   },
   "outputs": [],
   "source": [
    "class MyObject(object):\n",
    "    \n",
    "    def __init__(self):\n",
    "        self.public_field = 5\n",
    "        self.__private_field = 10\n",
    "    \n",
    "    @property\n",
    "    def field(self):\n",
    "        return self.__private_field"
   ]
  },
  {
   "cell_type": "markdown",
   "metadata": {},
   "source": [
    "* 直接访问私有属性会报错"
   ]
  },
  {
   "cell_type": "code",
   "execution_count": 13,
   "metadata": {
    "collapsed": false
   },
   "outputs": [
    {
     "ename": "AttributeError",
     "evalue": "'MyObject' object has no attribute '__private_field'",
     "output_type": "error",
     "traceback": [
      "\u001b[1;31m---------------------------------------------------------------------------\u001b[0m",
      "\u001b[1;31mAttributeError\u001b[0m                            Traceback (most recent call last)",
      "\u001b[1;32m<ipython-input-13-ee58b819a882>\u001b[0m in \u001b[0;36m<module>\u001b[1;34m()\u001b[0m\n\u001b[1;32m----> 1\u001b[1;33m \u001b[0mMyObject\u001b[0m\u001b[1;33m(\u001b[0m\u001b[1;33m)\u001b[0m\u001b[1;33m.\u001b[0m\u001b[0m__private_field\u001b[0m\u001b[1;33m\u001b[0m\u001b[0m\n\u001b[0m",
      "\u001b[1;31mAttributeError\u001b[0m: 'MyObject' object has no attribute '__private_field'"
     ]
    }
   ],
   "source": [
    "MyObject().__private_field"
   ]
  },
  {
   "cell_type": "markdown",
   "metadata": {},
   "source": [
    "* 用户通过改名的手段，来访问"
   ]
  },
  {
   "cell_type": "code",
   "execution_count": 24,
   "metadata": {
    "collapsed": false
   },
   "outputs": [
    {
     "data": {
      "text/plain": [
       "10"
      ]
     },
     "execution_count": 24,
     "metadata": {},
     "output_type": "execute_result"
    }
   ],
   "source": [
    "MyObject()._MyObject__private_field"
   ]
  },
  {
   "cell_type": "markdown",
   "metadata": {},
   "source": [
    "* 类自己的方法可以访问私有属性"
   ]
  },
  {
   "cell_type": "code",
   "execution_count": 15,
   "metadata": {
    "collapsed": false
   },
   "outputs": [
    {
     "data": {
      "text/plain": [
       "10"
      ]
     },
     "execution_count": 15,
     "metadata": {},
     "output_type": "execute_result"
    }
   ],
   "source": [
    "MyObject().field"
   ]
  },
  {
   "cell_type": "markdown",
   "metadata": {},
   "source": [
    "* 私有属性不能继承"
   ]
  },
  {
   "cell_type": "code",
   "execution_count": 16,
   "metadata": {
    "collapsed": true
   },
   "outputs": [],
   "source": [
    "class ChildObject(MyObject):\n",
    "    def get_parent_private_field(self):\n",
    "        return self.__private_field"
   ]
  },
  {
   "cell_type": "code",
   "execution_count": 9,
   "metadata": {
    "collapsed": false
   },
   "outputs": [
    {
     "ename": "AttributeError",
     "evalue": "'ChildObject' object has no attribute '_ChildObject__private_field'",
     "output_type": "error",
     "traceback": [
      "\u001b[1;31m---------------------------------------------------------------------------\u001b[0m",
      "\u001b[1;31mAttributeError\u001b[0m                            Traceback (most recent call last)",
      "\u001b[1;32m<ipython-input-9-1ecf8c046c6f>\u001b[0m in \u001b[0;36m<module>\u001b[1;34m()\u001b[0m\n\u001b[1;32m----> 1\u001b[1;33m \u001b[0mChildObject\u001b[0m\u001b[1;33m(\u001b[0m\u001b[1;33m)\u001b[0m\u001b[1;33m.\u001b[0m\u001b[0mget_parent_private_field\u001b[0m\u001b[1;33m(\u001b[0m\u001b[1;33m)\u001b[0m\u001b[1;33m\u001b[0m\u001b[0m\n\u001b[0m",
      "\u001b[1;32m<ipython-input-8-62692bf7acd8>\u001b[0m in \u001b[0;36mget_parent_private_field\u001b[1;34m(self)\u001b[0m\n\u001b[0;32m      2\u001b[0m \u001b[1;33m\u001b[0m\u001b[0m\n\u001b[0;32m      3\u001b[0m     \u001b[1;32mdef\u001b[0m \u001b[0mget_parent_private_field\u001b[0m\u001b[1;33m(\u001b[0m\u001b[0mself\u001b[0m\u001b[1;33m)\u001b[0m\u001b[1;33m:\u001b[0m\u001b[1;33m\u001b[0m\u001b[0m\n\u001b[1;32m----> 4\u001b[1;33m         \u001b[1;32mreturn\u001b[0m \u001b[0mself\u001b[0m\u001b[1;33m.\u001b[0m\u001b[0m__private_field\u001b[0m\u001b[1;33m\u001b[0m\u001b[0m\n\u001b[0m",
      "\u001b[1;31mAttributeError\u001b[0m: 'ChildObject' object has no attribute '_ChildObject__private_field'"
     ]
    }
   ],
   "source": [
    "ChildObject().get_parent_private_field()"
   ]
  },
  {
   "cell_type": "markdown",
   "metadata": {},
   "source": [
    "* hacky way to get parent class private attributes"
   ]
  },
  {
   "cell_type": "code",
   "execution_count": 11,
   "metadata": {
    "collapsed": false
   },
   "outputs": [
    {
     "data": {
      "text/plain": [
       "10"
      ]
     },
     "execution_count": 11,
     "metadata": {},
     "output_type": "execute_result"
    }
   ],
   "source": [
    "ChildObject()._MyObject__private_field"
   ]
  },
  {
   "cell_type": "markdown",
   "metadata": {},
   "source": [
    "##### abc，Abstract Base Class 定义抽象基类来规定子类必须实现的方法"
   ]
  },
  {
   "cell_type": "code",
   "execution_count": 22,
   "metadata": {
    "collapsed": true
   },
   "outputs": [],
   "source": [
    "from collections.abc import Sequence\n",
    "\n",
    "class BadType(Sequence):\n",
    "    pass"
   ]
  },
  {
   "cell_type": "code",
   "execution_count": 23,
   "metadata": {
    "collapsed": false
   },
   "outputs": [
    {
     "ename": "TypeError",
     "evalue": "Can't instantiate abstract class BadType with abstract methods __getitem__, __len__",
     "output_type": "error",
     "traceback": [
      "\u001b[1;31m---------------------------------------------------------------------------\u001b[0m",
      "\u001b[1;31mTypeError\u001b[0m                                 Traceback (most recent call last)",
      "\u001b[1;32m<ipython-input-23-b8aae466db87>\u001b[0m in \u001b[0;36m<module>\u001b[1;34m()\u001b[0m\n\u001b[1;32m----> 1\u001b[1;33m \u001b[0mfoo\u001b[0m \u001b[1;33m=\u001b[0m \u001b[0mBadType\u001b[0m\u001b[1;33m(\u001b[0m\u001b[1;33m)\u001b[0m\u001b[1;33m\u001b[0m\u001b[0m\n\u001b[0m",
      "\u001b[1;31mTypeError\u001b[0m: Can't instantiate abstract class BadType with abstract methods __getitem__, __len__"
     ]
    }
   ],
   "source": [
    "foo = BadType()"
   ]
  },
  {
   "cell_type": "markdown",
   "metadata": {},
   "source": [
    "#### abc vs duck typing\n",
    "* 协议是接口，但不是正式的（只由文档和约定定义）\n",
    "* 因此协议不能像正式接口那样施加限制, 抽象基类对接口一致性的强制\n",
    "* 一个类可能只实现部分接口，这是允许的"
   ]
  },
  {
   "cell_type": "code",
   "execution_count": 28,
   "metadata": {
    "collapsed": false
   },
   "outputs": [
    {
     "data": {
      "text/plain": [
       "<function collections.abc.Sequence.__contains__>"
      ]
     },
     "execution_count": 28,
     "metadata": {},
     "output_type": "execute_result"
    }
   ],
   "source": [
    "Sequence.__contains__"
   ]
  },
  {
   "cell_type": "code",
   "execution_count": 29,
   "metadata": {
    "collapsed": false
   },
   "outputs": [
    {
     "data": {
      "text/plain": [
       "<function collections.abc.Sequence.__iter__>"
      ]
     },
     "execution_count": 29,
     "metadata": {},
     "output_type": "execute_result"
    }
   ],
   "source": [
    "Sequence.__iter__"
   ]
  },
  {
   "cell_type": "code",
   "execution_count": 30,
   "metadata": {
    "collapsed": false
   },
   "outputs": [
    {
     "data": {
      "text/plain": [
       "<function collections.abc.Sized.__len__>"
      ]
     },
     "execution_count": 30,
     "metadata": {},
     "output_type": "execute_result"
    }
   ],
   "source": [
    "Sequence.__len__"
   ]
  },
  {
   "cell_type": "markdown",
   "metadata": {
    "collapsed": true
   },
   "source": [
    "### Inheritance - Py23 ???"
   ]
  },
  {
   "cell_type": "code",
   "execution_count": 67,
   "metadata": {
    "collapsed": true
   },
   "outputs": [],
   "source": [
    "from abc import ABC, ABCMeta\n",
    "\n",
    "class MyABC(metaclass=ABCMeta):\n",
    "    pass"
   ]
  },
  {
   "cell_type": "code",
   "execution_count": 68,
   "metadata": {
    "collapsed": false
   },
   "outputs": [
    {
     "data": {
      "text/plain": [
       "tuple"
      ]
     },
     "execution_count": 68,
     "metadata": {},
     "output_type": "execute_result"
    }
   ],
   "source": [
    "MyABC.register(tuple)"
   ]
  },
  {
   "cell_type": "code",
   "execution_count": 69,
   "metadata": {
    "collapsed": true
   },
   "outputs": [],
   "source": [
    "assert issubclass(tuple, MyABC)"
   ]
  },
  {
   "cell_type": "code",
   "execution_count": 70,
   "metadata": {
    "collapsed": false
   },
   "outputs": [
    {
     "data": {
      "text/plain": [
       "<__main__.MyABC at 0x13d127d3d68>"
      ]
     },
     "execution_count": 70,
     "metadata": {},
     "output_type": "execute_result"
    }
   ],
   "source": [
    "MyABC()"
   ]
  },
  {
   "cell_type": "code",
   "execution_count": 15,
   "metadata": {
    "collapsed": true
   },
   "outputs": [],
   "source": [
    "class MyClass():\n",
    "\n",
    "    def __init__(self, data):\n",
    "        self.data = data\n",
    "\n",
    "    def __str__(self):\n",
    "        return str(self.data)\n",
    "\n",
    "    def __len__(self):\n",
    "        return len(self.data)"
   ]
  },
  {
   "cell_type": "code",
   "execution_count": 16,
   "metadata": {
    "collapsed": true
   },
   "outputs": [],
   "source": [
    "ins = MyClass([1, 2, 3])"
   ]
  },
  {
   "cell_type": "code",
   "execution_count": 17,
   "metadata": {
    "collapsed": false
   },
   "outputs": [
    {
     "name": "stdout",
     "output_type": "stream",
     "text": [
      "[1, 2, 3]\n"
     ]
    }
   ],
   "source": [
    "print(ins)"
   ]
  },
  {
   "cell_type": "code",
   "execution_count": 18,
   "metadata": {
    "collapsed": false
   },
   "outputs": [
    {
     "data": {
      "text/plain": [
       "3"
      ]
     },
     "execution_count": 18,
     "metadata": {},
     "output_type": "execute_result"
    }
   ],
   "source": [
    "len(ins)"
   ]
  }
 ],
 "metadata": {
  "kernelspec": {
   "display_name": "Python 2",
   "language": "python",
   "name": "python2"
  },
  "language_info": {
   "codemirror_mode": {
    "name": "ipython",
    "version": 2
   },
   "file_extension": ".py",
   "mimetype": "text/x-python",
   "name": "python",
   "nbconvert_exporter": "python",
   "pygments_lexer": "ipython2",
   "version": "2.7.11"
  }
 },
 "nbformat": 4,
 "nbformat_minor": 1
}
