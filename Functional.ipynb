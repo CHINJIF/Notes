{
 "cells": [
  {
   "cell_type": "code",
   "execution_count": 1,
   "metadata": {},
   "outputs": [
    {
     "name": "stdout",
     "output_type": "stream",
     "text": [
      "23\n"
     ]
    }
   ],
   "source": [
    "s = 0\n",
    "for n in range(10):\n",
    "    if n%3 == 0 or n%5 == 0:\n",
    "        s += n\n",
    "print s"
   ]
  },
  {
   "cell_type": "code",
   "execution_count": 7,
   "metadata": {},
   "outputs": [
    {
     "data": {
      "text/plain": [
       "23"
      ]
     },
     "execution_count": 7,
     "metadata": {},
     "output_type": "execute_result"
    }
   ],
   "source": [
    "common_multiple_3_5 = [x for x in range(10) if x % 3 == 0 or x % 5 == 0]\n",
    "sum(common_multiple_3_5)"
   ]
  },
  {
   "cell_type": "markdown",
   "metadata": {},
   "source": [
    "q(f(g(n)))"
   ]
  },
  {
   "cell_type": "code",
   "execution_count": 28,
   "metadata": {},
   "outputs": [],
   "source": [
    "from datetime import datetime,timedelta\n",
    "\n",
    "def tomorrow(dt):\n",
    "    return dt + timedelta(days=1)\n",
    "\n",
    "def is_friday(dt):\n",
    "    return dt.isoweekday() == 5"
   ]
  },
  {
   "cell_type": "code",
   "execution_count": 29,
   "metadata": {},
   "outputs": [
    {
     "name": "stdout",
     "output_type": "stream",
     "text": [
      "['2018.03.09', '2018.03.16', '2018.03.23', '2018.03.30', '2018.04.06', '2018.04.13', '2018.04.20', '2018.04.27', '2018.05.04', '2018.05.11', '2018.05.18', '2018.05.25', '2018.06.01', '2018.06.08', '2018.06.15', '2018.06.22', '2018.06.29', '2018.07.06', '2018.07.13', '2018.07.20', '2018.07.27', '2018.08.03', '2018.08.10', '2018.08.17', '2018.08.24', '2018.08.31', '2018.09.07', '2018.09.14', '2018.09.21', '2018.09.28', '2018.10.05', '2018.10.12', '2018.10.19', '2018.10.26', '2018.11.02', '2018.11.09', '2018.11.16', '2018.11.23', '2018.11.30', '2018.12.07', '2018.12.14', '2018.12.21', '2018.12.28', '2019.01.04', '2019.01.11', '2019.01.18', '2019.01.25', '2019.02.01', '2019.02.08', '2019.02.15']\n"
     ]
    }
   ],
   "source": [
    "start, end = datetime(2018, 3, 9), datetime(2019, 2, 22)\n",
    "cur = start\n",
    "\n",
    "dates = []\n",
    "while cur < end:\n",
    "    if is_friday(cur):\n",
    "        dates.append(cur)\n",
    "    cur = tomorrow(cur)\n",
    "    \n",
    "print [x.date().strftime(\"%Y.%m.%d\") for x in dates]"
   ]
  },
  {
   "cell_type": "code",
   "execution_count": null,
   "metadata": {},
   "outputs": [],
   "source": []
  },
  {
   "cell_type": "code",
   "execution_count": null,
   "metadata": {},
   "outputs": [],
   "source": []
  }
 ],
 "metadata": {
  "kernelspec": {
   "display_name": "Python 2",
   "language": "python",
   "name": "python2"
  },
  "language_info": {
   "codemirror_mode": {
    "name": "ipython",
    "version": 2
   },
   "file_extension": ".py",
   "mimetype": "text/x-python",
   "name": "python",
   "nbconvert_exporter": "python",
   "pygments_lexer": "ipython2",
   "version": "2.7.12"
  }
 },
 "nbformat": 4,
 "nbformat_minor": 2
}
