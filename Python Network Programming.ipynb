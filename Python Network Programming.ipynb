{
 "cells": [
  {
   "cell_type": "markdown",
   "metadata": {},
   "source": [
    "### 协议栈\n",
    "* 应用层，表示层，会话层\n",
    "* 传输层(TCP/UDP)\n",
    "* 网络层(IP)\n",
    "* 链路层\n",
    "* 物理层"
   ]
  },
  {
   "cell_type": "markdown",
   "metadata": {},
   "source": [
    "### I. 应用层\n",
    "#### 1.1 用requests - http library for human 做http/https请求"
   ]
  },
  {
   "cell_type": "code",
   "execution_count": 59,
   "metadata": {
    "collapsed": false
   },
   "outputs": [],
   "source": [
    "import requests\n",
    "\n",
    "proxies = {\n",
    "    \"http\": \"http://proxy.bloomberg.com:80\",\n",
    "    \"https\": \"https://proxy.bloomberg.com:80\",\n",
    "}\n",
    "\n",
    "def req(url):\n",
    "    # in BBL we need proxy to forward the request out\n",
    "    resp = requests.post(url, proxies=proxies)\n",
    "    return resp, resp.status_code"
   ]
  },
  {
   "cell_type": "code",
   "execution_count": 32,
   "metadata": {
    "collapsed": true
   },
   "outputs": [],
   "source": [
    "from bs4 import BeautifulSoup\n",
    "def parse_html(source):\n",
    "    soup = BeautifulSoup(source)\n",
    "    return soup"
   ]
  },
  {
   "cell_type": "code",
   "execution_count": 67,
   "metadata": {
    "collapsed": false
   },
   "outputs": [
    {
     "name": "stdout",
     "output_type": "stream",
     "text": [
      "200 网易云音乐\n"
     ]
    }
   ],
   "source": [
    "resp, status_code = req(\"https://music.163.com/\")\n",
    "\n",
    "raw = resp.content.decode(\"utf-8\")\n",
    "soup = parse_html(raw)\n",
    "\n",
    "print(status_code, soup.title.string)"
   ]
  },
  {
   "cell_type": "markdown",
   "metadata": {},
   "source": [
    "#### 使用http.client做应用层的连接"
   ]
  },
  {
   "cell_type": "code",
   "execution_count": 56,
   "metadata": {
    "collapsed": false
   },
   "outputs": [],
   "source": [
    "import http.client\n",
    "\n",
    "def http_req(address):\n",
    "    \n",
    "    connection = http.client.HTTPSConnection(\"proxy.bloomberg.com\", 80)\n",
    "    connection.set_tunnel(address)\n",
    "    connection.request('GET', \"/index.html\")\n",
    "    print(dir(connection))\n",
    "    \n",
    "    print(\"Socket used: \", connection.sock)\n",
    "    raw_reply = connection.getresponse().read()\n",
    "    \n",
    "    reply = raw_reply.decode(\"utf-8\")\n",
    "    return reply"
   ]
  },
  {
   "cell_type": "code",
   "execution_count": 57,
   "metadata": {
    "collapsed": false
   },
   "outputs": [
    {
     "name": "stdout",
     "output_type": "stream",
     "text": [
      "['_HTTPConnection__response', '_HTTPConnection__state', '__class__', '__delattr__', '__dict__', '__dir__', '__doc__', '__eq__', '__format__', '__ge__', '__getattribute__', '__gt__', '__hash__', '__init__', '__le__', '__lt__', '__module__', '__ne__', '__new__', '__reduce__', '__reduce_ex__', '__repr__', '__setattr__', '__sizeof__', '__str__', '__subclasshook__', '__weakref__', '_buffer', '_check_hostname', '_context', '_create_connection', '_get_hostport', '_http_vsn', '_http_vsn_str', '_method', '_output', '_send_output', '_send_request', '_set_content_length', '_tunnel', '_tunnel_headers', '_tunnel_host', '_tunnel_port', 'auto_open', 'cert_file', 'close', 'connect', 'debuglevel', 'default_port', 'endheaders', 'getresponse', 'host', 'key_file', 'port', 'putheader', 'putrequest', 'request', 'response_class', 'send', 'set_debuglevel', 'set_tunnel', 'sock', 'source_address', 'timeout']\n",
      "<ssl.SSLSocket fd=1592, family=AddressFamily.AF_INET, type=SocketKind.SOCK_STREAM, proto=0, laddr=('10.144.216.107', 52583), raddr=('199.172.169.11', 80)>\n",
      "Welcome to Python.org\n"
     ]
    }
   ],
   "source": [
    "raw = http_req(\"www.python.org\")\n",
    "\n",
    "soup = parse_html(raw)\n",
    "print(soup.title.string)"
   ]
  },
  {
   "cell_type": "markdown",
   "metadata": {},
   "source": [
    "#### 用套接字做更底层链接"
   ]
  },
  {
   "cell_type": "code",
   "execution_count": 95,
   "metadata": {
    "collapsed": true
   },
   "outputs": [],
   "source": [
    "import socket\n",
    "\n",
    "\n",
    "def socket_req(request_text):\n",
    "    sock = socket.socket()\n",
    "    sock.connect((\"python.org\", 80))\n",
    "    print(dir(sock))\n",
    "    sock.sendall(request_text.encode(\"ascii\"))\n",
    "    \n",
    "    raw_reply = b''\n",
    "    while True:\n",
    "        more = sock.recv(4096)\n",
    "        if not more:\n",
    "            break\n",
    "        raw_reply += more\n",
    "    print(raw_reply.decode(\"utf-8\"))\n",
    "    sock.close()"
   ]
  },
  {
   "cell_type": "code",
   "execution_count": 92,
   "metadata": {
    "collapsed": false
   },
   "outputs": [],
   "source": []
  },
  {
   "cell_type": "code",
   "execution_count": 100,
   "metadata": {
    "collapsed": false
   },
   "outputs": [
    {
     "name": "stdout",
     "output_type": "stream",
     "text": [
      "['__class__', '__delattr__', '__dir__', '__doc__', '__enter__', '__eq__', '__exit__', '__format__', '__ge__', '__getattribute__', '__getstate__', '__gt__', '__hash__', '__init__', '__le__', '__lt__', '__module__', '__ne__', '__new__', '__reduce__', '__reduce_ex__', '__repr__', '__setattr__', '__sizeof__', '__slots__', '__str__', '__subclasshook__', '__weakref__', '_accept', '_check_sendfile_params', '_closed', '_decref_socketios', '_io_refs', '_real_close', '_sendfile_use_send', '_sendfile_use_sendfile', 'accept', 'bind', 'close', 'connect', 'connect_ex', 'detach', 'dup', 'family', 'fileno', 'get_inheritable', 'getpeername', 'getsockname', 'getsockopt', 'gettimeout', 'ioctl', 'listen', 'makefile', 'proto', 'recv', 'recv_into', 'recvfrom', 'recvfrom_into', 'send', 'sendall', 'sendfile', 'sendto', 'set_inheritable', 'setblocking', 'setsockopt', 'settimeout', 'share', 'shutdown', 'timeout', 'type']\n",
      "\n"
     ]
    }
   ],
   "source": [
    "request_text = '''\n",
    "GET / HTTP/1.1\\r\\n\\\n",
    "Host: python.org\\r\\n\\\n",
    "Connection: KEEP-ALIVE\\r\\n\\\n",
    "\\r\\n\\\n",
    "'''\n",
    "socket_req(request_text)"
   ]
  },
  {
   "cell_type": "markdown",
   "metadata": {},
   "source": [
    "* compared with requests"
   ]
  },
  {
   "cell_type": "code",
   "execution_count": 99,
   "metadata": {
    "collapsed": false,
    "scrolled": true
   },
   "outputs": [
    {
     "data": {
      "text/plain": [
       "('GET',\n",
       " {'User-Agent': 'python-requests/2.22.0', 'Accept-Encoding': 'gzip, deflate', 'Connection': 'keep-alive', 'Accept': '*/*'},\n",
       " 'https://www.python.org/',\n",
       " '/')"
      ]
     },
     "execution_count": 99,
     "metadata": {},
     "output_type": "execute_result"
    }
   ],
   "source": [
    "resq, status_code = req(\"https://python.org\")\n",
    "resq.request.method, resq.request.headers, resq.request.url, resq.request.path_url"
   ]
  },
  {
   "cell_type": "markdown",
   "metadata": {},
   "source": [
    "### II. 传输层\n",
    "#### 2.1 UDP\n",
    "IP协议只负责尝试把每个数据包传输到正确的机器, 如果两个应用程序需要维护一个会话，需要两个额外的特性，由IP层以上的协议提供\n",
    "* 给数据包打标签，把数据包和链路上其他与该机器进行的会话区分开，-> multiplexing 多路复用\n",
    "* 数据包有错误，发送方需要进行修复，接受发需要复原顺序错乱的数据包，放弃重复的数据包。-> reliable transport\n",
    "\n",
    "\n",
    "* TCP 解决上述两个问题，UDP 只解决第一个"
   ]
  },
  {
   "cell_type": "code",
   "execution_count": 109,
   "metadata": {
    "collapsed": false
   },
   "outputs": [
    {
     "data": {
      "text/plain": [
       "53"
      ]
     },
     "execution_count": 109,
     "metadata": {},
     "output_type": "execute_result"
    }
   ],
   "source": [
    "socket.getservbyname(\"domain\")"
   ]
  },
  {
   "cell_type": "markdown",
   "metadata": {},
   "source": [
    "##### 2.1.1 Socket"
   ]
  },
  {
   "cell_type": "markdown",
   "metadata": {},
   "source": [
    "##### 2.1.2 UDP sample"
   ]
  },
  {
   "cell_type": "code",
   "execution_count": 1,
   "metadata": {
    "collapsed": true
   },
   "outputs": [],
   "source": [
    "from datetime import datetime\n",
    "import socket\n",
    "MAX_BYTES = 65535\n",
    "\n",
    "def server(port):\n",
    "    sock = socket.socket(socket.AF_INET, socket.SOCK_DGRAM)\n",
    "    sock.bind(('127.0.0.1', port))\n",
    "    \n",
    "    print(\"Server:::Socket fileno {} \\n\".format(sock.fileno()))\n",
    "    print(\"Server:::Listening at {}\\n\".format(sock.getsockname()))\n",
    "    \n",
    "    while True:\n",
    "        data, address = sock.recvfrom(MAX_BYTES)\n",
    "        text = data.decode('ascii')\n",
    "        \n",
    "        print(\"Server:::The client {} says {}\\n\".format(address, text))\n",
    "        \n",
    "\n",
    "def client(port):\n",
    "    sock = socket.socket(socket.AF_INET, socket.SOCK_DGRAM)\n",
    "    data = \"The time is {}\\n\".format(datetime.now()).encode(\"ascii\")\n",
    "    \n",
    "    sock.sendto(data, (\"127.0.0.1\", port))\n",
    "    print(\"Client:::The OS assigned me the address {}\\n\".format(sock.getsockname()))"
   ]
  },
  {
   "cell_type": "code",
   "execution_count": 2,
   "metadata": {
    "collapsed": false
   },
   "outputs": [
    {
     "name": "stdout",
     "output_type": "stream",
     "text": [
      "Server:::Socket fileno 1208 \n",
      "\n",
      "Server:::Listening at ('127.0.0.1', 9233)\n",
      "\n"
     ]
    }
   ],
   "source": [
    "from concurrent.futures import ThreadPoolExecutor\n",
    "executor = ThreadPoolExecutor(max_workers=2)\n",
    "\n",
    "a = executor.submit(server, 9233)"
   ]
  },
  {
   "cell_type": "code",
   "execution_count": 3,
   "metadata": {
    "collapsed": false
   },
   "outputs": [
    {
     "name": "stdout",
     "output_type": "stream",
     "text": [
      "Server:::The client ('127.0.0.1', 52133) says The time is 2019-06-04 10:29:56.792561\n",
      "\n",
      "\n",
      "Client:::The OS assigned me the address ('0.0.0.0', 52133)\n",
      "\n"
     ]
    }
   ],
   "source": [
    "b = executor.submit(client, 9233)"
   ]
  },
  {
   "cell_type": "markdown",
   "metadata": {},
   "source": [
    "* concurrent.futures 里的thread可以通过内存queue交互么，还是必须通过socket ？？？"
   ]
  },
  {
   "cell_type": "markdown",
   "metadata": {},
   "source": [
    "###### Socket vs Fileno"
   ]
  },
  {
   "cell_type": "code",
   "execution_count": 9,
   "metadata": {
    "collapsed": false
   },
   "outputs": [
    {
     "name": "stdout",
     "output_type": "stream",
     "text": [
      "File descriptor:  4\n"
     ]
    }
   ],
   "source": [
    "f = open(\"Design Pattern.ipynb\")\n",
    "print(\"File descriptor: \", f.fileno())\n",
    "f.close()"
   ]
  },
  {
   "cell_type": "markdown",
   "metadata": {},
   "source": [
    "##### 2.1.3 UDP broadcast"
   ]
  },
  {
   "cell_type": "code",
   "execution_count": 1,
   "metadata": {
    "collapsed": true
   },
   "outputs": [],
   "source": [
    "import socket\n",
    "from concurrent.futures import ThreadPoolExecutor\n",
    "\n",
    "def broadcast_server(intrface, port):\n",
    "    sock = socket.socket(socket.AF_INET, socket.SOCK_DGRAM)\n",
    "    sock.bind((interface, port))\n",
    "    \n",
    "    print(\"BroadcastServer:::Listening for datagrams at {}\".format(sock.getsockname()))\n",
    "    \n",
    "    while True:\n",
    "        data, address = sock.recvfrom(65535)\n",
    "        print(\"BroadcastServer:::The client {} says {}\\n\".format(address, data.decode(\"ascii\")))\n",
    "\n",
    "def client(network, port):\n",
    "    sock = socket.socket(socket.AF_INET, socket.SOCK_DGRAM)\n",
    "    sock.setsockopt(socket.SOL_SOCKET, socket.SO_BROADCAST, 1)\n",
    "    data = \"Broadcast datagram!\".encode(\"ascii\")\n",
    "    sock.sendto(data, (network, port))"
   ]
  },
  {
   "cell_type": "code",
   "execution_count": 2,
   "metadata": {
    "collapsed": false
   },
   "outputs": [
    {
     "data": {
      "text/plain": [
       "<Future at 0x1d9fabbc8d0 state=finished raised NameError>"
      ]
     },
     "execution_count": 2,
     "metadata": {},
     "output_type": "execute_result"
    }
   ],
   "source": [
    "b_executor = ThreadPoolExecutor(max_workers=4)\n",
    "b_executor.submit(broadcast_server, \"0.0.0.0\", 9123)   # ?? why cannot connect to 0.0.0.0"
   ]
  },
  {
   "cell_type": "code",
   "execution_count": 3,
   "metadata": {
    "collapsed": false
   },
   "outputs": [
    {
     "data": {
      "text/plain": [
       "<Future at 0x1d9fabbf3c8 state=finished raised OSError>"
      ]
     },
     "execution_count": 3,
     "metadata": {},
     "output_type": "execute_result"
    }
   ],
   "source": [
    "b_executor.submit(client, \"0.0.0.0\", 9123)"
   ]
  },
  {
   "cell_type": "markdown",
   "metadata": {},
   "source": [
    "#### 2.2 TCP"
   ]
  },
  {
   "cell_type": "code",
   "execution_count": 8,
   "metadata": {
    "collapsed": false
   },
   "outputs": [],
   "source": [
    "import socket\n",
    "\n",
    "def recvall(sock, length):\n",
    "    data = b''\n",
    "    while len(data) < length:\n",
    "        more = sock.recv(length - len(data))\n",
    "        \n",
    "        if not more:\n",
    "            raise Exception(\"Lost pacakge\")\n",
    "        \n",
    "        data += more\n",
    "    return data\n",
    "\n",
    "\n",
    "def tcp_server(interface, port):\n",
    "    sock = socket.socket(socket.AF_INET, socket.SOCK_STREAM)\n",
    "    sock.setsockopt(socket.SOL_SOCKET, socket.SO_REUSEADDR, 1)\n",
    "    sock.bind((interface, port))\n",
    "    \n",
    "    # listen 可以传入一个int 参数，表示等待连接的最大数目。如果服务器在处理请求时有新的握手请求，则该请求会被压栈\n",
    "    # int 表示栈的空间，如果超过，系统忽略新请求\n",
    "    sock.listen(1)\n",
    "    \n",
    "    print(\"Listening at \", sock.getsockname())\n",
    "    \n",
    "    while True:\n",
    "        # accpet() connect() 代表了 TCP 建立连接握手的过程，与 UDP 很大不同\n",
    "        # accept 是服务器程序监听端口，等待客户端发起握手请求，建立会话\n",
    "        sc, sockname = sock.accept()\n",
    "        print(\"We have accepted a connection from {} \\n\".format(sockname))\n",
    "        print(\" Socket Name: {} \\n\".format(sc.getsockname()))\n",
    "        print(\" Socket Peer: {} \\n\".format(sc.getpeername()))\n",
    "        \n",
    "        message = recvall(sc, 16)\n",
    "        print(\" Incoming sixteen-octet message: {}\\n\".format(message))\n",
    "        \n",
    "        sc.sendall(b\"Farewell, client\")\n",
    "        sc.close()\n",
    "\n",
    "        \n",
    "def client(host, port):\n",
    "    sock = socket.socket(socket.AF_INET, socket.SOCK_STREAM)\n",
    "    \n",
    "    # TCP connect\n",
    "    # client 发起握手请求，与客户端进行三次握手，成功则 connect 成功， 可以发送数据\n",
    "    sock.connect((host, port))   \n",
    "    print(\"Client has assigned socket name {}\\n\".format(sock.getsockname()))\n",
    "    \n",
    "    sock.sendall(b\"Hi there, \")\n",
    "    sock.sendall(b\"server\")    # client 分两次发送，server还是等16字节接收\n",
    "    reply = recvall(sock, 16)\n",
    "    print(\"The server said {} \\n\".format(reply))\n",
    "    sock.close()"
   ]
  },
  {
   "cell_type": "code",
   "execution_count": 9,
   "metadata": {
    "collapsed": false
   },
   "outputs": [
    {
     "data": {
      "text/plain": [
       "<Future at 0x231f3c72978 state=running>"
      ]
     },
     "execution_count": 9,
     "metadata": {},
     "output_type": "execute_result"
    },
    {
     "name": "stdout",
     "output_type": "stream",
     "text": [
      "Listening at  ('127.0.0.1', 9123)\n"
     ]
    }
   ],
   "source": [
    "from concurrent.futures import ThreadPoolExecutor\n",
    "tcp_executor = ThreadPoolExecutor(max_workers=2)\n",
    "tcp_executor.submit(tcp_server, \"127.0.0.1\", 9123)   "
   ]
  },
  {
   "cell_type": "code",
   "execution_count": 10,
   "metadata": {
    "collapsed": false
   },
   "outputs": [
    {
     "data": {
      "text/plain": [
       "<Future at 0x231f3c726a0 state=running>"
      ]
     },
     "execution_count": 10,
     "metadata": {},
     "output_type": "execute_result"
    },
    {
     "name": "stdout",
     "output_type": "stream",
     "text": [
      "Client has assigned socket name ('127.0.0.1', 51974)\n",
      "We have accepted a connection from ('127.0.0.1', 51974) \n",
      "\n",
      "\n",
      "The server said b'Farewell, client' \n",
      " Socket Name: ('127.0.0.1', 9123) \n",
      "\n",
      "\n",
      " Socket Peer: ('127.0.0.1', 51974) \n",
      "\n",
      " Incoming sixteen-octet message: b'Hi there, server'\n",
      "\n"
     ]
    }
   ],
   "source": [
    "tcp_executor.submit(client, \"127.0.0.1\", 9123)   "
   ]
  },
  {
   "cell_type": "markdown",
   "metadata": {},
   "source": [
    "### III. 网络层\n",
    "#### 3. 1 IP 地址\n",
    "IP协议只负责尝试把每个数据包传输到正确的机器\n",
    "* IPV4\n",
    "* IPV6\n",
    "\n",
    "* DNS, Domain Name System"
   ]
  },
  {
   "cell_type": "code",
   "execution_count": 108,
   "metadata": {
    "collapsed": false
   },
   "outputs": [
    {
     "data": {
      "text/plain": [
       "'10.124.7.14'"
      ]
     },
     "execution_count": 108,
     "metadata": {},
     "output_type": "execute_result"
    }
   ],
   "source": [
    "socket.gethostbyname(\"www.python.org\")"
   ]
  },
  {
   "cell_type": "markdown",
   "metadata": {},
   "source": [
    "###### 3.2 路由\n",
    "* "
   ]
  },
  {
   "cell_type": "markdown",
   "metadata": {},
   "source": [
    "### VII 服务器架构\n",
    "#### 7.1 \n",
    "\n",
    "* 保证DNS 发布的ip地址一致有效的实用方案： 负载均衡 + 反向代理\n",
    "* PaaS： Platform as a Service"
   ]
  },
  {
   "cell_type": "markdown",
   "metadata": {},
   "source": [
    "#### 7.2 构建一个单线程的server\n",
    "* server是单线程的"
   ]
  },
  {
   "cell_type": "code",
   "execution_count": 4,
   "metadata": {
    "collapsed": false
   },
   "outputs": [],
   "source": [
    "import socket, time\n",
    "\n",
    "def create_srv_socket(address):\n",
    "    \n",
    "    listener = socket.socket(socket.AF_INET, socket.SOCK_STREAM)\n",
    "    listener.setsockopt(socket.SOL_SOCKET, socket.SO_REUSEADDR, 1)  ## ???\n",
    "    \n",
    "    listener.bind(address)\n",
    "    \n",
    "    listener.listen(64)\n",
    "    print(\"Server::: Listen at {}\\n\".format(address))\n",
    "    \n",
    "    return listener\n",
    "\n",
    "\n",
    "def accept_connections_forever(listener):\n",
    "    \n",
    "    while True:\n",
    "        sock, address = listener.accept()\n",
    "        print(\"Accept connection from {}\\n\".format(address))\n",
    "        handle_conversation(sock, address)\n",
    "\n",
    "        \n",
    "def handle_conversation(sock, address):\n",
    "    try:\n",
    "        while True:\n",
    "            handle_reuqest(sock)\n",
    "    except EOFError:\n",
    "        print(\"Client socket to {} has closed\\n\".format(address))\n",
    "    except Exception as e:\n",
    "        print(\"Client {} error: {}\\n\".format(address, e))\n",
    "    finally:\n",
    "        sock.close()\n",
    "\n",
    "        \n",
    "def get_anwser(question):\n",
    "    time.sleep(1.0)\n",
    "    return question.replace(b'?', b'.')\n",
    "\n",
    "\n",
    "def handle_reuqest(sock):\n",
    "    question = recv_until(sock, b'?')\n",
    "    answer = get_anwser(question)\n",
    "    sock.sendall(answer)\n",
    "\n",
    "    \n",
    "def recv_until(sock, suffix):\n",
    "    message = sock.recv(4096)\n",
    "    \n",
    "    if not message:\n",
    "        raise EOFError(\"Socket closed\\n\")\n",
    "    while not message.endswith(suffix):\n",
    "        data = sock.recv(4096)\n",
    "        if not data:\n",
    "            raise IOError(\"received {!r} then socket closed\\n\".format(message))\n",
    "        message += data\n",
    "    return message"
   ]
  },
  {
   "cell_type": "markdown",
   "metadata": {},
   "source": [
    "##### 7.3 单进程服务器"
   ]
  },
  {
   "cell_type": "code",
   "execution_count": 2,
   "metadata": {
    "collapsed": false
   },
   "outputs": [],
   "source": [
    "def timeit(func):\n",
    "    \n",
    "    def wrapper(*args, **kwargs):\n",
    "        start = time.time()\n",
    "        resp = func(*args, **kwargs)\n",
    "        print(\"Funcition running for {}\\n\".format(time.time() - start))\n",
    "        return resp\n",
    "    return wrapper\n",
    "\n",
    "\n",
    "def single_thread_server(address):\n",
    "    listener = create_srv_socket(address)\n",
    "    accept_connections_forever(listener)\n",
    "\n",
    "@timeit\n",
    "def client(address, questions, cause_error=False):\n",
    "    \n",
    "    sock = socket.socket(socket.AF_INET, socket.SOCK_STREAM)\n",
    "    sock.connect(address)\n",
    "    \n",
    "    \n",
    "    if cause_error:\n",
    "        sock.sendall(question[:-1])\n",
    "        return\n",
    "    \n",
    "    for q in questions:\n",
    "        sock.sendall(q)\n",
    "        print(\"Client recieved {}\\n\".format(recv_until(sock, b'.')))\n",
    "    \n",
    "    sock.close()    "
   ]
  },
  {
   "cell_type": "code",
   "execution_count": 3,
   "metadata": {
    "collapsed": true
   },
   "outputs": [],
   "source": [
    "from concurrent.futures import ThreadPoolExecutor\n",
    "\n",
    "\n",
    "def make_requests(arch_executor, port):\n",
    "    arch_executor.submit(client, (\"127.0.0.1\", port), [b\"Yoyo?\"])\n",
    "    arch_executor.submit(client, (\"127.0.0.1\", port), [b\"Puyo?\"])\n",
    "    arch_executor.submit(client, (\"127.0.0.1\", port), [b\"HIHI?\"])\n",
    "    \n",
    "\n",
    "def run(port, server):\n",
    "    arch_executor = ThreadPoolExecutor(max_workers=5)\n",
    "    arch_executor.submit(server, (\"127.0.0.1\", port))\n",
    "    make_requests(arch_executor, port)"
   ]
  },
  {
   "cell_type": "code",
   "execution_count": 4,
   "metadata": {
    "collapsed": false
   },
   "outputs": [
    {
     "name": "stdout",
     "output_type": "stream",
     "text": [
      "Server::: Listen at ('127.0.0.1', 9128)\n",
      "\n",
      "Accept connection from ('127.0.0.1', 56833)\n",
      "\n",
      "Client recieved b'Yoyo.'\n",
      "\n",
      "Funcition running for 1.015542984008789\n",
      "Client socket to ('127.0.0.1', 56833) has closed\n",
      "\n",
      "\n",
      "Accept connection from ('127.0.0.1', 56836)\n",
      "\n",
      "Client recieved b'Puyo.'\n",
      "\n",
      "Client socket to ('127.0.0.1', 56836) has closed\n",
      "Funcition running for 2.0163705348968506\n",
      "\n",
      "\n",
      "Accept connection from ('127.0.0.1', 56837)\n",
      "\n",
      "Client recieved b'HIHI.'\n",
      "\n",
      "Client socket to ('127.0.0.1', 56837) has closed\n",
      "Funcition running for 3.023984909057617\n",
      "\n",
      "\n"
     ]
    }
   ],
   "source": [
    "run(9128, single_thread_server)"
   ]
  },
  {
   "cell_type": "markdown",
   "metadata": {},
   "source": [
    "##### 7.4 多进程服务器\n",
    "* 这个实现只是主线程sprawn了多个线程用于监听\n",
    "    * 线程管理呢\n",
    "    * 如果有线程崩溃呢\n",
    "    * Solution，主线程可以作为监控线程，来检查n个服务器线程的运行情况\n",
    "* 用哪个多线程库\n",
    "    * threading.Thread 线程之间共享内存\n",
    "    * multiprocessing.Process 操作系统会为线程分配独立的内存空间和文件描述付\n",
    "        * 会增加系统开销\n",
    "        * 但是线程被隔离，降低服务器线程导致主监控进程崩溃的情况\n",
    "        "
   ]
  },
  {
   "cell_type": "code",
   "execution_count": 5,
   "metadata": {
    "collapsed": true
   },
   "outputs": [],
   "source": [
    "from threading import Thread\n",
    "\n",
    "def create_threadpool(listener, workers=4):\n",
    "    t = (listener, )\n",
    "    try:\n",
    "        for i in range(workers):\n",
    "            thread = Thread(target=accept_connections_forever, args=t)\n",
    "            thread.start()\n",
    "            print(\"Create thread {} for listen client request\\n\".format(thread.name))\n",
    "    except Exception as e:\n",
    "        print(\"Error when sprawn threads {}\\n\".format(e))\n",
    "            \n",
    "        \n",
    "def multi_thread_server(address):\n",
    "    listener = create_srv_socket(address)\n",
    "    create_threadpool(listener)"
   ]
  },
  {
   "cell_type": "code",
   "execution_count": 6,
   "metadata": {
    "collapsed": false
   },
   "outputs": [
    {
     "name": "stdout",
     "output_type": "stream",
     "text": [
      "Server::: Listen at ('127.0.0.1', 9129)\n",
      "\n",
      "Create thread Thread-14 for listen client request\n",
      "\n",
      "Create thread Thread-15 for listen client request\n",
      "\n",
      "Create thread Thread-16 for listen client request\n",
      "\n",
      "Accept connection from ('127.0.0.1', 56855)\n",
      "Accept connection from ('127.0.0.1', 56854)\n",
      "Accept connection from ('127.0.0.1', 56856)\n",
      "Create thread Thread-17 for listen client request\n",
      "\n",
      "\n",
      "\n",
      "\n",
      "Client recieved b'HIHI.'\n",
      "Client socket to ('127.0.0.1', 56856) has closed\n",
      "Client recieved b'Yoyo.'\n",
      "Client socket to ('127.0.0.1', 56854) has closed\n",
      "Client recieved b'Puyo.'\n",
      "Client socket to ('127.0.0.1', 56855) has closed\n",
      "\n",
      "\n",
      "\n",
      "\n",
      "\n",
      "\n",
      "Funcition running for 1.038597822189331\n",
      "Funcition running for 1.0465691089630127\n",
      "Funcition running for 1.0535643100738525\n",
      "\n",
      "\n",
      "\n"
     ]
    }
   ],
   "source": [
    "run(9129, multi_thread_server)"
   ]
  },
  {
   "cell_type": "markdown",
   "metadata": {},
   "source": [
    "#### 7.4 异步服务器\n",
    "* 到目前为止我们一直使用阻塞socket\n",
    "* 为了实现异步，更好的利用CPU，减少在IO中等待的时间\n",
    "    * 使用非阻塞socket\n",
    "\n",
    "##### 7.4.1 非阻塞socket\n",
    "* 非阻塞socket在进行send()或者recv()调用时永远不会阻塞调用进程\n",
    "* 异步表示，服务器代码从来不会停下来等待某个客户端\n",
    "* 操作系统提供很多调用来支持异步\n",
    "    * 最古老的是POSIX的select()调用\n",
    "    * select的替代品，Linux的poll()\n",
    "    * BSD系统的epoll()"
   ]
  },
  {
   "cell_type": "markdown",
   "metadata": {},
   "source": [
    "##### 7.4.2 用select实现简单的异步"
   ]
  },
  {
   "cell_type": "code",
   "execution_count": 1,
   "metadata": {
    "collapsed": false
   },
   "outputs": [],
   "source": [
    "import select\n",
    "\n",
    "def all_events_forever(poll_object):\n",
    "    \n",
    "    while True:\n",
    "        for fd, event in poll_object.poll():\n",
    "            yield fd, event\n",
    "\n",
    "            \n",
    "def async_serve(listener):\n",
    "    sockets = {listener.fileno(): listner}\n",
    "    \n",
    "    address, bytes_received, bytes_to_send = {}, {}, {}\n",
    "    \n",
    "    poll_object = select.poll()\n",
    "    poll_object.register(listener, select.POLLIN)\n",
    "    \n",
    "    for fd, event in all_events_forever(poll_object):\n",
    "        sock = sockets[fd]\n",
    "        \n",
    "        if event & (select.POLLHUP | select.POLLERR | select.POLLNVAL):\n",
    "            address = addresses.pop(sock)\n",
    "            \n",
    "            rb = bytes_received.pop(sock, b'')\n",
    "            sb = bytes_to_send.pop(sock, b'')\n",
    "            \n",
    "            if rb:\n",
    "                print(\"Client {} sent {} but then closed\".format(address, rb))\n",
    "            elif sb:\n",
    "                print(\"Client {} closed before we sent\".format(address, sb))\n",
    "            else:\n",
    "                print(\"Client {} closed socket normally\".foramt(address))\n",
    "            \n",
    "            poll_object.unregister(fd)\n",
    "            del sockets[fd]\n",
    "        \n",
    "        elif sock is listener:\n",
    "            sock, address = sock.accept()\n",
    "            print(\"Accept connection from {}\".format(address))\n",
    "            sock.setblocking(False)\n",
    "            sockets[sock] = sock\n",
    "            addresses[sock] = address\n",
    "            \n",
    "            poll_object.register(sock, select.POLLIN)\n",
    "        \n",
    "        elif event & select.POLLIN:\n",
    "            pass\n",
    "        \n",
    "        elif event & select.POLLOUT:\n",
    "            pass\n",
    "        \n",
    "    "
   ]
  },
  {
   "cell_type": "code",
   "execution_count": 1,
   "metadata": {
    "collapsed": true
   },
   "outputs": [],
   "source": [
    "import asyncio\n",
    "\n",
    "class AsyncioServer(asyncio.Protocol):\n",
    "    \n",
    "    def connection_made(self, transport):\n",
    "        self.transport = transport\n",
    "        self.address = transport.get_extra_info('peername')\n",
    "        self.data = b''\n",
    "        print(\"Accept connection from {}\".format(self.address))\n",
    "    \n",
    "    def data_received(self, data):\n",
    "        self.data += data\n",
    "        if self.data.endswith(b'?'):\n",
    "            anwser = self.data.replace(b'?', b'.')\n",
    "            print(\"Answer \", anwser)\n",
    "            self.transport.write(anwser)\n",
    "            self.data = b''\n",
    "    \n",
    "    def connection_lost(self, exc):\n",
    "        if exc:\n",
    "            print(\"Client {} error: {}\".format(self.address, exc))\n",
    "        elif self.data:\n",
    "            print(\"Client {} sent {} but then closed\".format(self.address, self.data))\n",
    "        else:\n",
    "            print(\"Client {} closed socket\".format(self.address))"
   ]
  },
  {
   "cell_type": "code",
   "execution_count": 1,
   "metadata": {
    "collapsed": false
   },
   "outputs": [],
   "source": [
    "def serve(address, server):\n",
    "    loop = asyncio.get_event_loop()\n",
    "    coro = loop.create_server(server, *address)\n",
    "    server = loop.run_until_complete(coro)\n",
    "    print(\"Listening at {}\".format(address))\n",
    "    try:\n",
    "        loop.run_forever()\n",
    "    finally:\n",
    "        server.colse()\n",
    "        loop.close()"
   ]
  },
  {
   "cell_type": "code",
   "execution_count": null,
   "metadata": {
    "collapsed": false
   },
   "outputs": [
    {
     "name": "stdout",
     "output_type": "stream",
     "text": [
      "Listening at ('127.0.0.1', 9823)\n",
      "Accept connection from ('127.0.0.1', 65280)\n",
      "Answer  b'yoyo.'\n",
      "Client ('127.0.0.1', 65280) closed socket\n",
      "Accept connection from ('127.0.0.1', 65281)\n",
      "Answer  b'hihi.'\n",
      "Client ('127.0.0.1', 65281) closed socket\n",
      "Accept connection from ('127.0.0.1', 65282)\n",
      "Answer  b'heyoha.'\n",
      "Client ('127.0.0.1', 65282) closed socket\n"
     ]
    }
   ],
   "source": [
    "address = (\"127.0.0.1\", 9823)\n",
    "serve(address, AsyncioServer)"
   ]
  },
  {
   "cell_type": "markdown",
   "metadata": {},
   "source": [
    "```shell\n",
    "Client recieved b'yoyo.'\n",
    "Funcition running for 0.002490997314453125\n",
    "Client recieved b'hihi.'\n",
    "Funcition running for 0.0019991397857666016\n",
    "Client recieved b'heyoha.'\n",
    "Funcition running for 0.0020008087158203125\n",
    "```"
   ]
  },
  {
   "cell_type": "code",
   "execution_count": null,
   "metadata": {
    "collapsed": true
   },
   "outputs": [],
   "source": [
    "import asyncio\n",
    "\n",
    "@asyncio.coroutine\n",
    "def handle_conversation(reader, writer):\n",
    "    try:\n",
    "        address = writer.get_extra_info(\"peername\")\n",
    "\n",
    "        print(\"Accepted connection from {}\".format(address))\n",
    "\n",
    "        while True:\n",
    "            data = b''\n",
    "            while not data.endswith(b'?'):\n",
    "                more_data = yield from reader.read(4096)\n",
    "                if not more_data:\n",
    "                    if data:\n",
    "                        print(\"Client {} sent {!r} but then closed\\n\".format(address, data))\n",
    "                    else:\n",
    "                        print(\"Client {} closed socket normally\\n\".format(address))\n",
    "                    return\n",
    "                data += more_data\n",
    "\n",
    "            anwser = data.replace(b'?', b'.')\n",
    "            writer.write(anwser)\n",
    "    except Exception as e:\n",
    "        print(\"Exception \", e)"
   ]
  },
  {
   "cell_type": "code",
   "execution_count": null,
   "metadata": {
    "collapsed": false
   },
   "outputs": [],
   "source": [
    "address = (\"127.0.0.1\", 9823)\n",
    "serve(address, handle_conversation)"
   ]
  },
  {
   "cell_type": "code",
   "execution_count": null,
   "metadata": {
    "collapsed": true
   },
   "outputs": [],
   "source": []
  },
  {
   "cell_type": "code",
   "execution_count": null,
   "metadata": {
    "collapsed": true
   },
   "outputs": [],
   "source": []
  }
 ],
 "metadata": {
  "kernelspec": {
   "display_name": "Python py3.5",
   "language": "python",
   "name": "py3.5"
  },
  "language_info": {
   "codemirror_mode": {
    "name": "ipython",
    "version": 3
   },
   "file_extension": ".py",
   "mimetype": "text/x-python",
   "name": "python",
   "nbconvert_exporter": "python",
   "pygments_lexer": "ipython3",
   "version": "3.5.4"
  }
 },
 "nbformat": 4,
 "nbformat_minor": 0
}
