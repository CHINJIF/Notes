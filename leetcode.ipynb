{
 "cells": [
  {
   "cell_type": "code",
   "execution_count": 2,
   "metadata": {},
   "outputs": [
    {
     "name": "stdout",
     "output_type": "stream",
     "text": []
    }
   ],
   "source": [
    "#include <iostream>\n",
    "#include <string>\n",
    "#include <vector>\n",
    "#include <map>\n",
    "#include <unordered_map>\n",
    "#include <algorithm>\n",
    "using namespace std;"
   ]
  },
  {
   "cell_type": "code",
   "execution_count": 2,
   "metadata": {},
   "outputs": [
    {
     "name": "stdout",
     "output_type": "stream",
     "text": [
      "?      \r\n"
     ]
    }
   ],
   "source": [
    "class S1 {\n",
    "public:\n",
    "    int numJewelsInStones(string J, string S) {\n",
    "        unordered_map<char, int> stoneType;\n",
    "        for(char c : J)\n",
    "            stoneType[c] = 0;\n",
    "\n",
    "        int numJewels=0;\n",
    "        for(char c : S){\n",
    "            if(stoneType.find(c)!=stoneType.end())\n",
    "                ++numJewels;\n",
    "        }\n",
    "        return numJewels;\n",
    "    }\n",
    "};"
   ]
  },
  {
   "cell_type": "code",
   "execution_count": 3,
   "metadata": {},
   "outputs": [
    {
     "name": "stdout",
     "output_type": "stream",
     "text": [
      "\r\n"
     ]
    }
   ],
   "source": [
    "S1 s;\n",
    "s.numJewelsInStones(\"aA\", \"aAAbbbb\")"
   ]
  },
  {
   "cell_type": "code",
   "execution_count": 3,
   "metadata": {},
   "outputs": [
    {
     "name": "stdout",
     "output_type": "stream",
     "text": []
    }
   ],
   "source": [
    "class S2 {\n",
    "public:\n",
    "    int repeatedNTimes(vector<int>& A) {\n",
    "        unordered_map<int, int> numCount;\n",
    "        \n",
    "        for (int i: A)\n",
    "            ++numCount[i];\n",
    "        \n",
    "        int n = A.size()/2;\n",
    "        auto found = find_if(numCount.begin(), numCount.end(), [n](pair<int,int> a){return a.second==n;});\n",
    "        return (*found).first;\n",
    "    }\n",
    "};"
   ]
  },
  {
   "cell_type": "code",
   "execution_count": 4,
   "metadata": {},
   "outputs": [
    {
     "name": "stdout",
     "output_type": "stream",
     "text": []
    }
   ],
   "source": [
    "S2 s2;\n",
    "vector<int> data2 = {5,1,5,2,5,3,5,4}\n",
    "s2.repeatedNTimes(data2)"
   ]
  },
  {
   "cell_type": "code",
   "execution_count": null,
   "metadata": {},
   "outputs": [],
   "source": [
    "class S3 {\n",
    "public:\n",
    "    int numSpecialEquivGroups(vector<string>& A) {\n",
    "        \n",
    "    }\n",
    "};"
   ]
  }
 ],
 "metadata": {
  "kernelspec": {
   "display_name": "C++",
   "language": "",
   "name": "cling"
  },
  "language_info": {
   "codemirror_mode": "text/x-c++src",
   "file_extension": ".c++",
   "mimetype": " text/x-c++src",
   "name": "c++"
  }
 },
 "nbformat": 4,
 "nbformat_minor": 2
}
