{
 "cells": [
  {
   "cell_type": "markdown",
   "metadata": {},
   "source": [
    "### 0. Data structure\n",
    "#### 0.1 heap & 优先队列\n",
    "* 首先是队列\n",
    "* 其次其访问次序不是FIFO, 而是根据定义的优先级来排序\n",
    "\n",
    "##### 0.1.1 应用模式\n",
    "```\n",
    "server       <----           client requests\n",
    "  |                                 |\n",
    "scheduler  <--- priority queue   <-- importance priority   \n",
    "```\n",
    "* 优先队列需要动态的维护优先级次序，\n",
    "* 会有很多插入，删除，排序\n",
    "* 接口：get/insert(put)/delete\n",
    "* stack/queue 都是优先队列的特殊情况\n",
    "\n",
    "##### 0.1.2 基本实现\n",
    "|结构|get_max| del_max |insert|\n",
    "|----|---|---|---|\n",
    "|vector|O(n)|O(n)|O(1)|\n",
    "|sorted vector|O(1)|O(1)|O(n)\n",
    "|list|O(n)|O(n)|O(1)\n",
    "|BBST|log(n)|log(n)|log(n)\n",
    "|完全二叉树/堆|O(1)|log(n)|log(n)\n",
    "\n",
    "* blanced binary tree 的效率其实是被浪费了，因为永远只get or del **MAX**, 而bbst始终维护全序关系，只用了2/3的BBST\n",
    "\n",
    "##### 0.1.3 完全二叉树实现 <=> 完全二叉堆\n",
    "* 逻辑上，等同于完全二叉树\n",
    "* 物理上用vector实现\n",
    "\n",
    "![Complete binary tree - vector impletementation](img/complete_bt.png)\n",
    "\n",
    "###### 0.1.4 堆序性\n",
    "* H[I] <= H[Parent(i)]\n",
    "* 堆序性保证，根节点是最大的节点。\n",
    "* get_max 就肯定是vector[0]\n",
    "\n",
    "##### 0.1.5 完全二叉堆 插入与堆序性\n",
    "* popup, 如大于parent，则递归的和parent互换\n",
    "* log(n)\n",
    "\n",
    "##### 0.1.6 完全二叉堆 删除与堆序性\n",
    "* top-down 下滤，把末尾元素popup到定，然后把top元素向下换"
   ]
  },
  {
   "cell_type": "code",
   "execution_count": 7,
   "metadata": {
    "collapsed": true
   },
   "outputs": [],
   "source": [
    "import heapq\n",
    "nums = [3,10,1000,-99,4,100]"
   ]
  },
  {
   "cell_type": "markdown",
   "metadata": {},
   "source": [
    "* heapify 拿一个iterable 变成一个逻辑上的二叉堆"
   ]
  },
  {
   "cell_type": "code",
   "execution_count": 8,
   "metadata": {},
   "outputs": [
    {
     "name": "stdout",
     "output_type": "stream",
     "text": [
      "[-99, 3, 100, 10, 4, 1000]\n"
     ]
    }
   ],
   "source": [
    "heapq.heapify(nums)\n",
    "print(nums)"
   ]
  },
  {
   "cell_type": "code",
   "execution_count": 9,
   "metadata": {},
   "outputs": [
    {
     "data": {
      "text/plain": [
       "-99"
      ]
     },
     "execution_count": 9,
     "metadata": {},
     "output_type": "execute_result"
    }
   ],
   "source": [
    "heapq.heappop(nums)"
   ]
  },
  {
   "cell_type": "markdown",
   "metadata": {},
   "source": [
    "#### 0.2 双向队列 - deque\n",
    "* deque是双端队列，可以在两端扩展和收缩\n",
    "* 允许元素随机读取\n",
    "\n",
    "\n",
    "* deque 像是一个linked-list 和 vector的混合产品，双端插入删除效率高，且支持随机读取"
   ]
  },
  {
   "cell_type": "code",
   "execution_count": 11,
   "metadata": {
    "collapsed": true
   },
   "outputs": [],
   "source": [
    "from collections import deque\n",
    "\n",
    "dq = deque()\n",
    "dq.extend([2, 3, 4])\n",
    "\n",
    "dq.append(5)\n",
    "dq.appendleft(1)"
   ]
  },
  {
   "cell_type": "markdown",
   "metadata": {},
   "source": [
    "* deque 随机存取"
   ]
  },
  {
   "cell_type": "code",
   "execution_count": 12,
   "metadata": {},
   "outputs": [
    {
     "data": {
      "text/plain": [
       "3"
      ]
     },
     "execution_count": 12,
     "metadata": {},
     "output_type": "execute_result"
    }
   ],
   "source": [
    "dq[2]"
   ]
  },
  {
   "cell_type": "code",
   "execution_count": 13,
   "metadata": {},
   "outputs": [
    {
     "name": "stdout",
     "output_type": "stream",
     "text": [
      "5\n",
      "1\n"
     ]
    }
   ],
   "source": [
    "print(dq.pop())\n",
    "print(dq.popleft())"
   ]
  },
  {
   "cell_type": "markdown",
   "metadata": {},
   "source": [
    "#### 0.3 ordereddict - BST"
   ]
  },
  {
   "cell_type": "markdown",
   "metadata": {},
   "source": [
    "* 利用ordereddict实现LRU"
   ]
  },
  {
   "cell_type": "code",
   "execution_count": 14,
   "metadata": {
    "collapsed": true
   },
   "outputs": [],
   "source": [
    "from collections import OrderedDict\n",
    "class LRU(OrderedDict):\n",
    "    'Limit size, evicting the least recently looked-up key when full'\n",
    "\n",
    "    def __init__(self, maxsize=128, *args, **kwds):\n",
    "        self.maxsize = maxsize\n",
    "        super().__init__(*args, **kwds)\n",
    "\n",
    "    def __getitem__(self, key):\n",
    "        value = super().__getitem__(key)\n",
    "        self.move_to_end(key)\n",
    "        return value\n",
    "\n",
    "    def __setitem__(self, key, value):\n",
    "        super().__setitem__(key, value)\n",
    "        if len(self) > self.maxsize:\n",
    "            oldest = next(iter(self))\n",
    "            del self[oldest]"
   ]
  },
  {
   "cell_type": "markdown",
   "metadata": {},
   "source": [
    "#####  0.4 bisect\n",
    "模块能够提供保持list元素序列的支持。它使用了二分法完成大部分的工作。它在向一个list插入元素的同时维持list是有序的。在某些情况下，这比重复的对一个list进行排序更为高效，并且对于一个较大的list来说，对每步操作维持其有序也比对其排序要高效。"
   ]
  },
  {
   "cell_type": "code",
   "execution_count": null,
   "metadata": {
    "collapsed": true
   },
   "outputs": [],
   "source": []
  },
  {
   "cell_type": "markdown",
   "metadata": {},
   "source": [
    "##### 0.5 counter"
   ]
  },
  {
   "cell_type": "markdown",
   "metadata": {},
   "source": [
    "##### 0.6 Weakref\n",
    "weakref模块能够帮助我们创建Python引用，却不会阻止对象的销毁操作"
   ]
  },
  {
   "cell_type": "code",
   "execution_count": null,
   "metadata": {
    "collapsed": true
   },
   "outputs": [],
   "source": []
  },
  {
   "cell_type": "markdown",
   "metadata": {},
   "source": [
    "### I. 元编程\n",
    "#### 1.1 装饰器\n",
    "##### 1.1.1 装饰函数\n",
    "下面两个例子等价"
   ]
  },
  {
   "cell_type": "code",
   "execution_count": 15,
   "metadata": {
    "collapsed": true
   },
   "outputs": [],
   "source": [
    "class A:\n",
    "    @classmethod\n",
    "    def method(cls):\n",
    "        pass\n",
    "    \n",
    "class B:\n",
    "    def method(cls):\n",
    "        pass\n",
    "    method = classmethod(method)"
   ]
  },
  {
   "cell_type": "markdown",
   "metadata": {},
   "source": [
    "* 用wraps decorator保留函数的元信息，名字，文档，签名etc"
   ]
  },
  {
   "cell_type": "code",
   "execution_count": 16,
   "metadata": {
    "collapsed": true
   },
   "outputs": [],
   "source": [
    "from functools import wraps\n",
    "import time\n",
    "\n",
    "def timethis(func):\n",
    "    \n",
    "    @wraps(func)\n",
    "    def wrapper(*args, **kwargs):\n",
    "        start = time.time()\n",
    "        result = func(*args, **kwargs)\n",
    "        print(\"Running time \", time.time() - start)\n",
    "        return result\n",
    "    \n",
    "    return wrapper"
   ]
  },
  {
   "cell_type": "code",
   "execution_count": 17,
   "metadata": {
    "collapsed": true
   },
   "outputs": [],
   "source": [
    "@timethis\n",
    "def run(app_name):\n",
    "    '''start a app'''\n",
    "    time.sleep(1)\n",
    "    return app_name"
   ]
  },
  {
   "cell_type": "code",
   "execution_count": 18,
   "metadata": {},
   "outputs": [
    {
     "name": "stdout",
     "output_type": "stream",
     "text": [
      "Running time  1.0000245571136475\n",
      "run start a app\n"
     ]
    }
   ],
   "source": [
    "run(\"app\")\n",
    "print(run.__name__, run.__doc__)"
   ]
  },
  {
   "cell_type": "markdown",
   "metadata": {},
   "source": [
    "#### 1.1.2 装饰一个类"
   ]
  },
  {
   "cell_type": "code",
   "execution_count": 11,
   "metadata": {
    "collapsed": true
   },
   "outputs": [],
   "source": [
    "import types\n",
    "\n",
    "class Profiled:\n",
    "    def __init__(self, func):\n",
    "        self.wrapped = wraps(func)(self)\n",
    "        self.ncalls = 0\n",
    "    \n",
    "    def __call__(self, *args, **kwargs):\n",
    "        self.ncalls += 1\n",
    "        return self.wrapped(*args, **kwargs)\n",
    "    \n",
    "    def __get__(self, instance, cls):\n",
    "        if instance is None:\n",
    "            return self \n",
    "        else:\n",
    "            return types.MethodType(self, instance)"
   ]
  },
  {
   "cell_type": "code",
   "execution_count": 12,
   "metadata": {
    "collapsed": true
   },
   "outputs": [],
   "source": [
    "@Profiled\n",
    "def add(x, y):\n",
    "    return x + y"
   ]
  },
  {
   "cell_type": "code",
   "execution_count": 13,
   "metadata": {
    "collapsed": true
   },
   "outputs": [],
   "source": [
    "# add(1, 2)"
   ]
  },
  {
   "cell_type": "markdown",
   "metadata": {},
   "source": [
    "#### 1.2 Descriptor\n",
    "描述符是实现了特定协议的类，包括：\\__get\\__, \\__set\\__, \\__delete\\__\n",
    "\n",
    "在实现 保护属性不受修改 、 属性类型检查 的基本功能，同时有大大提高代码的复用率。\n",
    "\n",
    "##### 1.2.1作用\n",
    "* 弥补property的不足, 如果用property实现下面的功能，那么我们需要2组setter去分别检查weight，price，不能复用\n",
    "* 设置属性不能被删除？那定义_delete_方法，并raise 异常。 \n",
    "* 还可以设置只读属性，\\__set\\__, raise exception\n"
   ]
  },
  {
   "cell_type": "code",
   "execution_count": 14,
   "metadata": {
    "collapsed": true
   },
   "outputs": [],
   "source": [
    "class Quantity(object):\n",
    "\n",
    "    def __init__(self, storage_name):\n",
    "        self.storage_name = storage_name\n",
    "\n",
    "    def __get__(self, instance, owner):\n",
    "        # return instance.__dict__[self.storage_name]\n",
    "        return getattr(self, self.storage_name)\n",
    "\n",
    "    def __set__(self, instance, value):\n",
    "        if value <= 0:\n",
    "            raise ValueError(\"value must possive\")\n",
    "\n",
    "        # instance.__dict__[self.storage_name] = value\n",
    "        setattr(self, self.storage_name, value)\n",
    "\n",
    "\n",
    "class LineItem(object):\n",
    "    weight = Quantity(\"weight\")\n",
    "    price = Quantity(\"price\")\n",
    "\n",
    "    def __init__(self, weight, price):\n",
    "        self.weight = weight\n",
    "        self.price = price"
   ]
  },
  {
   "cell_type": "code",
   "execution_count": 15,
   "metadata": {},
   "outputs": [
    {
     "name": "stdout",
     "output_type": "stream",
     "text": [
      "1 2\n"
     ]
    }
   ],
   "source": [
    "l1 = LineItem(1, 2)\n",
    "print(l1.weight, l1.price)\n",
    "\n",
    "# l2 = LineItem(-1, 0)   ValueError: value must possive"
   ]
  },
  {
   "cell_type": "markdown",
   "metadata": {},
   "source": [
    "#### 1.3 元类\n",
    "* metaclass这个词，模糊地描述了一种高于类，而又超乎类的概念。\n",
    "* 我们把python的class语句转义为元类，令其在定义类型时都会提供独特的行为\n",
    "\n",
    "##### 1.3.1 用元类来验证子类\n",
    "* 通过元类，可以再生成子类对象之前，定义类时，先验证子类的定义是否合乎规范\n",
    "* py2/3语法不同\n",
    "* python把子类的整个class语句体处理完，就会调用元类的\\__new\\__方法"
   ]
  },
  {
   "cell_type": "code",
   "execution_count": 19,
   "metadata": {},
   "outputs": [
    {
     "name": "stdout",
     "output_type": "stream",
     "text": [
      "BEFORE\n",
      "AFTER\n",
      "In Meta:  <class '__main__.Meta'> MyClass (<class 'object'>,) {'__module__': '__main__', '__qualname__': 'MyClass', 'foo': <function MyClass.foo at 0x00000176B70ED2F0>}\n"
     ]
    }
   ],
   "source": [
    "class Meta(type):\n",
    "    def __new__(meta, name, bases, class_dict):\n",
    "        print(\"In Meta: \", meta, name, bases, class_dict)\n",
    "        \n",
    "        if \"foo\" not in class_dict:\n",
    "            print(\"Invalid class for Meta\")\n",
    "            \n",
    "        return type.__new__(meta, name, bases, class_dict)\n",
    "    \n",
    "class MyClass(object, metaclass=Meta):\n",
    "    print(\"BEFORE\")\n",
    "    def foo(self):\n",
    "        pass\n",
    "    print(\"AFTER\")"
   ]
  },
  {
   "cell_type": "code",
   "execution_count": 20,
   "metadata": {},
   "outputs": [
    {
     "name": "stdout",
     "output_type": "stream",
     "text": [
      "In Meta:  <class '__main__.Meta'> MyClass2 (<class 'object'>,) {'__module__': '__main__', '__qualname__': 'MyClass2'}\n",
      "Invalid class for Meta\n"
     ]
    }
   ],
   "source": [
    "class MyClass2(object, metaclass=Meta):\n",
    "    pass"
   ]
  },
  {
   "cell_type": "markdown",
   "metadata": {},
   "source": [
    "##### 1.3.2 用元类来注册子类\n",
    "* 可以在程序中自动注册类型，在需要方向查找(reverse lookup)的场合，非常有用\n",
    "* 可以在简单的标识符与对应的类之间建立映射关系\n",
    "\n",
    "\n",
    "* 在下例中需要一个registry去维护需要被deserialize的类名，\n",
    "* 就可以不用 BetterPoint2D.deserialize(data) 这种形式，而是更generic的形式来调用deserialize方法\n",
    "* 需要把register_class 放在一个地方，不会被忘记调用"
   ]
  },
  {
   "cell_type": "code",
   "execution_count": 21,
   "metadata": {
    "collapsed": true
   },
   "outputs": [],
   "source": [
    "import json\n",
    "\n",
    "registry = {}\n",
    "\n",
    "def register_class(target_class):\n",
    "    registry[target_class.__name__] = target_class\n",
    "    \n",
    "    \n",
    "class Meta(type):\n",
    "    def __new__(meta, name, bases, class_dict):\n",
    "        # 真的在内存里实例化这个实例\n",
    "        cls = type.__new__(meta, name, bases, class_dict)\n",
    "        register_class(cls)         # 注册类！\n",
    "        return cls\n",
    "\n",
    "    \n",
    "def deserialize(data):\n",
    "    params = json.loads(data)\n",
    "    target_class = registry[params[\"class\"]]\n",
    "    return target_class(*params[\"args\"])\n",
    "    \n",
    "    \n",
    "class Serializable(object):\n",
    "    \n",
    "    def __init__(self, *args):\n",
    "        self.args = args\n",
    "    \n",
    "    def serialize(self):\n",
    "        return json.dumps({\n",
    "                'class': self.__class__.__name__,\n",
    "                'args':self.args})\n",
    "    \n",
    "       \n",
    "class Point2D(Serializable, metaclass=Meta):\n",
    "    \n",
    "    def __init__(self, x, y):\n",
    "        super(Point2D, self).__init__(x, y)\n",
    "        self.x = x\n",
    "        self.y = y\n",
    "        \n",
    "    def __repr__(self):\n",
    "        return \"Point({}, {})\".format(self.x, self.y)"
   ]
  },
  {
   "cell_type": "markdown",
   "metadata": {},
   "source": [
    "* Point2D 继承Serizlizable，但是元类时Meta"
   ]
  },
  {
   "cell_type": "code",
   "execution_count": 22,
   "metadata": {},
   "outputs": [
    {
     "name": "stdout",
     "output_type": "stream",
     "text": [
      "{\"class\": \"Point2D\", \"args\": [2, 4]}\n"
     ]
    }
   ],
   "source": [
    "point = Point2D(2, 4)\n",
    "data = point.serialize()\n",
    "print(data)"
   ]
  },
  {
   "cell_type": "code",
   "execution_count": 23,
   "metadata": {},
   "outputs": [
    {
     "name": "stdout",
     "output_type": "stream",
     "text": [
      "After deserialize Point(2, 4)\n"
     ]
    }
   ],
   "source": [
    "print(\"After deserialize\", deserialize(data))"
   ]
  },
  {
   "cell_type": "markdown",
   "metadata": {},
   "source": [
    "##### 1.3.2 用元类来注解类的属性"
   ]
  },
  {
   "cell_type": "code",
   "execution_count": null,
   "metadata": {
    "collapsed": true
   },
   "outputs": [],
   "source": []
  },
  {
   "cell_type": "markdown",
   "metadata": {},
   "source": [
    "### II. python 技术\n",
    "#### 2.1 迭代器和生成器"
   ]
  },
  {
   "cell_type": "code",
   "execution_count": null,
   "metadata": {
    "collapsed": true
   },
   "outputs": [],
   "source": []
  },
  {
   "cell_type": "markdown",
   "metadata": {},
   "source": [
    "#### 2.2 contextmanager"
   ]
  },
  {
   "cell_type": "code",
   "execution_count": null,
   "metadata": {
    "collapsed": true
   },
   "outputs": [],
   "source": []
  },
  {
   "cell_type": "markdown",
   "metadata": {},
   "source": [
    "##### 2.3 asyncio 异步编程\n",
    "\n",
    "https://www.cnblogs.com/zhaof/p/8490045.html\n",
    "\n",
    "https://zhuanlan.zhihu.com/p/25228075\n",
    "\n",
    "https://www.cnblogs.com/earendil/p/7411115.html\n",
    "\n",
    "https://zhuanlan.zhihu.com/p/28993491\n",
    "\n",
    "* 实现异步有两个底层的东西\n",
    "    * select - OS提供方式 告诉应用程序，我有空闲\n",
    "        * 判断非阻塞调用是否就绪如果 OS 能做，是不是应用程序就可以不用自己去等待和判断了，就可以利用这个空闲去做其他事情以提高效率。所以OS将I/O状态的变化都封装成了事件，如可读事件、可写事件。并且提供了专门的系统模块让应用程序可以接收事件通知。这个模块就是select。让应用程序可以通过select注册文件描述符和回调函数。当文件描述符的状态发生变化时，select 就调用事先注册的回调函数。\n",
    "\n",
    "        * select因其算法效率比较低，后来改进成了poll，再后来又有进一步改进，BSD内核改进成了kqueue模块，而Linux内核改进成了epoll模块。这四个模块的作用都相同，暴露给程序员使用的API也几乎一致，区别在于kqueue 和 epoll 在处理大量文件描述符时效率更高。鉴于 Linux 服务器的普遍性，以及为了追求更高效率，所以我们常常听闻被探讨的模块都是 epoll 。\n",
    "    *  操作系统的Interrupts和Traps机制\n",
    "        * 操作系统挂起进程，保存上下文，切换回来自动运行\n",
    "        \n",
    "* 而所谓的异步编程，是给用户主动挂起，主动切换程序执行的方法\n",
    "    * 协程 - 协程级别的切换比Thread更细，它并没有spawn一个新的线程，但实现了 OS run/trap的切换\n",
    "    * 线程，通过线程实现，但是线程的启动通信是有cost的，并且由于python GIL的存在，线程不能实现CPU并行，因为python同一时间只能有一个线程运行。所以又不能CPU并行，cost又高，在IO密集操作中，它并没有协程好用！！\n",
    "    * 进程\n",
    "\n",
    "* python的支持\n",
    "    * select.select\n",
    "    * yield\n",
    "    * yield from\n",
    "    * async/await\n",
    "    * asyncio\n",
    "\n",
    "![OS executes](img/os.png)"
   ]
  },
  {
   "cell_type": "markdown",
   "metadata": {},
   "source": [
    "##### 2.3.1 Non-blocking\n",
    "###### 2.3.1.1 epoll\n",
    "判断非阻塞调用是否就绪如果 OS 能做，是不是应用程序就可以不用自己去等待和判断了，就可以利用这个空闲去做其他事情以提高效率。\n",
    "\n",
    "所以OS将I/O状态的变化都封装成了事件，如可读事件、可写事件。并且提供了专门的系统模块让应用程序可以接收事件通知。这个模块就是select。让应用程序可以通过select注册文件描述符和回调函数。当文件描述符的状态发生变化时，select 就调用事先注册的回调函数。\n",
    "\n",
    "select因其算法效率比较低，后来改进成了poll，再后来又有进一步改进，Linux内核改进成了epoll模块。\n",
    "\n",
    "###### 2.3.1.2 回调 - Callback\n",
    "把I/O事件的等待和监听任务交给了 OS，那 OS 在知道I/O状态发生改变后（例如socket连接已建立成功可发送数据），它又怎么知道接下来该干嘛呢？回调。\n",
    "\n",
    "需要我们将发送数据与读取数据封装成独立的函数，让epoll代替应用程序监听socket状态时，得告诉epoll：“如果socket状态变为可以往里写数据（连接建立成功了），请调用HTTP请求发送函数。如果socket 变为可以读数据了（客户端已收到响应），请调用响应处理函数。\n",
    "\n",
    "###### 2.3.1.3 事件循环 - Event Loop\n",
    "为了解决上述问题，我们写一个循环，去访问selector模块，等待它告诉我们当前是哪个事件发生了，应该对应哪个回调。这个等待事件通知的循环，称之为事件循环。\n",
    "\n",
    "selector.select()是一个阻塞调用，因为如果事件不发生，那应用程序就没事件可处理，所以就干脆阻塞在这里等待事件发生。所以，selector机制(后文以此称呼代指epoll/kqueue)是设计用来解决大量并发连接的。当系统中有大量非阻塞调用，能随时产生事件的时候，selector机制才能发挥最大的威力。"
   ]
  },
  {
   "cell_type": "markdown",
   "metadata": {},
   "source": [
    "##### 2.3.1.4 原始的selector实现\n",
    "\n",
    "Python标准库提供的selectors模块是对底层select/poll/epoll/kqueue的封装。\n",
    "\n",
    "DefaultSelector类会根据 OS 环境自动选择最佳的模块，\n",
    "\n",
    "那在 Linux 2.5.44 及更新的版本上都是epoll了。"
   ]
  },
  {
   "cell_type": "code",
   "execution_count": 3,
   "metadata": {
    "collapsed": true
   },
   "outputs": [],
   "source": [
    "import socket\n",
    "from selectors import DefaultSelector, EVENT_WRITE, EVENT_READ\n",
    "\n",
    "selector = DefaultSelector()\n",
    "\n",
    "\n",
    "def recieve_line(sock):\n",
    "    chars = []\n",
    "    while True:\n",
    "        c = sock.recv(1)\n",
    "        if not c:\n",
    "            break\n",
    "        \n",
    "        chars.append(c)\n",
    "        if c == b'\\n':\n",
    "            break\n",
    "    print(\"Recieved data \", chars)\n",
    "    return b''.join(chars)\n",
    "\n",
    "\n",
    "class Server(object):\n",
    "    \n",
    "    def __init__(self, ip, port):\n",
    "        self.addr = (ip, port)\n",
    "        self.start()\n",
    "        \n",
    "    def start(self):\n",
    "        sock = socket.socket(socket.AF_INET, socket.SOCK_STREAM)\n",
    "        sock.setblocking(False)\n",
    "        sock.setsockopt(socket.SOL_SOCKET, socket.SO_REUSEADDR, 1)\n",
    "        \n",
    "        sock.bind(self.addr)\n",
    "        sock.listen(64)                                                                                                      \n",
    "        print(\"Server::: Listen at {}\\n\".format(self.addr))                                                                        \n",
    "\n",
    "        selector.register(sock, EVENT_READ, self.accept)\n",
    "        \n",
    "    \n",
    "    def accept(self, sock, mask):\n",
    "        conn, socketname = sock.accept()\n",
    "        print(\"server sock fileno\", sock.fileno(), \" file no accepted \", conn.fileno())\n",
    "        print(\"Accepted connection \", conn, socketname)\n",
    "        conn.setblocking(False)\n",
    "        selector.register(conn, EVENT_READ, self.connected)\n",
    "        \n",
    "    def connected(self, conn, mask):\n",
    "        print(conn, mask)\n",
    "        data = recieve_line(conn)\n",
    "        print(data)\n",
    "        if not data:\n",
    "            print(\"Closing connection \", conn)\n",
    "            selector.unregister(conn)\n",
    "            conn.close()\n",
    "\n",
    "# get event loop\n",
    "def run_forever():\n",
    "    while True:\n",
    "        events = selector.select()\n",
    "        if not events:\n",
    "            raise SelectTimeout('轮询超时')\n",
    "        for event_key, event_mask in events:\n",
    "            callback = event_key.data\n",
    "            callback(event_key.fileobj, event_mask)"
   ]
  },
  {
   "cell_type": "code",
   "execution_count": 4,
   "metadata": {},
   "outputs": [
    {
     "name": "stdout",
     "output_type": "stream",
     "text": [
      "Server::: Listen at ('127.0.0.1', 9283)\n",
      "\n"
     ]
    }
   ],
   "source": [
    "s = Server(\"127.0.0.1\", 9283)"
   ]
  },
  {
   "cell_type": "code",
   "execution_count": null,
   "metadata": {
    "collapsed": true
   },
   "outputs": [],
   "source": [
    "run_forever()"
   ]
  },
  {
   "cell_type": "markdown",
   "metadata": {},
   "source": [
    "###### 2.3.1.5 asyncio\n",
    "异步io的本质是对系统的基本的异步io函数epoll, selector的封装。 但凡异步必将涉及事件-回调，而裸的事件回调会使代码复杂，比如又要考虑出现异常怎么办，回调中套回调， 回调间数据怎么共享，怎么判断谁触发回调都很麻烦。\n",
    "asyncio这个库就是使用python的yield这个可以打断保存当前函数的上下文的机制， 封装好了selector 摆脱掉了复杂的回调关系"
   ]
  },
  {
   "cell_type": "code",
   "execution_count": null,
   "metadata": {
    "collapsed": true
   },
   "outputs": [],
   "source": [
    "class Future:\n",
    "    \n",
    "    def __init__(self):\n",
    "        self.result = None\n",
    "        self._callbacks = []\n",
    "    \n",
    "    def add_done_callback(self, func):\n",
    "        self._callbacks.append(func)\n",
    "    \n",
    "    def set_result(self, result):\n",
    "        self.result = result\n",
    "        for func in self._callbacks:\n",
    "            func(self)\n",
    "            \n",
    "class Task:\n",
    "    \n",
    "    def __init__(self, coro):\n",
    "        self.coro = coro\n",
    "        f = Future()\n",
    "        f.set_result(None)\n",
    "        self.step(f)\n",
    "    \n",
    "    def step(self, future):\n",
    "        try:\n",
    "            next_future = self.coro.send(future.result)\n",
    "        except StopIteration:\n",
    "            return \n",
    "        \n",
    "        next_future.add_done_callback(self.step)"
   ]
  },
  {
   "cell_type": "code",
   "execution_count": 1,
   "metadata": {},
   "outputs": [
    {
     "name": "stdout",
     "output_type": "stream",
     "text": [
      "2019-06-12 11:02:55.542137\n",
      "2019-06-12 11:02:56.542492\n",
      "2019-06-12 11:02:57.542523\n",
      "2019-06-12 11:02:58.542563\n",
      "2019-06-12 11:02:59.543231\n"
     ]
    }
   ],
   "source": [
    "import datetime\n",
    "\n",
    "async def display_date(loop):\n",
    "    end_time = loop.time() + 5.0\n",
    "    while True:\n",
    "        print(datetime.datetime.now())\n",
    "        if (loop.time() + 1.0) >= end_time:\n",
    "            break\n",
    "        await asyncio.sleep(1)\n",
    "        \n",
    "loop = asyncio.get_event_loop()\n",
    "loop.run_until_complete(display_date(loop))\n",
    "loop.close()"
   ]
  },
  {
   "cell_type": "code",
   "execution_count": 1,
   "metadata": {
    "collapsed": true
   },
   "outputs": [],
   "source": [
    "import asyncio\n",
    "import time\n",
    "\n",
    "async def say_after(delay, what):\n",
    "    await asyncio.sleep(delay)\n",
    "    print(what)\n",
    "    \n",
    "\n",
    "async def say():\n",
    "    \n",
    "    print(f\"started at time {time.strftime('%X')}\")\n",
    "    \n",
    "    await say_after(1, \"hello\")\n",
    "    await say_after(2, \"world\")\n",
    "    \n",
    "    print(f\"finished at {time.strftime('%X')}\")"
   ]
  },
  {
   "cell_type": "code",
   "execution_count": null,
   "metadata": {
    "collapsed": true
   },
   "outputs": [],
   "source": []
  },
  {
   "cell_type": "markdown",
   "metadata": {},
   "source": [
    "* create and manage event loops, which provide asynchronous APIs for networking, running subprocesses, handling OS signals, etc;\n",
    "* implement efficient protocols using transports;\n",
    "* bridge callback-based libraries and code with async/await syntax."
   ]
  },
  {
   "cell_type": "code",
   "execution_count": 3,
   "metadata": {
    "collapsed": true
   },
   "outputs": [],
   "source": [
    "import asyncio\n",
    "\n",
    "class AsyncioServer(asyncio.Protocol):\n",
    "    \n",
    "    def connection_made(self, transport):\n",
    "        self.transport = transport\n",
    "        self.address = transport.get_extra_info('peername')\n",
    "        self.data = b''\n",
    "        print(\"Accept connection from {}\".format(self.address))\n",
    "    \n",
    "    def data_received(self, data):\n",
    "        self.data += data\n",
    "        if self.data.endswith(b'?'):\n",
    "            anwser = self.data.replace(b'?', b'.')\n",
    "            print(\"Answer \", anwser)\n",
    "            self.transport.write(anwser)\n",
    "            self.data = b''\n",
    "    \n",
    "    def connection_lost(self, exc):\n",
    "        if exc:\n",
    "            print(\"Client {} error: {}\".format(self.address, exc))\n",
    "        elif self.data:\n",
    "            print(\"Client {} sent {} but then closed\".format(self.address, self.data))\n",
    "        else:\n",
    "            print(\"Client {} closed socket\".format(self.address))\n",
    "            \n",
    "def serve(address, server):\n",
    "    loop = asyncio.get_event_loop()\n",
    "    coro = loop.create_server(server, *address)\n",
    "    server = loop.run_until_complete(coro)\n",
    "    print(\"Listening at {}\".format(address))\n",
    "    try:\n",
    "        loop.run_forever()\n",
    "    finally:\n",
    "        server.colse()\n",
    "        loop.stop()"
   ]
  },
  {
   "cell_type": "code",
   "execution_count": 80,
   "metadata": {},
   "outputs": [
    {
     "ename": "NameError",
     "evalue": "name 'serve' is not defined",
     "output_type": "error",
     "traceback": [
      "\u001b[1;31m---------------------------------------------------------------------------\u001b[0m",
      "\u001b[1;31mNameError\u001b[0m                                 Traceback (most recent call last)",
      "\u001b[1;32m<ipython-input-80-44f5fc7b5b9a>\u001b[0m in \u001b[0;36m<module>\u001b[1;34m\u001b[0m\n\u001b[0;32m      1\u001b[0m \u001b[0maddress\u001b[0m \u001b[1;33m=\u001b[0m \u001b[1;33m(\u001b[0m\u001b[1;34m\"127.0.0.1\"\u001b[0m\u001b[1;33m,\u001b[0m \u001b[1;36m9823\u001b[0m\u001b[1;33m)\u001b[0m\u001b[1;33m\u001b[0m\u001b[1;33m\u001b[0m\u001b[0m\n\u001b[1;32m----> 2\u001b[1;33m \u001b[0mserve\u001b[0m\u001b[1;33m(\u001b[0m\u001b[0maddress\u001b[0m\u001b[1;33m,\u001b[0m \u001b[0mAsyncioServer\u001b[0m\u001b[1;33m)\u001b[0m\u001b[1;33m\u001b[0m\u001b[1;33m\u001b[0m\u001b[0m\n\u001b[0m",
      "\u001b[1;31mNameError\u001b[0m: name 'serve' is not defined"
     ]
    }
   ],
   "source": [
    "address = (\"127.0.0.1\", 9823)\n",
    "serve(address, AsyncioServer)"
   ]
  },
  {
   "cell_type": "markdown",
   "metadata": {},
   "source": [
    "### III. 并发编程\n",
    "#### 3.0 概念\n",
    "##### 3.0.1 \n",
    "###### 并发 vs 并行\n",
    "* 并发：concurrent 在一个时间段内有几个程序在一个CPU上运行，但任意时刻只有一个程序在CPU上运行\n",
    "* 并行：parallel，多个CPU\n",
    "\n",
    "###### 同步 vs 异步\n",
    "* 同步： 必须等待IO操作完成，再下一步，线性调用\n",
    "* 异步： 不必等待IO造作完成，就返回的调用方式\n",
    "\n",
    "###### blocking vs non-blocking\n",
    "* blocking：调用函数是被挂起\n",
    "* non-blocking：调用函数是线程不会被挂起，而是立即返回\n"
   ]
  },
  {
   "cell_type": "markdown",
   "metadata": {},
   "source": [
    "#### 3.0.2 异步的重要应用 - 非阻塞IO "
   ]
  },
  {
   "cell_type": "code",
   "execution_count": null,
   "metadata": {
    "collapsed": true
   },
   "outputs": [],
   "source": []
  },
  {
   "cell_type": "markdown",
   "metadata": {},
   "source": [
    "#### 3.0.3 异步的重要应用 - select 来实现非阻塞IO\n",
    "* 一般不直接用select，而是用包装好的selector\n",
    "* DefaultSelector会根据OS来选择使用epoll，还是poll\n",
    "\n",
    "\n",
    "* selector.register(fileno, EVENT_READ/EVENT_WRITE, callback)\n",
    "* select 本身不支持register模式，是selector封装的\n",
    "* socket状态变化以后的callback是程序员实现的\n",
    "\n",
    "\n",
    "* key, mask = selector.select()\n",
    "    * key 是你register的key object， \n",
    "    * callback 在key.data 里存着\n",
    "    \n",
    "见2.3.1.4 \n",
    "\n",
    "* eventloop模式\n",
    "    * 所有的异步都是一个模式 -- 事件循环\n",
    "    * 不停的请求socket的状态并调用相应的callback"
   ]
  },
  {
   "cell_type": "markdown",
   "metadata": {},
   "source": [
    "#### 3.1 协程 - coroutine \n",
    "##### 3.1.0 回调模式的痛点\n",
    "* callback + evet loop\n",
    "    * 程序可读性差\n",
    "    * 共享状态管理困难，不同协程中怎么共享数据\n",
    "    * 异常处理困难\n",
    "\n",
    "* 协程可以解决这个问题\n",
    "    * 回调模式编码复杂度高\n",
    "    * 同步模式的并发性不高\n",
    "    * 如果用多线程来做，需要用lock，开销大\n",
    "* 方案\n",
    "    * 采用同步方式去编写异步的代码\n",
    "    * 使用单线程去切换任务\n",
    "        * 线程是由操作系统切换的，单线程意味着程序员自己去调度任务\n",
    "        * 不需要锁，并发性高\n",
    "        * 在线程内切换函数，性能远高于线程之间切换效率更高，并发性更高\n",
    "        \n",
    "* 效果：\n",
    "    * 在单线程中，自己通过程序来挂起/恢复函数\n",
    "    * => coroutine\n",
    "\n",
    "##### 什么是协程\n",
    "* 如何利用8核CPU, 64G 内存，在10gbps的网络上维持100W并发连接\n",
    "\n",
    "\n",
    "\n",
    "* coroutine 更多的是挂起一个操作，来实现异步！！！\n",
    "* 绿色线程，轻量级的线程。协程，又称作Coroutine。从字面上来理解，即协同运行的例程，它是比是线程（thread）更细量级的用户态线程，特点是允许用户的主动调用和主动退出，挂起当前的例程然后返回值或去执行其他任务，接着返回原来停下的点继续执行。\n",
    "* 实现原理\n",
    "    * 通过用yield语句。其实这里我们要感谢操作系统（OS）为我们做的工作，因为它具有getcontext和swapcontext这些特性，通过系统调用，我们可以把上下文和状态保存起来，切换到其他的上下文，这些特性为coroutine的实现提供了底层的基础。操作系统的Interrupts和Traps机制则为这种实现提供了可能性"
   ]
  },
  {
   "cell_type": "code",
   "execution_count": 2,
   "metadata": {
    "collapsed": true
   },
   "outputs": [],
   "source": [
    "import time\n",
    "\n",
    "def get_html(url):\n",
    "    time.sleep(3)\n",
    "\n",
    "    return \"mock data\"\n",
    "    \n",
    "\n",
    "def parse_url(html):\n",
    "    return html\n",
    "\n",
    "# blocking way\n",
    "def get_url(url):\n",
    "    \n",
    "    html = get_html(url)  # io cost high, 传统模式，blocking等待在这里\n",
    "    \n",
    "    # 希望可以在 get_html可以挂起，等到get_html返回值了之后，再切换回来\n",
    "    # 继续运行后面的\n",
    "    \n",
    "    urls = parse_url(html)  # CPU cost high"
   ]
  },
  {
   "cell_type": "markdown",
   "metadata": {},
   "source": [
    "###### 利用generator 来把上面的代码改造成协程"
   ]
  },
  {
   "cell_type": "markdown",
   "metadata": {},
   "source": [
    "* attempt 1 failed, blocking"
   ]
  },
  {
   "cell_type": "code",
   "execution_count": 20,
   "metadata": {},
   "outputs": [],
   "source": [
    "import time\n",
    "import threading\n",
    "from queue import Queue\n",
    "\n",
    "queue = Queue()\n",
    "\n",
    "\n",
    "def some_io_heavy_func():\n",
    "    time.sleep(3)\n",
    "    queue.put(\"mock data\")\n",
    "    \n",
    "\n",
    "def get_html(url):\n",
    "    print(\"Getting URL {} \".format(url))\n",
    "    t1 = threading.Thread(target=some_io_heavy_func)\n",
    "    t1.start()\n",
    "    \n",
    "def non_blocking_get_url(urls):\n",
    "    for url in urls:\n",
    "        yield from get_html(url)\n",
    "    \n",
    "    \n",
    "\n",
    "def main():\n",
    "    urls = [\"baidu\", \"google\", \"fb\"]\n",
    "    for msg in non_blocking_get_url(urls):\n",
    "        print(msg)\n",
    "        # parse(data)"
   ]
  },
  {
   "cell_type": "code",
   "execution_count": 19,
   "metadata": {},
   "outputs": [
    {
     "name": "stdout",
     "output_type": "stream",
     "text": [
      "Getting URL baidu \n",
      "baidu finished\n",
      "Getting URL google \n",
      "google finished\n",
      "Getting URL fb \n",
      "fb finished\n"
     ]
    }
   ],
   "source": [
    "main()"
   ]
  },
  {
   "cell_type": "markdown",
   "metadata": {},
   "source": [
    "##### generator 的一些特性\n",
    "* 不仅可以产生值\n",
    "* 还可以接收值\n",
    "\n",
    "* 启动生成器支持的方法\n",
    "    * next\n",
    "    * send\n",
    "    * close, close之后再next会报stopIteration异常\n",
    "    * throw\n",
    "\n",
    "* generatorEXIT继承自BaseException， 如果 except Exception, 抓不到异常的"
   ]
  },
  {
   "cell_type": "code",
   "execution_count": 54,
   "metadata": {},
   "outputs": [
    {
     "name": "stdout",
     "output_type": "stream",
     "text": [
      "Generator get value  http://baidu.com\n",
      "Send 也收到返回值 2\n"
     ]
    }
   ],
   "source": [
    "def gen_func():\n",
    "    # generator还可以接收返回值\n",
    "    # 接受的值就是调用方法传回来的\n",
    "    html = yield \"http://baidu.com\"  \n",
    "    print(\"Generator get value \", html)\n",
    "        \n",
    "    yield 2\n",
    "    return 4\n",
    "\n",
    "gen = gen_func()\n",
    "html = next(gen)\n",
    "print(u\"Send 也收到返回值\", gen.send(html))\n"
   ]
  },
  {
   "cell_type": "code",
   "execution_count": 58,
   "metadata": {},
   "outputs": [
    {
     "name": "stdout",
     "output_type": "stream",
     "text": [
      "Got exception  Mock Error\n"
     ]
    }
   ],
   "source": [
    "def gen_func():\n",
    "    # generator还可以接收返回值\n",
    "    # 接受的值就是调用方法传回来的\n",
    "    try:\n",
    "        html = yield \"http://baidu.com\"  \n",
    "        print(\"Generator get value: \", html)\n",
    "    except Exception as e:\n",
    "        print(\"Got exception \", e)\n",
    "        \n",
    "    yield 2\n",
    "    yield 3\n",
    "    return 4\n",
    "\n",
    "gen = gen_func()\n",
    "next(gen)\n",
    "gen.throw(Exception, \"Mock Error\") \n",
    "gen.close()"
   ]
  },
  {
   "cell_type": "markdown",
   "metadata": {},
   "source": [
    "* generator 可以给它发送值，他可以返回值，也可以抛出异常，\n",
    "* 这就满足了对程序控制的基本需求\n",
    "\n",
    "###### yield from\n",
    "* yield from 一个generator"
   ]
  },
  {
   "cell_type": "markdown",
   "metadata": {},
   "source": [
    "* chain 那多个可迭代对象 chain在一起"
   ]
  },
  {
   "cell_type": "code",
   "execution_count": 136,
   "metadata": {
    "collapsed": true
   },
   "outputs": [],
   "source": [
    "from itertools import chain\n",
    "\n",
    "a_list = [\"hello\", \"world\"]\n",
    "a_dict = {\"a\" : \"ab\"}\n",
    "\n",
    "def gen():\n",
    "    try:\n",
    "        for i in chain(a_list, a_dict, range(5, 6)):\n",
    "            recieved = yield i\n",
    "            \n",
    "            if recieved:\n",
    "                print(recieved)\n",
    "    except Exception as e:\n",
    "        print(\"Some one send me exception: \", e)\n",
    "\n",
    "def g1():\n",
    "    yield from gen()\n",
    "    \n",
    "    \n",
    "def main():\n",
    "    g = g1()\n",
    "    g.send(None)\n",
    "    g.send(u\"Send from 调用方\")\n",
    "    \n",
    "    print(u\"Call next() on 委托生成器:\", next(g))\n",
    "    \n",
    "    try:\n",
    "        g.throw(Exception, \"Mock\")\n",
    "    except StopIteration as e:\n",
    "        print(u\"throw Exception, 该generator应该stop\")"
   ]
  },
  {
   "cell_type": "markdown",
   "metadata": {},
   "source": [
    "* main: 调用方\n",
    "* g1: 委托生成器\n",
    "* gen: 子生成器\n",
    "\n",
    "* yield from 会在**调用方**和**子生成器**中间建立一个双向通道\n",
    "\n",
    "\n",
    "* 所以调用方 send 是直接发给子生成器的，跳过了G1\n",
    "* 所以调用方 throw 给子生成器异常"
   ]
  },
  {
   "cell_type": "code",
   "execution_count": 137,
   "metadata": {},
   "outputs": [
    {
     "name": "stdout",
     "output_type": "stream",
     "text": [
      "Send from 调用方\n",
      "Call next() on 委托生成器: a\n",
      "Some one send me exception:  Mock\n",
      "throw Exception, 该generator应该stop\n"
     ]
    }
   ],
   "source": [
    "main()"
   ]
  },
  {
   "cell_type": "code",
   "execution_count": 79,
   "metadata": {},
   "outputs": [
    {
     "name": "stdout",
     "output_type": "stream",
     "text": [
      "0\n",
      "1\n"
     ]
    }
   ],
   "source": [
    "for value in simple_case():\n",
    "    print(value)"
   ]
  },
  {
   "cell_type": "markdown",
   "metadata": {},
   "source": [
    "* 示例1，用coroutine代替线程"
   ]
  },
  {
   "cell_type": "code",
   "execution_count": 1,
   "metadata": {
    "collapsed": true
   },
   "outputs": [],
   "source": [
    "def countdown(n):\n",
    "    while n > 0:\n",
    "        print('T-minus', n)\n",
    "        yield\n",
    "        n -= 1\n",
    "    print('Blastoff!')\n",
    "    \n",
    "    \n",
    "def countup(n):\n",
    "    x = 0\n",
    "    while x < n:\n",
    "        print('Conuting up', x)\n",
    "        yield\n",
    "        x += 1"
   ]
  },
  {
   "cell_type": "code",
   "execution_count": 2,
   "metadata": {
    "collapsed": true
   },
   "outputs": [],
   "source": [
    "from collections import deque\n",
    "\n",
    "class TaskScheduler:\n",
    "    \n",
    "    def __init__(self):\n",
    "        self._task_queue = deque()\n",
    "        \n",
    "    def new_task(self, task):\n",
    "        '''Admit a newly started task to the scheduler'''\n",
    "        self._task_queue.append(task)\n",
    "    \n",
    "    def run(self):\n",
    "        while self._task_queue:\n",
    "            task = self._task_queue.popleft()\n",
    "            \n",
    "            try:\n",
    "                next(task)\n",
    "                self._task_queue.append(task) # 轮询的运行queue里的协程\n",
    "            except StopIteration:\n",
    "                pass"
   ]
  },
  {
   "cell_type": "code",
   "execution_count": 3,
   "metadata": {},
   "outputs": [
    {
     "name": "stdout",
     "output_type": "stream",
     "text": [
      "T-minus 5\n",
      "Conuting up 0\n",
      "T-minus 4\n",
      "Conuting up 1\n",
      "T-minus 3\n",
      "Conuting up 2\n",
      "T-minus 2\n",
      "Conuting up 3\n",
      "T-minus 1\n",
      "Conuting up 4\n",
      "Blastoff!\n",
      "Conuting up 5\n"
     ]
    }
   ],
   "source": [
    "scheduler = TaskScheduler()\n",
    "scheduler.new_task(countdown(5))\n",
    "scheduler.new_task(countup(6))\n",
    "scheduler.run()"
   ]
  },
  {
   "cell_type": "markdown",
   "metadata": {},
   "source": [
    "* 示例2"
   ]
  },
  {
   "cell_type": "code",
   "execution_count": 6,
   "metadata": {
    "collapsed": true
   },
   "outputs": [],
   "source": [
    "class ActorScheduler:\n",
    "    \n",
    "    def __init__(self):\n",
    "        self._actors = {}\n",
    "        self._msg_queue = deque()\n",
    "        \n",
    "    def new_actor(self, name, actor):\n",
    "        self._msg_queue.append((actor, None))\n",
    "        self._actors[name] = actor\n",
    "       \n",
    "    def send(self, name, msg):\n",
    "        actor = self._actors.get(name)\n",
    "        if actor:\n",
    "            self._msg_queue.append((actor, msg))\n",
    "            \n",
    "    def run(self):\n",
    "        while self._msg_queue:\n",
    "            actor, msg = self._msg_queue.popleft()\n",
    "            \n",
    "            try:\n",
    "                actor.send(msg)\n",
    "                print(\"Sending \", msg, \" to \", actor.__name__)\n",
    "            except StopIteration:\n",
    "                pass"
   ]
  },
  {
   "cell_type": "code",
   "execution_count": 7,
   "metadata": {
    "collapsed": true
   },
   "outputs": [],
   "source": [
    "def printer():\n",
    "    while True:\n",
    "        msg = yield\n",
    "        print('Got: ', msg)\n",
    "\n",
    "        \n",
    "def counter(sched):\n",
    "    \n",
    "    while True:\n",
    "        n = yield\n",
    "        if n == 0:\n",
    "            break\n",
    "        \n",
    "        sched.send('printer', n)\n",
    "        \n",
    "        sched.send('counter', n-1)"
   ]
  },
  {
   "cell_type": "code",
   "execution_count": 8,
   "metadata": {},
   "outputs": [
    {
     "name": "stdout",
     "output_type": "stream",
     "text": [
      "Sending  None  to  printer\n",
      "Sending  None  to  counter\n",
      "Sending  3  to  counter\n",
      "Got:  3\n",
      "Sending  3  to  printer\n",
      "Sending  2  to  counter\n",
      "Got:  2\n",
      "Sending  2  to  printer\n",
      "Sending  1  to  counter\n",
      "Got:  1\n",
      "Sending  1  to  printer\n"
     ]
    }
   ],
   "source": [
    "sched = ActorScheduler()\n",
    "sched.new_actor('printer', printer())\n",
    "sched.new_actor('counter', counter(sched))\n",
    "\n",
    "sched.send('counter', 3)\n",
    "sched.run()"
   ]
  },
  {
   "cell_type": "markdown",
   "metadata": {},
   "source": [
    "###### SELECT\n",
    "* 要理解select.select模块其实主要就是要理解它的参数, 以及其三个返回值。\n",
    "* select()方法接收并监控3个通信列表， 第一个是所有的输入的data,就是指外部发过来的数据，第2个是监控和接收所有要发出去的data(outgoing data),第3个监控错误信息\n"
   ]
  },
  {
   "cell_type": "markdown",
   "metadata": {},
   "source": [
    "###### 3.1.2 用协程实现produce/consume"
   ]
  },
  {
   "cell_type": "markdown",
   "metadata": {
    "collapsed": true
   },
   "source": [
    "```python\n",
    "import asyncio\n",
    "\n",
    "async def compute(x, y):\n",
    "    print(\"Compute %s + %s ...\" % (x, y))\n",
    "    await asyncio.sleep(1)\n",
    "    return x + y\n",
    "\n",
    "async def print_sum(x, y):\n",
    "    result = await compute(x, y)\n",
    "    print(\"%s + %s = %s\" % (x, y, result)) \n",
    "```\n",
    "\n",
    "```\n",
    ">>> asyncio.run(print_sum(1, 2))\n",
    "Compute 1 + 2 ...\n",
    "1 + 2 = 3\n",
    "```\n"
   ]
  },
  {
   "cell_type": "markdown",
   "metadata": {},
   "source": [
    "#### 3.2 多线程\n",
    "\n",
    "##### 3.2.0 线程之间共享的资源有哪些\n",
    "\n",
    "###### 3.2.0.0  共享的资源\n",
    "* a. 堆  \n",
    "    * 由于堆是在进程空间中开辟出来的，所以它是理所当然地被共享的；因此new出来的都是共享的（16位平台上分全局堆和局部堆，局部堆是独享的）\n",
    "* b. 全局变量 \n",
    "    * 它是与具体某一函数无关的，所以也与特定线程无关；因此也是共享的\n",
    "* c. 静态变量 \n",
    "    * 虽然对于局部变量来说，它在代码中是“放”在某一函数中的，但是其存放位置和全局变量一样，存于堆中开辟的.bss和.data段，是共享的\n",
    "* d. 文件等公用资源  \n",
    "    * 这个是共享的，使用这些公共资源的线程必须同步。Win32 提供了几种同步资源的方式，包括信号、临界区、事件和互斥体。\n",
    "\n",
    "###### 3.2.0.1 独享的资源\n",
    "* a. 栈 \n",
    "    * 栈是独享的\n",
    "* b. 寄存器  \n",
    "    * 这个可能会误解，因为电脑的寄存器是物理的，每个线程去取值难道不一样吗？其实线程里存放的是副本，包括程序计数器PC\n",
    " \n",
    "###### 3.2.0.2 线程共享的环境包括：\n",
    "* 进程代码段\n",
    "* 进程的公有数据\n",
    "    * (利用这些共享的数据，线程很容易的实现相互之间的通讯)\n",
    "* 进程打开的文件描述符、信号的处理器、\n",
    "* 进程的当前目录和进程用户ID与进程组ID。\n",
    " \n",
    "###### 3.2.0.2 线程的个性\n",
    "进程拥有这许多共性的同时，还拥有自己的个性。有了这些个性，线程才能实现并发性。\n",
    "\n",
    "\n",
    "* 1.线程ID \n",
    "    * 每个线程都有自己的线程ID，这个ID在本进程中是唯一的。进程用此来标识线程。\n",
    "* 2.寄存器组的值 \n",
    "    * 由于线程间是并发运行的，每个线程有自己不同的运行线索，当从一个线 程切换到另一个线程上 时，必须将原有的线程的寄存器集合的状态保存，以便将来该线程在被重新切换到时能得以恢复。\n",
    "* 3.线程的堆栈 \n",
    "    * 堆栈是保证线程独立运行所必须的。线程函数可以调用函数，而被调用函数中又是可以层层嵌套的，所以线程必须拥有自己的函数堆栈， 使得函数调用可以正常执行，不受其他线程的影响。\n",
    "* 4.错误返回码 \n",
    "    * 由于同一个进程中有很多个线程在同时运行，可能某个线程进行系统调用 后设置了errno值，而在该 线程还没有处理这个错误，另外一个线程就在此时被调度器投入运行，这样错误值就有可能被修改。所以不同线程应该有自己的错误返回码变量。\n",
    "* 5.线程的信号屏蔽码 \n",
    "    * 由于每个线程所感兴趣的信号不同，所以线程的信号屏蔽码应该由线程自己管理。但所有的线程都 共享同样的信号处理器。\n",
    "* 6.线程的优先级 \n",
    "    * 由于线程需要像进程那样能够被调度，那么就必须要有可供调度使用的参数，这个参数就是线程的 优先级。"
   ]
  },
  {
   "cell_type": "markdown",
   "metadata": {},
   "source": [
    "##### 3.2.1 threading.Thread\n",
    "\n",
    "threading 库可以在单独的线程中执行任何的在Python 中可以调用的对象。你可以创建一个Thread 对象并将你要执行的对象以target 参数的形式提供给该对\n",
    "\n",
    "Python 中的线程会在一个单独的系统级线程中执行（比如说一个POSIX 线程或者一个Windows 线程），这些线程将由操作系统来全权管理。\n",
    "\n",
    "* python线程的问题\n",
    "    * Python中的多线程因为GIL的存在，它们并不能利用CPU多核优势，一个Python进程中，只允许有一个线程处于运行状态\n",
    "    * 在IO 密集的操作中，比如socket。在做阻塞的系统调用时，例如sock.connect(),sock.recv()时，当前线程会释放GIL，让别的线程有执行机会。但是单个线程内，在阻塞调用上还是阻塞的。\n",
    "    * 所以IO 密集操作线程可以提高效率\n",
    "    * 但是由于线程有切换开销，状态共享的问题，所以IO操作最好选择协程\n",
    "* 竞态条件：\n",
    "    * 线程是被OS调度，调度策略是抢占式的，以保证同等优先级的线程都有均等的执行机会，那带来的问题是：并不知道下一时刻是哪个线程被运行，也不知道它正要执行的代码是什么。所以就可能存在竞态条件。\n",
    "    "
   ]
  },
  {
   "cell_type": "code",
   "execution_count": 111,
   "metadata": {
    "collapsed": true
   },
   "outputs": [],
   "source": [
    "import time\n",
    "\n",
    "def count_down(n):\n",
    "    while n>0:\n",
    "        print(\"T-minus {}\".format(n))\n",
    "        n -= 1\n",
    "        time.sleep(1)"
   ]
  },
  {
   "cell_type": "markdown",
   "metadata": {},
   "source": [
    "* start\n",
    "    * threads can only be started once\n",
    "    * 线程一旦启动，将独立执行直到目标函数返回。\n",
    "* is_alive\n",
    "    * 你可以查询一个线程对象的状态，看它是否还在执行"
   ]
  },
  {
   "cell_type": "code",
   "execution_count": 120,
   "metadata": {},
   "outputs": [
    {
     "name": "stdout",
     "output_type": "stream",
     "text": [
      "T-minus 3\n",
      "Still running True\n",
      "\n",
      "\n",
      "T-minus 2\n",
      "T-minus 1\n"
     ]
    }
   ],
   "source": [
    "from threading import Thread\n",
    "\n",
    "t = Thread(target=count_down, args=(3,))\n",
    "t.start()\n",
    "print(\"\\nStill running {}\\n\".format(t.is_alive()))"
   ]
  },
  {
   "cell_type": "code",
   "execution_count": 121,
   "metadata": {},
   "outputs": [
    {
     "data": {
      "text/plain": [
       "False"
      ]
     },
     "execution_count": 121,
     "metadata": {},
     "output_type": "execute_result"
    }
   ],
   "source": [
    "t.is_alive()"
   ]
  },
  {
   "cell_type": "markdown",
   "metadata": {},
   "source": [
    "* join\n",
    "    * 你也可以将一个线程加入到当前线程，并等待它终止："
   ]
  },
  {
   "cell_type": "code",
   "execution_count": 122,
   "metadata": {},
   "outputs": [
    {
     "name": "stdout",
     "output_type": "stream",
     "text": [
      "T-minus 3\n",
      "T-minus 2\n",
      "T-minus 1\n",
      "Waiting until finish\n"
     ]
    }
   ],
   "source": [
    "t2 = Thread(target=count_down, args=(3,))\n",
    "t2.start()\n",
    "t2.join()\n",
    "print(\"Waiting until finish\")"
   ]
  },
  {
   "cell_type": "markdown",
   "metadata": {},
   "source": [
    "* daemon 后台线程\n",
    "    * Python 解释器在所有线程都终止后才继续执行代码剩余的部分。对于需要长时间运行的线程或者需要一直运行的后台任务，你应当考虑使用后台线程。\n",
    "    * 后台线程无法等待，不过，这些线程会在主线程终止时自动销毁\n",
    "    "
   ]
  },
  {
   "cell_type": "code",
   "execution_count": 126,
   "metadata": {},
   "outputs": [
    {
     "name": "stdout",
     "output_type": "stream",
     "text": [
      "T-minus 3\n",
      "T-minus 5\n",
      "T-minus 4T-minus 2\n",
      "\n",
      "T-minus 1T-minus 3\n",
      "\n",
      "T-minus 2\n",
      "T-minus 1\n"
     ]
    }
   ],
   "source": [
    "t_daemon = Thread(target=count_down, args=(3,), daemon=True)\n",
    "t_daemon.start()"
   ]
  },
  {
   "cell_type": "markdown",
   "metadata": {},
   "source": [
    "##### 3.2.2 线程简单通信\n",
    "你无法结束一个线程，无法给它发送信号，无法调整它的调度，也无法执行其他高级操作。如果需要这些特性，你需要自己\n",
    "添加。比如说，如果你需要终止线程，那么这个线程必须通过编程在某个特定点轮询来退出。你可以像下边这样把线程放入一个类"
   ]
  },
  {
   "cell_type": "code",
   "execution_count": 127,
   "metadata": {
    "collapsed": true
   },
   "outputs": [],
   "source": [
    "class CountdownTask(object):\n",
    "    \n",
    "    def __init__(self):\n",
    "        self._running = True\n",
    "    \n",
    "    def terminate(self):\n",
    "        self._running = False\n",
    "    \n",
    "    def run(self, n):\n",
    "        while self._running and n>0:\n",
    "            print(\"T-minus {}\".format(n))\n",
    "            n -= 1\n",
    "            time.sleep(1)"
   ]
  },
  {
   "cell_type": "code",
   "execution_count": 129,
   "metadata": {},
   "outputs": [
    {
     "name": "stdout",
     "output_type": "stream",
     "text": [
      "T-minus 10\n"
     ]
    }
   ],
   "source": [
    "c = CountdownTask()\n",
    "t_could_terminate = Thread(target=c.run, args=(10, ))\n",
    "t_could_terminate.start()\n",
    "c.terminate()  # send signal, 一般情况，对于信号 或者任何多进程状态下修改数据，都要加锁！！！\n",
    "t.join()"
   ]
  },
  {
   "cell_type": "markdown",
   "metadata": {},
   "source": [
    "##### 3.2.3 GIL\n",
    "由于全局解释锁（GIL）的原因，Python 的线程被限制到同一时刻只允许一个线程执行这样一个执行模型。所以，Python 的线程更适用于处理I/O 和其他需要并发执行的阻塞操作（比如等待I/O、等待从数据库获取数据等等），而不是需要多处理器并行\n",
    "的计算密集型任务"
   ]
  },
  {
   "cell_type": "markdown",
   "metadata": {},
   "source": [
    "##### 3.2.4 线程同步机制\n",
    "* 线程同步原语 -- 操作系统级别 ？？\n",
    "    * lock/rlock/semaphore\n",
    "\n",
    "* locks\n",
    "* rlocks\n",
    "* semaphores\n",
    "* conditions\n",
    "* events\n",
    "* queues\n",
    "\n",
    "https://www.cnblogs.com/Security-Darren/p/4732914.html"
   ]
  },
  {
   "cell_type": "markdown",
   "metadata": {},
   "source": [
    "###### 3.2.4.1 locks\n",
    "锁有两种状态：被锁（locked）和没有被锁（unlocked）。拥有acquire()和release()两种方法，并且遵循一下的规则：\n",
    "\n",
    "###### 互斥锁\n",
    "* 如果一个锁的状态是unlocked，调用acquire()方法改变它的状态为locked；\n",
    "* 如果一个锁的状态是locked，acquire()方法将会阻塞，直到另一个线程调用release()方法释放了锁；\n",
    "* 如果一个锁的状态是unlocked调用release()会抛出RuntimeError异常；\n",
    "* 如果一个锁的状态是locked，调用release()方法改变它的状态为unlocked\n",
    "\n",
    "###### 锁 + with 上下文管理\n",
    "Lock 对象和with 语句块一起使用可以保证互斥执行，就是每次只有一个线程可以执行with 语句包含的代码块。with 语句会在这个代码块执行前自动获取锁，在执行结束后自动释放锁。\n",
    "* 在with \\__enter\\__ 时调用 lock.acquire()\n",
    "* 在with \\__exit\\__ 时调用 lock.release()"
   ]
  },
  {
   "cell_type": "code",
   "execution_count": 33,
   "metadata": {
    "collapsed": true
   },
   "outputs": [],
   "source": [
    "import threading \n",
    "\n",
    "class SharedCounter(object):\n",
    "    \n",
    "    def __init__(self, initial_value=0):\n",
    "        self._value = initial_value\n",
    "        self._value_lock = threading.Lock()\n",
    "    \n",
    "    # 方式一： 显式调用 aquire/release，获取和释放锁\n",
    "    def incr(self, delta=1):\n",
    "        self._value_lock.acquire()\n",
    "        self._value += delta\n",
    "        self._value_lock.release()\n",
    "    \n",
    "    # 方式二：利用上下文管理，with语句来释放/获取锁\n",
    "    def decr(self, delta=1):\n",
    "        with self._value_lock:\n",
    "            self._value -= delta"
   ]
  },
  {
   "cell_type": "markdown",
   "metadata": {},
   "source": [
    "* 二比一号是因为，RAII rule 如果中间有异常发生，则会导致release没有被调用 而造成死锁"
   ]
  },
  {
   "cell_type": "code",
   "execution_count": 35,
   "metadata": {},
   "outputs": [
    {
     "name": "stdout",
     "output_type": "stream",
     "text": [
      "4\n",
      "after 2 sec None\n",
      "2\n"
     ]
    }
   ],
   "source": [
    "shared_c = SharedCounter()\n",
    "t1 = threading.Thread(target=shared_c.incr, args=(4,))\n",
    "t2 = threading.Thread(target=shared_c.decr, args=(2,))\n",
    "\n",
    "t1.start()\n",
    "t2.start()\n",
    "\n",
    "print(shared_c._value)\n",
    "print(\"after 2 sec\", time.sleep(2))\n",
    "print(shared_c._value)"
   ]
  },
  {
   "cell_type": "markdown",
   "metadata": {},
   "source": [
    "###### 3.2.4.2 防止死锁 -- 简单的死锁情况\n",
    "* 两个线程，因为每个获取多个锁，1 获取a等待b， 2获取b等待a，造成死锁\n",
    "\n",
    "* 当然如果每个进程只用一个锁，互斥锁 - mutex可以完美的解决问题\n",
    "* 绝对不要嵌套调用with 去获取多个锁\n",
    "\n",
    "** contextmanager**\n",
    "\n",
    "* 我们可以通过给一个try…finally…结构的函数头部加上@contextmanager\n",
    "* 就可以通过with…as…结构来调用它了\n",
    "* 这样try块中yield的数据被as出来，finally块中的数据在with..as..块结束的时候被执行。\n",
    "        "
   ]
  },
  {
   "cell_type": "code",
   "execution_count": 1,
   "metadata": {
    "collapsed": true
   },
   "outputs": [],
   "source": [
    "import threading\n",
    "from contextlib import contextmanager\n",
    "\n",
    "_local = threading.local()\n",
    "\n",
    "@contextmanager\n",
    "def acquire(*locks):\n",
    "    # 给锁排序，按顺序获取和释放\n",
    "    locks = sorted(locks, key=lambda x: id(x))\n",
    "    \n",
    "    acquired = getattr(_local, \"acquired\", [])\n",
    "    if acquired and max(id(lock) for lock in acquired) >= id(locks[0]):\n",
    "        raise RuntimeError(\"Lock Order Violation\")\n",
    "        \n",
    "    # 获取所有锁\n",
    "    acquired.extend(locks)\n",
    "    _local.acquired = acquired\n",
    "    \n",
    "    try:\n",
    "        for lock in locks:\n",
    "            lock.acquire()\n",
    "        \n",
    "        yield  # with... as, 则as获取的值为None\n",
    "        \n",
    "    finally:\n",
    "        # 释放所有锁\n",
    "        for lock in reversed(locks):\n",
    "            lock.release()\n",
    "        del acquired[-len(locks):]"
   ]
  },
  {
   "cell_type": "code",
   "execution_count": 2,
   "metadata": {},
   "outputs": [],
   "source": [
    "import time\n",
    "\n",
    "x_lock = threading.Lock()\n",
    "y_lock = threading.Lock()\n",
    "\n",
    "def thread_1():\n",
    "    counter = 0\n",
    "    while True and counter < 3:\n",
    "        with acquire(x_lock, y_lock) as a_value:\n",
    "            \n",
    "            print(\"Yield None, so should get \", a_value)\n",
    "            print(\"Thread-1 Got lock\")\n",
    "            counter += 1\n",
    "            time.sleep(1)\n",
    "        \n",
    "\n",
    "def thread_2():\n",
    "    counter = 0\n",
    "    while True and counter < 3:\n",
    "        with acquire(y_lock, x_lock):\n",
    "            print(\"Thread-2 Got lock\")\n",
    "            counter += 1"
   ]
  },
  {
   "cell_type": "code",
   "execution_count": 3,
   "metadata": {},
   "outputs": [
    {
     "name": "stdout",
     "output_type": "stream",
     "text": [
      "Yield None, so should get  None\n",
      "Thread-1 Got lock\n",
      "Thread-2 Got lock\n",
      "Thread-2 Got lock\n",
      "Thread-2 Got lock\n",
      "Yield None, so should get  None\n",
      "Thread-1 Got lock\n",
      "Yield None, so should get  None\n",
      "Thread-1 Got lock\n"
     ]
    }
   ],
   "source": [
    "t1 = threading.Thread(target=thread_1)\n",
    "t1.daemon = True\n",
    "t1.start()\n",
    "\n",
    "t2 = threading.Thread(target=thread_2)\n",
    "t2.daemon = True\n",
    "t2.start()"
   ]
  },
  {
   "cell_type": "markdown",
   "metadata": {},
   "source": [
    "###### 3.2.5 rlock\n",
    "可重入锁RLock\n",
    "为解决同一线程种不能多次请求同一资源的问题，python提供了“可重入锁”：threading.RLock，RLock内部维护着一个Lock和一个counter变量，counter记录了acquire的次数，从而使得资源可以被多次require。直到一个线程所有的acquire都被release，其他的线程才能获得资源 。用法和threading.Lock类相同。\n",
    "将上面迭代死锁的代码改写一下，就不会发生死锁，但注意，调用acquire和release的次数必须相等。\n",
    "\n",
    "链接：https://www.jianshu.com/p/fc031cb03e29\n"
   ]
  },
  {
   "cell_type": "markdown",
   "metadata": {},
   "source": [
    "##### 3.2.6 condition\n",
    "\n",
    "Python提供的Condition对象提供了对复杂线程同步问题的支持。Condition被称为条件变量，除了提供与Lock类似的acquire和release方法外，还提供了wait和notify方法。线程首先acquire一个条件变量，然后判断一些条件。如果条件不满足则wait；如果条件满足，进行一些处理改变条件后，通过notify方法通知其他线程，其他处于wait状态的线程接到通知后会重新判断条件。不断的重复这一过程，从而解决复杂的同步问题。\n",
    "\n"
   ]
  },
  {
   "cell_type": "markdown",
   "metadata": {},
   "source": [
    "#### 3.2.7 进程间通信 -- queue.Queue\n",
    "* 注意deque不是线程安全的，queue.Queue是"
   ]
  },
  {
   "cell_type": "markdown",
   "metadata": {},
   "source": [
    "#### 3.2.8 线程池"
   ]
  },
  {
   "cell_type": "markdown",
   "metadata": {
    "collapsed": true
   },
   "source": [
    "#### 3.3 多进程\n",
    "* multiprocessing\n",
    "* concurrent.futures\n",
    "    * ThreadPoolExecutor\n",
    "        * 来做一个线程池\n",
    "    * ProcessPoolExecutor\n",
    "        * 可被用来在一个单独的Python 解释器中执行计算密集型函数。"
   ]
  },
  {
   "cell_type": "markdown",
   "metadata": {
    "collapsed": true
   },
   "source": []
  },
  {
   "cell_type": "code",
   "execution_count": null,
   "metadata": {
    "collapsed": true
   },
   "outputs": [],
   "source": []
  }
 ],
 "metadata": {
  "kernelspec": {
   "display_name": "python37",
   "language": "python",
   "name": "python37"
  },
  "language_info": {
   "codemirror_mode": {
    "name": "ipython",
    "version": 3
   },
   "file_extension": ".py",
   "mimetype": "text/x-python",
   "name": "python",
   "nbconvert_exporter": "python",
   "pygments_lexer": "ipython3",
   "version": "3.7.3"
  }
 },
 "nbformat": 4,
 "nbformat_minor": 1
}
