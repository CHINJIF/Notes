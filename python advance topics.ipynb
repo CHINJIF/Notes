{
 "cells": [
  {
   "cell_type": "markdown",
   "metadata": {},
   "source": [
    "### 0. Data structure\n",
    "#### 0.1 heap & 优先队列\n",
    "* 首先是队列\n",
    "* 其次其访问次序不是FIFO, 而是根据定义的优先级来排序\n",
    "\n",
    "##### 0.1.1 应用模式\n",
    "```\n",
    "server       <----           client requests\n",
    "  |                                 |\n",
    "scheduler  <--- priority queue   <-- importance priority   \n",
    "```\n",
    "* 优先队列需要动态的维护优先级次序，\n",
    "* 会有很多插入，删除，排序\n",
    "* 接口：get/insert(put)/delete\n",
    "* stack/queue 都是优先队列的特殊情况\n",
    "\n",
    "##### 0.1.2 基本实现\n",
    "|结构|get_max| del_max |insert|\n",
    "|----|---|---|---|\n",
    "|vector|O(n)|O(n)|O(1)|\n",
    "|sorted vector|O(1)|O(1)|O(n)\n",
    "|list|O(n)|O(n)|O(1)\n",
    "|BBST|log(n)|log(n)|log(n)\n",
    "|完全二叉树/堆|O(1)|log(n)|log(n)\n",
    "\n",
    "* blanced binary tree 的效率其实是被浪费了，因为永远只get or del **MAX**, 而bbst始终维护全序关系，只用了2/3的BBST\n",
    "\n",
    "##### 0.1.3 完全二叉树实现 <=> 完全二叉堆\n",
    "* 逻辑上，等同于完全二叉树\n",
    "* 物理上用vector实现\n",
    "\n",
    "![Complete binary tree - vector impletementation](img/complete_bt.png)\n",
    "\n",
    "###### 0.1.4 堆序性\n",
    "* H[I] <= H[Parent(i)]\n",
    "* 堆序性保证，根节点是最大的节点。\n",
    "* get_max 就肯定是vector[0]\n",
    "\n",
    "##### 0.1.5 完全二叉堆 插入与堆序性\n",
    "* popup, 如大于parent，则递归的和parent互换\n",
    "* log(n)\n",
    "\n",
    "##### 0.1.6 完全二叉堆 删除与堆序性\n",
    "* top-down 下滤，把末尾元素popup到定，然后把top元素向下换"
   ]
  },
  {
   "cell_type": "code",
   "execution_count": 74,
   "metadata": {
    "collapsed": false
   },
   "outputs": [],
   "source": [
    "import heapq\n",
    "nums = [3,10,1000,-99,4,100]"
   ]
  },
  {
   "cell_type": "markdown",
   "metadata": {},
   "source": [
    "* heapify 拿一个iterable 变成一个逻辑上的二叉堆"
   ]
  },
  {
   "cell_type": "code",
   "execution_count": 75,
   "metadata": {
    "collapsed": false
   },
   "outputs": [
    {
     "name": "stdout",
     "output_type": "stream",
     "text": [
      "[-99, 3, 100, 10, 4, 1000]\n"
     ]
    }
   ],
   "source": [
    "heapq.heapify(nums)\n",
    "print(nums)"
   ]
  },
  {
   "cell_type": "code",
   "execution_count": 36,
   "metadata": {
    "collapsed": false
   },
   "outputs": [
    {
     "data": {
      "text/plain": [
       "-99"
      ]
     },
     "execution_count": 36,
     "metadata": {},
     "output_type": "execute_result"
    }
   ],
   "source": [
    "heapq.heappop(nums)"
   ]
  },
  {
   "cell_type": "markdown",
   "metadata": {},
   "source": [
    "#### 0.2 双向队列 - deque\n",
    "* deque是双端队列，可以在两端扩展和收缩\n",
    "* 允许元素随机读取\n",
    "\n",
    "\n",
    "* deque 像是一个linked-list 和 vector的混合产品，双端插入删除效率高，且支持随机读取"
   ]
  },
  {
   "cell_type": "code",
   "execution_count": 84,
   "metadata": {
    "collapsed": false
   },
   "outputs": [],
   "source": [
    "dq = deque()\n",
    "dq.extend([2, 3, 4])\n",
    "\n",
    "dq.append(5)\n",
    "dq.appendleft(1)"
   ]
  },
  {
   "cell_type": "markdown",
   "metadata": {},
   "source": [
    "* deque 随机存取"
   ]
  },
  {
   "cell_type": "code",
   "execution_count": 85,
   "metadata": {
    "collapsed": false
   },
   "outputs": [
    {
     "data": {
      "text/plain": [
       "3"
      ]
     },
     "execution_count": 85,
     "metadata": {},
     "output_type": "execute_result"
    }
   ],
   "source": [
    "dq[2]"
   ]
  },
  {
   "cell_type": "code",
   "execution_count": 86,
   "metadata": {
    "collapsed": false
   },
   "outputs": [
    {
     "name": "stdout",
     "output_type": "stream",
     "text": [
      "5\n",
      "1\n"
     ]
    }
   ],
   "source": [
    "print(dq.pop())\n",
    "print(dq.popleft())"
   ]
  },
  {
   "cell_type": "markdown",
   "metadata": {},
   "source": [
    "#### 0.3 ordereddict - BST"
   ]
  },
  {
   "cell_type": "markdown",
   "metadata": {},
   "source": [
    "* 利用ordereddict实现LRU"
   ]
  },
  {
   "cell_type": "code",
   "execution_count": 89,
   "metadata": {
    "collapsed": false
   },
   "outputs": [],
   "source": [
    "from collections import OrderedDict\n",
    "class LRU(OrderedDict):\n",
    "    'Limit size, evicting the least recently looked-up key when full'\n",
    "\n",
    "    def __init__(self, maxsize=128, *args, **kwds):\n",
    "        self.maxsize = maxsize\n",
    "        super().__init__(*args, **kwds)\n",
    "\n",
    "    def __getitem__(self, key):\n",
    "        value = super().__getitem__(key)\n",
    "        self.move_to_end(key)\n",
    "        return value\n",
    "\n",
    "    def __setitem__(self, key, value):\n",
    "        super().__setitem__(key, value)\n",
    "        if len(self) > self.maxsize:\n",
    "            oldest = next(iter(self))\n",
    "            del self[oldest]"
   ]
  },
  {
   "cell_type": "markdown",
   "metadata": {},
   "source": [
    "#####  0.4 bisect\n",
    "模块能够提供保持list元素序列的支持。它使用了二分法完成大部分的工作。它在向一个list插入元素的同时维持list是有序的。在某些情况下，这比重复的对一个list进行排序更为高效，并且对于一个较大的list来说，对每步操作维持其有序也比对其排序要高效。"
   ]
  },
  {
   "cell_type": "code",
   "execution_count": null,
   "metadata": {
    "collapsed": true
   },
   "outputs": [],
   "source": []
  },
  {
   "cell_type": "markdown",
   "metadata": {},
   "source": [
    "##### 0.5 counter"
   ]
  },
  {
   "cell_type": "markdown",
   "metadata": {},
   "source": [
    "##### 0.6 Weakref\n",
    "weakref模块能够帮助我们创建Python引用，却不会阻止对象的销毁操作"
   ]
  },
  {
   "cell_type": "code",
   "execution_count": null,
   "metadata": {
    "collapsed": true
   },
   "outputs": [],
   "source": []
  },
  {
   "cell_type": "markdown",
   "metadata": {},
   "source": [
    "### I. 元编程\n",
    "#### 1.1 装饰器\n",
    "##### 1.1.1 装饰函数\n",
    "下面两个例子等价"
   ]
  },
  {
   "cell_type": "code",
   "execution_count": 4,
   "metadata": {
    "collapsed": true
   },
   "outputs": [],
   "source": [
    "class A:\n",
    "    @classmethod\n",
    "    def method(cls):\n",
    "        pass\n",
    "    \n",
    "class B:\n",
    "    def method(cls):\n",
    "        pass\n",
    "    method = classmethod(method)"
   ]
  },
  {
   "cell_type": "markdown",
   "metadata": {},
   "source": [
    "* 用wraps decorator保留函数的元信息，名字，文档，签名etc"
   ]
  },
  {
   "cell_type": "code",
   "execution_count": 8,
   "metadata": {
    "collapsed": true
   },
   "outputs": [],
   "source": [
    "from functools import wraps\n",
    "import time\n",
    "\n",
    "def timethis(func):\n",
    "    \n",
    "    @wraps(func)\n",
    "    def wrapper(*args, **kwargs):\n",
    "        start = time.time()\n",
    "        result = func(*args, **kwargs)\n",
    "        print(\"Running time \", time.time() - start)\n",
    "        return result\n",
    "    \n",
    "    return wrapper"
   ]
  },
  {
   "cell_type": "code",
   "execution_count": 9,
   "metadata": {
    "collapsed": true
   },
   "outputs": [],
   "source": [
    "@timethis\n",
    "def run(app_name):\n",
    "    '''start a app'''\n",
    "    time.sleep(1)\n",
    "    return app_name"
   ]
  },
  {
   "cell_type": "code",
   "execution_count": 10,
   "metadata": {
    "collapsed": false
   },
   "outputs": [
    {
     "name": "stdout",
     "output_type": "stream",
     "text": [
      "Running time  1.0004971027374268\n",
      "run start a app\n"
     ]
    }
   ],
   "source": [
    "run(\"app\")\n",
    "print(run.__name__, run.__doc__)"
   ]
  },
  {
   "cell_type": "markdown",
   "metadata": {},
   "source": [
    "#### 1.1.2 装饰一个类"
   ]
  },
  {
   "cell_type": "code",
   "execution_count": 11,
   "metadata": {
    "collapsed": true
   },
   "outputs": [],
   "source": [
    "import types\n",
    "\n",
    "class Profiled:\n",
    "    def __init__(self, func):\n",
    "        self.wrapped = wraps(func)(self)\n",
    "        self.ncalls = 0\n",
    "    \n",
    "    def __call__(self, *args, **kwargs):\n",
    "        self.ncalls += 1\n",
    "        return self.wrapped(*args, **kwargs)\n",
    "    \n",
    "    def __get__(self, instance, cls):\n",
    "        if instance is None:\n",
    "            return self \n",
    "        else:\n",
    "            return types.MethodType(self, instance)"
   ]
  },
  {
   "cell_type": "code",
   "execution_count": 12,
   "metadata": {
    "collapsed": true
   },
   "outputs": [],
   "source": [
    "@Profiled\n",
    "def add(x, y):\n",
    "    return x + y"
   ]
  },
  {
   "cell_type": "code",
   "execution_count": 13,
   "metadata": {
    "collapsed": true
   },
   "outputs": [],
   "source": [
    "# add(1, 2)"
   ]
  },
  {
   "cell_type": "markdown",
   "metadata": {},
   "source": [
    "#### 1.2 Descriptor\n",
    "描述符是实现了特定协议的类，包括：\\__get\\__, \\__set\\__, \\__delete\\__\n",
    "\n",
    "在实现 保护属性不受修改 、 属性类型检查 的基本功能，同时有大大提高代码的复用率。\n",
    "\n",
    "##### 1.2.1作用\n",
    "* 弥补property的不足, 如果用property实现下面的功能，那么我们需要2组setter去分别检查weight，price，不能复用\n",
    "* 设置属性不能被删除？那定义_delete_方法，并raise 异常。 \n",
    "* 还可以设置只读属性，\\__set\\__, raise exception\n"
   ]
  },
  {
   "cell_type": "code",
   "execution_count": 14,
   "metadata": {
    "collapsed": true
   },
   "outputs": [],
   "source": [
    "class Quantity(object):\n",
    "\n",
    "    def __init__(self, storage_name):\n",
    "        self.storage_name = storage_name\n",
    "\n",
    "    def __get__(self, instance, owner):\n",
    "        # return instance.__dict__[self.storage_name]\n",
    "        return getattr(self, self.storage_name)\n",
    "\n",
    "    def __set__(self, instance, value):\n",
    "        if value <= 0:\n",
    "            raise ValueError(\"value must possive\")\n",
    "\n",
    "        # instance.__dict__[self.storage_name] = value\n",
    "        setattr(self, self.storage_name, value)\n",
    "\n",
    "\n",
    "class LineItem(object):\n",
    "    weight = Quantity(\"weight\")\n",
    "    price = Quantity(\"price\")\n",
    "\n",
    "    def __init__(self, weight, price):\n",
    "        self.weight = weight\n",
    "        self.price = price"
   ]
  },
  {
   "cell_type": "code",
   "execution_count": 15,
   "metadata": {
    "collapsed": false
   },
   "outputs": [
    {
     "name": "stdout",
     "output_type": "stream",
     "text": [
      "1 2\n"
     ]
    }
   ],
   "source": [
    "l1 = LineItem(1, 2)\n",
    "print(l1.weight, l1.price)\n",
    "\n",
    "# l2 = LineItem(-1, 0)   ValueError: value must possive"
   ]
  },
  {
   "cell_type": "markdown",
   "metadata": {},
   "source": [
    "#### 1.3 元类\n",
    "* metaclass这个词，模糊地描述了一种高于类，而又超乎类的概念。\n",
    "* 我们把python的class语句转义为元类，令其在定义类型时都会提供独特的行为\n",
    "\n",
    "##### 1.3.1 用元类来验证子类\n",
    "* 通过元类，可以再生成子类对象之前，定义类时，先验证子类的定义是否合乎规范\n",
    "* py2/3语法不同\n",
    "* python把子类的整个class语句体处理完，就会调用元类的\\__new\\__方法"
   ]
  },
  {
   "cell_type": "code",
   "execution_count": 36,
   "metadata": {
    "collapsed": false
   },
   "outputs": [
    {
     "name": "stdout",
     "output_type": "stream",
     "text": [
      "BEFORE\n",
      "AFTER\n",
      "In Meta:  <class '__main__.Meta'> MyClass (<class 'object'>,) {'__module__': '__main__', 'foo': <function MyClass.foo at 0x00000199E77D1840>, '__qualname__': 'MyClass'}\n"
     ]
    }
   ],
   "source": [
    "class Meta(type):\n",
    "    def __new__(meta, name, bases, class_dict):\n",
    "        print(\"In Meta: \", meta, name, bases, class_dict)\n",
    "        \n",
    "        if \"foo\" not in class_dict:\n",
    "            print(\"Invalid class for Meta\")\n",
    "            \n",
    "        return type.__new__(meta, name, bases, class_dict)\n",
    "    \n",
    "class MyClass(object, metaclass=Meta):\n",
    "    print(\"BEFORE\")\n",
    "    def foo(self):\n",
    "        pass\n",
    "    print(\"AFTER\")"
   ]
  },
  {
   "cell_type": "code",
   "execution_count": 37,
   "metadata": {
    "collapsed": false
   },
   "outputs": [
    {
     "name": "stdout",
     "output_type": "stream",
     "text": [
      "In Meta:  <class '__main__.Meta'> MyClass2 (<class 'object'>,) {'__module__': '__main__', '__qualname__': 'MyClass2'}\n",
      "Invalid class for Meta\n"
     ]
    }
   ],
   "source": [
    "class MyClass2(object, metaclass=Meta):\n",
    "    pass"
   ]
  },
  {
   "cell_type": "markdown",
   "metadata": {},
   "source": [
    "##### 1.3.2 用元类来注册子类\n",
    "* 可以在程序中自动注册类型，在需要方向查找(reverse lookup)的场合，非常有用\n",
    "* 可以在简单的标识符与对应的类之间建立映射关系\n",
    "\n",
    "\n",
    "* 在下例中需要一个registry去维护需要被deserialize的类名，\n",
    "* 就可以不用 BetterPoint2D.deserialize(data) 这种形式，而是更generic的形式来调用deserialize方法\n",
    "* 需要把register_class 放在一个地方，不会被忘记调用"
   ]
  },
  {
   "cell_type": "code",
   "execution_count": 41,
   "metadata": {
    "collapsed": true
   },
   "outputs": [],
   "source": [
    "import json\n",
    "\n",
    "registry = {}\n",
    "\n",
    "def register_class(target_class):\n",
    "    registry[target_class.__name__] = target_class\n",
    "    \n",
    "    \n",
    "class Meta(type):\n",
    "    def __new__(meta, name, bases, class_dict):\n",
    "        # 真的在内存里实例化这个实例\n",
    "        cls = type.__new__(meta, name, bases, class_dict)\n",
    "        register_class(cls)         # 注册类！\n",
    "        return cls\n",
    "\n",
    "    \n",
    "def deserialize(data):\n",
    "    params = json.loads(data)\n",
    "    target_class = registry[params[\"class\"]]\n",
    "    return target_class(*params[\"args\"])\n",
    "    \n",
    "    \n",
    "class Serializable(object):\n",
    "    \n",
    "    def __init__(self, *args):\n",
    "        self.args = args\n",
    "    \n",
    "    def serialize(self):\n",
    "        return json.dumps({\n",
    "                'class': self.__class__.__name__,\n",
    "                'args':self.args})\n",
    "    \n",
    "       \n",
    "class Point2D(Serializable, metaclass=Meta):\n",
    "    \n",
    "    def __init__(self, x, y):\n",
    "        super(Point2D, self).__init__(x, y)\n",
    "        self.x = x\n",
    "        self.y = y\n",
    "        \n",
    "    def __repr__(self):\n",
    "        return \"Point({}, {})\".format(self.x, self.y)"
   ]
  },
  {
   "cell_type": "markdown",
   "metadata": {},
   "source": [
    "* Point2D 继承Serizlizable，但是元类时Meta"
   ]
  },
  {
   "cell_type": "code",
   "execution_count": 42,
   "metadata": {
    "collapsed": false
   },
   "outputs": [
    {
     "name": "stdout",
     "output_type": "stream",
     "text": [
      "{\"class\": \"Point2D\", \"args\": [2, 4]}\n"
     ]
    }
   ],
   "source": [
    "point = Point2D(2, 4)\n",
    "data = point.serialize()\n",
    "print(data)"
   ]
  },
  {
   "cell_type": "code",
   "execution_count": 40,
   "metadata": {
    "collapsed": false
   },
   "outputs": [
    {
     "name": "stdout",
     "output_type": "stream",
     "text": [
      "After deserialize Point(2, 4)\n"
     ]
    }
   ],
   "source": [
    "print(\"After deserialize\", deserialize(data))"
   ]
  },
  {
   "cell_type": "markdown",
   "metadata": {},
   "source": [
    "##### 1.3.2 用元类来注解类的属性"
   ]
  },
  {
   "cell_type": "code",
   "execution_count": null,
   "metadata": {
    "collapsed": true
   },
   "outputs": [],
   "source": []
  },
  {
   "cell_type": "markdown",
   "metadata": {},
   "source": [
    "### II. 网络编程"
   ]
  },
  {
   "cell_type": "markdown",
   "metadata": {},
   "source": [
    "```python\n",
    "import multiprocessing\n",
    "from multiprocessing.reduction import recv_handle, send_handle\n",
    "import socket\n",
    "\n",
    "def worker(in_p, out_p):\n",
    "    out_p.close()\n",
    "    \n",
    "    while True:\n",
    "        fd = recv_handle(in_p)\n",
    "        print(\"CHILD: GOT File Discriptor: \", fd)\n",
    "        with socket.socket(socket.AF_INET, socket.SOCK_STREAM, fileno=fd) as s:\n",
    "            with True:\n",
    "                msg = s.recv(1024)\n",
    "                if not msg:\n",
    "                    break\n",
    "                print(\"CHILD RECV {!r}\".format(msg))\n",
    "                s.send(msg)\n",
    "        \n",
    "def server(address, in_p, out_p, worker_pid):\n",
    "    in_p.close()\n",
    "    s = socket.socket(socket.AF_INET, socket.SOCK_STREAM)\n",
    "    s.setsockopt(socket.SOL_SOCKET, socket.SO_REUSEADDR, True)\n",
    "    s.bind(address)\n",
    "    s.listen(1)\n",
    "    \n",
    "    while True:\n",
    "        client, addr = s.accept()\n",
    "        print(\"SERVER: Got connection from \", addr)\n",
    "        send_handle(out_p, client.fileno(), worker_pid)\n",
    "        client.close()\n",
    "\n",
    "if __name__ == \"__main__\":\n",
    "    c1, c2 = multiprocessing.Pipe()\n",
    "\n",
    "    worker_p = multiprocessing.Process(target=worker, args=(c1, c2))\n",
    "    worker_p.start()\n",
    "\n",
    "    server_p = multiprocessing.Process(target=server, args=(('', 15000), c1, c2, worker_p.pid))\n",
    "    server_p.start()\n",
    "\n",
    "    c1.close()\n",
    "    c2.close()\n",
    "```"
   ]
  },
  {
   "cell_type": "code",
   "execution_count": 8,
   "metadata": {
    "collapsed": false
   },
   "outputs": [],
   "source": []
  },
  {
   "cell_type": "markdown",
   "metadata": {},
   "source": [
    "### III. 并发编程"
   ]
  },
  {
   "cell_type": "markdown",
   "metadata": {},
   "source": [
    "#### 协程 - coroutine \n",
    "绿色线程，轻量级的线程。"
   ]
  },
  {
   "cell_type": "markdown",
   "metadata": {},
   "source": [
    "* 示例1，用coroutine代替线程"
   ]
  },
  {
   "cell_type": "code",
   "execution_count": 1,
   "metadata": {
    "collapsed": true
   },
   "outputs": [],
   "source": [
    "def countdown(n):\n",
    "    while n > 0:\n",
    "        print('T-minus', n)\n",
    "        yield\n",
    "        n -= 1\n",
    "    print('Blastoff!')\n",
    "    \n",
    "    \n",
    "def countup(n):\n",
    "    x = 0\n",
    "    while x < n:\n",
    "        print('Conuting up', x)\n",
    "        yield\n",
    "        x += 1"
   ]
  },
  {
   "cell_type": "code",
   "execution_count": 2,
   "metadata": {
    "collapsed": true
   },
   "outputs": [],
   "source": [
    "from collections import deque\n",
    "\n",
    "class TaskScheduler:\n",
    "    \n",
    "    def __init__(self):\n",
    "        self._task_queue = deque()\n",
    "        \n",
    "    def new_task(self, task):\n",
    "        '''Admit a newly started task to the scheduler'''\n",
    "        self._task_queue.append(task)\n",
    "    \n",
    "    def run(self):\n",
    "        while self._task_queue:\n",
    "            task = self._task_queue.popleft()\n",
    "            \n",
    "            try:\n",
    "                next(task)\n",
    "                self._task_queue.append(task) # 轮询的运行queue里的协程\n",
    "            except StopIteration:\n",
    "                pass"
   ]
  },
  {
   "cell_type": "code",
   "execution_count": 3,
   "metadata": {
    "collapsed": false
   },
   "outputs": [
    {
     "name": "stdout",
     "output_type": "stream",
     "text": [
      "T-minus 5\n",
      "Conuting up 0\n",
      "T-minus 4\n",
      "Conuting up 1\n",
      "T-minus 3\n",
      "Conuting up 2\n",
      "T-minus 2\n",
      "Conuting up 3\n",
      "T-minus 1\n",
      "Conuting up 4\n",
      "Blastoff!\n",
      "Conuting up 5\n"
     ]
    }
   ],
   "source": [
    "scheduler = TaskScheduler()\n",
    "scheduler.new_task(countdown(5))\n",
    "scheduler.new_task(countup(6))\n",
    "scheduler.run()"
   ]
  },
  {
   "cell_type": "markdown",
   "metadata": {},
   "source": [
    "* 示例2"
   ]
  },
  {
   "cell_type": "code",
   "execution_count": 6,
   "metadata": {
    "collapsed": true
   },
   "outputs": [],
   "source": [
    "class ActorScheduler:\n",
    "    \n",
    "    def __init__(self):\n",
    "        self._actors = {}\n",
    "        self._msg_queue = deque()\n",
    "        \n",
    "    def new_actor(self, name, actor):\n",
    "        self._msg_queue.append((actor, None))\n",
    "        self._actors[name] = actor\n",
    "       \n",
    "    def send(self, name, msg):\n",
    "        actor = self._actors.get(name)\n",
    "        if actor:\n",
    "            self._msg_queue.append((actor, msg))\n",
    "            \n",
    "    def run(self):\n",
    "        while self._msg_queue:\n",
    "            actor, msg = self._msg_queue.popleft()\n",
    "            \n",
    "            try:\n",
    "                actor.send(msg)\n",
    "                print(\"Sending \", msg, \" to \", actor.__name__)\n",
    "            except StopIteration:\n",
    "                pass"
   ]
  },
  {
   "cell_type": "code",
   "execution_count": 7,
   "metadata": {
    "collapsed": true
   },
   "outputs": [],
   "source": [
    "def printer():\n",
    "    while True:\n",
    "        msg = yield\n",
    "        print('Got: ', msg)\n",
    "\n",
    "        \n",
    "def counter(sched):\n",
    "    \n",
    "    while True:\n",
    "        n = yield\n",
    "        if n == 0:\n",
    "            break\n",
    "        \n",
    "        sched.send('printer', n)\n",
    "        \n",
    "        sched.send('counter', n-1)"
   ]
  },
  {
   "cell_type": "code",
   "execution_count": 8,
   "metadata": {
    "collapsed": false
   },
   "outputs": [
    {
     "name": "stdout",
     "output_type": "stream",
     "text": [
      "Sending  None  to  printer\n",
      "Sending  None  to  counter\n",
      "Sending  3  to  counter\n",
      "Got:  3\n",
      "Sending  3  to  printer\n",
      "Sending  2  to  counter\n",
      "Got:  2\n",
      "Sending  2  to  printer\n",
      "Sending  1  to  counter\n",
      "Got:  1\n",
      "Sending  1  to  printer\n"
     ]
    }
   ],
   "source": [
    "sched = ActorScheduler()\n",
    "sched.new_actor('printer', printer())\n",
    "sched.new_actor('counter', counter(sched))\n",
    "\n",
    "sched.send('counter', 3)\n",
    "sched.run()"
   ]
  },
  {
   "cell_type": "markdown",
   "metadata": {},
   "source": [
    "* 3"
   ]
  },
  {
   "cell_type": "code",
   "execution_count": 1,
   "metadata": {
    "collapsed": true
   },
   "outputs": [],
   "source": [
    "from select import select\n",
    "from collections import deque\n",
    "\n",
    "class YieldEvent:\n",
    "    def handle_yield(self, sched, task):\n",
    "        pass\n",
    "    \n",
    "    def handle_resume(self, sched, task):\n",
    "        pass\n",
    "\n",
    "    \n",
    "class Scheduler:\n",
    "    \n",
    "    def __init__(self):\n",
    "        self._numtasks = 0\n",
    "        self._ready = deque()\n",
    "        self._read_waiting = {}\n",
    "        self._write_waiting = {}\n",
    "    \n",
    "    def _iopoll(self):\n",
    "        rset, wset, eset = select(self._read_waiting, \n",
    "                                 self._write_waiting, [])\n",
    "        \n",
    "        for r in rset:\n",
    "            evt, task = self._read_waiting.pop(r)\n",
    "            evt.handle_resume(self, task)\n",
    "        \n",
    "        for w in wset:\n",
    "            evt, task = self._write_waiting.pop(w)\n",
    "            evt.handle_resume(self, task)\n",
    "    \n",
    "    def new(self, task):\n",
    "        self._ready.append((task, None))\n",
    "        self._numtasks += 1\n",
    "    \n",
    "    def add_ready(self, task, msg=None):\n",
    "        self._ready.append((task, msg))\n",
    "        \n",
    "    def _read_wait(self, fileno, evt, task):\n",
    "        self._read_waiting[fileno] = (evt, task)\n",
    "    \n",
    "    def _write_wait(self, fileno, evt, task):\n",
    "        self._write_waiting[fileno] = (evt, task)\n",
    "    \n",
    "    def run(self):    \n",
    "        while self._numtasks:\n",
    "        \n",
    "            if not self._ready:\n",
    "                self._iopoll()\n",
    "            task, msg = self._ready.popleft()\n",
    "            \n",
    "            try:\n",
    "                r = task.send(msg)\n",
    "                if isinstance(r, YieldEvent):\n",
    "                    r.handle_yield(self, task)\n",
    "                else:\n",
    "                    raise RuntimeError('Unrecognized yield event')\n",
    "            except StopIteration:\n",
    "                self._numtasks -= 1"
   ]
  },
  {
   "cell_type": "code",
   "execution_count": 2,
   "metadata": {
    "collapsed": false
   },
   "outputs": [],
   "source": [
    "class ReadSocket(YieldEvent):\n",
    "    \n",
    "    def __init__(self, sock, nbytes):\n",
    "        self.sock = sock\n",
    "        self.nbytes = nbytes\n",
    "    \n",
    "    def handle_yield(self, sched, task):\n",
    "        sched._read_wait(self.sock.fileno(), self, task)\n",
    "    \n",
    "    def handle_resume(self, sched, task):\n",
    "        data = self.sock.recv(self.nbytes)   # 执行socket listen\n",
    "        print(\"recieved data \", data)\n",
    "        sched.add_ready(task, data)\n",
    "    \n",
    "class WriteSocket(YieldEvent):\n",
    "    \n",
    "    def __init__(self, sock, data):\n",
    "        self.sock = sock\n",
    "        self.data = data\n",
    "    \n",
    "    def handle_yield(self, sched, task):\n",
    "        sched._write_wait(self.sock.fileno(), self, task)\n",
    "    \n",
    "    def handle_resume(self, sched, task):\n",
    "        nsent = self.sock.send(self.data)   # 执行 socket send\n",
    "        sched.add_ready(task, nsent)\n",
    "    \n",
    "class AcceptSocket(YieldEvent):\n",
    "    \n",
    "    def __init__(self, sock):\n",
    "        self.sock = sock\n",
    "    \n",
    "    def handle_yield(self, sched, task):\n",
    "        sched._read_wait(self.sock.fileno(), self, task)\n",
    "    \n",
    "    def handle_resume(self, sched, task):\n",
    "        r = self.sock.accept()   # 执行 socket accept\n",
    "        sched.add_ready(task, r)\n",
    "    \n",
    "class Socket(object):\n",
    "    \n",
    "    def __init__(self, sock):\n",
    "        self._sock = sock\n",
    "    \n",
    "    def recv(self, maxbytes):\n",
    "        return ReadSocket(self._sock, maxbytes)\n",
    "    \n",
    "    def send(self, data):\n",
    "        return WriteSocket(self._sock, data)\n",
    "    \n",
    "    def accept(self):\n",
    "        return AcceptSocket(self._sock)\n",
    "    \n",
    "    def __getattr__(self, name):\n",
    "        return getattr(self._sock, name)"
   ]
  },
  {
   "cell_type": "code",
   "execution_count": 3,
   "metadata": {
    "collapsed": true
   },
   "outputs": [],
   "source": [
    "from socket import socket, AF_INET, SOCK_STREAM\n",
    "import time\n",
    "\n",
    "\n",
    "def readline(sock):\n",
    "    chars = []\n",
    "    while True:\n",
    "        c = yield sock.recv(1)\n",
    "        if not c:\n",
    "            break\n",
    "        \n",
    "        chars.append(c)\n",
    "        if c == b'\\n':\n",
    "            break\n",
    "    return b''.join(chars)\n",
    "\n",
    "\n",
    "class EchoServer:\n",
    "    \n",
    "    def __init__(self, addr, sched):\n",
    "        self.sched = sched\n",
    "        sched.new(self.server_loop(addr))\n",
    "    \n",
    "    def server_loop(self, addr):\n",
    "        s = Socket(socket(AF_INET, SOCK_STREAM))\n",
    "        \n",
    "        s.bind(addr)\n",
    "        s.listen(5)\n",
    "        \n",
    "        while True:\n",
    "            c, a = yield s.accept()\n",
    "            print('Got connnection from ', a)\n",
    "            self.sched.new(self.client_handler(Socket(c)))\n",
    "        \n",
    "    def client_handler(self, client):\n",
    "        while True:\n",
    "            line = yield from readline(client)\n",
    "            if not line:\n",
    "                break\n",
    "            \n",
    "            line = b'Got: ' + line\n",
    "            while line:\n",
    "                nsent = yield client.send(line)\n",
    "                line = line[nsent:]\n",
    "            \n",
    "            client.close()\n",
    "            print('Client closed')"
   ]
  },
  {
   "cell_type": "code",
   "execution_count": 11,
   "metadata": {
    "collapsed": false
   },
   "outputs": [
    {
     "ename": "NameError",
     "evalue": "name 'Scheduler' is not defined",
     "output_type": "error",
     "traceback": [
      "\u001b[1;31m---------------------------------------------------------------------------\u001b[0m",
      "\u001b[1;31mNameError\u001b[0m                                 Traceback (most recent call last)",
      "\u001b[1;32m<ipython-input-11-cc470022cf42>\u001b[0m in \u001b[0;36m<module>\u001b[1;34m()\u001b[0m\n\u001b[1;32m----> 1\u001b[1;33m \u001b[0msched\u001b[0m \u001b[1;33m=\u001b[0m \u001b[0mScheduler\u001b[0m\u001b[1;33m(\u001b[0m\u001b[1;33m)\u001b[0m\u001b[1;33m\u001b[0m\u001b[0m\n\u001b[0m\u001b[0;32m      2\u001b[0m \u001b[0mEchoServer\u001b[0m\u001b[1;33m(\u001b[0m\u001b[1;33m(\u001b[0m\u001b[1;34m''\u001b[0m\u001b[1;33m,\u001b[0m \u001b[1;36m1600\u001b[0m\u001b[1;33m)\u001b[0m\u001b[1;33m,\u001b[0m \u001b[0msched\u001b[0m\u001b[1;33m)\u001b[0m\u001b[1;33m\u001b[0m\u001b[0m\n\u001b[0;32m      3\u001b[0m \u001b[0msched\u001b[0m\u001b[1;33m.\u001b[0m\u001b[0mrun\u001b[0m\u001b[1;33m(\u001b[0m\u001b[1;33m)\u001b[0m\u001b[1;33m\u001b[0m\u001b[0m\n",
      "\u001b[1;31mNameError\u001b[0m: name 'Scheduler' is not defined"
     ]
    }
   ],
   "source": [
    "sched = Scheduler()\n",
    "EchoServer(('', 1600), sched)\n",
    "sched.run()"
   ]
  },
  {
   "cell_type": "markdown",
   "metadata": {
    "collapsed": true
   },
   "source": [
    "##### 多进程\n",
    "* multiprocessing\n",
    "* current.futures"
   ]
  },
  {
   "cell_type": "code",
   "execution_count": 1,
   "metadata": {
    "collapsed": false
   },
   "outputs": [
    {
     "data": {
      "text/plain": [
       "[1, 'hello', None]"
      ]
     },
     "execution_count": 1,
     "metadata": {},
     "output_type": "execute_result"
    }
   ],
   "source": [
    "from multiprocessing import Pipe\n",
    "a, b = Pipe()\n",
    "a.send([1, 'hello', None])"
   ]
  },
  {
   "cell_type": "code",
   "execution_count": null,
   "metadata": {
    "collapsed": true
   },
   "outputs": [],
   "source": []
  }
 ],
 "metadata": {
  "kernelspec": {
   "display_name": "Python py3.5",
   "language": "python",
   "name": "py3.5"
  },
  "language_info": {
   "codemirror_mode": {
    "name": "ipython",
    "version": 3
   },
   "file_extension": ".py",
   "mimetype": "text/x-python",
   "name": "python",
   "nbconvert_exporter": "python",
   "pygments_lexer": "ipython3",
   "version": "3.5.4"
  }
 },
 "nbformat": 4,
 "nbformat_minor": 0
}
