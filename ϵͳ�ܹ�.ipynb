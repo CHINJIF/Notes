{
 "cells": [
  {
   "cell_type": "markdown",
   "metadata": {},
   "source": [
    "## Knowledge tree\n",
    "\n",
    "* 负载均衡\n",
    "    * DNS负载均衡\n",
    "    * 算法\n",
    "        * 无状态链接\n",
    "        * 有状态链接 - 一致性哈希\n",
    "    * 策略\n",
    "        * 简单轮询\n",
    "        * 最闲轮询\n",
    "        * 加权轮询\n",
    "* 数据一致性\n",
    "    * paxos算法\n",
    "* 服务可用性\n",
    "* 过载\n",
    "* 协议\n",
    "    * TCP\n",
    "    * HTTP\n",
    "    * SOAP\n",
    "* 编码与序列化\n",
    "    * xml/json\n",
    "    * parquet\n",
    "* 架构框架\n",
    "    * 垂直架构\n",
    "    * RPC\n",
    "    * SOA\n",
    "* 分布式锁\n",
    "    * Chubby\n",
    "    * Zookeeper\n",
    "    \n",
    "* 模式\n",
    "    * 发布订阅\n",
    "    * master/slave\n",
    "    * leader/follower\n",
    "    * active/standby"
   ]
  },
  {
   "cell_type": "markdown",
   "metadata": {},
   "source": [
    "#### 系统架构演化\n",
    "* 垂直架构：MVC，一个大而全的项目，放在一个服务器里\n",
    "* RPC：远程过程调用，把不同的部分，业务逻辑，数据存储拆分到不同的服务器，通过网络远程协议调用\n",
    "    * 缺点：这些过程没有中心化管理，很难监控和管理\n",
    "        * 协议栈\n",
    "* SOA: RPC + 服务治理中心\n",
    "* 微服务： 在SOA的基础上，又把服务器虚拟化，拆分到一个功能一个服务。e.g 利用docker\n",
    "\n",
    "##### 问题\n",
    "* 这些架构都没有提供高可用性，服务器挂了怎么办？\n",
    "* 提供高可用性，那么意味着一个服务有多个节点提供，怎么调度？怎么把服务挂起？在服务中路由？\n",
    "    * solution：\n",
    "        * 集群\n",
    "        * 负载均衡/反向代理(proxy)： nginx\n",
    "        * 调度算法：random robin，轮询，hash-ip, ...\n",
    "        \n",
    "##### 负载均衡\n",
    "区别是client知不知道地址\n",
    "\n",
    "* 正向代理：知道你要去哪儿 vpn， google.com -> go\n",
    "* 反向代理：到了一个中心，不用关心去哪儿，我说要什么服务，中心替我找\n",
    "* session, cookie: 两个节点中，session不能共享，很多人喜欢在session中存数据，e.g 登陆验证。在节点中切换中，登陆不停失效\n",
    "    * solution\n",
    "        * A.不要让一个客户的请求在不同的节点中跳转, 依靠调度算法\n",
    "        * B.session共享，session在集群中同步，不推荐, 因为session会占用链接，而每个服务器的请求的数目是有限制的，session共享严重限制了可以处理的请求数。 共享数据要占用一个链接，而且同步还消耗性能，性能反而遍地\n",
    "    * 牵扯到调度算法\n",
    "        * 轮循算法：每个请求就不听跳转 + redis 可以解决\n",
    "        * hash-ip："
   ]
  },
  {
   "cell_type": "code",
   "execution_count": 1,
   "metadata": {
    "collapsed": true
   },
   "outputs": [],
   "source": [
    "def test_china_bond_business_announcement(header, bond_type, action_type):\n",
    "    rule = RULES[('si136', 'ChinaBond_BusinessAnnouncements_BOT')]\n",
    "    classifier = Manager._build_classifier(rule)\n",
    "    _action_type, _bond_type = classify.classify(header, classifier)\n",
    "    assert bond_type == _bond_type\n",
    "    assert action_type == _action_type"
   ]
  },
  {
   "cell_type": "code",
   "execution_count": 2,
   "metadata": {
    "collapsed": true
   },
   "outputs": [],
   "source": [
    "def test_ppn(header, bond_type, action_type):\n",
    "    rule = RULES[('gd3087', 'ChinaMoney_PPN_BOT')]\n",
    "    classifier = Manager._build_classifier(rule)\n",
    "    _action_type, _bond_type = classify.classify(header, classifier)\n",
    "    assert bond_type == _bond_type\n",
    "    assert action_type == _action_type"
   ]
  },
  {
   "cell_type": "markdown",
   "metadata": {},
   "source": [
    "##### SOA\n",
    "* RPC + 服务治理中心\n",
    "* 利用zookeeper来提供治理\n",
    "\n",
    "###### Zookeeper\n",
    "* 调度中心\n",
    "* clients 告诉 zookeeper需要什么服务，自己的地址\n",
    "* zookeeper 查询服务，告诉client， cients自己去找service\n",
    "* 阿里提供dubbo 提供SOA服务治理框架"
   ]
  },
  {
   "cell_type": "markdown",
   "metadata": {},
   "source": [
    "### 网络 通信框架\n",
    "##### 分类\n",
    "* 长链接\n",
    "* 短链接\n",
    "\n",
    "\n",
    "* blocking io/BIO\n",
    "* Not blocking io/NIO\n",
    "* Async IO/AIO\n",
    "\n",
    "##### 可靠性保证\n",
    "* 链路有效性检测\n",
    "    * tcp层面的heartbeat检测\n",
    "    * 协议层的heartbeat检测，e.g SMPP proxy\n",
    "    * 应用层的heartbeat检测\n",
    "* 断连重连机制\n",
    "    * 链路失败时，一定要释放资源 handler（句柄）\n",
    "    * client等待一段时间后尝试重新连接，（expenencial backoff）\n",
    "* 消息缓存重发，queue\n",
    "\n",
    "##### 协议\n",
    "\n",
    "##### 序列化\n",
    "* parquet\n",
    "* Avro\n",
    "* Thrift\n",
    "* PB\n",
    "* MessagePack\n"
   ]
  },
  {
   "cell_type": "markdown",
   "metadata": {},
   "source": [
    "##### 锁\n",
    "* 悲观锁\n",
    "* 乐观锁\n",
    "* 死/活锁\n",
    "* 读/写锁"
   ]
  },
  {
   "cell_type": "markdown",
   "metadata": {},
   "source": [
    "##### zookeeper + dubbo\n",
    "https://www.bilibili.com/video/av27237493/?p=4\n",
    "\n",
    "###### 分布式引发的问题\n",
    "* 分开到不同的服务器 -> 网络通信\n",
    "* 怎么找到需要的服务器地址，**动态寻址**，通信 => 服务的注册和发现"
   ]
  },
  {
   "cell_type": "markdown",
   "metadata": {},
   "source": [
    "#### 项目 -  秒杀系统\n",
    "https://www.bilibili.com/video/av52467230?from=search&seid=9841064693621071365\n",
    "\n",
    "###### 业务逻辑\n",
    "* 商品查询 -> 创建订单 -> 订单支付 -> 卖家发货\n",
    "* 创建库存\n",
    "    * 加入购物车 -> 确认订单 -> 修改库存 -> 待支付\n",
    "    \n",
    "* 难点：修改库存，上千上万人争几个库存\n",
    "\n",
    "###### 技术难点\n",
    "* 短时间，高并发，负载压力大\n",
    "* 读多写少\n",
    "* 竞争资源有限的，不能多\n",
    "\n"
   ]
  },
  {
   "cell_type": "markdown",
   "metadata": {},
   "source": []
  }
 ],
 "metadata": {
  "kernelspec": {
   "display_name": "Python 2",
   "language": "python",
   "name": "python2"
  },
  "language_info": {
   "codemirror_mode": {
    "name": "ipython",
    "version": 2
   },
   "file_extension": ".py",
   "mimetype": "text/x-python",
   "name": "python",
   "nbconvert_exporter": "python",
   "pygments_lexer": "ipython2",
   "version": "2.7.11"
  }
 },
 "nbformat": 4,
 "nbformat_minor": 0
}
